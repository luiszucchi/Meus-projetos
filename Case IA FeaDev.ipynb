{
 "cells": [
  {
   "cell_type": "markdown",
   "metadata": {},
   "source": [
    "<div align='center'><a href='https://linktr.ee/fea.dev'/ style='display:inline-block'><img src=\"data:image/png;base64,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\" height=\"100%\" width=\"350\" ><a/><div/>"
   ]
  },
  {
   "cell_type": "markdown",
   "metadata": {},
   "source": [
    "# Sumário\n",
    "\n",
    "* [0. Case Avançado IA](#chapter0)\n",
    "\n",
    "* [1. Entendimento do problema](#chapter1)\n",
    "\n",
    "* [2. Entendimento dos dados](#chapter2)\n",
    "\n",
    "* [3. Pré-Processamento](#chapter3)\n",
    "\n",
    "    * [Primeira visualização dos dfs](#section_3_1)\n",
    "\n",
    "    * [Valores faltantes](#section_3_2)\n",
    "\n",
    "    * [Verificaremos se há linhas duplicadas nos datas frames](#section_3_3)\n",
    "    \n",
    "    * [Manipulação e criação de variáveis](#section_3_4)\n",
    "    \n",
    "    * [Verificação de outliers](#section_3_5)\n",
    "\n",
    "* [4. Modelagem](#chapter4)\n",
    "\n",
    "    * [Modelo Decision Tree Regression](#section_4_1)\n",
    "        \n",
    "        * [Vendas x Temperatura](#section_4_1_1)\n",
    "        \n",
    "            * [Medidas de avaliação do modelo Vendas x Temperatura](#section_4_1_1_1)\n",
    "        \n",
    "        * [Vendas x Lojas](#section_4_1_2)\n",
    "        \n",
    "            * [Medidas de avaliação do modelo Vendas x Lojas](#section_4_1_1_2)\n",
    "            \n",
    "        * [Modelo Random Forest Regression](#section_4_2)\n",
    "        \n",
    "            * [Vendas x Temperatura](#section_4_2_1)\n",
    "            \n",
    "            * [Vendas x Lojas](#section_4_2_2)\n",
    "\n",
    "            * [Adição de Variáveis](#section_4_2_3)\n",
    "            \n",
    "                * [Pré-tratamento para a adição](#section_4_2_3_1)\n",
    "                \n",
    "                * [Modelo Random Forest Regression usando todas as variáveis do conjunto de dados](#section_4_2_3_2)\n",
    " \n",
    "* [5. Avaliação](#chapter5)\n",
    "\n",
    "* [6. Referências](#chapter6)\n",
    "        \n",
    "            "
   ]
  },
  {
   "cell_type": "markdown",
   "metadata": {},
   "source": [
    "<a class=\"anchor\" id=\"chapter0\"></a>\n",
    "# <font color=blue|blue|red>Case Avançado IA</font>\n",
    "\n",
    "Estamos muito felizes pela sua escolha com o case de inteligência artificial. Esperamos que você aprenda bastante conosco.  \n",
    "\n",
    "Caso não tenha lido as orientações no nosso [repositório do github](https://github.com/fea-dev-usp/Segunda_Fase_PS_2023), o faça imediatamente! É fundamental para teu bom desempenho no case.\n",
    "\n",
    "Rode a célula abaixo e entre em contato com um de nossos monitores no WhatsApp em caso de dúvida:"
   ]
  },
  {
   "cell_type": "code",
   "execution_count": 1,
   "metadata": {},
   "outputs": [
    {
     "name": "stdout",
     "output_type": "stream",
     "text": [
      "Entrar em contato com Maria Raquel (+55 11 96469-1466).\n"
     ]
    }
   ],
   "source": [
    "import random\n",
    "lista_contatos = [\"Carlos Silva (+55 19 99696-8315)\",\n",
    "                  \"Guilherme Oliveira (+55 11 96161-0064)\",\n",
    "                  \"Gustavo Yuji (+55 13 99760-0375)\",\n",
    "                  \"Maria Raquel (+55 11 96469-1466)\"]\n",
    "\n",
    "print(f'Entrar em contato com {lista_contatos[random.randint(0, 3)]}.')"
   ]
  },
  {
   "cell_type": "markdown",
   "metadata": {},
   "source": [
    "**As variáveis:\n",
    "Dataset Stores**\n",
    "* Store - ID da loja\n",
    "* Type - Tipo baseado no tamanho da loja\n",
    "* Size - Tamanho da loja\n",
    "\n",
    "**Dataset Features**\n",
    "* Store - ID da loja\n",
    "* Date - Data da semana\n",
    "* Temperature - Temperatura média na região\n",
    "* Fuel_price - Preço do combustível na região\n",
    "* Markdown - Promoções/remarcações - disponível apenas depois de Nov/21\n",
    "* CPI - Inflação no período\n",
    "* Unemployment - Taxa de desemprego\n",
    "* isHoliday - Se a semana é um feriado ou não\n",
    "\n",
    "**Dataset Sales**\n",
    "* Store - ID da loja\n",
    "* Dept - O número do departamento\n",
    "* Date - Data da semana\n",
    "* Weekly_sales - Vendas por departamento em cada loja\n",
    "* isHoliday - Se a semana é um feriado ou não\n"
   ]
  },
  {
   "cell_type": "markdown",
   "metadata": {},
   "source": [
    "**Passo a passo sugerido do case:**\n",
    "\n",
    "*Nota: pode acontecer de algum subtópico nõo ser aplicável, mas como regra geral, é sempre importante ao menos se questionar sobre eles em toda análise*\n",
    "1. Entendimento do problema\n",
    "* Qual é o problema? Qual a causa (ou possível causa)?\n",
    "* Por que resolver?\n",
    "* Qual pode ser uma boa métrica para avaliação do sucesso?\n",
    "\n",
    "2. Entendimento dos dados\n",
    "* Quais os dados disponíveis e que informações podemos tirar deles?\n",
    "* Qual a variável target?\n",
    "\n",
    "3. Pré-processamento\n",
    "* Limpeza de dados\n",
    "* Criação de outras variáveis\n",
    "* Normalização\n",
    "* Padronização\n",
    "* Lidar com outliers\n",
    "* Valores faltantes\n",
    "\n",
    "4. Modelagem\n",
    "* Seleção, treinamento e teste de um algoritmo\n",
    "* Tunagem de hiperparâmetros\n",
    "* Documentar motivo da escolha\n",
    "\n",
    "5. Avaliação\n",
    "* Analisar as métricas\n",
    "* Formular hipóteses de como o seu modelo poderia melhorar e iterar (documentar essas hipóteses)"
   ]
  },
  {
   "cell_type": "markdown",
   "metadata": {},
   "source": [
    "# <font color=red>Resolução do case</font>"
   ]
  },
  {
   "cell_type": "markdown",
   "metadata": {},
   "source": [
    "<a class=\"anchor\" id=\"chapter1\"></a>\n",
    "## 1. Entendimento do problema\n",
    "    a) Problema: fornecer uma previsão de vendas por loja. \n",
    "    b) Possível cenário: empresa varejista que deseja abrir novas lojas, porém não sabe que tipo de loja abrir, então decidirá com base na previsão obtida.\n",
    "    c) Obter um medidor de sucesso para nossa previsão, como um índice de acurácia ou o cálculo da estatítica R^2, e depois interpretar o resultado.\n",
    "   "
   ]
  },
  {
   "cell_type": "markdown",
   "metadata": {},
   "source": [
    "<a class=\"anchor\" id=\"chapter2\"></a>\n",
    "## 2. Entedimento dos dados\n",
    "    a) Observando os data frames, vemos que sales dá uma informação relevante para nossa análise: Weekly_Sales, isto é, uma série temporal das vendas semanais de cada loja (Store). Esse data frame também informa o departamento da loja (Dept), a data de coleta (Date), e se essa data era feriado ou não (IsHoliday). \n",
    "    Já features nos informa o quanto de desconto (MarkDown) cada loja (Store) deu no período, dividindo o tipo de desconto em 5. Também fornece a temperatura (Temperature), o preço do combustível (Fuel_Price), o nível de inflação (CPI), e a taxa de desemprego (Unemployment) para cada dia (Date), assim como se era feriado ou não (IsHoliday).\n",
    "    Essas variáveis poderão ser úteis para prever o nível de vendas por loja.\n",
    "    Stores nos traz menos informações: apenas o tipo (Type) de cada loja, que pode ser \"A\", \"B\" ou \"C\", e o tamanho (Size).\n",
    "    b) A variável target é Weekly_Sales, já que queremos fazer uma previsão de vendas para cada loja.\n",
    "   "
   ]
  },
  {
   "cell_type": "markdown",
   "metadata": {},
   "source": [
    "<a class=\"anchor\" id=\"chapter3\"></a>\n",
    "## 3. Pré-processamento\n",
    "    Agora daremos início ao tratamento dos dados."
   ]
  },
  {
   "cell_type": "markdown",
   "metadata": {},
   "source": [
    "<a class=\"anchor\" id=\"section_3_1\"></a>\n",
    "### Primeira visualização dos dfs"
   ]
  },
  {
   "cell_type": "code",
   "execution_count": 407,
   "metadata": {},
   "outputs": [],
   "source": [
    "# Importação das bibliotecas que utilizaremos em nosso projeto\n",
    "\n",
    "import numpy as np\n",
    "import pandas as pd\n",
    "import matplotlib.pyplot as plt\n",
    "import seaborn as sns\n",
    "import plotly.express as px\n",
    "import os"
   ]
  },
  {
   "cell_type": "code",
   "execution_count": 408,
   "metadata": {},
   "outputs": [
    {
     "name": "stdout",
     "output_type": "stream",
     "text": [
      "diretório em que estamos trabalhando: C:\\Users\\luisz\\Downloads\\Avançado - Inteligência Artificial\n"
     ]
    }
   ],
   "source": [
    "# Em qual diretório estamos trabalhando\n",
    "\n",
    "print(f\"diretório em que estamos trabalhando: {os.getcwd()}\")"
   ]
  },
  {
   "cell_type": "code",
   "execution_count": 409,
   "metadata": {},
   "outputs": [],
   "source": [
    "# Importação dos dados como data frames\n",
    "\n",
    "stores = pd.read_csv(\"stores data-set.csv\")\n",
    "features = pd.read_csv(\"Features data set.csv\")\n",
    "sales = pd.read_csv(\"sales data-set.csv\")"
   ]
  },
  {
   "cell_type": "code",
   "execution_count": 410,
   "metadata": {},
   "outputs": [],
   "source": [
    "# Observação das 5 primeiras linhas de cada data frame:"
   ]
  },
  {
   "cell_type": "code",
   "execution_count": 411,
   "metadata": {},
   "outputs": [
    {
     "data": {
      "text/html": [
       "<div>\n",
       "<style scoped>\n",
       "    .dataframe tbody tr th:only-of-type {\n",
       "        vertical-align: middle;\n",
       "    }\n",
       "\n",
       "    .dataframe tbody tr th {\n",
       "        vertical-align: top;\n",
       "    }\n",
       "\n",
       "    .dataframe thead th {\n",
       "        text-align: right;\n",
       "    }\n",
       "</style>\n",
       "<table border=\"1\" class=\"dataframe\">\n",
       "  <thead>\n",
       "    <tr style=\"text-align: right;\">\n",
       "      <th></th>\n",
       "      <th>Store</th>\n",
       "      <th>Type</th>\n",
       "      <th>Size</th>\n",
       "    </tr>\n",
       "  </thead>\n",
       "  <tbody>\n",
       "    <tr>\n",
       "      <th>0</th>\n",
       "      <td>1</td>\n",
       "      <td>A</td>\n",
       "      <td>151315</td>\n",
       "    </tr>\n",
       "    <tr>\n",
       "      <th>1</th>\n",
       "      <td>2</td>\n",
       "      <td>A</td>\n",
       "      <td>202307</td>\n",
       "    </tr>\n",
       "    <tr>\n",
       "      <th>2</th>\n",
       "      <td>3</td>\n",
       "      <td>B</td>\n",
       "      <td>37392</td>\n",
       "    </tr>\n",
       "    <tr>\n",
       "      <th>3</th>\n",
       "      <td>4</td>\n",
       "      <td>A</td>\n",
       "      <td>205863</td>\n",
       "    </tr>\n",
       "    <tr>\n",
       "      <th>4</th>\n",
       "      <td>5</td>\n",
       "      <td>B</td>\n",
       "      <td>34875</td>\n",
       "    </tr>\n",
       "  </tbody>\n",
       "</table>\n",
       "</div>"
      ],
      "text/plain": [
       "   Store Type    Size\n",
       "0      1    A  151315\n",
       "1      2    A  202307\n",
       "2      3    B   37392\n",
       "3      4    A  205863\n",
       "4      5    B   34875"
      ]
     },
     "execution_count": 411,
     "metadata": {},
     "output_type": "execute_result"
    }
   ],
   "source": [
    "stores.head()"
   ]
  },
  {
   "cell_type": "code",
   "execution_count": 412,
   "metadata": {
    "scrolled": true
   },
   "outputs": [
    {
     "data": {
      "text/html": [
       "<div>\n",
       "<style scoped>\n",
       "    .dataframe tbody tr th:only-of-type {\n",
       "        vertical-align: middle;\n",
       "    }\n",
       "\n",
       "    .dataframe tbody tr th {\n",
       "        vertical-align: top;\n",
       "    }\n",
       "\n",
       "    .dataframe thead th {\n",
       "        text-align: right;\n",
       "    }\n",
       "</style>\n",
       "<table border=\"1\" class=\"dataframe\">\n",
       "  <thead>\n",
       "    <tr style=\"text-align: right;\">\n",
       "      <th></th>\n",
       "      <th>Store</th>\n",
       "      <th>Date</th>\n",
       "      <th>Temperature</th>\n",
       "      <th>Fuel_Price</th>\n",
       "      <th>MarkDown1</th>\n",
       "      <th>MarkDown2</th>\n",
       "      <th>MarkDown3</th>\n",
       "      <th>MarkDown4</th>\n",
       "      <th>MarkDown5</th>\n",
       "      <th>CPI</th>\n",
       "      <th>Unemployment</th>\n",
       "      <th>IsHoliday</th>\n",
       "    </tr>\n",
       "  </thead>\n",
       "  <tbody>\n",
       "    <tr>\n",
       "      <th>0</th>\n",
       "      <td>1</td>\n",
       "      <td>05/02/2010</td>\n",
       "      <td>42.31</td>\n",
       "      <td>2.572</td>\n",
       "      <td>NaN</td>\n",
       "      <td>NaN</td>\n",
       "      <td>NaN</td>\n",
       "      <td>NaN</td>\n",
       "      <td>NaN</td>\n",
       "      <td>211.096358</td>\n",
       "      <td>8.106</td>\n",
       "      <td>False</td>\n",
       "    </tr>\n",
       "    <tr>\n",
       "      <th>1</th>\n",
       "      <td>1</td>\n",
       "      <td>12/02/2010</td>\n",
       "      <td>38.51</td>\n",
       "      <td>2.548</td>\n",
       "      <td>NaN</td>\n",
       "      <td>NaN</td>\n",
       "      <td>NaN</td>\n",
       "      <td>NaN</td>\n",
       "      <td>NaN</td>\n",
       "      <td>211.242170</td>\n",
       "      <td>8.106</td>\n",
       "      <td>True</td>\n",
       "    </tr>\n",
       "    <tr>\n",
       "      <th>2</th>\n",
       "      <td>1</td>\n",
       "      <td>19/02/2010</td>\n",
       "      <td>39.93</td>\n",
       "      <td>2.514</td>\n",
       "      <td>NaN</td>\n",
       "      <td>NaN</td>\n",
       "      <td>NaN</td>\n",
       "      <td>NaN</td>\n",
       "      <td>NaN</td>\n",
       "      <td>211.289143</td>\n",
       "      <td>8.106</td>\n",
       "      <td>False</td>\n",
       "    </tr>\n",
       "    <tr>\n",
       "      <th>3</th>\n",
       "      <td>1</td>\n",
       "      <td>26/02/2010</td>\n",
       "      <td>46.63</td>\n",
       "      <td>2.561</td>\n",
       "      <td>NaN</td>\n",
       "      <td>NaN</td>\n",
       "      <td>NaN</td>\n",
       "      <td>NaN</td>\n",
       "      <td>NaN</td>\n",
       "      <td>211.319643</td>\n",
       "      <td>8.106</td>\n",
       "      <td>False</td>\n",
       "    </tr>\n",
       "    <tr>\n",
       "      <th>4</th>\n",
       "      <td>1</td>\n",
       "      <td>05/03/2010</td>\n",
       "      <td>46.50</td>\n",
       "      <td>2.625</td>\n",
       "      <td>NaN</td>\n",
       "      <td>NaN</td>\n",
       "      <td>NaN</td>\n",
       "      <td>NaN</td>\n",
       "      <td>NaN</td>\n",
       "      <td>211.350143</td>\n",
       "      <td>8.106</td>\n",
       "      <td>False</td>\n",
       "    </tr>\n",
       "  </tbody>\n",
       "</table>\n",
       "</div>"
      ],
      "text/plain": [
       "   Store        Date  Temperature  Fuel_Price  MarkDown1  MarkDown2  \\\n",
       "0      1  05/02/2010        42.31       2.572        NaN        NaN   \n",
       "1      1  12/02/2010        38.51       2.548        NaN        NaN   \n",
       "2      1  19/02/2010        39.93       2.514        NaN        NaN   \n",
       "3      1  26/02/2010        46.63       2.561        NaN        NaN   \n",
       "4      1  05/03/2010        46.50       2.625        NaN        NaN   \n",
       "\n",
       "   MarkDown3  MarkDown4  MarkDown5         CPI  Unemployment  IsHoliday  \n",
       "0        NaN        NaN        NaN  211.096358         8.106      False  \n",
       "1        NaN        NaN        NaN  211.242170         8.106       True  \n",
       "2        NaN        NaN        NaN  211.289143         8.106      False  \n",
       "3        NaN        NaN        NaN  211.319643         8.106      False  \n",
       "4        NaN        NaN        NaN  211.350143         8.106      False  "
      ]
     },
     "execution_count": 412,
     "metadata": {},
     "output_type": "execute_result"
    }
   ],
   "source": [
    "features.head()"
   ]
  },
  {
   "cell_type": "code",
   "execution_count": 413,
   "metadata": {},
   "outputs": [
    {
     "data": {
      "text/html": [
       "<div>\n",
       "<style scoped>\n",
       "    .dataframe tbody tr th:only-of-type {\n",
       "        vertical-align: middle;\n",
       "    }\n",
       "\n",
       "    .dataframe tbody tr th {\n",
       "        vertical-align: top;\n",
       "    }\n",
       "\n",
       "    .dataframe thead th {\n",
       "        text-align: right;\n",
       "    }\n",
       "</style>\n",
       "<table border=\"1\" class=\"dataframe\">\n",
       "  <thead>\n",
       "    <tr style=\"text-align: right;\">\n",
       "      <th></th>\n",
       "      <th>Store</th>\n",
       "      <th>Dept</th>\n",
       "      <th>Date</th>\n",
       "      <th>Weekly_Sales</th>\n",
       "      <th>IsHoliday</th>\n",
       "    </tr>\n",
       "  </thead>\n",
       "  <tbody>\n",
       "    <tr>\n",
       "      <th>0</th>\n",
       "      <td>1</td>\n",
       "      <td>1</td>\n",
       "      <td>05/02/2010</td>\n",
       "      <td>24924.50</td>\n",
       "      <td>False</td>\n",
       "    </tr>\n",
       "    <tr>\n",
       "      <th>1</th>\n",
       "      <td>1</td>\n",
       "      <td>1</td>\n",
       "      <td>12/02/2010</td>\n",
       "      <td>46039.49</td>\n",
       "      <td>True</td>\n",
       "    </tr>\n",
       "    <tr>\n",
       "      <th>2</th>\n",
       "      <td>1</td>\n",
       "      <td>1</td>\n",
       "      <td>19/02/2010</td>\n",
       "      <td>41595.55</td>\n",
       "      <td>False</td>\n",
       "    </tr>\n",
       "    <tr>\n",
       "      <th>3</th>\n",
       "      <td>1</td>\n",
       "      <td>1</td>\n",
       "      <td>26/02/2010</td>\n",
       "      <td>19403.54</td>\n",
       "      <td>False</td>\n",
       "    </tr>\n",
       "    <tr>\n",
       "      <th>4</th>\n",
       "      <td>1</td>\n",
       "      <td>1</td>\n",
       "      <td>05/03/2010</td>\n",
       "      <td>21827.90</td>\n",
       "      <td>False</td>\n",
       "    </tr>\n",
       "  </tbody>\n",
       "</table>\n",
       "</div>"
      ],
      "text/plain": [
       "   Store  Dept        Date  Weekly_Sales  IsHoliday\n",
       "0      1     1  05/02/2010      24924.50      False\n",
       "1      1     1  12/02/2010      46039.49       True\n",
       "2      1     1  19/02/2010      41595.55      False\n",
       "3      1     1  26/02/2010      19403.54      False\n",
       "4      1     1  05/03/2010      21827.90      False"
      ]
     },
     "execution_count": 413,
     "metadata": {},
     "output_type": "execute_result"
    }
   ],
   "source": [
    "sales.head()"
   ]
  },
  {
   "cell_type": "code",
   "execution_count": 414,
   "metadata": {},
   "outputs": [],
   "source": [
    "#veremos as informações de cada df"
   ]
  },
  {
   "cell_type": "code",
   "execution_count": 415,
   "metadata": {},
   "outputs": [
    {
     "name": "stdout",
     "output_type": "stream",
     "text": [
      "<class 'pandas.core.frame.DataFrame'>\n",
      "RangeIndex: 45 entries, 0 to 44\n",
      "Data columns (total 3 columns):\n",
      " #   Column  Non-Null Count  Dtype \n",
      "---  ------  --------------  ----- \n",
      " 0   Store   45 non-null     int64 \n",
      " 1   Type    45 non-null     object\n",
      " 2   Size    45 non-null     int64 \n",
      "dtypes: int64(2), object(1)\n",
      "memory usage: 1.2+ KB\n"
     ]
    }
   ],
   "source": [
    "stores.info()"
   ]
  },
  {
   "cell_type": "code",
   "execution_count": 416,
   "metadata": {},
   "outputs": [
    {
     "name": "stdout",
     "output_type": "stream",
     "text": [
      "<class 'pandas.core.frame.DataFrame'>\n",
      "RangeIndex: 8190 entries, 0 to 8189\n",
      "Data columns (total 12 columns):\n",
      " #   Column        Non-Null Count  Dtype  \n",
      "---  ------        --------------  -----  \n",
      " 0   Store         8190 non-null   int64  \n",
      " 1   Date          8190 non-null   object \n",
      " 2   Temperature   8190 non-null   float64\n",
      " 3   Fuel_Price    8190 non-null   float64\n",
      " 4   MarkDown1     4032 non-null   float64\n",
      " 5   MarkDown2     2921 non-null   float64\n",
      " 6   MarkDown3     3613 non-null   float64\n",
      " 7   MarkDown4     3464 non-null   float64\n",
      " 8   MarkDown5     4050 non-null   float64\n",
      " 9   CPI           7605 non-null   float64\n",
      " 10  Unemployment  7605 non-null   float64\n",
      " 11  IsHoliday     8190 non-null   bool   \n",
      "dtypes: bool(1), float64(9), int64(1), object(1)\n",
      "memory usage: 712.0+ KB\n"
     ]
    }
   ],
   "source": [
    "features.info()"
   ]
  },
  {
   "cell_type": "code",
   "execution_count": 417,
   "metadata": {},
   "outputs": [
    {
     "name": "stdout",
     "output_type": "stream",
     "text": [
      "<class 'pandas.core.frame.DataFrame'>\n",
      "RangeIndex: 421570 entries, 0 to 421569\n",
      "Data columns (total 5 columns):\n",
      " #   Column        Non-Null Count   Dtype  \n",
      "---  ------        --------------   -----  \n",
      " 0   Store         421570 non-null  int64  \n",
      " 1   Dept          421570 non-null  int64  \n",
      " 2   Date          421570 non-null  object \n",
      " 3   Weekly_Sales  421570 non-null  float64\n",
      " 4   IsHoliday     421570 non-null  bool   \n",
      "dtypes: bool(1), float64(1), int64(2), object(1)\n",
      "memory usage: 13.3+ MB\n"
     ]
    }
   ],
   "source": [
    "sales.info()"
   ]
  },
  {
   "cell_type": "markdown",
   "metadata": {},
   "source": [
    "<a class=\"anchor\" id=\"section_3_2\"></a>\n",
    "### Valores faltantes "
   ]
  },
  {
   "cell_type": "code",
   "execution_count": 418,
   "metadata": {},
   "outputs": [],
   "source": [
    "#verificação se há valores nulos para cada df"
   ]
  },
  {
   "cell_type": "code",
   "execution_count": 419,
   "metadata": {},
   "outputs": [
    {
     "data": {
      "text/plain": [
       "Store    0\n",
       "Type     0\n",
       "Size     0\n",
       "dtype: int64"
      ]
     },
     "execution_count": 419,
     "metadata": {},
     "output_type": "execute_result"
    }
   ],
   "source": [
    "stores.isnull().sum()"
   ]
  },
  {
   "cell_type": "code",
   "execution_count": 420,
   "metadata": {},
   "outputs": [
    {
     "data": {
      "text/plain": [
       "Store              0\n",
       "Date               0\n",
       "Temperature        0\n",
       "Fuel_Price         0\n",
       "MarkDown1       4158\n",
       "MarkDown2       5269\n",
       "MarkDown3       4577\n",
       "MarkDown4       4726\n",
       "MarkDown5       4140\n",
       "CPI              585\n",
       "Unemployment     585\n",
       "IsHoliday          0\n",
       "dtype: int64"
      ]
     },
     "execution_count": 420,
     "metadata": {},
     "output_type": "execute_result"
    }
   ],
   "source": [
    "features.isnull().sum()"
   ]
  },
  {
   "cell_type": "code",
   "execution_count": 421,
   "metadata": {},
   "outputs": [
    {
     "data": {
      "text/plain": [
       "Store           0\n",
       "Dept            0\n",
       "Date            0\n",
       "Weekly_Sales    0\n",
       "IsHoliday       0\n",
       "dtype: int64"
      ]
     },
     "execution_count": 421,
     "metadata": {},
     "output_type": "execute_result"
    }
   ],
   "source": [
    "sales.isnull().sum()"
   ]
  },
  {
   "cell_type": "code",
   "execution_count": 422,
   "metadata": {},
   "outputs": [
    {
     "data": {
      "text/html": [
       "<div>\n",
       "<style scoped>\n",
       "    .dataframe tbody tr th:only-of-type {\n",
       "        vertical-align: middle;\n",
       "    }\n",
       "\n",
       "    .dataframe tbody tr th {\n",
       "        vertical-align: top;\n",
       "    }\n",
       "\n",
       "    .dataframe thead th {\n",
       "        text-align: right;\n",
       "    }\n",
       "</style>\n",
       "<table border=\"1\" class=\"dataframe\">\n",
       "  <thead>\n",
       "    <tr style=\"text-align: right;\">\n",
       "      <th></th>\n",
       "      <th>Store</th>\n",
       "      <th>Date</th>\n",
       "      <th>Temperature</th>\n",
       "      <th>Fuel_Price</th>\n",
       "      <th>MarkDown1</th>\n",
       "      <th>MarkDown2</th>\n",
       "      <th>MarkDown3</th>\n",
       "      <th>MarkDown4</th>\n",
       "      <th>MarkDown5</th>\n",
       "      <th>CPI</th>\n",
       "      <th>Unemployment</th>\n",
       "      <th>IsHoliday</th>\n",
       "    </tr>\n",
       "  </thead>\n",
       "  <tbody>\n",
       "    <tr>\n",
       "      <th>0</th>\n",
       "      <td>1</td>\n",
       "      <td>05/02/2010</td>\n",
       "      <td>42.31</td>\n",
       "      <td>2.572</td>\n",
       "      <td>0.00</td>\n",
       "      <td>0.00</td>\n",
       "      <td>0.00</td>\n",
       "      <td>0.00</td>\n",
       "      <td>0.00</td>\n",
       "      <td>211.096358</td>\n",
       "      <td>8.106</td>\n",
       "      <td>False</td>\n",
       "    </tr>\n",
       "    <tr>\n",
       "      <th>1</th>\n",
       "      <td>1</td>\n",
       "      <td>12/02/2010</td>\n",
       "      <td>38.51</td>\n",
       "      <td>2.548</td>\n",
       "      <td>0.00</td>\n",
       "      <td>0.00</td>\n",
       "      <td>0.00</td>\n",
       "      <td>0.00</td>\n",
       "      <td>0.00</td>\n",
       "      <td>211.242170</td>\n",
       "      <td>8.106</td>\n",
       "      <td>True</td>\n",
       "    </tr>\n",
       "    <tr>\n",
       "      <th>2</th>\n",
       "      <td>1</td>\n",
       "      <td>19/02/2010</td>\n",
       "      <td>39.93</td>\n",
       "      <td>2.514</td>\n",
       "      <td>0.00</td>\n",
       "      <td>0.00</td>\n",
       "      <td>0.00</td>\n",
       "      <td>0.00</td>\n",
       "      <td>0.00</td>\n",
       "      <td>211.289143</td>\n",
       "      <td>8.106</td>\n",
       "      <td>False</td>\n",
       "    </tr>\n",
       "    <tr>\n",
       "      <th>3</th>\n",
       "      <td>1</td>\n",
       "      <td>26/02/2010</td>\n",
       "      <td>46.63</td>\n",
       "      <td>2.561</td>\n",
       "      <td>0.00</td>\n",
       "      <td>0.00</td>\n",
       "      <td>0.00</td>\n",
       "      <td>0.00</td>\n",
       "      <td>0.00</td>\n",
       "      <td>211.319643</td>\n",
       "      <td>8.106</td>\n",
       "      <td>False</td>\n",
       "    </tr>\n",
       "    <tr>\n",
       "      <th>4</th>\n",
       "      <td>1</td>\n",
       "      <td>05/03/2010</td>\n",
       "      <td>46.50</td>\n",
       "      <td>2.625</td>\n",
       "      <td>0.00</td>\n",
       "      <td>0.00</td>\n",
       "      <td>0.00</td>\n",
       "      <td>0.00</td>\n",
       "      <td>0.00</td>\n",
       "      <td>211.350143</td>\n",
       "      <td>8.106</td>\n",
       "      <td>False</td>\n",
       "    </tr>\n",
       "    <tr>\n",
       "      <th>...</th>\n",
       "      <td>...</td>\n",
       "      <td>...</td>\n",
       "      <td>...</td>\n",
       "      <td>...</td>\n",
       "      <td>...</td>\n",
       "      <td>...</td>\n",
       "      <td>...</td>\n",
       "      <td>...</td>\n",
       "      <td>...</td>\n",
       "      <td>...</td>\n",
       "      <td>...</td>\n",
       "      <td>...</td>\n",
       "    </tr>\n",
       "    <tr>\n",
       "      <th>8185</th>\n",
       "      <td>45</td>\n",
       "      <td>28/06/2013</td>\n",
       "      <td>76.05</td>\n",
       "      <td>3.639</td>\n",
       "      <td>4842.29</td>\n",
       "      <td>975.03</td>\n",
       "      <td>3.00</td>\n",
       "      <td>2449.97</td>\n",
       "      <td>3169.69</td>\n",
       "      <td>NaN</td>\n",
       "      <td>NaN</td>\n",
       "      <td>False</td>\n",
       "    </tr>\n",
       "    <tr>\n",
       "      <th>8186</th>\n",
       "      <td>45</td>\n",
       "      <td>05/07/2013</td>\n",
       "      <td>77.50</td>\n",
       "      <td>3.614</td>\n",
       "      <td>9090.48</td>\n",
       "      <td>2268.58</td>\n",
       "      <td>582.74</td>\n",
       "      <td>5797.47</td>\n",
       "      <td>1514.93</td>\n",
       "      <td>NaN</td>\n",
       "      <td>NaN</td>\n",
       "      <td>False</td>\n",
       "    </tr>\n",
       "    <tr>\n",
       "      <th>8187</th>\n",
       "      <td>45</td>\n",
       "      <td>12/07/2013</td>\n",
       "      <td>79.37</td>\n",
       "      <td>3.614</td>\n",
       "      <td>3789.94</td>\n",
       "      <td>1827.31</td>\n",
       "      <td>85.72</td>\n",
       "      <td>744.84</td>\n",
       "      <td>2150.36</td>\n",
       "      <td>NaN</td>\n",
       "      <td>NaN</td>\n",
       "      <td>False</td>\n",
       "    </tr>\n",
       "    <tr>\n",
       "      <th>8188</th>\n",
       "      <td>45</td>\n",
       "      <td>19/07/2013</td>\n",
       "      <td>82.84</td>\n",
       "      <td>3.737</td>\n",
       "      <td>2961.49</td>\n",
       "      <td>1047.07</td>\n",
       "      <td>204.19</td>\n",
       "      <td>363.00</td>\n",
       "      <td>1059.46</td>\n",
       "      <td>NaN</td>\n",
       "      <td>NaN</td>\n",
       "      <td>False</td>\n",
       "    </tr>\n",
       "    <tr>\n",
       "      <th>8189</th>\n",
       "      <td>45</td>\n",
       "      <td>26/07/2013</td>\n",
       "      <td>76.06</td>\n",
       "      <td>3.804</td>\n",
       "      <td>212.02</td>\n",
       "      <td>851.73</td>\n",
       "      <td>2.06</td>\n",
       "      <td>10.88</td>\n",
       "      <td>1864.57</td>\n",
       "      <td>NaN</td>\n",
       "      <td>NaN</td>\n",
       "      <td>False</td>\n",
       "    </tr>\n",
       "  </tbody>\n",
       "</table>\n",
       "<p>8190 rows × 12 columns</p>\n",
       "</div>"
      ],
      "text/plain": [
       "      Store        Date  Temperature  Fuel_Price  MarkDown1  MarkDown2  \\\n",
       "0         1  05/02/2010        42.31       2.572       0.00       0.00   \n",
       "1         1  12/02/2010        38.51       2.548       0.00       0.00   \n",
       "2         1  19/02/2010        39.93       2.514       0.00       0.00   \n",
       "3         1  26/02/2010        46.63       2.561       0.00       0.00   \n",
       "4         1  05/03/2010        46.50       2.625       0.00       0.00   \n",
       "...     ...         ...          ...         ...        ...        ...   \n",
       "8185     45  28/06/2013        76.05       3.639    4842.29     975.03   \n",
       "8186     45  05/07/2013        77.50       3.614    9090.48    2268.58   \n",
       "8187     45  12/07/2013        79.37       3.614    3789.94    1827.31   \n",
       "8188     45  19/07/2013        82.84       3.737    2961.49    1047.07   \n",
       "8189     45  26/07/2013        76.06       3.804     212.02     851.73   \n",
       "\n",
       "      MarkDown3  MarkDown4  MarkDown5         CPI  Unemployment  IsHoliday  \n",
       "0          0.00       0.00       0.00  211.096358         8.106      False  \n",
       "1          0.00       0.00       0.00  211.242170         8.106       True  \n",
       "2          0.00       0.00       0.00  211.289143         8.106      False  \n",
       "3          0.00       0.00       0.00  211.319643         8.106      False  \n",
       "4          0.00       0.00       0.00  211.350143         8.106      False  \n",
       "...         ...        ...        ...         ...           ...        ...  \n",
       "8185       3.00    2449.97    3169.69         NaN           NaN      False  \n",
       "8186     582.74    5797.47    1514.93         NaN           NaN      False  \n",
       "8187      85.72     744.84    2150.36         NaN           NaN      False  \n",
       "8188     204.19     363.00    1059.46         NaN           NaN      False  \n",
       "8189       2.06      10.88    1864.57         NaN           NaN      False  \n",
       "\n",
       "[8190 rows x 12 columns]"
      ]
     },
     "execution_count": 422,
     "metadata": {},
     "output_type": "execute_result"
    }
   ],
   "source": [
    "# vemos que há valores NaN nas colunas de MarkDown de features, portanto os substituíremos por zeros  (assumiremos que não houve desconto)\n",
    "# criaremos uma lista com o nome das colunas de MarkDown para facilitar\n",
    "colunas_markdown = [\"MarkDown1\", \"MarkDown2\", \"MarkDown3\", \"MarkDown4\", \"MarkDown5\"]\n",
    "features[colunas_markdown] = features[colunas_markdown].fillna(0)\n",
    "\n",
    "features"
   ]
  },
  {
   "cell_type": "code",
   "execution_count": 423,
   "metadata": {},
   "outputs": [
    {
     "data": {
      "text/html": [
       "<div>\n",
       "<style scoped>\n",
       "    .dataframe tbody tr th:only-of-type {\n",
       "        vertical-align: middle;\n",
       "    }\n",
       "\n",
       "    .dataframe tbody tr th {\n",
       "        vertical-align: top;\n",
       "    }\n",
       "\n",
       "    .dataframe thead th {\n",
       "        text-align: right;\n",
       "    }\n",
       "</style>\n",
       "<table border=\"1\" class=\"dataframe\">\n",
       "  <thead>\n",
       "    <tr style=\"text-align: right;\">\n",
       "      <th></th>\n",
       "      <th>Store</th>\n",
       "      <th>Date</th>\n",
       "      <th>Temperature</th>\n",
       "      <th>Fuel_Price</th>\n",
       "      <th>MarkDown1</th>\n",
       "      <th>MarkDown2</th>\n",
       "      <th>MarkDown3</th>\n",
       "      <th>MarkDown4</th>\n",
       "      <th>MarkDown5</th>\n",
       "      <th>CPI</th>\n",
       "      <th>Unemployment</th>\n",
       "      <th>IsHoliday</th>\n",
       "    </tr>\n",
       "  </thead>\n",
       "  <tbody>\n",
       "    <tr>\n",
       "      <th>0</th>\n",
       "      <td>1</td>\n",
       "      <td>05/02/2010</td>\n",
       "      <td>42.31</td>\n",
       "      <td>2.572</td>\n",
       "      <td>0.00</td>\n",
       "      <td>0.00</td>\n",
       "      <td>0.00</td>\n",
       "      <td>0.00</td>\n",
       "      <td>0.00</td>\n",
       "      <td>211.096358</td>\n",
       "      <td>8.106</td>\n",
       "      <td>False</td>\n",
       "    </tr>\n",
       "    <tr>\n",
       "      <th>1</th>\n",
       "      <td>1</td>\n",
       "      <td>12/02/2010</td>\n",
       "      <td>38.51</td>\n",
       "      <td>2.548</td>\n",
       "      <td>0.00</td>\n",
       "      <td>0.00</td>\n",
       "      <td>0.00</td>\n",
       "      <td>0.00</td>\n",
       "      <td>0.00</td>\n",
       "      <td>211.242170</td>\n",
       "      <td>8.106</td>\n",
       "      <td>True</td>\n",
       "    </tr>\n",
       "    <tr>\n",
       "      <th>2</th>\n",
       "      <td>1</td>\n",
       "      <td>19/02/2010</td>\n",
       "      <td>39.93</td>\n",
       "      <td>2.514</td>\n",
       "      <td>0.00</td>\n",
       "      <td>0.00</td>\n",
       "      <td>0.00</td>\n",
       "      <td>0.00</td>\n",
       "      <td>0.00</td>\n",
       "      <td>211.289143</td>\n",
       "      <td>8.106</td>\n",
       "      <td>False</td>\n",
       "    </tr>\n",
       "    <tr>\n",
       "      <th>3</th>\n",
       "      <td>1</td>\n",
       "      <td>26/02/2010</td>\n",
       "      <td>46.63</td>\n",
       "      <td>2.561</td>\n",
       "      <td>0.00</td>\n",
       "      <td>0.00</td>\n",
       "      <td>0.00</td>\n",
       "      <td>0.00</td>\n",
       "      <td>0.00</td>\n",
       "      <td>211.319643</td>\n",
       "      <td>8.106</td>\n",
       "      <td>False</td>\n",
       "    </tr>\n",
       "    <tr>\n",
       "      <th>4</th>\n",
       "      <td>1</td>\n",
       "      <td>05/03/2010</td>\n",
       "      <td>46.50</td>\n",
       "      <td>2.625</td>\n",
       "      <td>0.00</td>\n",
       "      <td>0.00</td>\n",
       "      <td>0.00</td>\n",
       "      <td>0.00</td>\n",
       "      <td>0.00</td>\n",
       "      <td>211.350143</td>\n",
       "      <td>8.106</td>\n",
       "      <td>False</td>\n",
       "    </tr>\n",
       "    <tr>\n",
       "      <th>...</th>\n",
       "      <td>...</td>\n",
       "      <td>...</td>\n",
       "      <td>...</td>\n",
       "      <td>...</td>\n",
       "      <td>...</td>\n",
       "      <td>...</td>\n",
       "      <td>...</td>\n",
       "      <td>...</td>\n",
       "      <td>...</td>\n",
       "      <td>...</td>\n",
       "      <td>...</td>\n",
       "      <td>...</td>\n",
       "    </tr>\n",
       "    <tr>\n",
       "      <th>8185</th>\n",
       "      <td>45</td>\n",
       "      <td>28/06/2013</td>\n",
       "      <td>76.05</td>\n",
       "      <td>3.639</td>\n",
       "      <td>4842.29</td>\n",
       "      <td>975.03</td>\n",
       "      <td>3.00</td>\n",
       "      <td>2449.97</td>\n",
       "      <td>3169.69</td>\n",
       "      <td>193.589304</td>\n",
       "      <td>NaN</td>\n",
       "      <td>False</td>\n",
       "    </tr>\n",
       "    <tr>\n",
       "      <th>8186</th>\n",
       "      <td>45</td>\n",
       "      <td>05/07/2013</td>\n",
       "      <td>77.50</td>\n",
       "      <td>3.614</td>\n",
       "      <td>9090.48</td>\n",
       "      <td>2268.58</td>\n",
       "      <td>582.74</td>\n",
       "      <td>5797.47</td>\n",
       "      <td>1514.93</td>\n",
       "      <td>193.589304</td>\n",
       "      <td>NaN</td>\n",
       "      <td>False</td>\n",
       "    </tr>\n",
       "    <tr>\n",
       "      <th>8187</th>\n",
       "      <td>45</td>\n",
       "      <td>12/07/2013</td>\n",
       "      <td>79.37</td>\n",
       "      <td>3.614</td>\n",
       "      <td>3789.94</td>\n",
       "      <td>1827.31</td>\n",
       "      <td>85.72</td>\n",
       "      <td>744.84</td>\n",
       "      <td>2150.36</td>\n",
       "      <td>193.589304</td>\n",
       "      <td>NaN</td>\n",
       "      <td>False</td>\n",
       "    </tr>\n",
       "    <tr>\n",
       "      <th>8188</th>\n",
       "      <td>45</td>\n",
       "      <td>19/07/2013</td>\n",
       "      <td>82.84</td>\n",
       "      <td>3.737</td>\n",
       "      <td>2961.49</td>\n",
       "      <td>1047.07</td>\n",
       "      <td>204.19</td>\n",
       "      <td>363.00</td>\n",
       "      <td>1059.46</td>\n",
       "      <td>193.589304</td>\n",
       "      <td>NaN</td>\n",
       "      <td>False</td>\n",
       "    </tr>\n",
       "    <tr>\n",
       "      <th>8189</th>\n",
       "      <td>45</td>\n",
       "      <td>26/07/2013</td>\n",
       "      <td>76.06</td>\n",
       "      <td>3.804</td>\n",
       "      <td>212.02</td>\n",
       "      <td>851.73</td>\n",
       "      <td>2.06</td>\n",
       "      <td>10.88</td>\n",
       "      <td>1864.57</td>\n",
       "      <td>193.589304</td>\n",
       "      <td>NaN</td>\n",
       "      <td>False</td>\n",
       "    </tr>\n",
       "  </tbody>\n",
       "</table>\n",
       "<p>8190 rows × 12 columns</p>\n",
       "</div>"
      ],
      "text/plain": [
       "      Store        Date  Temperature  Fuel_Price  MarkDown1  MarkDown2  \\\n",
       "0         1  05/02/2010        42.31       2.572       0.00       0.00   \n",
       "1         1  12/02/2010        38.51       2.548       0.00       0.00   \n",
       "2         1  19/02/2010        39.93       2.514       0.00       0.00   \n",
       "3         1  26/02/2010        46.63       2.561       0.00       0.00   \n",
       "4         1  05/03/2010        46.50       2.625       0.00       0.00   \n",
       "...     ...         ...          ...         ...        ...        ...   \n",
       "8185     45  28/06/2013        76.05       3.639    4842.29     975.03   \n",
       "8186     45  05/07/2013        77.50       3.614    9090.48    2268.58   \n",
       "8187     45  12/07/2013        79.37       3.614    3789.94    1827.31   \n",
       "8188     45  19/07/2013        82.84       3.737    2961.49    1047.07   \n",
       "8189     45  26/07/2013        76.06       3.804     212.02     851.73   \n",
       "\n",
       "      MarkDown3  MarkDown4  MarkDown5         CPI  Unemployment  IsHoliday  \n",
       "0          0.00       0.00       0.00  211.096358         8.106      False  \n",
       "1          0.00       0.00       0.00  211.242170         8.106       True  \n",
       "2          0.00       0.00       0.00  211.289143         8.106      False  \n",
       "3          0.00       0.00       0.00  211.319643         8.106      False  \n",
       "4          0.00       0.00       0.00  211.350143         8.106      False  \n",
       "...         ...        ...        ...         ...           ...        ...  \n",
       "8185       3.00    2449.97    3169.69  193.589304           NaN      False  \n",
       "8186     582.74    5797.47    1514.93  193.589304           NaN      False  \n",
       "8187      85.72     744.84    2150.36  193.589304           NaN      False  \n",
       "8188     204.19     363.00    1059.46  193.589304           NaN      False  \n",
       "8189       2.06      10.88    1864.57  193.589304           NaN      False  \n",
       "\n",
       "[8190 rows x 12 columns]"
      ]
     },
     "execution_count": 423,
     "metadata": {},
     "output_type": "execute_result"
    }
   ],
   "source": [
    "# há valores NaN na coluna CPI de features, portanto os substituíremos pelo valor anterior não nulo,\n",
    "# isto é, a técnica forward fill. Podemos fazer isso pois a variável CPI diz respeito ao índice de inflação, que possui uma variância\n",
    "# insiginificante de dia para dia\n",
    "\n",
    "features[\"CPI\"].fillna(method =\"ffill\", inplace = True)\n",
    "\n",
    "features"
   ]
  },
  {
   "cell_type": "code",
   "execution_count": 424,
   "metadata": {},
   "outputs": [
    {
     "data": {
      "text/html": [
       "<div>\n",
       "<style scoped>\n",
       "    .dataframe tbody tr th:only-of-type {\n",
       "        vertical-align: middle;\n",
       "    }\n",
       "\n",
       "    .dataframe tbody tr th {\n",
       "        vertical-align: top;\n",
       "    }\n",
       "\n",
       "    .dataframe thead th {\n",
       "        text-align: right;\n",
       "    }\n",
       "</style>\n",
       "<table border=\"1\" class=\"dataframe\">\n",
       "  <thead>\n",
       "    <tr style=\"text-align: right;\">\n",
       "      <th></th>\n",
       "      <th>Store</th>\n",
       "      <th>Date</th>\n",
       "      <th>Temperature</th>\n",
       "      <th>Fuel_Price</th>\n",
       "      <th>MarkDown1</th>\n",
       "      <th>MarkDown2</th>\n",
       "      <th>MarkDown3</th>\n",
       "      <th>MarkDown4</th>\n",
       "      <th>MarkDown5</th>\n",
       "      <th>CPI</th>\n",
       "      <th>Unemployment</th>\n",
       "      <th>IsHoliday</th>\n",
       "    </tr>\n",
       "  </thead>\n",
       "  <tbody>\n",
       "    <tr>\n",
       "      <th>0</th>\n",
       "      <td>1</td>\n",
       "      <td>05/02/2010</td>\n",
       "      <td>42.31</td>\n",
       "      <td>2.572</td>\n",
       "      <td>0.00</td>\n",
       "      <td>0.00</td>\n",
       "      <td>0.00</td>\n",
       "      <td>0.00</td>\n",
       "      <td>0.00</td>\n",
       "      <td>211.096358</td>\n",
       "      <td>8.106</td>\n",
       "      <td>False</td>\n",
       "    </tr>\n",
       "    <tr>\n",
       "      <th>1</th>\n",
       "      <td>1</td>\n",
       "      <td>12/02/2010</td>\n",
       "      <td>38.51</td>\n",
       "      <td>2.548</td>\n",
       "      <td>0.00</td>\n",
       "      <td>0.00</td>\n",
       "      <td>0.00</td>\n",
       "      <td>0.00</td>\n",
       "      <td>0.00</td>\n",
       "      <td>211.242170</td>\n",
       "      <td>8.106</td>\n",
       "      <td>True</td>\n",
       "    </tr>\n",
       "    <tr>\n",
       "      <th>2</th>\n",
       "      <td>1</td>\n",
       "      <td>19/02/2010</td>\n",
       "      <td>39.93</td>\n",
       "      <td>2.514</td>\n",
       "      <td>0.00</td>\n",
       "      <td>0.00</td>\n",
       "      <td>0.00</td>\n",
       "      <td>0.00</td>\n",
       "      <td>0.00</td>\n",
       "      <td>211.289143</td>\n",
       "      <td>8.106</td>\n",
       "      <td>False</td>\n",
       "    </tr>\n",
       "    <tr>\n",
       "      <th>3</th>\n",
       "      <td>1</td>\n",
       "      <td>26/02/2010</td>\n",
       "      <td>46.63</td>\n",
       "      <td>2.561</td>\n",
       "      <td>0.00</td>\n",
       "      <td>0.00</td>\n",
       "      <td>0.00</td>\n",
       "      <td>0.00</td>\n",
       "      <td>0.00</td>\n",
       "      <td>211.319643</td>\n",
       "      <td>8.106</td>\n",
       "      <td>False</td>\n",
       "    </tr>\n",
       "    <tr>\n",
       "      <th>4</th>\n",
       "      <td>1</td>\n",
       "      <td>05/03/2010</td>\n",
       "      <td>46.50</td>\n",
       "      <td>2.625</td>\n",
       "      <td>0.00</td>\n",
       "      <td>0.00</td>\n",
       "      <td>0.00</td>\n",
       "      <td>0.00</td>\n",
       "      <td>0.00</td>\n",
       "      <td>211.350143</td>\n",
       "      <td>8.106</td>\n",
       "      <td>False</td>\n",
       "    </tr>\n",
       "    <tr>\n",
       "      <th>...</th>\n",
       "      <td>...</td>\n",
       "      <td>...</td>\n",
       "      <td>...</td>\n",
       "      <td>...</td>\n",
       "      <td>...</td>\n",
       "      <td>...</td>\n",
       "      <td>...</td>\n",
       "      <td>...</td>\n",
       "      <td>...</td>\n",
       "      <td>...</td>\n",
       "      <td>...</td>\n",
       "      <td>...</td>\n",
       "    </tr>\n",
       "    <tr>\n",
       "      <th>8185</th>\n",
       "      <td>45</td>\n",
       "      <td>28/06/2013</td>\n",
       "      <td>76.05</td>\n",
       "      <td>3.639</td>\n",
       "      <td>4842.29</td>\n",
       "      <td>975.03</td>\n",
       "      <td>3.00</td>\n",
       "      <td>2449.97</td>\n",
       "      <td>3169.69</td>\n",
       "      <td>193.589304</td>\n",
       "      <td>8.335</td>\n",
       "      <td>False</td>\n",
       "    </tr>\n",
       "    <tr>\n",
       "      <th>8186</th>\n",
       "      <td>45</td>\n",
       "      <td>05/07/2013</td>\n",
       "      <td>77.50</td>\n",
       "      <td>3.614</td>\n",
       "      <td>9090.48</td>\n",
       "      <td>2268.58</td>\n",
       "      <td>582.74</td>\n",
       "      <td>5797.47</td>\n",
       "      <td>1514.93</td>\n",
       "      <td>193.589304</td>\n",
       "      <td>8.335</td>\n",
       "      <td>False</td>\n",
       "    </tr>\n",
       "    <tr>\n",
       "      <th>8187</th>\n",
       "      <td>45</td>\n",
       "      <td>12/07/2013</td>\n",
       "      <td>79.37</td>\n",
       "      <td>3.614</td>\n",
       "      <td>3789.94</td>\n",
       "      <td>1827.31</td>\n",
       "      <td>85.72</td>\n",
       "      <td>744.84</td>\n",
       "      <td>2150.36</td>\n",
       "      <td>193.589304</td>\n",
       "      <td>8.335</td>\n",
       "      <td>False</td>\n",
       "    </tr>\n",
       "    <tr>\n",
       "      <th>8188</th>\n",
       "      <td>45</td>\n",
       "      <td>19/07/2013</td>\n",
       "      <td>82.84</td>\n",
       "      <td>3.737</td>\n",
       "      <td>2961.49</td>\n",
       "      <td>1047.07</td>\n",
       "      <td>204.19</td>\n",
       "      <td>363.00</td>\n",
       "      <td>1059.46</td>\n",
       "      <td>193.589304</td>\n",
       "      <td>8.335</td>\n",
       "      <td>False</td>\n",
       "    </tr>\n",
       "    <tr>\n",
       "      <th>8189</th>\n",
       "      <td>45</td>\n",
       "      <td>26/07/2013</td>\n",
       "      <td>76.06</td>\n",
       "      <td>3.804</td>\n",
       "      <td>212.02</td>\n",
       "      <td>851.73</td>\n",
       "      <td>2.06</td>\n",
       "      <td>10.88</td>\n",
       "      <td>1864.57</td>\n",
       "      <td>193.589304</td>\n",
       "      <td>8.335</td>\n",
       "      <td>False</td>\n",
       "    </tr>\n",
       "  </tbody>\n",
       "</table>\n",
       "<p>8190 rows × 12 columns</p>\n",
       "</div>"
      ],
      "text/plain": [
       "      Store        Date  Temperature  Fuel_Price  MarkDown1  MarkDown2  \\\n",
       "0         1  05/02/2010        42.31       2.572       0.00       0.00   \n",
       "1         1  12/02/2010        38.51       2.548       0.00       0.00   \n",
       "2         1  19/02/2010        39.93       2.514       0.00       0.00   \n",
       "3         1  26/02/2010        46.63       2.561       0.00       0.00   \n",
       "4         1  05/03/2010        46.50       2.625       0.00       0.00   \n",
       "...     ...         ...          ...         ...        ...        ...   \n",
       "8185     45  28/06/2013        76.05       3.639    4842.29     975.03   \n",
       "8186     45  05/07/2013        77.50       3.614    9090.48    2268.58   \n",
       "8187     45  12/07/2013        79.37       3.614    3789.94    1827.31   \n",
       "8188     45  19/07/2013        82.84       3.737    2961.49    1047.07   \n",
       "8189     45  26/07/2013        76.06       3.804     212.02     851.73   \n",
       "\n",
       "      MarkDown3  MarkDown4  MarkDown5         CPI  Unemployment  IsHoliday  \n",
       "0          0.00       0.00       0.00  211.096358         8.106      False  \n",
       "1          0.00       0.00       0.00  211.242170         8.106       True  \n",
       "2          0.00       0.00       0.00  211.289143         8.106      False  \n",
       "3          0.00       0.00       0.00  211.319643         8.106      False  \n",
       "4          0.00       0.00       0.00  211.350143         8.106      False  \n",
       "...         ...        ...        ...         ...           ...        ...  \n",
       "8185       3.00    2449.97    3169.69  193.589304         8.335      False  \n",
       "8186     582.74    5797.47    1514.93  193.589304         8.335      False  \n",
       "8187      85.72     744.84    2150.36  193.589304         8.335      False  \n",
       "8188     204.19     363.00    1059.46  193.589304         8.335      False  \n",
       "8189       2.06      10.88    1864.57  193.589304         8.335      False  \n",
       "\n",
       "[8190 rows x 12 columns]"
      ]
     },
     "execution_count": 424,
     "metadata": {},
     "output_type": "execute_result"
    }
   ],
   "source": [
    "# há valores NaN na coluna Unemployment de features, portanto os substituíremos pelo valor anterior não nulo,\n",
    "# isto é, a técnica forward fill. Podemos fazer isso pois a variável Unemployment diz respeito ao índice de desemprego,\n",
    "# que possui uma variância insiginificante de dia para dia\n",
    "\n",
    "features[\"Unemployment\"].fillna(method =\"ffill\", inplace = True)\n",
    "\n",
    "features"
   ]
  },
  {
   "cell_type": "code",
   "execution_count": 425,
   "metadata": {},
   "outputs": [
    {
     "data": {
      "text/plain": [
       "Store           0\n",
       "Date            0\n",
       "Temperature     0\n",
       "Fuel_Price      0\n",
       "MarkDown1       0\n",
       "MarkDown2       0\n",
       "MarkDown3       0\n",
       "MarkDown4       0\n",
       "MarkDown5       0\n",
       "CPI             0\n",
       "Unemployment    0\n",
       "IsHoliday       0\n",
       "dtype: int64"
      ]
     },
     "execution_count": 425,
     "metadata": {},
     "output_type": "execute_result"
    }
   ],
   "source": [
    "# não devemos mais ter valores NaN em features\n",
    "features.isnull().sum()"
   ]
  },
  {
   "cell_type": "markdown",
   "metadata": {},
   "source": [
    "<a class=\"anchor\" id=\"section_3_3\"></a>\n",
    "### Verificaremos se há linhas duplicadas nos datas frames"
   ]
  },
  {
   "cell_type": "code",
   "execution_count": 426,
   "metadata": {},
   "outputs": [
    {
     "data": {
      "text/plain": [
       "0"
      ]
     },
     "execution_count": 426,
     "metadata": {},
     "output_type": "execute_result"
    }
   ],
   "source": [
    "# se a soma for 0, temos que não há linhas duplicadas em stores\n",
    "sum(stores.duplicated())"
   ]
  },
  {
   "cell_type": "code",
   "execution_count": 427,
   "metadata": {},
   "outputs": [
    {
     "data": {
      "text/plain": [
       "0"
      ]
     },
     "execution_count": 427,
     "metadata": {},
     "output_type": "execute_result"
    }
   ],
   "source": [
    "# se a soma for 0, temos que não há linhas duplicadas em features\n",
    "sum(features.duplicated())"
   ]
  },
  {
   "cell_type": "code",
   "execution_count": 428,
   "metadata": {},
   "outputs": [
    {
     "data": {
      "text/plain": [
       "0"
      ]
     },
     "execution_count": 428,
     "metadata": {},
     "output_type": "execute_result"
    }
   ],
   "source": [
    "# se a soma for 0, temos que não há linhas duplicadas em sales\n",
    "sum(sales.duplicated())"
   ]
  },
  {
   "cell_type": "markdown",
   "metadata": {},
   "source": [
    "<a class=\"anchor\" id=\"section_3_4\"></a>\n",
    "### Manipulação e criação de variáveis"
   ]
  },
  {
   "cell_type": "code",
   "execution_count": 429,
   "metadata": {},
   "outputs": [
    {
     "data": {
      "text/html": [
       "<div>\n",
       "<style scoped>\n",
       "    .dataframe tbody tr th:only-of-type {\n",
       "        vertical-align: middle;\n",
       "    }\n",
       "\n",
       "    .dataframe tbody tr th {\n",
       "        vertical-align: top;\n",
       "    }\n",
       "\n",
       "    .dataframe thead th {\n",
       "        text-align: right;\n",
       "    }\n",
       "</style>\n",
       "<table border=\"1\" class=\"dataframe\">\n",
       "  <thead>\n",
       "    <tr style=\"text-align: right;\">\n",
       "      <th></th>\n",
       "      <th>Store</th>\n",
       "      <th>Date</th>\n",
       "      <th>Temperature</th>\n",
       "      <th>Fuel_Price</th>\n",
       "      <th>MarkDown1</th>\n",
       "      <th>MarkDown2</th>\n",
       "      <th>MarkDown3</th>\n",
       "      <th>MarkDown4</th>\n",
       "      <th>MarkDown5</th>\n",
       "      <th>CPI</th>\n",
       "      <th>Unemployment</th>\n",
       "      <th>IsHoliday</th>\n",
       "    </tr>\n",
       "  </thead>\n",
       "  <tbody>\n",
       "    <tr>\n",
       "      <th>0</th>\n",
       "      <td>1</td>\n",
       "      <td>05/02/2010</td>\n",
       "      <td>42.31</td>\n",
       "      <td>2.572</td>\n",
       "      <td>0.00</td>\n",
       "      <td>0.00</td>\n",
       "      <td>0.00</td>\n",
       "      <td>0.00</td>\n",
       "      <td>0.00</td>\n",
       "      <td>211.096358</td>\n",
       "      <td>8.106</td>\n",
       "      <td>0</td>\n",
       "    </tr>\n",
       "    <tr>\n",
       "      <th>1</th>\n",
       "      <td>1</td>\n",
       "      <td>12/02/2010</td>\n",
       "      <td>38.51</td>\n",
       "      <td>2.548</td>\n",
       "      <td>0.00</td>\n",
       "      <td>0.00</td>\n",
       "      <td>0.00</td>\n",
       "      <td>0.00</td>\n",
       "      <td>0.00</td>\n",
       "      <td>211.242170</td>\n",
       "      <td>8.106</td>\n",
       "      <td>1</td>\n",
       "    </tr>\n",
       "    <tr>\n",
       "      <th>2</th>\n",
       "      <td>1</td>\n",
       "      <td>19/02/2010</td>\n",
       "      <td>39.93</td>\n",
       "      <td>2.514</td>\n",
       "      <td>0.00</td>\n",
       "      <td>0.00</td>\n",
       "      <td>0.00</td>\n",
       "      <td>0.00</td>\n",
       "      <td>0.00</td>\n",
       "      <td>211.289143</td>\n",
       "      <td>8.106</td>\n",
       "      <td>0</td>\n",
       "    </tr>\n",
       "    <tr>\n",
       "      <th>3</th>\n",
       "      <td>1</td>\n",
       "      <td>26/02/2010</td>\n",
       "      <td>46.63</td>\n",
       "      <td>2.561</td>\n",
       "      <td>0.00</td>\n",
       "      <td>0.00</td>\n",
       "      <td>0.00</td>\n",
       "      <td>0.00</td>\n",
       "      <td>0.00</td>\n",
       "      <td>211.319643</td>\n",
       "      <td>8.106</td>\n",
       "      <td>0</td>\n",
       "    </tr>\n",
       "    <tr>\n",
       "      <th>4</th>\n",
       "      <td>1</td>\n",
       "      <td>05/03/2010</td>\n",
       "      <td>46.50</td>\n",
       "      <td>2.625</td>\n",
       "      <td>0.00</td>\n",
       "      <td>0.00</td>\n",
       "      <td>0.00</td>\n",
       "      <td>0.00</td>\n",
       "      <td>0.00</td>\n",
       "      <td>211.350143</td>\n",
       "      <td>8.106</td>\n",
       "      <td>0</td>\n",
       "    </tr>\n",
       "    <tr>\n",
       "      <th>...</th>\n",
       "      <td>...</td>\n",
       "      <td>...</td>\n",
       "      <td>...</td>\n",
       "      <td>...</td>\n",
       "      <td>...</td>\n",
       "      <td>...</td>\n",
       "      <td>...</td>\n",
       "      <td>...</td>\n",
       "      <td>...</td>\n",
       "      <td>...</td>\n",
       "      <td>...</td>\n",
       "      <td>...</td>\n",
       "    </tr>\n",
       "    <tr>\n",
       "      <th>8185</th>\n",
       "      <td>45</td>\n",
       "      <td>28/06/2013</td>\n",
       "      <td>76.05</td>\n",
       "      <td>3.639</td>\n",
       "      <td>4842.29</td>\n",
       "      <td>975.03</td>\n",
       "      <td>3.00</td>\n",
       "      <td>2449.97</td>\n",
       "      <td>3169.69</td>\n",
       "      <td>193.589304</td>\n",
       "      <td>8.335</td>\n",
       "      <td>0</td>\n",
       "    </tr>\n",
       "    <tr>\n",
       "      <th>8186</th>\n",
       "      <td>45</td>\n",
       "      <td>05/07/2013</td>\n",
       "      <td>77.50</td>\n",
       "      <td>3.614</td>\n",
       "      <td>9090.48</td>\n",
       "      <td>2268.58</td>\n",
       "      <td>582.74</td>\n",
       "      <td>5797.47</td>\n",
       "      <td>1514.93</td>\n",
       "      <td>193.589304</td>\n",
       "      <td>8.335</td>\n",
       "      <td>0</td>\n",
       "    </tr>\n",
       "    <tr>\n",
       "      <th>8187</th>\n",
       "      <td>45</td>\n",
       "      <td>12/07/2013</td>\n",
       "      <td>79.37</td>\n",
       "      <td>3.614</td>\n",
       "      <td>3789.94</td>\n",
       "      <td>1827.31</td>\n",
       "      <td>85.72</td>\n",
       "      <td>744.84</td>\n",
       "      <td>2150.36</td>\n",
       "      <td>193.589304</td>\n",
       "      <td>8.335</td>\n",
       "      <td>0</td>\n",
       "    </tr>\n",
       "    <tr>\n",
       "      <th>8188</th>\n",
       "      <td>45</td>\n",
       "      <td>19/07/2013</td>\n",
       "      <td>82.84</td>\n",
       "      <td>3.737</td>\n",
       "      <td>2961.49</td>\n",
       "      <td>1047.07</td>\n",
       "      <td>204.19</td>\n",
       "      <td>363.00</td>\n",
       "      <td>1059.46</td>\n",
       "      <td>193.589304</td>\n",
       "      <td>8.335</td>\n",
       "      <td>0</td>\n",
       "    </tr>\n",
       "    <tr>\n",
       "      <th>8189</th>\n",
       "      <td>45</td>\n",
       "      <td>26/07/2013</td>\n",
       "      <td>76.06</td>\n",
       "      <td>3.804</td>\n",
       "      <td>212.02</td>\n",
       "      <td>851.73</td>\n",
       "      <td>2.06</td>\n",
       "      <td>10.88</td>\n",
       "      <td>1864.57</td>\n",
       "      <td>193.589304</td>\n",
       "      <td>8.335</td>\n",
       "      <td>0</td>\n",
       "    </tr>\n",
       "  </tbody>\n",
       "</table>\n",
       "<p>8190 rows × 12 columns</p>\n",
       "</div>"
      ],
      "text/plain": [
       "      Store        Date  Temperature  Fuel_Price  MarkDown1  MarkDown2  \\\n",
       "0         1  05/02/2010        42.31       2.572       0.00       0.00   \n",
       "1         1  12/02/2010        38.51       2.548       0.00       0.00   \n",
       "2         1  19/02/2010        39.93       2.514       0.00       0.00   \n",
       "3         1  26/02/2010        46.63       2.561       0.00       0.00   \n",
       "4         1  05/03/2010        46.50       2.625       0.00       0.00   \n",
       "...     ...         ...          ...         ...        ...        ...   \n",
       "8185     45  28/06/2013        76.05       3.639    4842.29     975.03   \n",
       "8186     45  05/07/2013        77.50       3.614    9090.48    2268.58   \n",
       "8187     45  12/07/2013        79.37       3.614    3789.94    1827.31   \n",
       "8188     45  19/07/2013        82.84       3.737    2961.49    1047.07   \n",
       "8189     45  26/07/2013        76.06       3.804     212.02     851.73   \n",
       "\n",
       "      MarkDown3  MarkDown4  MarkDown5         CPI  Unemployment  IsHoliday  \n",
       "0          0.00       0.00       0.00  211.096358         8.106          0  \n",
       "1          0.00       0.00       0.00  211.242170         8.106          1  \n",
       "2          0.00       0.00       0.00  211.289143         8.106          0  \n",
       "3          0.00       0.00       0.00  211.319643         8.106          0  \n",
       "4          0.00       0.00       0.00  211.350143         8.106          0  \n",
       "...         ...        ...        ...         ...           ...        ...  \n",
       "8185       3.00    2449.97    3169.69  193.589304         8.335          0  \n",
       "8186     582.74    5797.47    1514.93  193.589304         8.335          0  \n",
       "8187      85.72     744.84    2150.36  193.589304         8.335          0  \n",
       "8188     204.19     363.00    1059.46  193.589304         8.335          0  \n",
       "8189       2.06      10.88    1864.57  193.589304         8.335          0  \n",
       "\n",
       "[8190 rows x 12 columns]"
      ]
     },
     "execution_count": 429,
     "metadata": {},
     "output_type": "execute_result"
    }
   ],
   "source": [
    "#tornaremos a coluna IsHoliday de features, que assume valores booleanos, em 0 ou 1, para trabalhar com ela mais facilmente no futuro\n",
    "\n",
    "features[\"IsHoliday\"] = features[\"IsHoliday\"].replace({False: 0, True: 1})\n",
    "\n",
    "features"
   ]
  },
  {
   "cell_type": "code",
   "execution_count": 430,
   "metadata": {},
   "outputs": [
    {
     "data": {
      "text/html": [
       "<div>\n",
       "<style scoped>\n",
       "    .dataframe tbody tr th:only-of-type {\n",
       "        vertical-align: middle;\n",
       "    }\n",
       "\n",
       "    .dataframe tbody tr th {\n",
       "        vertical-align: top;\n",
       "    }\n",
       "\n",
       "    .dataframe thead th {\n",
       "        text-align: right;\n",
       "    }\n",
       "</style>\n",
       "<table border=\"1\" class=\"dataframe\">\n",
       "  <thead>\n",
       "    <tr style=\"text-align: right;\">\n",
       "      <th></th>\n",
       "      <th>Store</th>\n",
       "      <th>Dept</th>\n",
       "      <th>Date</th>\n",
       "      <th>Weekly_Sales</th>\n",
       "      <th>IsHoliday</th>\n",
       "    </tr>\n",
       "  </thead>\n",
       "  <tbody>\n",
       "    <tr>\n",
       "      <th>0</th>\n",
       "      <td>1</td>\n",
       "      <td>1</td>\n",
       "      <td>05/02/2010</td>\n",
       "      <td>24924.50</td>\n",
       "      <td>0</td>\n",
       "    </tr>\n",
       "    <tr>\n",
       "      <th>1</th>\n",
       "      <td>1</td>\n",
       "      <td>1</td>\n",
       "      <td>12/02/2010</td>\n",
       "      <td>46039.49</td>\n",
       "      <td>1</td>\n",
       "    </tr>\n",
       "    <tr>\n",
       "      <th>2</th>\n",
       "      <td>1</td>\n",
       "      <td>1</td>\n",
       "      <td>19/02/2010</td>\n",
       "      <td>41595.55</td>\n",
       "      <td>0</td>\n",
       "    </tr>\n",
       "    <tr>\n",
       "      <th>3</th>\n",
       "      <td>1</td>\n",
       "      <td>1</td>\n",
       "      <td>26/02/2010</td>\n",
       "      <td>19403.54</td>\n",
       "      <td>0</td>\n",
       "    </tr>\n",
       "    <tr>\n",
       "      <th>4</th>\n",
       "      <td>1</td>\n",
       "      <td>1</td>\n",
       "      <td>05/03/2010</td>\n",
       "      <td>21827.90</td>\n",
       "      <td>0</td>\n",
       "    </tr>\n",
       "    <tr>\n",
       "      <th>...</th>\n",
       "      <td>...</td>\n",
       "      <td>...</td>\n",
       "      <td>...</td>\n",
       "      <td>...</td>\n",
       "      <td>...</td>\n",
       "    </tr>\n",
       "    <tr>\n",
       "      <th>421565</th>\n",
       "      <td>45</td>\n",
       "      <td>98</td>\n",
       "      <td>28/09/2012</td>\n",
       "      <td>508.37</td>\n",
       "      <td>0</td>\n",
       "    </tr>\n",
       "    <tr>\n",
       "      <th>421566</th>\n",
       "      <td>45</td>\n",
       "      <td>98</td>\n",
       "      <td>05/10/2012</td>\n",
       "      <td>628.10</td>\n",
       "      <td>0</td>\n",
       "    </tr>\n",
       "    <tr>\n",
       "      <th>421567</th>\n",
       "      <td>45</td>\n",
       "      <td>98</td>\n",
       "      <td>12/10/2012</td>\n",
       "      <td>1061.02</td>\n",
       "      <td>0</td>\n",
       "    </tr>\n",
       "    <tr>\n",
       "      <th>421568</th>\n",
       "      <td>45</td>\n",
       "      <td>98</td>\n",
       "      <td>19/10/2012</td>\n",
       "      <td>760.01</td>\n",
       "      <td>0</td>\n",
       "    </tr>\n",
       "    <tr>\n",
       "      <th>421569</th>\n",
       "      <td>45</td>\n",
       "      <td>98</td>\n",
       "      <td>26/10/2012</td>\n",
       "      <td>1076.80</td>\n",
       "      <td>0</td>\n",
       "    </tr>\n",
       "  </tbody>\n",
       "</table>\n",
       "<p>421570 rows × 5 columns</p>\n",
       "</div>"
      ],
      "text/plain": [
       "        Store  Dept        Date  Weekly_Sales  IsHoliday\n",
       "0           1     1  05/02/2010      24924.50          0\n",
       "1           1     1  12/02/2010      46039.49          1\n",
       "2           1     1  19/02/2010      41595.55          0\n",
       "3           1     1  26/02/2010      19403.54          0\n",
       "4           1     1  05/03/2010      21827.90          0\n",
       "...       ...   ...         ...           ...        ...\n",
       "421565     45    98  28/09/2012        508.37          0\n",
       "421566     45    98  05/10/2012        628.10          0\n",
       "421567     45    98  12/10/2012       1061.02          0\n",
       "421568     45    98  19/10/2012        760.01          0\n",
       "421569     45    98  26/10/2012       1076.80          0\n",
       "\n",
       "[421570 rows x 5 columns]"
      ]
     },
     "execution_count": 430,
     "metadata": {},
     "output_type": "execute_result"
    }
   ],
   "source": [
    "#tornaremos a coluna IsHoliday de sales, que assume valores booleanos, em 0 ou 1, para trabalhar com ela mais facilmente no futuro\n",
    "\n",
    "sales[\"IsHoliday\"] = sales[\"IsHoliday\"].replace({False: 0, True: 1})\n",
    "\n",
    "sales"
   ]
  },
  {
   "cell_type": "code",
   "execution_count": 431,
   "metadata": {},
   "outputs": [
    {
     "data": {
      "text/html": [
       "<div>\n",
       "<style scoped>\n",
       "    .dataframe tbody tr th:only-of-type {\n",
       "        vertical-align: middle;\n",
       "    }\n",
       "\n",
       "    .dataframe tbody tr th {\n",
       "        vertical-align: top;\n",
       "    }\n",
       "\n",
       "    .dataframe thead th {\n",
       "        text-align: right;\n",
       "    }\n",
       "</style>\n",
       "<table border=\"1\" class=\"dataframe\">\n",
       "  <thead>\n",
       "    <tr style=\"text-align: right;\">\n",
       "      <th></th>\n",
       "      <th>Store</th>\n",
       "      <th>Date</th>\n",
       "      <th>Temperature</th>\n",
       "      <th>Fuel_Price</th>\n",
       "      <th>MarkDown1</th>\n",
       "      <th>MarkDown2</th>\n",
       "      <th>MarkDown3</th>\n",
       "      <th>MarkDown4</th>\n",
       "      <th>MarkDown5</th>\n",
       "      <th>CPI</th>\n",
       "      <th>Unemployment</th>\n",
       "      <th>IsHoliday</th>\n",
       "      <th>MarkDown</th>\n",
       "    </tr>\n",
       "  </thead>\n",
       "  <tbody>\n",
       "    <tr>\n",
       "      <th>0</th>\n",
       "      <td>1</td>\n",
       "      <td>05/02/2010</td>\n",
       "      <td>42.31</td>\n",
       "      <td>2.572</td>\n",
       "      <td>0.00</td>\n",
       "      <td>0.00</td>\n",
       "      <td>0.00</td>\n",
       "      <td>0.00</td>\n",
       "      <td>0.00</td>\n",
       "      <td>211.096358</td>\n",
       "      <td>8.106</td>\n",
       "      <td>0</td>\n",
       "      <td>0.00</td>\n",
       "    </tr>\n",
       "    <tr>\n",
       "      <th>1</th>\n",
       "      <td>1</td>\n",
       "      <td>12/02/2010</td>\n",
       "      <td>38.51</td>\n",
       "      <td>2.548</td>\n",
       "      <td>0.00</td>\n",
       "      <td>0.00</td>\n",
       "      <td>0.00</td>\n",
       "      <td>0.00</td>\n",
       "      <td>0.00</td>\n",
       "      <td>211.242170</td>\n",
       "      <td>8.106</td>\n",
       "      <td>1</td>\n",
       "      <td>0.00</td>\n",
       "    </tr>\n",
       "    <tr>\n",
       "      <th>2</th>\n",
       "      <td>1</td>\n",
       "      <td>19/02/2010</td>\n",
       "      <td>39.93</td>\n",
       "      <td>2.514</td>\n",
       "      <td>0.00</td>\n",
       "      <td>0.00</td>\n",
       "      <td>0.00</td>\n",
       "      <td>0.00</td>\n",
       "      <td>0.00</td>\n",
       "      <td>211.289143</td>\n",
       "      <td>8.106</td>\n",
       "      <td>0</td>\n",
       "      <td>0.00</td>\n",
       "    </tr>\n",
       "    <tr>\n",
       "      <th>3</th>\n",
       "      <td>1</td>\n",
       "      <td>26/02/2010</td>\n",
       "      <td>46.63</td>\n",
       "      <td>2.561</td>\n",
       "      <td>0.00</td>\n",
       "      <td>0.00</td>\n",
       "      <td>0.00</td>\n",
       "      <td>0.00</td>\n",
       "      <td>0.00</td>\n",
       "      <td>211.319643</td>\n",
       "      <td>8.106</td>\n",
       "      <td>0</td>\n",
       "      <td>0.00</td>\n",
       "    </tr>\n",
       "    <tr>\n",
       "      <th>4</th>\n",
       "      <td>1</td>\n",
       "      <td>05/03/2010</td>\n",
       "      <td>46.50</td>\n",
       "      <td>2.625</td>\n",
       "      <td>0.00</td>\n",
       "      <td>0.00</td>\n",
       "      <td>0.00</td>\n",
       "      <td>0.00</td>\n",
       "      <td>0.00</td>\n",
       "      <td>211.350143</td>\n",
       "      <td>8.106</td>\n",
       "      <td>0</td>\n",
       "      <td>0.00</td>\n",
       "    </tr>\n",
       "    <tr>\n",
       "      <th>...</th>\n",
       "      <td>...</td>\n",
       "      <td>...</td>\n",
       "      <td>...</td>\n",
       "      <td>...</td>\n",
       "      <td>...</td>\n",
       "      <td>...</td>\n",
       "      <td>...</td>\n",
       "      <td>...</td>\n",
       "      <td>...</td>\n",
       "      <td>...</td>\n",
       "      <td>...</td>\n",
       "      <td>...</td>\n",
       "      <td>...</td>\n",
       "    </tr>\n",
       "    <tr>\n",
       "      <th>8185</th>\n",
       "      <td>45</td>\n",
       "      <td>28/06/2013</td>\n",
       "      <td>76.05</td>\n",
       "      <td>3.639</td>\n",
       "      <td>4842.29</td>\n",
       "      <td>975.03</td>\n",
       "      <td>3.00</td>\n",
       "      <td>2449.97</td>\n",
       "      <td>3169.69</td>\n",
       "      <td>193.589304</td>\n",
       "      <td>8.335</td>\n",
       "      <td>0</td>\n",
       "      <td>11439.98</td>\n",
       "    </tr>\n",
       "    <tr>\n",
       "      <th>8186</th>\n",
       "      <td>45</td>\n",
       "      <td>05/07/2013</td>\n",
       "      <td>77.50</td>\n",
       "      <td>3.614</td>\n",
       "      <td>9090.48</td>\n",
       "      <td>2268.58</td>\n",
       "      <td>582.74</td>\n",
       "      <td>5797.47</td>\n",
       "      <td>1514.93</td>\n",
       "      <td>193.589304</td>\n",
       "      <td>8.335</td>\n",
       "      <td>0</td>\n",
       "      <td>19254.20</td>\n",
       "    </tr>\n",
       "    <tr>\n",
       "      <th>8187</th>\n",
       "      <td>45</td>\n",
       "      <td>12/07/2013</td>\n",
       "      <td>79.37</td>\n",
       "      <td>3.614</td>\n",
       "      <td>3789.94</td>\n",
       "      <td>1827.31</td>\n",
       "      <td>85.72</td>\n",
       "      <td>744.84</td>\n",
       "      <td>2150.36</td>\n",
       "      <td>193.589304</td>\n",
       "      <td>8.335</td>\n",
       "      <td>0</td>\n",
       "      <td>8598.17</td>\n",
       "    </tr>\n",
       "    <tr>\n",
       "      <th>8188</th>\n",
       "      <td>45</td>\n",
       "      <td>19/07/2013</td>\n",
       "      <td>82.84</td>\n",
       "      <td>3.737</td>\n",
       "      <td>2961.49</td>\n",
       "      <td>1047.07</td>\n",
       "      <td>204.19</td>\n",
       "      <td>363.00</td>\n",
       "      <td>1059.46</td>\n",
       "      <td>193.589304</td>\n",
       "      <td>8.335</td>\n",
       "      <td>0</td>\n",
       "      <td>5635.21</td>\n",
       "    </tr>\n",
       "    <tr>\n",
       "      <th>8189</th>\n",
       "      <td>45</td>\n",
       "      <td>26/07/2013</td>\n",
       "      <td>76.06</td>\n",
       "      <td>3.804</td>\n",
       "      <td>212.02</td>\n",
       "      <td>851.73</td>\n",
       "      <td>2.06</td>\n",
       "      <td>10.88</td>\n",
       "      <td>1864.57</td>\n",
       "      <td>193.589304</td>\n",
       "      <td>8.335</td>\n",
       "      <td>0</td>\n",
       "      <td>2941.26</td>\n",
       "    </tr>\n",
       "  </tbody>\n",
       "</table>\n",
       "<p>8190 rows × 13 columns</p>\n",
       "</div>"
      ],
      "text/plain": [
       "      Store        Date  Temperature  Fuel_Price  MarkDown1  MarkDown2  \\\n",
       "0         1  05/02/2010        42.31       2.572       0.00       0.00   \n",
       "1         1  12/02/2010        38.51       2.548       0.00       0.00   \n",
       "2         1  19/02/2010        39.93       2.514       0.00       0.00   \n",
       "3         1  26/02/2010        46.63       2.561       0.00       0.00   \n",
       "4         1  05/03/2010        46.50       2.625       0.00       0.00   \n",
       "...     ...         ...          ...         ...        ...        ...   \n",
       "8185     45  28/06/2013        76.05       3.639    4842.29     975.03   \n",
       "8186     45  05/07/2013        77.50       3.614    9090.48    2268.58   \n",
       "8187     45  12/07/2013        79.37       3.614    3789.94    1827.31   \n",
       "8188     45  19/07/2013        82.84       3.737    2961.49    1047.07   \n",
       "8189     45  26/07/2013        76.06       3.804     212.02     851.73   \n",
       "\n",
       "      MarkDown3  MarkDown4  MarkDown5         CPI  Unemployment  IsHoliday  \\\n",
       "0          0.00       0.00       0.00  211.096358         8.106          0   \n",
       "1          0.00       0.00       0.00  211.242170         8.106          1   \n",
       "2          0.00       0.00       0.00  211.289143         8.106          0   \n",
       "3          0.00       0.00       0.00  211.319643         8.106          0   \n",
       "4          0.00       0.00       0.00  211.350143         8.106          0   \n",
       "...         ...        ...        ...         ...           ...        ...   \n",
       "8185       3.00    2449.97    3169.69  193.589304         8.335          0   \n",
       "8186     582.74    5797.47    1514.93  193.589304         8.335          0   \n",
       "8187      85.72     744.84    2150.36  193.589304         8.335          0   \n",
       "8188     204.19     363.00    1059.46  193.589304         8.335          0   \n",
       "8189       2.06      10.88    1864.57  193.589304         8.335          0   \n",
       "\n",
       "      MarkDown  \n",
       "0         0.00  \n",
       "1         0.00  \n",
       "2         0.00  \n",
       "3         0.00  \n",
       "4         0.00  \n",
       "...        ...  \n",
       "8185  11439.98  \n",
       "8186  19254.20  \n",
       "8187   8598.17  \n",
       "8188   5635.21  \n",
       "8189   2941.26  \n",
       "\n",
       "[8190 rows x 13 columns]"
      ]
     },
     "execution_count": 431,
     "metadata": {},
     "output_type": "execute_result"
    }
   ],
   "source": [
    "# como não temos informações sobre o significado de cada tipo de MarkDown, uniremos os cinco em uma só coluna: MarkDown\n",
    "\n",
    "features[\"MarkDown\"] = features[colunas_markdown].sum(axis=1)\n",
    "\n",
    "features"
   ]
  },
  {
   "cell_type": "code",
   "execution_count": 432,
   "metadata": {},
   "outputs": [
    {
     "data": {
      "text/html": [
       "<div>\n",
       "<style scoped>\n",
       "    .dataframe tbody tr th:only-of-type {\n",
       "        vertical-align: middle;\n",
       "    }\n",
       "\n",
       "    .dataframe tbody tr th {\n",
       "        vertical-align: top;\n",
       "    }\n",
       "\n",
       "    .dataframe thead th {\n",
       "        text-align: right;\n",
       "    }\n",
       "</style>\n",
       "<table border=\"1\" class=\"dataframe\">\n",
       "  <thead>\n",
       "    <tr style=\"text-align: right;\">\n",
       "      <th></th>\n",
       "      <th>Store</th>\n",
       "      <th>Date</th>\n",
       "      <th>Temperature</th>\n",
       "      <th>Fuel_Price</th>\n",
       "      <th>CPI</th>\n",
       "      <th>Unemployment</th>\n",
       "      <th>IsHoliday</th>\n",
       "      <th>MarkDown</th>\n",
       "    </tr>\n",
       "  </thead>\n",
       "  <tbody>\n",
       "    <tr>\n",
       "      <th>0</th>\n",
       "      <td>1</td>\n",
       "      <td>05/02/2010</td>\n",
       "      <td>42.31</td>\n",
       "      <td>2.572</td>\n",
       "      <td>211.096358</td>\n",
       "      <td>8.106</td>\n",
       "      <td>0</td>\n",
       "      <td>0.00</td>\n",
       "    </tr>\n",
       "    <tr>\n",
       "      <th>1</th>\n",
       "      <td>1</td>\n",
       "      <td>12/02/2010</td>\n",
       "      <td>38.51</td>\n",
       "      <td>2.548</td>\n",
       "      <td>211.242170</td>\n",
       "      <td>8.106</td>\n",
       "      <td>1</td>\n",
       "      <td>0.00</td>\n",
       "    </tr>\n",
       "    <tr>\n",
       "      <th>2</th>\n",
       "      <td>1</td>\n",
       "      <td>19/02/2010</td>\n",
       "      <td>39.93</td>\n",
       "      <td>2.514</td>\n",
       "      <td>211.289143</td>\n",
       "      <td>8.106</td>\n",
       "      <td>0</td>\n",
       "      <td>0.00</td>\n",
       "    </tr>\n",
       "    <tr>\n",
       "      <th>3</th>\n",
       "      <td>1</td>\n",
       "      <td>26/02/2010</td>\n",
       "      <td>46.63</td>\n",
       "      <td>2.561</td>\n",
       "      <td>211.319643</td>\n",
       "      <td>8.106</td>\n",
       "      <td>0</td>\n",
       "      <td>0.00</td>\n",
       "    </tr>\n",
       "    <tr>\n",
       "      <th>4</th>\n",
       "      <td>1</td>\n",
       "      <td>05/03/2010</td>\n",
       "      <td>46.50</td>\n",
       "      <td>2.625</td>\n",
       "      <td>211.350143</td>\n",
       "      <td>8.106</td>\n",
       "      <td>0</td>\n",
       "      <td>0.00</td>\n",
       "    </tr>\n",
       "    <tr>\n",
       "      <th>...</th>\n",
       "      <td>...</td>\n",
       "      <td>...</td>\n",
       "      <td>...</td>\n",
       "      <td>...</td>\n",
       "      <td>...</td>\n",
       "      <td>...</td>\n",
       "      <td>...</td>\n",
       "      <td>...</td>\n",
       "    </tr>\n",
       "    <tr>\n",
       "      <th>8185</th>\n",
       "      <td>45</td>\n",
       "      <td>28/06/2013</td>\n",
       "      <td>76.05</td>\n",
       "      <td>3.639</td>\n",
       "      <td>193.589304</td>\n",
       "      <td>8.335</td>\n",
       "      <td>0</td>\n",
       "      <td>11439.98</td>\n",
       "    </tr>\n",
       "    <tr>\n",
       "      <th>8186</th>\n",
       "      <td>45</td>\n",
       "      <td>05/07/2013</td>\n",
       "      <td>77.50</td>\n",
       "      <td>3.614</td>\n",
       "      <td>193.589304</td>\n",
       "      <td>8.335</td>\n",
       "      <td>0</td>\n",
       "      <td>19254.20</td>\n",
       "    </tr>\n",
       "    <tr>\n",
       "      <th>8187</th>\n",
       "      <td>45</td>\n",
       "      <td>12/07/2013</td>\n",
       "      <td>79.37</td>\n",
       "      <td>3.614</td>\n",
       "      <td>193.589304</td>\n",
       "      <td>8.335</td>\n",
       "      <td>0</td>\n",
       "      <td>8598.17</td>\n",
       "    </tr>\n",
       "    <tr>\n",
       "      <th>8188</th>\n",
       "      <td>45</td>\n",
       "      <td>19/07/2013</td>\n",
       "      <td>82.84</td>\n",
       "      <td>3.737</td>\n",
       "      <td>193.589304</td>\n",
       "      <td>8.335</td>\n",
       "      <td>0</td>\n",
       "      <td>5635.21</td>\n",
       "    </tr>\n",
       "    <tr>\n",
       "      <th>8189</th>\n",
       "      <td>45</td>\n",
       "      <td>26/07/2013</td>\n",
       "      <td>76.06</td>\n",
       "      <td>3.804</td>\n",
       "      <td>193.589304</td>\n",
       "      <td>8.335</td>\n",
       "      <td>0</td>\n",
       "      <td>2941.26</td>\n",
       "    </tr>\n",
       "  </tbody>\n",
       "</table>\n",
       "<p>8190 rows × 8 columns</p>\n",
       "</div>"
      ],
      "text/plain": [
       "      Store        Date  Temperature  Fuel_Price         CPI  Unemployment  \\\n",
       "0         1  05/02/2010        42.31       2.572  211.096358         8.106   \n",
       "1         1  12/02/2010        38.51       2.548  211.242170         8.106   \n",
       "2         1  19/02/2010        39.93       2.514  211.289143         8.106   \n",
       "3         1  26/02/2010        46.63       2.561  211.319643         8.106   \n",
       "4         1  05/03/2010        46.50       2.625  211.350143         8.106   \n",
       "...     ...         ...          ...         ...         ...           ...   \n",
       "8185     45  28/06/2013        76.05       3.639  193.589304         8.335   \n",
       "8186     45  05/07/2013        77.50       3.614  193.589304         8.335   \n",
       "8187     45  12/07/2013        79.37       3.614  193.589304         8.335   \n",
       "8188     45  19/07/2013        82.84       3.737  193.589304         8.335   \n",
       "8189     45  26/07/2013        76.06       3.804  193.589304         8.335   \n",
       "\n",
       "      IsHoliday  MarkDown  \n",
       "0             0      0.00  \n",
       "1             1      0.00  \n",
       "2             0      0.00  \n",
       "3             0      0.00  \n",
       "4             0      0.00  \n",
       "...         ...       ...  \n",
       "8185          0  11439.98  \n",
       "8186          0  19254.20  \n",
       "8187          0   8598.17  \n",
       "8188          0   5635.21  \n",
       "8189          0   2941.26  \n",
       "\n",
       "[8190 rows x 8 columns]"
      ]
     },
     "execution_count": 432,
     "metadata": {},
     "output_type": "execute_result"
    }
   ],
   "source": [
    "# como não usaremos as colunas de MarkDown1 a MarkDown5, iremos eliminá-las\n",
    "\n",
    "for i in range(1,5+1):\n",
    "    del features[f\"MarkDown{i}\"]\n",
    "    \n",
    "features"
   ]
  },
  {
   "cell_type": "code",
   "execution_count": 433,
   "metadata": {},
   "outputs": [
    {
     "data": {
      "text/html": [
       "<div>\n",
       "<style scoped>\n",
       "    .dataframe tbody tr th:only-of-type {\n",
       "        vertical-align: middle;\n",
       "    }\n",
       "\n",
       "    .dataframe tbody tr th {\n",
       "        vertical-align: top;\n",
       "    }\n",
       "\n",
       "    .dataframe thead th {\n",
       "        text-align: right;\n",
       "    }\n",
       "</style>\n",
       "<table border=\"1\" class=\"dataframe\">\n",
       "  <thead>\n",
       "    <tr style=\"text-align: right;\">\n",
       "      <th></th>\n",
       "      <th>Store</th>\n",
       "      <th>Dept</th>\n",
       "      <th>Date</th>\n",
       "      <th>Weekly_Sales</th>\n",
       "      <th>IsHoliday</th>\n",
       "    </tr>\n",
       "  </thead>\n",
       "  <tbody>\n",
       "    <tr>\n",
       "      <th>0</th>\n",
       "      <td>1</td>\n",
       "      <td>1</td>\n",
       "      <td>05/02/2010</td>\n",
       "      <td>24924.50</td>\n",
       "      <td>0</td>\n",
       "    </tr>\n",
       "    <tr>\n",
       "      <th>1</th>\n",
       "      <td>1</td>\n",
       "      <td>1</td>\n",
       "      <td>12/02/2010</td>\n",
       "      <td>46039.49</td>\n",
       "      <td>1</td>\n",
       "    </tr>\n",
       "    <tr>\n",
       "      <th>2</th>\n",
       "      <td>1</td>\n",
       "      <td>1</td>\n",
       "      <td>19/02/2010</td>\n",
       "      <td>41595.55</td>\n",
       "      <td>0</td>\n",
       "    </tr>\n",
       "    <tr>\n",
       "      <th>3</th>\n",
       "      <td>1</td>\n",
       "      <td>1</td>\n",
       "      <td>26/02/2010</td>\n",
       "      <td>19403.54</td>\n",
       "      <td>0</td>\n",
       "    </tr>\n",
       "    <tr>\n",
       "      <th>4</th>\n",
       "      <td>1</td>\n",
       "      <td>1</td>\n",
       "      <td>05/03/2010</td>\n",
       "      <td>21827.90</td>\n",
       "      <td>0</td>\n",
       "    </tr>\n",
       "    <tr>\n",
       "      <th>...</th>\n",
       "      <td>...</td>\n",
       "      <td>...</td>\n",
       "      <td>...</td>\n",
       "      <td>...</td>\n",
       "      <td>...</td>\n",
       "    </tr>\n",
       "    <tr>\n",
       "      <th>421565</th>\n",
       "      <td>45</td>\n",
       "      <td>98</td>\n",
       "      <td>28/09/2012</td>\n",
       "      <td>508.37</td>\n",
       "      <td>0</td>\n",
       "    </tr>\n",
       "    <tr>\n",
       "      <th>421566</th>\n",
       "      <td>45</td>\n",
       "      <td>98</td>\n",
       "      <td>05/10/2012</td>\n",
       "      <td>628.10</td>\n",
       "      <td>0</td>\n",
       "    </tr>\n",
       "    <tr>\n",
       "      <th>421567</th>\n",
       "      <td>45</td>\n",
       "      <td>98</td>\n",
       "      <td>12/10/2012</td>\n",
       "      <td>1061.02</td>\n",
       "      <td>0</td>\n",
       "    </tr>\n",
       "    <tr>\n",
       "      <th>421568</th>\n",
       "      <td>45</td>\n",
       "      <td>98</td>\n",
       "      <td>19/10/2012</td>\n",
       "      <td>760.01</td>\n",
       "      <td>0</td>\n",
       "    </tr>\n",
       "    <tr>\n",
       "      <th>421569</th>\n",
       "      <td>45</td>\n",
       "      <td>98</td>\n",
       "      <td>26/10/2012</td>\n",
       "      <td>1076.80</td>\n",
       "      <td>0</td>\n",
       "    </tr>\n",
       "  </tbody>\n",
       "</table>\n",
       "<p>421570 rows × 5 columns</p>\n",
       "</div>"
      ],
      "text/plain": [
       "        Store  Dept        Date  Weekly_Sales  IsHoliday\n",
       "0           1     1  05/02/2010      24924.50          0\n",
       "1           1     1  12/02/2010      46039.49          1\n",
       "2           1     1  19/02/2010      41595.55          0\n",
       "3           1     1  26/02/2010      19403.54          0\n",
       "4           1     1  05/03/2010      21827.90          0\n",
       "...       ...   ...         ...           ...        ...\n",
       "421565     45    98  28/09/2012        508.37          0\n",
       "421566     45    98  05/10/2012        628.10          0\n",
       "421567     45    98  12/10/2012       1061.02          0\n",
       "421568     45    98  19/10/2012        760.01          0\n",
       "421569     45    98  26/10/2012       1076.80          0\n",
       "\n",
       "[421570 rows x 5 columns]"
      ]
     },
     "execution_count": 433,
     "metadata": {},
     "output_type": "execute_result"
    }
   ],
   "source": [
    "# vemos que, em sales, temos os valores das vendas semanais, porém ela está divida em cada departamento para cada loja\n",
    "\n",
    "sales"
   ]
  },
  {
   "cell_type": "code",
   "execution_count": 434,
   "metadata": {},
   "outputs": [
    {
     "data": {
      "text/html": [
       "<div>\n",
       "<style scoped>\n",
       "    .dataframe tbody tr th:only-of-type {\n",
       "        vertical-align: middle;\n",
       "    }\n",
       "\n",
       "    .dataframe tbody tr th {\n",
       "        vertical-align: top;\n",
       "    }\n",
       "\n",
       "    .dataframe thead th {\n",
       "        text-align: right;\n",
       "    }\n",
       "</style>\n",
       "<table border=\"1\" class=\"dataframe\">\n",
       "  <thead>\n",
       "    <tr style=\"text-align: right;\">\n",
       "      <th></th>\n",
       "      <th>Store</th>\n",
       "      <th>Date</th>\n",
       "      <th>IsHoliday</th>\n",
       "      <th>Weekly_Sales</th>\n",
       "    </tr>\n",
       "  </thead>\n",
       "  <tbody>\n",
       "    <tr>\n",
       "      <th>0</th>\n",
       "      <td>1</td>\n",
       "      <td>05/02/2010</td>\n",
       "      <td>0</td>\n",
       "      <td>1643690.90</td>\n",
       "    </tr>\n",
       "    <tr>\n",
       "      <th>1</th>\n",
       "      <td>1</td>\n",
       "      <td>12/02/2010</td>\n",
       "      <td>1</td>\n",
       "      <td>1641957.44</td>\n",
       "    </tr>\n",
       "    <tr>\n",
       "      <th>2</th>\n",
       "      <td>1</td>\n",
       "      <td>19/02/2010</td>\n",
       "      <td>0</td>\n",
       "      <td>1611968.17</td>\n",
       "    </tr>\n",
       "    <tr>\n",
       "      <th>3</th>\n",
       "      <td>1</td>\n",
       "      <td>26/02/2010</td>\n",
       "      <td>0</td>\n",
       "      <td>1409727.59</td>\n",
       "    </tr>\n",
       "    <tr>\n",
       "      <th>4</th>\n",
       "      <td>1</td>\n",
       "      <td>05/03/2010</td>\n",
       "      <td>0</td>\n",
       "      <td>1554806.68</td>\n",
       "    </tr>\n",
       "    <tr>\n",
       "      <th>...</th>\n",
       "      <td>...</td>\n",
       "      <td>...</td>\n",
       "      <td>...</td>\n",
       "      <td>...</td>\n",
       "    </tr>\n",
       "    <tr>\n",
       "      <th>6430</th>\n",
       "      <td>45</td>\n",
       "      <td>28/09/2012</td>\n",
       "      <td>0</td>\n",
       "      <td>713173.95</td>\n",
       "    </tr>\n",
       "    <tr>\n",
       "      <th>6431</th>\n",
       "      <td>45</td>\n",
       "      <td>05/10/2012</td>\n",
       "      <td>0</td>\n",
       "      <td>733455.07</td>\n",
       "    </tr>\n",
       "    <tr>\n",
       "      <th>6432</th>\n",
       "      <td>45</td>\n",
       "      <td>12/10/2012</td>\n",
       "      <td>0</td>\n",
       "      <td>734464.36</td>\n",
       "    </tr>\n",
       "    <tr>\n",
       "      <th>6433</th>\n",
       "      <td>45</td>\n",
       "      <td>19/10/2012</td>\n",
       "      <td>0</td>\n",
       "      <td>718125.53</td>\n",
       "    </tr>\n",
       "    <tr>\n",
       "      <th>6434</th>\n",
       "      <td>45</td>\n",
       "      <td>26/10/2012</td>\n",
       "      <td>0</td>\n",
       "      <td>760281.43</td>\n",
       "    </tr>\n",
       "  </tbody>\n",
       "</table>\n",
       "<p>6435 rows × 4 columns</p>\n",
       "</div>"
      ],
      "text/plain": [
       "      Store        Date  IsHoliday  Weekly_Sales\n",
       "0         1  05/02/2010          0    1643690.90\n",
       "1         1  12/02/2010          1    1641957.44\n",
       "2         1  19/02/2010          0    1611968.17\n",
       "3         1  26/02/2010          0    1409727.59\n",
       "4         1  05/03/2010          0    1554806.68\n",
       "...     ...         ...        ...           ...\n",
       "6430     45  28/09/2012          0     713173.95\n",
       "6431     45  05/10/2012          0     733455.07\n",
       "6432     45  12/10/2012          0     734464.36\n",
       "6433     45  19/10/2012          0     718125.53\n",
       "6434     45  26/10/2012          0     760281.43\n",
       "\n",
       "[6435 rows x 4 columns]"
      ]
     },
     "execution_count": 434,
     "metadata": {},
     "output_type": "execute_result"
    }
   ],
   "source": [
    "# uniremos os dados por loja em um novo df, assim teremos os valores das vendas semanais total para cada loja,\n",
    "# ignorando assim a informação do departamento, que não nos é útil\n",
    "\n",
    "columns_to_keep = ['Store', 'Date', 'IsHoliday']\n",
    "\n",
    "sales_tot = sales.groupby(columns_to_keep, sort=False)['Weekly_Sales'].sum().reset_index()\n",
    "\n",
    "sales_tot"
   ]
  },
  {
   "cell_type": "code",
   "execution_count": 435,
   "metadata": {},
   "outputs": [
    {
     "data": {
      "text/html": [
       "<div>\n",
       "<style scoped>\n",
       "    .dataframe tbody tr th:only-of-type {\n",
       "        vertical-align: middle;\n",
       "    }\n",
       "\n",
       "    .dataframe tbody tr th {\n",
       "        vertical-align: top;\n",
       "    }\n",
       "\n",
       "    .dataframe thead th {\n",
       "        text-align: right;\n",
       "    }\n",
       "</style>\n",
       "<table border=\"1\" class=\"dataframe\">\n",
       "  <thead>\n",
       "    <tr style=\"text-align: right;\">\n",
       "      <th></th>\n",
       "      <th>Store</th>\n",
       "      <th>Date</th>\n",
       "      <th>IsHoliday_x</th>\n",
       "      <th>Weekly_Sales</th>\n",
       "      <th>Temperature</th>\n",
       "      <th>Fuel_Price</th>\n",
       "      <th>CPI</th>\n",
       "      <th>Unemployment</th>\n",
       "      <th>IsHoliday_y</th>\n",
       "      <th>MarkDown</th>\n",
       "    </tr>\n",
       "  </thead>\n",
       "  <tbody>\n",
       "    <tr>\n",
       "      <th>0</th>\n",
       "      <td>1</td>\n",
       "      <td>05/02/2010</td>\n",
       "      <td>0</td>\n",
       "      <td>1643690.90</td>\n",
       "      <td>42.31</td>\n",
       "      <td>2.572</td>\n",
       "      <td>211.096358</td>\n",
       "      <td>8.106</td>\n",
       "      <td>0</td>\n",
       "      <td>0.00</td>\n",
       "    </tr>\n",
       "    <tr>\n",
       "      <th>1</th>\n",
       "      <td>1</td>\n",
       "      <td>12/02/2010</td>\n",
       "      <td>1</td>\n",
       "      <td>1641957.44</td>\n",
       "      <td>38.51</td>\n",
       "      <td>2.548</td>\n",
       "      <td>211.242170</td>\n",
       "      <td>8.106</td>\n",
       "      <td>1</td>\n",
       "      <td>0.00</td>\n",
       "    </tr>\n",
       "    <tr>\n",
       "      <th>2</th>\n",
       "      <td>1</td>\n",
       "      <td>19/02/2010</td>\n",
       "      <td>0</td>\n",
       "      <td>1611968.17</td>\n",
       "      <td>39.93</td>\n",
       "      <td>2.514</td>\n",
       "      <td>211.289143</td>\n",
       "      <td>8.106</td>\n",
       "      <td>0</td>\n",
       "      <td>0.00</td>\n",
       "    </tr>\n",
       "    <tr>\n",
       "      <th>3</th>\n",
       "      <td>1</td>\n",
       "      <td>26/02/2010</td>\n",
       "      <td>0</td>\n",
       "      <td>1409727.59</td>\n",
       "      <td>46.63</td>\n",
       "      <td>2.561</td>\n",
       "      <td>211.319643</td>\n",
       "      <td>8.106</td>\n",
       "      <td>0</td>\n",
       "      <td>0.00</td>\n",
       "    </tr>\n",
       "    <tr>\n",
       "      <th>4</th>\n",
       "      <td>1</td>\n",
       "      <td>05/03/2010</td>\n",
       "      <td>0</td>\n",
       "      <td>1554806.68</td>\n",
       "      <td>46.50</td>\n",
       "      <td>2.625</td>\n",
       "      <td>211.350143</td>\n",
       "      <td>8.106</td>\n",
       "      <td>0</td>\n",
       "      <td>0.00</td>\n",
       "    </tr>\n",
       "    <tr>\n",
       "      <th>...</th>\n",
       "      <td>...</td>\n",
       "      <td>...</td>\n",
       "      <td>...</td>\n",
       "      <td>...</td>\n",
       "      <td>...</td>\n",
       "      <td>...</td>\n",
       "      <td>...</td>\n",
       "      <td>...</td>\n",
       "      <td>...</td>\n",
       "      <td>...</td>\n",
       "    </tr>\n",
       "    <tr>\n",
       "      <th>6430</th>\n",
       "      <td>45</td>\n",
       "      <td>28/09/2012</td>\n",
       "      <td>0</td>\n",
       "      <td>713173.95</td>\n",
       "      <td>64.88</td>\n",
       "      <td>3.997</td>\n",
       "      <td>192.013558</td>\n",
       "      <td>8.684</td>\n",
       "      <td>0</td>\n",
       "      <td>9468.01</td>\n",
       "    </tr>\n",
       "    <tr>\n",
       "      <th>6431</th>\n",
       "      <td>45</td>\n",
       "      <td>05/10/2012</td>\n",
       "      <td>0</td>\n",
       "      <td>733455.07</td>\n",
       "      <td>64.89</td>\n",
       "      <td>3.985</td>\n",
       "      <td>192.170412</td>\n",
       "      <td>8.667</td>\n",
       "      <td>0</td>\n",
       "      <td>9659.00</td>\n",
       "    </tr>\n",
       "    <tr>\n",
       "      <th>6432</th>\n",
       "      <td>45</td>\n",
       "      <td>12/10/2012</td>\n",
       "      <td>0</td>\n",
       "      <td>734464.36</td>\n",
       "      <td>54.47</td>\n",
       "      <td>4.000</td>\n",
       "      <td>192.327265</td>\n",
       "      <td>8.667</td>\n",
       "      <td>0</td>\n",
       "      <td>6554.03</td>\n",
       "    </tr>\n",
       "    <tr>\n",
       "      <th>6433</th>\n",
       "      <td>45</td>\n",
       "      <td>19/10/2012</td>\n",
       "      <td>0</td>\n",
       "      <td>718125.53</td>\n",
       "      <td>56.47</td>\n",
       "      <td>3.969</td>\n",
       "      <td>192.330854</td>\n",
       "      <td>8.667</td>\n",
       "      <td>0</td>\n",
       "      <td>3982.42</td>\n",
       "    </tr>\n",
       "    <tr>\n",
       "      <th>6434</th>\n",
       "      <td>45</td>\n",
       "      <td>26/10/2012</td>\n",
       "      <td>0</td>\n",
       "      <td>760281.43</td>\n",
       "      <td>58.85</td>\n",
       "      <td>3.882</td>\n",
       "      <td>192.308899</td>\n",
       "      <td>8.667</td>\n",
       "      <td>0</td>\n",
       "      <td>5247.26</td>\n",
       "    </tr>\n",
       "  </tbody>\n",
       "</table>\n",
       "<p>6435 rows × 10 columns</p>\n",
       "</div>"
      ],
      "text/plain": [
       "      Store        Date  IsHoliday_x  Weekly_Sales  Temperature  Fuel_Price  \\\n",
       "0         1  05/02/2010            0    1643690.90        42.31       2.572   \n",
       "1         1  12/02/2010            1    1641957.44        38.51       2.548   \n",
       "2         1  19/02/2010            0    1611968.17        39.93       2.514   \n",
       "3         1  26/02/2010            0    1409727.59        46.63       2.561   \n",
       "4         1  05/03/2010            0    1554806.68        46.50       2.625   \n",
       "...     ...         ...          ...           ...          ...         ...   \n",
       "6430     45  28/09/2012            0     713173.95        64.88       3.997   \n",
       "6431     45  05/10/2012            0     733455.07        64.89       3.985   \n",
       "6432     45  12/10/2012            0     734464.36        54.47       4.000   \n",
       "6433     45  19/10/2012            0     718125.53        56.47       3.969   \n",
       "6434     45  26/10/2012            0     760281.43        58.85       3.882   \n",
       "\n",
       "             CPI  Unemployment  IsHoliday_y  MarkDown  \n",
       "0     211.096358         8.106            0      0.00  \n",
       "1     211.242170         8.106            1      0.00  \n",
       "2     211.289143         8.106            0      0.00  \n",
       "3     211.319643         8.106            0      0.00  \n",
       "4     211.350143         8.106            0      0.00  \n",
       "...          ...           ...          ...       ...  \n",
       "6430  192.013558         8.684            0   9468.01  \n",
       "6431  192.170412         8.667            0   9659.00  \n",
       "6432  192.327265         8.667            0   6554.03  \n",
       "6433  192.330854         8.667            0   3982.42  \n",
       "6434  192.308899         8.667            0   5247.26  \n",
       "\n",
       "[6435 rows x 10 columns]"
      ]
     },
     "execution_count": 435,
     "metadata": {},
     "output_type": "execute_result"
    }
   ],
   "source": [
    "# Para podermos fazer nossa análise, uniremos os df's sales e features\n",
    "# Podemos fazer isso pois deixamos as variáveis de interesse (Temperature, Fuel_Price, CPI, Unemployment, IsHoliday, MarkDown) (IsHoliday, Weekly_Sales)\n",
    "# em função de Store e Date\n",
    "\n",
    "sales_tot_features = pd.merge(sales_tot, features, how='inner', on=['Store', 'Date'])\n",
    "sales_tot_features"
   ]
  },
  {
   "cell_type": "code",
   "execution_count": 436,
   "metadata": {},
   "outputs": [
    {
     "data": {
      "text/html": [
       "<div>\n",
       "<style scoped>\n",
       "    .dataframe tbody tr th:only-of-type {\n",
       "        vertical-align: middle;\n",
       "    }\n",
       "\n",
       "    .dataframe tbody tr th {\n",
       "        vertical-align: top;\n",
       "    }\n",
       "\n",
       "    .dataframe thead th {\n",
       "        text-align: right;\n",
       "    }\n",
       "</style>\n",
       "<table border=\"1\" class=\"dataframe\">\n",
       "  <thead>\n",
       "    <tr style=\"text-align: right;\">\n",
       "      <th></th>\n",
       "      <th>Store</th>\n",
       "      <th>Date</th>\n",
       "      <th>IsHoliday</th>\n",
       "      <th>Weekly_Sales</th>\n",
       "      <th>Temperature</th>\n",
       "      <th>Fuel_Price</th>\n",
       "      <th>CPI</th>\n",
       "      <th>Unemployment</th>\n",
       "      <th>MarkDown</th>\n",
       "    </tr>\n",
       "  </thead>\n",
       "  <tbody>\n",
       "    <tr>\n",
       "      <th>0</th>\n",
       "      <td>1</td>\n",
       "      <td>05/02/2010</td>\n",
       "      <td>0</td>\n",
       "      <td>1643690.90</td>\n",
       "      <td>42.31</td>\n",
       "      <td>2.572</td>\n",
       "      <td>211.096358</td>\n",
       "      <td>8.106</td>\n",
       "      <td>0.00</td>\n",
       "    </tr>\n",
       "    <tr>\n",
       "      <th>1</th>\n",
       "      <td>1</td>\n",
       "      <td>12/02/2010</td>\n",
       "      <td>1</td>\n",
       "      <td>1641957.44</td>\n",
       "      <td>38.51</td>\n",
       "      <td>2.548</td>\n",
       "      <td>211.242170</td>\n",
       "      <td>8.106</td>\n",
       "      <td>0.00</td>\n",
       "    </tr>\n",
       "    <tr>\n",
       "      <th>2</th>\n",
       "      <td>1</td>\n",
       "      <td>19/02/2010</td>\n",
       "      <td>0</td>\n",
       "      <td>1611968.17</td>\n",
       "      <td>39.93</td>\n",
       "      <td>2.514</td>\n",
       "      <td>211.289143</td>\n",
       "      <td>8.106</td>\n",
       "      <td>0.00</td>\n",
       "    </tr>\n",
       "    <tr>\n",
       "      <th>3</th>\n",
       "      <td>1</td>\n",
       "      <td>26/02/2010</td>\n",
       "      <td>0</td>\n",
       "      <td>1409727.59</td>\n",
       "      <td>46.63</td>\n",
       "      <td>2.561</td>\n",
       "      <td>211.319643</td>\n",
       "      <td>8.106</td>\n",
       "      <td>0.00</td>\n",
       "    </tr>\n",
       "    <tr>\n",
       "      <th>4</th>\n",
       "      <td>1</td>\n",
       "      <td>05/03/2010</td>\n",
       "      <td>0</td>\n",
       "      <td>1554806.68</td>\n",
       "      <td>46.50</td>\n",
       "      <td>2.625</td>\n",
       "      <td>211.350143</td>\n",
       "      <td>8.106</td>\n",
       "      <td>0.00</td>\n",
       "    </tr>\n",
       "    <tr>\n",
       "      <th>...</th>\n",
       "      <td>...</td>\n",
       "      <td>...</td>\n",
       "      <td>...</td>\n",
       "      <td>...</td>\n",
       "      <td>...</td>\n",
       "      <td>...</td>\n",
       "      <td>...</td>\n",
       "      <td>...</td>\n",
       "      <td>...</td>\n",
       "    </tr>\n",
       "    <tr>\n",
       "      <th>6430</th>\n",
       "      <td>45</td>\n",
       "      <td>28/09/2012</td>\n",
       "      <td>0</td>\n",
       "      <td>713173.95</td>\n",
       "      <td>64.88</td>\n",
       "      <td>3.997</td>\n",
       "      <td>192.013558</td>\n",
       "      <td>8.684</td>\n",
       "      <td>9468.01</td>\n",
       "    </tr>\n",
       "    <tr>\n",
       "      <th>6431</th>\n",
       "      <td>45</td>\n",
       "      <td>05/10/2012</td>\n",
       "      <td>0</td>\n",
       "      <td>733455.07</td>\n",
       "      <td>64.89</td>\n",
       "      <td>3.985</td>\n",
       "      <td>192.170412</td>\n",
       "      <td>8.667</td>\n",
       "      <td>9659.00</td>\n",
       "    </tr>\n",
       "    <tr>\n",
       "      <th>6432</th>\n",
       "      <td>45</td>\n",
       "      <td>12/10/2012</td>\n",
       "      <td>0</td>\n",
       "      <td>734464.36</td>\n",
       "      <td>54.47</td>\n",
       "      <td>4.000</td>\n",
       "      <td>192.327265</td>\n",
       "      <td>8.667</td>\n",
       "      <td>6554.03</td>\n",
       "    </tr>\n",
       "    <tr>\n",
       "      <th>6433</th>\n",
       "      <td>45</td>\n",
       "      <td>19/10/2012</td>\n",
       "      <td>0</td>\n",
       "      <td>718125.53</td>\n",
       "      <td>56.47</td>\n",
       "      <td>3.969</td>\n",
       "      <td>192.330854</td>\n",
       "      <td>8.667</td>\n",
       "      <td>3982.42</td>\n",
       "    </tr>\n",
       "    <tr>\n",
       "      <th>6434</th>\n",
       "      <td>45</td>\n",
       "      <td>26/10/2012</td>\n",
       "      <td>0</td>\n",
       "      <td>760281.43</td>\n",
       "      <td>58.85</td>\n",
       "      <td>3.882</td>\n",
       "      <td>192.308899</td>\n",
       "      <td>8.667</td>\n",
       "      <td>5247.26</td>\n",
       "    </tr>\n",
       "  </tbody>\n",
       "</table>\n",
       "<p>6435 rows × 9 columns</p>\n",
       "</div>"
      ],
      "text/plain": [
       "      Store        Date  IsHoliday  Weekly_Sales  Temperature  Fuel_Price  \\\n",
       "0         1  05/02/2010          0    1643690.90        42.31       2.572   \n",
       "1         1  12/02/2010          1    1641957.44        38.51       2.548   \n",
       "2         1  19/02/2010          0    1611968.17        39.93       2.514   \n",
       "3         1  26/02/2010          0    1409727.59        46.63       2.561   \n",
       "4         1  05/03/2010          0    1554806.68        46.50       2.625   \n",
       "...     ...         ...        ...           ...          ...         ...   \n",
       "6430     45  28/09/2012          0     713173.95        64.88       3.997   \n",
       "6431     45  05/10/2012          0     733455.07        64.89       3.985   \n",
       "6432     45  12/10/2012          0     734464.36        54.47       4.000   \n",
       "6433     45  19/10/2012          0     718125.53        56.47       3.969   \n",
       "6434     45  26/10/2012          0     760281.43        58.85       3.882   \n",
       "\n",
       "             CPI  Unemployment  MarkDown  \n",
       "0     211.096358         8.106      0.00  \n",
       "1     211.242170         8.106      0.00  \n",
       "2     211.289143         8.106      0.00  \n",
       "3     211.319643         8.106      0.00  \n",
       "4     211.350143         8.106      0.00  \n",
       "...          ...           ...       ...  \n",
       "6430  192.013558         8.684   9468.01  \n",
       "6431  192.170412         8.667   9659.00  \n",
       "6432  192.327265         8.667   6554.03  \n",
       "6433  192.330854         8.667   3982.42  \n",
       "6434  192.308899         8.667   5247.26  \n",
       "\n",
       "[6435 rows x 9 columns]"
      ]
     },
     "execution_count": 436,
     "metadata": {},
     "output_type": "execute_result"
    }
   ],
   "source": [
    "# vemos que há duas colunas IsHoliday, portanto iremos deletar IsHoliday_y e renomear a que resta para IsHoliday\n",
    "\n",
    "del sales_tot_features['IsHoliday_y']\n",
    "\n",
    "sales_tot_features = sales_tot_features.rename(columns={'IsHoliday_x': 'IsHoliday'})\n",
    "\n",
    "sales_tot_features"
   ]
  },
  {
   "cell_type": "markdown",
   "metadata": {},
   "source": [
    "<a class=\"anchor\" id=\"section_3_5\"></a>\n",
    "### Verificação de outliers \n",
    "A existência de outliers pode atrapalhar a nossa análise. Como desejamos obter um modelo de previsão de vendas, há a possibildiade de que em feriados possa haver um número maior destas, assim havendo outliers em nosso conjunto de dados. Vamos testar essa hipótese, e, se ela for verdadeira, eliminaremos as linhas cujas datas são feriados."
   ]
  },
  {
   "cell_type": "code",
   "execution_count": 437,
   "metadata": {},
   "outputs": [
    {
     "name": "stdout",
     "output_type": "stream",
     "text": [
      "Média de vendas para feriados: 1122887.8923555554\n",
      "Média de vendas para não feriados: 1041256.3802088564\n",
      "Diferença percentual: 7.84%\n"
     ]
    }
   ],
   "source": [
    "#vamos calcular a média das vendas semanais apenas para feriados e sem feriados, assim como a diferença percentual entre essas médias\n",
    "\n",
    "media_vendas_feriados = sales_tot_features[sales_tot_features['IsHoliday'] == 1]['Weekly_Sales'].mean()\n",
    "media_vendas_nao_feriados = sales_tot_features[sales_tot_features['IsHoliday'] == 0]['Weekly_Sales'].mean()\n",
    "diferenca_percentual = (media_vendas_feriados - media_vendas_nao_feriados)/media_vendas_nao_feriados\n",
    "\n",
    "print(f\"Média de vendas para feriados: {media_vendas_feriados}\")\n",
    "print(f\"Média de vendas para não feriados: {media_vendas_nao_feriados}\")\n",
    "print(f\"Diferença percentual: {round(diferenca_percentual,ndigits=4)*100}%\")"
   ]
  },
  {
   "cell_type": "code",
   "execution_count": 438,
   "metadata": {},
   "outputs": [
    {
     "data": {
      "text/html": [
       "<div>\n",
       "<style scoped>\n",
       "    .dataframe tbody tr th:only-of-type {\n",
       "        vertical-align: middle;\n",
       "    }\n",
       "\n",
       "    .dataframe tbody tr th {\n",
       "        vertical-align: top;\n",
       "    }\n",
       "\n",
       "    .dataframe thead th {\n",
       "        text-align: right;\n",
       "    }\n",
       "</style>\n",
       "<table border=\"1\" class=\"dataframe\">\n",
       "  <thead>\n",
       "    <tr style=\"text-align: right;\">\n",
       "      <th></th>\n",
       "      <th>count</th>\n",
       "      <th>mean</th>\n",
       "      <th>std</th>\n",
       "      <th>min</th>\n",
       "      <th>25%</th>\n",
       "      <th>50%</th>\n",
       "      <th>75%</th>\n",
       "      <th>max</th>\n",
       "    </tr>\n",
       "    <tr>\n",
       "      <th>IsHoliday</th>\n",
       "      <th></th>\n",
       "      <th></th>\n",
       "      <th></th>\n",
       "      <th></th>\n",
       "      <th></th>\n",
       "      <th></th>\n",
       "      <th></th>\n",
       "      <th></th>\n",
       "    </tr>\n",
       "  </thead>\n",
       "  <tbody>\n",
       "    <tr>\n",
       "      <th>0</th>\n",
       "      <td>5985.0</td>\n",
       "      <td>1.041256e+06</td>\n",
       "      <td>558957.436147</td>\n",
       "      <td>209986.25</td>\n",
       "      <td>551378.3900</td>\n",
       "      <td>956211.20</td>\n",
       "      <td>1414343.530</td>\n",
       "      <td>3818686.45</td>\n",
       "    </tr>\n",
       "    <tr>\n",
       "      <th>1</th>\n",
       "      <td>450.0</td>\n",
       "      <td>1.122888e+06</td>\n",
       "      <td>627684.931884</td>\n",
       "      <td>215359.21</td>\n",
       "      <td>575865.4825</td>\n",
       "      <td>1018538.04</td>\n",
       "      <td>1555213.175</td>\n",
       "      <td>3004702.33</td>\n",
       "    </tr>\n",
       "  </tbody>\n",
       "</table>\n",
       "</div>"
      ],
      "text/plain": [
       "            count          mean            std        min          25%  \\\n",
       "IsHoliday                                                                \n",
       "0          5985.0  1.041256e+06  558957.436147  209986.25  551378.3900   \n",
       "1           450.0  1.122888e+06  627684.931884  215359.21  575865.4825   \n",
       "\n",
       "                  50%          75%         max  \n",
       "IsHoliday                                       \n",
       "0           956211.20  1414343.530  3818686.45  \n",
       "1          1018538.04  1555213.175  3004702.33  "
      ]
     },
     "execution_count": 438,
     "metadata": {},
     "output_type": "execute_result"
    }
   ],
   "source": [
    "# estatísticas descritivas das vendas semanais, dividas em semanas com feriado (1) e sem feriado (0)\n",
    "\n",
    "sales_tot_features.groupby('IsHoliday')['Weekly_Sales'].describe()"
   ]
  },
  {
   "cell_type": "code",
   "execution_count": 439,
   "metadata": {
    "scrolled": true
   },
   "outputs": [
    {
     "data": {
      "text/plain": [
       "<AxesSubplot:xlabel='IsHoliday', ylabel='Weekly_Sales'>"
      ]
     },
     "execution_count": 439,
     "metadata": {},
     "output_type": "execute_result"
    },
    {
     "data": {
      "image/png": "[encoded data removed]",
      "text/plain": [
       "<Figure size 432x288 with 1 Axes>"
      ]
     },
     "metadata": {
      "needs_background": "light"
     },
     "output_type": "display_data"
    }
   ],
   "source": [
    "# montaremos um boxplot para verificarmos se há outliers\n",
    "\n",
    "sns.boxplot(x='IsHoliday', y='Weekly_Sales', data=sales_tot_features)"
   ]
  },
  {
   "cell_type": "markdown",
   "metadata": {},
   "source": [
    "Como há uma diferença de apenas 7,84% entre as médias de vendas semanais de semanas com e sem feriado, e observamos que os boxplots estão parecidos, não havendo outliers nas semanas com feriado, não removeremos os dados das semanas com feriado de nossa análise."
   ]
  },
  {
   "cell_type": "code",
   "execution_count": 440,
   "metadata": {},
   "outputs": [
    {
     "data": {
      "text/html": [
       "<div>\n",
       "<style scoped>\n",
       "    .dataframe tbody tr th:only-of-type {\n",
       "        vertical-align: middle;\n",
       "    }\n",
       "\n",
       "    .dataframe tbody tr th {\n",
       "        vertical-align: top;\n",
       "    }\n",
       "\n",
       "    .dataframe thead th {\n",
       "        text-align: right;\n",
       "    }\n",
       "</style>\n",
       "<table border=\"1\" class=\"dataframe\">\n",
       "  <thead>\n",
       "    <tr style=\"text-align: right;\">\n",
       "      <th></th>\n",
       "      <th>Store</th>\n",
       "      <th>Date</th>\n",
       "      <th>IsHoliday</th>\n",
       "      <th>Weekly_Sales</th>\n",
       "      <th>Temperature</th>\n",
       "      <th>Fuel_Price</th>\n",
       "      <th>CPI</th>\n",
       "      <th>Unemployment</th>\n",
       "      <th>MarkDown</th>\n",
       "    </tr>\n",
       "  </thead>\n",
       "  <tbody>\n",
       "    <tr>\n",
       "      <th>0</th>\n",
       "      <td>1</td>\n",
       "      <td>05/02/2010</td>\n",
       "      <td>0</td>\n",
       "      <td>1643690.90</td>\n",
       "      <td>42.31</td>\n",
       "      <td>2.572</td>\n",
       "      <td>211.096358</td>\n",
       "      <td>8.106</td>\n",
       "      <td>0.00</td>\n",
       "    </tr>\n",
       "    <tr>\n",
       "      <th>1</th>\n",
       "      <td>1</td>\n",
       "      <td>12/02/2010</td>\n",
       "      <td>1</td>\n",
       "      <td>1641957.44</td>\n",
       "      <td>38.51</td>\n",
       "      <td>2.548</td>\n",
       "      <td>211.242170</td>\n",
       "      <td>8.106</td>\n",
       "      <td>0.00</td>\n",
       "    </tr>\n",
       "    <tr>\n",
       "      <th>2</th>\n",
       "      <td>1</td>\n",
       "      <td>19/02/2010</td>\n",
       "      <td>0</td>\n",
       "      <td>1611968.17</td>\n",
       "      <td>39.93</td>\n",
       "      <td>2.514</td>\n",
       "      <td>211.289143</td>\n",
       "      <td>8.106</td>\n",
       "      <td>0.00</td>\n",
       "    </tr>\n",
       "    <tr>\n",
       "      <th>3</th>\n",
       "      <td>1</td>\n",
       "      <td>26/02/2010</td>\n",
       "      <td>0</td>\n",
       "      <td>1409727.59</td>\n",
       "      <td>46.63</td>\n",
       "      <td>2.561</td>\n",
       "      <td>211.319643</td>\n",
       "      <td>8.106</td>\n",
       "      <td>0.00</td>\n",
       "    </tr>\n",
       "    <tr>\n",
       "      <th>4</th>\n",
       "      <td>1</td>\n",
       "      <td>05/03/2010</td>\n",
       "      <td>0</td>\n",
       "      <td>1554806.68</td>\n",
       "      <td>46.50</td>\n",
       "      <td>2.625</td>\n",
       "      <td>211.350143</td>\n",
       "      <td>8.106</td>\n",
       "      <td>0.00</td>\n",
       "    </tr>\n",
       "    <tr>\n",
       "      <th>...</th>\n",
       "      <td>...</td>\n",
       "      <td>...</td>\n",
       "      <td>...</td>\n",
       "      <td>...</td>\n",
       "      <td>...</td>\n",
       "      <td>...</td>\n",
       "      <td>...</td>\n",
       "      <td>...</td>\n",
       "      <td>...</td>\n",
       "    </tr>\n",
       "    <tr>\n",
       "      <th>6430</th>\n",
       "      <td>45</td>\n",
       "      <td>28/09/2012</td>\n",
       "      <td>0</td>\n",
       "      <td>713173.95</td>\n",
       "      <td>64.88</td>\n",
       "      <td>3.997</td>\n",
       "      <td>192.013558</td>\n",
       "      <td>8.684</td>\n",
       "      <td>9468.01</td>\n",
       "    </tr>\n",
       "    <tr>\n",
       "      <th>6431</th>\n",
       "      <td>45</td>\n",
       "      <td>05/10/2012</td>\n",
       "      <td>0</td>\n",
       "      <td>733455.07</td>\n",
       "      <td>64.89</td>\n",
       "      <td>3.985</td>\n",
       "      <td>192.170412</td>\n",
       "      <td>8.667</td>\n",
       "      <td>9659.00</td>\n",
       "    </tr>\n",
       "    <tr>\n",
       "      <th>6432</th>\n",
       "      <td>45</td>\n",
       "      <td>12/10/2012</td>\n",
       "      <td>0</td>\n",
       "      <td>734464.36</td>\n",
       "      <td>54.47</td>\n",
       "      <td>4.000</td>\n",
       "      <td>192.327265</td>\n",
       "      <td>8.667</td>\n",
       "      <td>6554.03</td>\n",
       "    </tr>\n",
       "    <tr>\n",
       "      <th>6433</th>\n",
       "      <td>45</td>\n",
       "      <td>19/10/2012</td>\n",
       "      <td>0</td>\n",
       "      <td>718125.53</td>\n",
       "      <td>56.47</td>\n",
       "      <td>3.969</td>\n",
       "      <td>192.330854</td>\n",
       "      <td>8.667</td>\n",
       "      <td>3982.42</td>\n",
       "    </tr>\n",
       "    <tr>\n",
       "      <th>6434</th>\n",
       "      <td>45</td>\n",
       "      <td>26/10/2012</td>\n",
       "      <td>0</td>\n",
       "      <td>760281.43</td>\n",
       "      <td>58.85</td>\n",
       "      <td>3.882</td>\n",
       "      <td>192.308899</td>\n",
       "      <td>8.667</td>\n",
       "      <td>5247.26</td>\n",
       "    </tr>\n",
       "  </tbody>\n",
       "</table>\n",
       "<p>6435 rows × 9 columns</p>\n",
       "</div>"
      ],
      "text/plain": [
       "      Store        Date  IsHoliday  Weekly_Sales  Temperature  Fuel_Price  \\\n",
       "0         1  05/02/2010          0    1643690.90        42.31       2.572   \n",
       "1         1  12/02/2010          1    1641957.44        38.51       2.548   \n",
       "2         1  19/02/2010          0    1611968.17        39.93       2.514   \n",
       "3         1  26/02/2010          0    1409727.59        46.63       2.561   \n",
       "4         1  05/03/2010          0    1554806.68        46.50       2.625   \n",
       "...     ...         ...        ...           ...          ...         ...   \n",
       "6430     45  28/09/2012          0     713173.95        64.88       3.997   \n",
       "6431     45  05/10/2012          0     733455.07        64.89       3.985   \n",
       "6432     45  12/10/2012          0     734464.36        54.47       4.000   \n",
       "6433     45  19/10/2012          0     718125.53        56.47       3.969   \n",
       "6434     45  26/10/2012          0     760281.43        58.85       3.882   \n",
       "\n",
       "             CPI  Unemployment  MarkDown  \n",
       "0     211.096358         8.106      0.00  \n",
       "1     211.242170         8.106      0.00  \n",
       "2     211.289143         8.106      0.00  \n",
       "3     211.319643         8.106      0.00  \n",
       "4     211.350143         8.106      0.00  \n",
       "...          ...           ...       ...  \n",
       "6430  192.013558         8.684   9468.01  \n",
       "6431  192.170412         8.667   9659.00  \n",
       "6432  192.327265         8.667   6554.03  \n",
       "6433  192.330854         8.667   3982.42  \n",
       "6434  192.308899         8.667   5247.26  \n",
       "\n",
       "[6435 rows x 9 columns]"
      ]
     },
     "execution_count": 440,
     "metadata": {},
     "output_type": "execute_result"
    }
   ],
   "source": [
    "# como esse será o data frame que utilizaremos daqui em diante para nosso modelo, renomearemos-no para 'df', para facilitar\n",
    "\n",
    "df = sales_tot_features\n",
    "df"
   ]
  },
  {
   "cell_type": "markdown",
   "metadata": {},
   "source": [
    "<a class=\"anchor\" id=\"chapter4\"></a>\n",
    "## 4. Modelagem \n",
    "    Daremos início ao nosso modelo de previsão de vendas."
   ]
  },
  {
   "cell_type": "markdown",
   "metadata": {},
   "source": [
    "<a class=\"anchor\" id=\"section_4_1\"></a>\n",
    "##  Modelo Decision Tree Regression\n",
    "    Daremos início à previsão por meio do modelo Decision Tree Regression, no qual o princípio do aprendizado de máquina é  por árvore de decisão. \n",
    "    Faremos um modelo no qual as vendas semanais será a variável dependente de uma outra variável de nosso conjunto de      dados."
   ]
  },
  {
   "cell_type": "markdown",
   "metadata": {},
   "source": [
    "<a class=\"anchor\" id=\"section_4_1_1\"></a>\n",
    "### Vendas x Temperatura\n",
    "Iniciaremos usando a variável Temperature como variável independente, ou seja, faremos uma previsão das vendas em função da temperatura. "
   ]
  },
  {
   "cell_type": "code",
   "execution_count": 441,
   "metadata": {},
   "outputs": [],
   "source": [
    "# criaremos uma série para cada variável desejada: a variável dependente será Y e a independente X\n",
    "\n",
    "X = df['Temperature'].values\n",
    "y = df['Weekly_Sales'].values"
   ]
  },
  {
   "cell_type": "code",
   "execution_count": 442,
   "metadata": {},
   "outputs": [],
   "source": [
    "# Dividiremos cada série em duas: training e test. Uma será utilizada para treinar o modelo com seus dados, e a outra servirá para\n",
    "# ser comparada com os resultados fornecidos pelo nosso modelo de previsão. Usaremos 5% (322 linhas) do df como teste.\n",
    "# Importaremos a função train_test_split para fazermos isso\n",
    "\n",
    "from sklearn.model_selection import train_test_split\n",
    "X_train, X_test, y_train, y_test = train_test_split(X, y, test_size = 0.05)"
   ]
  },
  {
   "cell_type": "code",
   "execution_count": 443,
   "metadata": {},
   "outputs": [
    {
     "data": {
      "text/plain": [
       "DecisionTreeRegressor()"
      ]
     },
     "execution_count": 443,
     "metadata": {},
     "output_type": "execute_result"
    }
   ],
   "source": [
    "# Treinando nosso conjunto de dados no modelo\n",
    "\n",
    "from sklearn.tree import DecisionTreeRegressor\n",
    "regressor = DecisionTreeRegressor()\n",
    "regressor.fit(X_train.reshape(-1,1), y_train.reshape(-1,1))"
   ]
  },
  {
   "cell_type": "code",
   "execution_count": 444,
   "metadata": {},
   "outputs": [],
   "source": [
    "# Fornecimento da previsão da variável dependente (vendas semanais)\n",
    "\n",
    "y_pred = regressor.predict(X_test.reshape(-1,1))"
   ]
  },
  {
   "cell_type": "code",
   "execution_count": 445,
   "metadata": {},
   "outputs": [
    {
     "data": {
      "text/html": [
       "<div>\n",
       "<style scoped>\n",
       "    .dataframe tbody tr th:only-of-type {\n",
       "        vertical-align: middle;\n",
       "    }\n",
       "\n",
       "    .dataframe tbody tr th {\n",
       "        vertical-align: top;\n",
       "    }\n",
       "\n",
       "    .dataframe thead th {\n",
       "        text-align: right;\n",
       "    }\n",
       "</style>\n",
       "<table border=\"1\" class=\"dataframe\">\n",
       "  <thead>\n",
       "    <tr style=\"text-align: right;\">\n",
       "      <th></th>\n",
       "      <th>Valores reais</th>\n",
       "      <th>Valores previstos</th>\n",
       "    </tr>\n",
       "  </thead>\n",
       "  <tbody>\n",
       "    <tr>\n",
       "      <th>0</th>\n",
       "      <td>1772192.42</td>\n",
       "      <td>5.997594e+05</td>\n",
       "    </tr>\n",
       "    <tr>\n",
       "      <th>1</th>\n",
       "      <td>1283849.38</td>\n",
       "      <td>1.437590e+06</td>\n",
       "    </tr>\n",
       "    <tr>\n",
       "      <th>2</th>\n",
       "      <td>618377.79</td>\n",
       "      <td>8.337541e+05</td>\n",
       "    </tr>\n",
       "    <tr>\n",
       "      <th>3</th>\n",
       "      <td>2191767.76</td>\n",
       "      <td>7.659187e+05</td>\n",
       "    </tr>\n",
       "    <tr>\n",
       "      <th>4</th>\n",
       "      <td>2010216.49</td>\n",
       "      <td>9.374330e+05</td>\n",
       "    </tr>\n",
       "    <tr>\n",
       "      <th>...</th>\n",
       "      <td>...</td>\n",
       "      <td>...</td>\n",
       "    </tr>\n",
       "    <tr>\n",
       "      <th>317</th>\n",
       "      <td>1875686.44</td>\n",
       "      <td>7.766617e+05</td>\n",
       "    </tr>\n",
       "    <tr>\n",
       "      <th>318</th>\n",
       "      <td>335858.11</td>\n",
       "      <td>1.113442e+06</td>\n",
       "    </tr>\n",
       "    <tr>\n",
       "      <th>319</th>\n",
       "      <td>1215354.38</td>\n",
       "      <td>9.419409e+05</td>\n",
       "    </tr>\n",
       "    <tr>\n",
       "      <th>320</th>\n",
       "      <td>1024778.23</td>\n",
       "      <td>7.135311e+05</td>\n",
       "    </tr>\n",
       "    <tr>\n",
       "      <th>321</th>\n",
       "      <td>953533.95</td>\n",
       "      <td>6.163452e+05</td>\n",
       "    </tr>\n",
       "  </tbody>\n",
       "</table>\n",
       "<p>322 rows × 2 columns</p>\n",
       "</div>"
      ],
      "text/plain": [
       "     Valores reais  Valores previstos\n",
       "0       1772192.42       5.997594e+05\n",
       "1       1283849.38       1.437590e+06\n",
       "2        618377.79       8.337541e+05\n",
       "3       2191767.76       7.659187e+05\n",
       "4       2010216.49       9.374330e+05\n",
       "..             ...                ...\n",
       "317     1875686.44       7.766617e+05\n",
       "318      335858.11       1.113442e+06\n",
       "319     1215354.38       9.419409e+05\n",
       "320     1024778.23       7.135311e+05\n",
       "321      953533.95       6.163452e+05\n",
       "\n",
       "[322 rows x 2 columns]"
      ]
     },
     "execution_count": 445,
     "metadata": {},
     "output_type": "execute_result"
    }
   ],
   "source": [
    "# Comparação dos valores previstos com os valores reais\n",
    "\n",
    "comp = pd.DataFrame({'Valores reais':y_test.reshape(-1), 'Valores previstos':y_pred.reshape(-1)})\n",
    "comp"
   ]
  },
  {
   "cell_type": "code",
   "execution_count": 446,
   "metadata": {},
   "outputs": [
    {
     "data": {
      "text/html": [
       "<div>\n",
       "<style scoped>\n",
       "    .dataframe tbody tr th:only-of-type {\n",
       "        vertical-align: middle;\n",
       "    }\n",
       "\n",
       "    .dataframe tbody tr th {\n",
       "        vertical-align: top;\n",
       "    }\n",
       "\n",
       "    .dataframe thead th {\n",
       "        text-align: right;\n",
       "    }\n",
       "</style>\n",
       "<table border=\"1\" class=\"dataframe\">\n",
       "  <thead>\n",
       "    <tr style=\"text-align: right;\">\n",
       "      <th></th>\n",
       "      <th>Valores reais</th>\n",
       "      <th>Valores previstos</th>\n",
       "    </tr>\n",
       "  </thead>\n",
       "  <tbody>\n",
       "    <tr>\n",
       "      <th>0</th>\n",
       "      <td>1772192.42</td>\n",
       "      <td>599759.45</td>\n",
       "    </tr>\n",
       "    <tr>\n",
       "      <th>1</th>\n",
       "      <td>1283849.38</td>\n",
       "      <td>1437590.40</td>\n",
       "    </tr>\n",
       "    <tr>\n",
       "      <th>2</th>\n",
       "      <td>618377.79</td>\n",
       "      <td>833754.07</td>\n",
       "    </tr>\n",
       "    <tr>\n",
       "      <th>3</th>\n",
       "      <td>2191767.76</td>\n",
       "      <td>765918.71</td>\n",
       "    </tr>\n",
       "    <tr>\n",
       "      <th>4</th>\n",
       "      <td>2010216.49</td>\n",
       "      <td>937433.04</td>\n",
       "    </tr>\n",
       "    <tr>\n",
       "      <th>...</th>\n",
       "      <td>...</td>\n",
       "      <td>...</td>\n",
       "    </tr>\n",
       "    <tr>\n",
       "      <th>317</th>\n",
       "      <td>1875686.44</td>\n",
       "      <td>776661.74</td>\n",
       "    </tr>\n",
       "    <tr>\n",
       "      <th>318</th>\n",
       "      <td>335858.11</td>\n",
       "      <td>1113442.29</td>\n",
       "    </tr>\n",
       "    <tr>\n",
       "      <th>319</th>\n",
       "      <td>1215354.38</td>\n",
       "      <td>941940.95</td>\n",
       "    </tr>\n",
       "    <tr>\n",
       "      <th>320</th>\n",
       "      <td>1024778.23</td>\n",
       "      <td>713531.08</td>\n",
       "    </tr>\n",
       "    <tr>\n",
       "      <th>321</th>\n",
       "      <td>953533.95</td>\n",
       "      <td>616345.25</td>\n",
       "    </tr>\n",
       "  </tbody>\n",
       "</table>\n",
       "<p>322 rows × 2 columns</p>\n",
       "</div>"
      ],
      "text/plain": [
       "     Valores reais  Valores previstos\n",
       "0       1772192.42          599759.45\n",
       "1       1283849.38         1437590.40\n",
       "2        618377.79          833754.07\n",
       "3       2191767.76          765918.71\n",
       "4       2010216.49          937433.04\n",
       "..             ...                ...\n",
       "317     1875686.44          776661.74\n",
       "318      335858.11         1113442.29\n",
       "319     1215354.38          941940.95\n",
       "320     1024778.23          713531.08\n",
       "321      953533.95          616345.25\n",
       "\n",
       "[322 rows x 2 columns]"
      ]
     },
     "execution_count": 446,
     "metadata": {},
     "output_type": "execute_result"
    }
   ],
   "source": [
    "# Mudaremos o formato da coluna 'Valores previstos', para visualizarmos o número completo e não em notação científica\n",
    "\n",
    "comp['Valores previstos'] = comp['Valores previstos'].map(lambda x: '{:.2f}'.format(x)).astype(float)\n",
    "comp"
   ]
  },
  {
   "cell_type": "markdown",
   "metadata": {},
   "source": [
    "<a class=\"anchor\" id=\"section_4_1_1_1\"></a>\n",
    "### Medidas de avaliação do modelo Vendas x Temperatura"
   ]
  },
  {
   "cell_type": "code",
   "execution_count": 447,
   "metadata": {
    "scrolled": false
   },
   "outputs": [
    {
     "data": {
      "text/html": [
       "<div>\n",
       "<style scoped>\n",
       "    .dataframe tbody tr th:only-of-type {\n",
       "        vertical-align: middle;\n",
       "    }\n",
       "\n",
       "    .dataframe tbody tr th {\n",
       "        vertical-align: top;\n",
       "    }\n",
       "\n",
       "    .dataframe thead th {\n",
       "        text-align: right;\n",
       "    }\n",
       "</style>\n",
       "<table border=\"1\" class=\"dataframe\">\n",
       "  <thead>\n",
       "    <tr style=\"text-align: right;\">\n",
       "      <th></th>\n",
       "      <th>Valores reais</th>\n",
       "      <th>Valores previstos</th>\n",
       "      <th>dif</th>\n",
       "    </tr>\n",
       "  </thead>\n",
       "  <tbody>\n",
       "    <tr>\n",
       "      <th>0</th>\n",
       "      <td>1772192.42</td>\n",
       "      <td>599759.45</td>\n",
       "      <td>-1172432.97</td>\n",
       "    </tr>\n",
       "    <tr>\n",
       "      <th>1</th>\n",
       "      <td>1283849.38</td>\n",
       "      <td>1437590.40</td>\n",
       "      <td>153741.02</td>\n",
       "    </tr>\n",
       "    <tr>\n",
       "      <th>2</th>\n",
       "      <td>618377.79</td>\n",
       "      <td>833754.07</td>\n",
       "      <td>215376.28</td>\n",
       "    </tr>\n",
       "    <tr>\n",
       "      <th>3</th>\n",
       "      <td>2191767.76</td>\n",
       "      <td>765918.71</td>\n",
       "      <td>-1425849.05</td>\n",
       "    </tr>\n",
       "    <tr>\n",
       "      <th>4</th>\n",
       "      <td>2010216.49</td>\n",
       "      <td>937433.04</td>\n",
       "      <td>-1072783.45</td>\n",
       "    </tr>\n",
       "    <tr>\n",
       "      <th>...</th>\n",
       "      <td>...</td>\n",
       "      <td>...</td>\n",
       "      <td>...</td>\n",
       "    </tr>\n",
       "    <tr>\n",
       "      <th>317</th>\n",
       "      <td>1875686.44</td>\n",
       "      <td>776661.74</td>\n",
       "      <td>-1099024.70</td>\n",
       "    </tr>\n",
       "    <tr>\n",
       "      <th>318</th>\n",
       "      <td>335858.11</td>\n",
       "      <td>1113442.29</td>\n",
       "      <td>777584.18</td>\n",
       "    </tr>\n",
       "    <tr>\n",
       "      <th>319</th>\n",
       "      <td>1215354.38</td>\n",
       "      <td>941940.95</td>\n",
       "      <td>-273413.43</td>\n",
       "    </tr>\n",
       "    <tr>\n",
       "      <th>320</th>\n",
       "      <td>1024778.23</td>\n",
       "      <td>713531.08</td>\n",
       "      <td>-311247.15</td>\n",
       "    </tr>\n",
       "    <tr>\n",
       "      <th>321</th>\n",
       "      <td>953533.95</td>\n",
       "      <td>616345.25</td>\n",
       "      <td>-337188.70</td>\n",
       "    </tr>\n",
       "  </tbody>\n",
       "</table>\n",
       "<p>322 rows × 3 columns</p>\n",
       "</div>"
      ],
      "text/plain": [
       "     Valores reais  Valores previstos         dif\n",
       "0       1772192.42          599759.45 -1172432.97\n",
       "1       1283849.38         1437590.40   153741.02\n",
       "2        618377.79          833754.07   215376.28\n",
       "3       2191767.76          765918.71 -1425849.05\n",
       "4       2010216.49          937433.04 -1072783.45\n",
       "..             ...                ...         ...\n",
       "317     1875686.44          776661.74 -1099024.70\n",
       "318      335858.11         1113442.29   777584.18\n",
       "319     1215354.38          941940.95  -273413.43\n",
       "320     1024778.23          713531.08  -311247.15\n",
       "321      953533.95          616345.25  -337188.70\n",
       "\n",
       "[322 rows x 3 columns]"
      ]
     },
     "execution_count": 447,
     "metadata": {},
     "output_type": "execute_result"
    }
   ],
   "source": [
    "# Criaremos uma coluna com a diferença entre o valor previsto e o valor real \n",
    "\n",
    "comp['dif'] = comp['Valores previstos'] - comp['Valores reais']\n",
    "comp"
   ]
  },
  {
   "cell_type": "code",
   "execution_count": 448,
   "metadata": {},
   "outputs": [
    {
     "data": {
      "text/plain": [
       "-113979.88720496897"
      ]
     },
     "execution_count": 448,
     "metadata": {},
     "output_type": "execute_result"
    }
   ],
   "source": [
    "# média da soma das diferenças\n",
    "\n",
    "comp['dif'].mean()"
   ]
  },
  {
   "cell_type": "markdown",
   "metadata": {},
   "source": [
    "A média é negativa, o que nos dá indícios de que o modelo é ruim"
   ]
  },
  {
   "cell_type": "code",
   "execution_count": 449,
   "metadata": {
    "scrolled": false
   },
   "outputs": [
    {
     "data": {
      "image/png": "[encoded data removed]",
      "text/plain": [
       "<Figure size 432x288 with 1 Axes>"
      ]
     },
     "metadata": {
      "needs_background": "light"
     },
     "output_type": "display_data"
    },
    {
     "data": {
      "image/png": "[encoded data removed]",
      "text/plain": [
       "<Figure size 432x288 with 1 Axes>"
      ]
     },
     "metadata": {
      "needs_background": "light"
     },
     "output_type": "display_data"
    }
   ],
   "source": [
    "# Montagem de dois gráficos que mostram a relação entre as variáveis, um de dispersão e outro de linha\n",
    "\n",
    "# gráfico de dispersão\n",
    "\n",
    "X_grid = np.arange(min(X), max(X), 0.01)\n",
    "X_grid = X_grid.reshape((len(X_grid), 1))\n",
    "plt.scatter(X_test, y_test, color = 'red')\n",
    "plt.scatter(X_test, y_pred, color = 'green')\n",
    "plt.title('Decision Tree Regression')\n",
    "plt.xlabel('Temperature')\n",
    "plt.ylabel('Weekly_Sales')\n",
    "plt.show()\n",
    "\n",
    "# gráfico de linhas\n",
    "\n",
    "plt.plot(X_grid, regressor.predict(X_grid), color = 'gray')\n",
    "plt.title('Decision Tree Regression')\n",
    "plt.xlabel('Temperature')\n",
    "plt.ylabel('Weekly_Sales')\n",
    "plt.show()"
   ]
  },
  {
   "cell_type": "code",
   "execution_count": 450,
   "metadata": {
    "scrolled": false
   },
   "outputs": [
    {
     "data": {
      "application/vnd.plotly.v1+json": {
       "config": {
        "plotlyServerURL": "https://plot.ly"
       },
       "data": [
        {
         "hovertemplate": "variable=Valores reais<br>index=%{x}<br>value=%{y}<extra></extra>",
         "legendgroup": "Valores reais",
         "line": {
          "color": "#636efa",
          "dash": "solid"
         },
         "marker": {
          "symbol": "circle"
         },
         "mode": "lines",
         "name": "Valores reais",
         "orientation": "v",
         "showlegend": true,
         "type": "scatter",
         "x": [
          0,
          1,
          2,
          3,
          4,
          5,
          6,
          7,
          8,
          9,
          10,
          11,
          12,
          13,
          14,
          15,
          16,
          17,
          18,
          19,
          20,
          21,
          22,
          23,
          24,
          25,
          26,
          27,
          28,
          29,
          30,
          31,
          32,
          33,
          34,
          35,
          36,
          37,
          38,
          39,
          40,
          41,
          42,
          43,
          44,
          45,
          46,
          47,
          48,
          49,
          50,
          51,
          52,
          53,
          54,
          55,
          56,
          57,
          58,
          59,
          60,
          61,
          62,
          63,
          64,
          65,
          66,
          67,
          68,
          69,
          70,
          71,
          72,
          73,
          74,
          75,
          76,
          77,
          78,
          79,
          80,
          81,
          82,
          83,
          84,
          85,
          86,
          87,
          88,
          89,
          90,
          91,
          92,
          93,
          94,
          95,
          96,
          97,
          98,
          99,
          100,
          101,
          102,
          103,
          104,
          105,
          106,
          107,
          108,
          109,
          110,
          111,
          112,
          113,
          114,
          115,
          116,
          117,
          118,
          119,
          120,
          121,
          122,
          123,
          124,
          125,
          126,
          127,
          128,
          129,
          130,
          131,
          132,
          133,
          134,
          135,
          136,
          137,
          138,
          139,
          140,
          141,
          142,
          143,
          144,
          145,
          146,
          147,
          148,
          149,
          150,
          151,
          152,
          153,
          154,
          155,
          156,
          157,
          158,
          159,
          160,
          161,
          162,
          163,
          164,
          165,
          166,
          167,
          168,
          169,
          170,
          171,
          172,
          173,
          174,
          175,
          176,
          177,
          178,
          179,
          180,
          181,
          182,
          183,
          184,
          185,
          186,
          187,
          188,
          189,
          190,
          191,
          192,
          193,
          194,
          195,
          196,
          197,
          198,
          199,
          200,
          201,
          202,
          203,
          204,
          205,
          206,
          207,
          208,
          209,
          210,
          211,
          212,
          213,
          214,
          215,
          216,
          217,
          218,
          219,
          220,
          221,
          222,
          223,
          224,
          225,
          226,
          227,
          228,
          229,
          230,
          231,
          232,
          233,
          234,
          235,
          236,
          237,
          238,
          239,
          240,
          241,
          242,
          243,
          244,
          245,
          246,
          247,
          248,
          249,
          250,
          251,
          252,
          253,
          254,
          255,
          256,
          257,
          258,
          259,
          260,
          261,
          262,
          263,
          264,
          265,
          266,
          267,
          268,
          269,
          270,
          271,
          272,
          273,
          274,
          275,
          276,
          277,
          278,
          279,
          280,
          281,
          282,
          283,
          284,
          285,
          286,
          287,
          288,
          289,
          290,
          291,
          292,
          293,
          294,
          295,
          296,
          297,
          298,
          299,
          300,
          301,
          302,
          303,
          304,
          305,
          306,
          307,
          308,
          309,
          310,
          311,
          312,
          313,
          314,
          315,
          316,
          317,
          318,
          319,
          320,
          321
         ],
         "xaxis": "x",
         "y": [
          1772192.42,
          1283849.38,
          618377.79,
          2191767.7600000002,
          2010216.49,
          239198.36,
          506343.83,
          872288.46,
          769319.04,
          510425.4,
          1836595.58,
          948964.99,
          1290684.95,
          248603.3,
          800714,
          516402.10000000003,
          1417922.3699999999,
          1375307.54,
          797523.04,
          753060.78,
          1703047.74,
          1422711.6,
          1439607.35,
          1842555.32,
          651768.91,
          1037861.11,
          954681.56,
          595421.23,
          726422.55,
          432424.85,
          1866369.93,
          719737.25,
          658600.05,
          307944.37,
          855882.57,
          780444.94,
          730899.37,
          1392093.04,
          1522421.07,
          1396150.15,
          1445249.09,
          1333315.03,
          1327719.34,
          1021766.75,
          1310973.06,
          1811606.21,
          304300.91,
          975500.87,
          454694.21,
          1625883.71,
          357897.18,
          1388118.53,
          599730.07,
          483660.15,
          1613773.9,
          2094373,
          395195.65,
          541071.29,
          1443206.46,
          575317.38,
          605960.2,
          1430378.67,
          2187765.28,
          2031406.41,
          1069851.59,
          431985.36,
          722120.04,
          955766.33,
          772036.6,
          856796.1,
          2313861.81,
          1057295.87,
          1426622.65,
          1047178.91,
          466962.04,
          1213860.61,
          1659221.99,
          1402372.09,
          510787.46,
          942868.38,
          897032.1900000001,
          939158.25,
          940554.34,
          458343.7,
          322405.13,
          1327405.42,
          1182733,
          436070.45,
          497374.57,
          2135143.87,
          1350059.35,
          2103455.75,
          1334627.96,
          417528.26,
          1419911.91,
          2049860.26,
          1710923.94,
          1156377.47,
          1483574.38,
          1805999.79,
          2205919.86,
          465279.68,
          922341.82,
          778178.53,
          563460.77,
          1344723.97,
          448998.73,
          1950826.32,
          329033.66,
          822668.23,
          2066219.3,
          1848186.58,
          322868.56,
          1928773.82,
          823220.43,
          1059781.78,
          1927664.1099999999,
          970307.83,
          1350441.68,
          356138.79,
          725729.51,
          1246062.17,
          1129422.86,
          1877358.86,
          1707298.1400000001,
          1254587.84,
          254412.34,
          1370659.54,
          1979247.1199999999,
          360009.94,
          643854.17,
          1781717.71,
          372673.61,
          1159212.1,
          1408082.96,
          1069533.17,
          1757923.88,
          302881.64,
          365730.76,
          1297452,
          473773.27,
          801098.43,
          1257778.34,
          1022571.25,
          310531.04,
          586841.77,
          653043.44,
          270497.51,
          620908.1799999999,
          1890870.75,
          586108.13,
          1198670.19,
          495951,
          895020.48,
          1622150.33,
          2066541.8599999999,
          1853657.5999999999,
          911106.22,
          1853161.99,
          597855.0700000001,
          428958.53,
          297753.49,
          610940.9400000001,
          726997.84,
          1087051.26,
          1425078.59,
          734464.36,
          651178.2,
          773586.49,
          2103322.68,
          2309025.16,
          1892775.94,
          1098286.61,
          1595901.87,
          699464.4299999999,
          1864637.89,
          2271614.76,
          1007385.36,
          981210.57,
          430878.27999999997,
          589554.29,
          813630.44,
          1182694.95,
          290494.85,
          1079314.52,
          1649604.63,
          1376520.0999999999,
          1425299.37,
          1331137.96,
          298080.45,
          1548033.78,
          1788227.6,
          1120619.32,
          1508068.77,
          1817914.71,
          1848953.48,
          911807.02,
          539337.87,
          2004330.3,
          343763.17,
          1029248.22,
          698529.64,
          1316385.43,
          1866681.57,
          1424720.27,
          894865.3,
          233543.08000000002,
          1457270.16,
          859922.19,
          325041.68,
          1415204.88,
          2214477.06,
          763479.9,
          1390122.11,
          1304584.4,
          916446.02,
          600395.73,
          1374301.34,
          303289.55,
          392654.26,
          1796949.59,
          1910092.3699999999,
          279643.43,
          1751369.75,
          1895583.12,
          1921432.16,
          438760.62,
          999298.43,
          471088.88,
          293155.08,
          469311.17,
          553836.98,
          1615987.96,
          888869.27,
          1723736.9100000001,
          965853.58,
          1999079.44,
          290930.01,
          1186971.02,
          990152.28,
          2160057.39,
          1990371.02,
          1379783.21,
          588448.21,
          922735.37,
          508573.16000000003,
          1092616.49,
          808624.8200000001,
          946573.29,
          461511.92,
          841951.91,
          2008350.58,
          1178905.44,
          2281217.31,
          1799682.38,
          1553191.63,
          998443.5,
          323915.32,
          294264.2,
          782300.68,
          986612.02,
          554972.42,
          616324.24,
          1914148.89,
          1087644.5,
          1592409.97,
          565390.4,
          1408968.55,
          891148.55,
          829902.42,
          483177.2,
          1096232.89,
          1582083.4,
          2086433.49,
          1429143.06,
          579166.5,
          946060.98,
          501251.39999999997,
          1566668.91,
          1333740.35,
          1218688.09,
          563578.79,
          718393.61,
          508432.17,
          572360.83,
          1428993.33,
          1170456.16,
          1357672.24,
          1061089.56,
          1239299.1199999999,
          582846.22,
          1322117.96,
          1333634.45,
          1062548.73,
          1114530.29,
          2055952.6099999999,
          1193199.3900000001,
          1290576.44,
          1456300.89,
          545251.1,
          800819.79,
          793589.18,
          1671857.57,
          495692.19,
          275883.23,
          546221.4,
          569937.23,
          2056846.12,
          1184198.41,
          573374.49,
          1405065.57,
          1416926.31,
          2020332.07,
          812011.8,
          536144.81,
          1198709.65,
          1704753.02,
          1875686.44,
          335858.11,
          1215354.3800000001,
          1024778.23,
          953533.9500000001
         ],
         "yaxis": "y"
        },
        {
         "hovertemplate": "variable=Valores previstos<br>index=%{x}<br>value=%{y}<extra></extra>",
         "legendgroup": "Valores previstos",
         "line": {
          "color": "#EF553B",
          "dash": "solid"
         },
         "marker": {
          "symbol": "circle"
         },
         "mode": "lines",
         "name": "Valores previstos",
         "orientation": "v",
         "showlegend": true,
         "type": "scatter",
         "x": [
          0,
          1,
          2,
          3,
          4,
          5,
          6,
          7,
          8,
          9,
          10,
          11,
          12,
          13,
          14,
          15,
          16,
          17,
          18,
          19,
          20,
          21,
          22,
          23,
          24,
          25,
          26,
          27,
          28,
          29,
          30,
          31,
          32,
          33,
          34,
          35,
          36,
          37,
          38,
          39,
          40,
          41,
          42,
          43,
          44,
          45,
          46,
          47,
          48,
          49,
          50,
          51,
          52,
          53,
          54,
          55,
          56,
          57,
          58,
          59,
          60,
          61,
          62,
          63,
          64,
          65,
          66,
          67,
          68,
          69,
          70,
          71,
          72,
          73,
          74,
          75,
          76,
          77,
          78,
          79,
          80,
          81,
          82,
          83,
          84,
          85,
          86,
          87,
          88,
          89,
          90,
          91,
          92,
          93,
          94,
          95,
          96,
          97,
          98,
          99,
          100,
          101,
          102,
          103,
          104,
          105,
          106,
          107,
          108,
          109,
          110,
          111,
          112,
          113,
          114,
          115,
          116,
          117,
          118,
          119,
          120,
          121,
          122,
          123,
          124,
          125,
          126,
          127,
          128,
          129,
          130,
          131,
          132,
          133,
          134,
          135,
          136,
          137,
          138,
          139,
          140,
          141,
          142,
          143,
          144,
          145,
          146,
          147,
          148,
          149,
          150,
          151,
          152,
          153,
          154,
          155,
          156,
          157,
          158,
          159,
          160,
          161,
          162,
          163,
          164,
          165,
          166,
          167,
          168,
          169,
          170,
          171,
          172,
          173,
          174,
          175,
          176,
          177,
          178,
          179,
          180,
          181,
          182,
          183,
          184,
          185,
          186,
          187,
          188,
          189,
          190,
          191,
          192,
          193,
          194,
          195,
          196,
          197,
          198,
          199,
          200,
          201,
          202,
          203,
          204,
          205,
          206,
          207,
          208,
          209,
          210,
          211,
          212,
          213,
          214,
          215,
          216,
          217,
          218,
          219,
          220,
          221,
          222,
          223,
          224,
          225,
          226,
          227,
          228,
          229,
          230,
          231,
          232,
          233,
          234,
          235,
          236,
          237,
          238,
          239,
          240,
          241,
          242,
          243,
          244,
          245,
          246,
          247,
          248,
          249,
          250,
          251,
          252,
          253,
          254,
          255,
          256,
          257,
          258,
          259,
          260,
          261,
          262,
          263,
          264,
          265,
          266,
          267,
          268,
          269,
          270,
          271,
          272,
          273,
          274,
          275,
          276,
          277,
          278,
          279,
          280,
          281,
          282,
          283,
          284,
          285,
          286,
          287,
          288,
          289,
          290,
          291,
          292,
          293,
          294,
          295,
          296,
          297,
          298,
          299,
          300,
          301,
          302,
          303,
          304,
          305,
          306,
          307,
          308,
          309,
          310,
          311,
          312,
          313,
          314,
          315,
          316,
          317,
          318,
          319,
          320,
          321
         ],
         "xaxis": "x",
         "y": [
          599759.45,
          1437590.4,
          833754.07,
          765918.71,
          937433.04,
          815541.83,
          224806.96,
          542945.13,
          743867.99,
          424956.3,
          1271062.4,
          1297033.16,
          929430.79,
          1033650.96,
          1368318.17,
          464933.98,
          778976.19,
          775397.91,
          623876.28,
          1589760.96,
          865137.6,
          1414564.53,
          930471.06,
          1152628.76,
          1003981.82,
          648587.14,
          639597.77,
          905984.49,
          274634.52,
          1532308.78,
          1431462.67,
          1827625.85,
          999320.6,
          1320359.23,
          885216.38,
          470457.35,
          1310496.6,
          1112871.23,
          1794355.49,
          1763948.51,
          1316849.36,
          1251053.56,
          444160.07,
          1232376.49,
          1549315.62,
          316948.39,
          2462779.06,
          482528.36,
          1204433.06,
          1191245.58,
          883580.14,
          1258598.93,
          1243812.59,
          773832.28,
          738792.11,
          336241,
          2055931.25,
          326316.73,
          648587.14,
          583364.02,
          962338.31,
          1204433.06,
          1046288.62,
          1380060.11,
          469752.56,
          589605.07,
          1287850.99,
          1568867.26,
          1104234.77,
          415784.21,
          978082.84,
          967836.14,
          1315610.66,
          1000582.06,
          468309.21,
          695993.99,
          441689.12,
          1311965.09,
          381017.75,
          2105301.39,
          745338.82,
          1001790.16,
          828077.08,
          959751.86,
          516556.94,
          941940.95,
          1084894.47,
          1021441.8,
          910456.33,
          1015128.88,
          1847552.61,
          2055931.25,
          827448.88,
          687210.79,
          401770.9,
          968270.66,
          295257.3,
          1174583.09,
          1365541.59,
          1033954.99,
          914252.86,
          1499496.67,
          1467722.19,
          1398904.09,
          972834.42,
          1627329.79,
          1162351.37,
          948694.89,
          1416720.54,
          1089530.94,
          692405.42,
          293953.08,
          1098051.19,
          995784.41,
          963260.08,
          474964.6,
          985591.64,
          492932.51,
          981182.07,
          1081322.12,
          1312572.27,
          538325.41,
          514731.6,
          607394.7,
          944654.14,
          1264390.15,
          1684519.99,
          294882.83,
          638850.17,
          509276.22,
          407764.25,
          366367.55,
          1751384.9,
          1126002.72,
          1557776.1,
          899920.82,
          535153.47,
          1256262.4,
          1037708.65,
          689485.91,
          1316899.31,
          1381379.43,
          1338627.55,
          529672.95,
          1043374.95,
          1069173.23,
          917853.34,
          706429.87,
          1365546.69,
          618086.55,
          586289.08,
          539826.56,
          1532114.86,
          1235163.86,
          329658.1,
          1416005.59,
          828168.12,
          1178211.81,
          1311263.07,
          1087183.09,
          1069173.23,
          280937.84,
          763432.31,
          424513.08,
          1187884.8,
          1043388.79,
          1087183.09,
          1372504.9,
          1079187.73,
          1198128.36,
          963382.09,
          1198104.22,
          1081322.12,
          847500.48,
          1467722.19,
          537443.09,
          320021.1,
          916820.96,
          1456800.28,
          1043372.3,
          840263.98,
          1496312.24,
          665750.06,
          1330757.22,
          728525.6,
          796973.91,
          958667.23,
          521404.87,
          948378.09,
          1098806.89,
          691987.74,
          649111.23,
          948602.75,
          693780.42,
          1147752.17,
          1340424.83,
          653845.45,
          813593.54,
          1343813,
          743035.57,
          597876.55,
          687210.79,
          623835.64,
          983825.15,
          1150663.42,
          852452.93,
          487084.82,
          947753.32,
          1283563.43,
          1962924.3,
          1375101.26,
          320691.21,
          922051.37,
          841285.72,
          1790925.8,
          493503.89,
          1153996.02,
          921544.32,
          503744.56,
          514485.9,
          834716.37,
          1486354.18,
          514489.17,
          224806.96,
          281247.97,
          1472663.1,
          1372504.9,
          1156003.7,
          479195.02,
          1250323.75,
          958667.23,
          1291569.6,
          1230118.02,
          758510.36,
          745338.82,
          856178.89,
          337796.13,
          1198722,
          828077.08,
          465493.15,
          303043.02,
          585895.34,
          897782.31,
          1867403.01,
          772470.58,
          922036.1,
          1061035.52,
          2081534.65,
          612987.64,
          1344921.28,
          977070.62,
          1116140.29,
          549967.89,
          878762.3,
          1331469.52,
          624903.84,
          1142867.53,
          765918.71,
          1339570.85,
          1942327.11,
          790589.39,
          1987090.09,
          1350817.03,
          1390457.14,
          1236691.28,
          606094.34,
          1110876.29,
          954148.64,
          1515175.01,
          1272395.02,
          919301.81,
          714204.94,
          988201.33,
          282069.96,
          947758.27,
          933960.3,
          504126.89,
          1204433.06,
          682124.34,
          1479249.9,
          759249.57,
          645386.94,
          1142133.18,
          1674589.53,
          1016756.1,
          607706.77,
          1167545.82,
          649128.23,
          709337.11,
          1112871.23,
          1472663.1,
          1418722.65,
          1095932.51,
          1627574.69,
          622839.2,
          1021441.8,
          1226815.56,
          1550229.22,
          1443315.06,
          287346.29,
          2207742.13,
          444160.07,
          879297.08,
          1182901.56,
          849074.04,
          763432.31,
          1424313.33,
          781694.57,
          708434.79,
          1261729.41,
          679258.96,
          2165160.29,
          721744.33,
          1081322.12,
          558981.45,
          1088025.8,
          1352482.92,
          776661.74,
          1113442.29,
          941940.95,
          713531.08,
          616345.25
         ],
         "yaxis": "y"
        }
       ],
       "layout": {
        "legend": {
         "title": {
          "text": "variable"
         },
         "tracegroupgap": 0
        },
        "margin": {
         "t": 60
        },
        "template": {
         "data": {
          "bar": [
           {
            "error_x": {
             "color": "#2a3f5f"
            },
            "error_y": {
             "color": "#2a3f5f"
            },
            "marker": {
             "line": {
              "color": "#E5ECF6",
              "width": 0.5
             },
             "pattern": {
              "fillmode": "overlay",
              "size": 10,
              "solidity": 0.2
             }
            },
            "type": "bar"
           }
          ],
          "barpolar": [
           {
            "marker": {
             "line": {
              "color": "#E5ECF6",
              "width": 0.5
             },
             "pattern": {
              "fillmode": "overlay",
              "size": 10,
              "solidity": 0.2
             }
            },
            "type": "barpolar"
           }
          ],
          "carpet": [
           {
            "aaxis": {
             "endlinecolor": "#2a3f5f",
             "gridcolor": "white",
             "linecolor": "white",
             "minorgridcolor": "white",
             "startlinecolor": "#2a3f5f"
            },
            "baxis": {
             "endlinecolor": "#2a3f5f",
             "gridcolor": "white",
             "linecolor": "white",
             "minorgridcolor": "white",
             "startlinecolor": "#2a3f5f"
            },
            "type": "carpet"
           }
          ],
          "choropleth": [
           {
            "colorbar": {
             "outlinewidth": 0,
             "ticks": ""
            },
            "type": "choropleth"
           }
          ],
          "contour": [
           {
            "colorbar": {
             "outlinewidth": 0,
             "ticks": ""
            },
            "colorscale": [
             [
              0,
              "#0d0887"
             ],
             [
              0.1111111111111111,
              "#46039f"
             ],
             [
              0.2222222222222222,
              "#7201a8"
             ],
             [
              0.3333333333333333,
              "#9c179e"
             ],
             [
              0.4444444444444444,
              "#bd3786"
             ],
             [
              0.5555555555555556,
              "#d8576b"
             ],
             [
              0.6666666666666666,
              "#ed7953"
             ],
             [
              0.7777777777777778,
              "#fb9f3a"
             ],
             [
              0.8888888888888888,
              "#fdca26"
             ],
             [
              1,
              "#f0f921"
             ]
            ],
            "type": "contour"
           }
          ],
          "contourcarpet": [
           {
            "colorbar": {
             "outlinewidth": 0,
             "ticks": ""
            },
            "type": "contourcarpet"
           }
          ],
          "heatmap": [
           {
            "colorbar": {
             "outlinewidth": 0,
             "ticks": ""
            },
            "colorscale": [
             [
              0,
              "#0d0887"
             ],
             [
              0.1111111111111111,
              "#46039f"
             ],
             [
              0.2222222222222222,
              "#7201a8"
             ],
             [
              0.3333333333333333,
              "#9c179e"
             ],
             [
              0.4444444444444444,
              "#bd3786"
             ],
             [
              0.5555555555555556,
              "#d8576b"
             ],
             [
              0.6666666666666666,
              "#ed7953"
             ],
             [
              0.7777777777777778,
              "#fb9f3a"
             ],
             [
              0.8888888888888888,
              "#fdca26"
             ],
             [
              1,
              "#f0f921"
             ]
            ],
            "type": "heatmap"
           }
          ],
          "heatmapgl": [
           {
            "colorbar": {
             "outlinewidth": 0,
             "ticks": ""
            },
            "colorscale": [
             [
              0,
              "#0d0887"
             ],
             [
              0.1111111111111111,
              "#46039f"
             ],
             [
              0.2222222222222222,
              "#7201a8"
             ],
             [
              0.3333333333333333,
              "#9c179e"
             ],
             [
              0.4444444444444444,
              "#bd3786"
             ],
             [
              0.5555555555555556,
              "#d8576b"
             ],
             [
              0.6666666666666666,
              "#ed7953"
             ],
             [
              0.7777777777777778,
              "#fb9f3a"
             ],
             [
              0.8888888888888888,
              "#fdca26"
             ],
             [
              1,
              "#f0f921"
             ]
            ],
            "type": "heatmapgl"
           }
          ],
          "histogram": [
           {
            "marker": {
             "pattern": {
              "fillmode": "overlay",
              "size": 10,
              "solidity": 0.2
             }
            },
            "type": "histogram"
           }
          ],
          "histogram2d": [
           {
            "colorbar": {
             "outlinewidth": 0,
             "ticks": ""
            },
            "colorscale": [
             [
              0,
              "#0d0887"
             ],
             [
              0.1111111111111111,
              "#46039f"
             ],
             [
              0.2222222222222222,
              "#7201a8"
             ],
             [
              0.3333333333333333,
              "#9c179e"
             ],
             [
              0.4444444444444444,
              "#bd3786"
             ],
             [
              0.5555555555555556,
              "#d8576b"
             ],
             [
              0.6666666666666666,
              "#ed7953"
             ],
             [
              0.7777777777777778,
              "#fb9f3a"
             ],
             [
              0.8888888888888888,
              "#fdca26"
             ],
             [
              1,
              "#f0f921"
             ]
            ],
            "type": "histogram2d"
           }
          ],
          "histogram2dcontour": [
           {
            "colorbar": {
             "outlinewidth": 0,
             "ticks": ""
            },
            "colorscale": [
             [
              0,
              "#0d0887"
             ],
             [
              0.1111111111111111,
              "#46039f"
             ],
             [
              0.2222222222222222,
              "#7201a8"
             ],
             [
              0.3333333333333333,
              "#9c179e"
             ],
             [
              0.4444444444444444,
              "#bd3786"
             ],
             [
              0.5555555555555556,
              "#d8576b"
             ],
             [
              0.6666666666666666,
              "#ed7953"
             ],
             [
              0.7777777777777778,
              "#fb9f3a"
             ],
             [
              0.8888888888888888,
              "#fdca26"
             ],
             [
              1,
              "#f0f921"
             ]
            ],
            "type": "histogram2dcontour"
           }
          ],
          "mesh3d": [
           {
            "colorbar": {
             "outlinewidth": 0,
             "ticks": ""
            },
            "type": "mesh3d"
           }
          ],
          "parcoords": [
           {
            "line": {
             "colorbar": {
              "outlinewidth": 0,
              "ticks": ""
             }
            },
            "type": "parcoords"
           }
          ],
          "pie": [
           {
            "automargin": true,
            "type": "pie"
           }
          ],
          "scatter": [
           {
            "marker": {
             "colorbar": {
              "outlinewidth": 0,
              "ticks": ""
             }
            },
            "type": "scatter"
           }
          ],
          "scatter3d": [
           {
            "line": {
             "colorbar": {
              "outlinewidth": 0,
              "ticks": ""
             }
            },
            "marker": {
             "colorbar": {
              "outlinewidth": 0,
              "ticks": ""
             }
            },
            "type": "scatter3d"
           }
          ],
          "scattercarpet": [
           {
            "marker": {
             "colorbar": {
              "outlinewidth": 0,
              "ticks": ""
             }
            },
            "type": "scattercarpet"
           }
          ],
          "scattergeo": [
           {
            "marker": {
             "colorbar": {
              "outlinewidth": 0,
              "ticks": ""
             }
            },
            "type": "scattergeo"
           }
          ],
          "scattergl": [
           {
            "marker": {
             "colorbar": {
              "outlinewidth": 0,
              "ticks": ""
             }
            },
            "type": "scattergl"
           }
          ],
          "scattermapbox": [
           {
            "marker": {
             "colorbar": {
              "outlinewidth": 0,
              "ticks": ""
             }
            },
            "type": "scattermapbox"
           }
          ],
          "scatterpolar": [
           {
            "marker": {
             "colorbar": {
              "outlinewidth": 0,
              "ticks": ""
             }
            },
            "type": "scatterpolar"
           }
          ],
          "scatterpolargl": [
           {
            "marker": {
             "colorbar": {
              "outlinewidth": 0,
              "ticks": ""
             }
            },
            "type": "scatterpolargl"
           }
          ],
          "scatterternary": [
           {
            "marker": {
             "colorbar": {
              "outlinewidth": 0,
              "ticks": ""
             }
            },
            "type": "scatterternary"
           }
          ],
          "surface": [
           {
            "colorbar": {
             "outlinewidth": 0,
             "ticks": ""
            },
            "colorscale": [
             [
              0,
              "#0d0887"
             ],
             [
              0.1111111111111111,
              "#46039f"
             ],
             [
              0.2222222222222222,
              "#7201a8"
             ],
             [
              0.3333333333333333,
              "#9c179e"
             ],
             [
              0.4444444444444444,
              "#bd3786"
             ],
             [
              0.5555555555555556,
              "#d8576b"
             ],
             [
              0.6666666666666666,
              "#ed7953"
             ],
             [
              0.7777777777777778,
              "#fb9f3a"
             ],
             [
              0.8888888888888888,
              "#fdca26"
             ],
             [
              1,
              "#f0f921"
             ]
            ],
            "type": "surface"
           }
          ],
          "table": [
           {
            "cells": {
             "fill": {
              "color": "#EBF0F8"
             },
             "line": {
              "color": "white"
             }
            },
            "header": {
             "fill": {
              "color": "#C8D4E3"
             },
             "line": {
              "color": "white"
             }
            },
            "type": "table"
           }
          ]
         },
         "layout": {
          "annotationdefaults": {
           "arrowcolor": "#2a3f5f",
           "arrowhead": 0,
           "arrowwidth": 1
          },
          "autotypenumbers": "strict",
          "coloraxis": {
           "colorbar": {
            "outlinewidth": 0,
            "ticks": ""
           }
          },
          "colorscale": {
           "diverging": [
            [
             0,
             "#8e0152"
            ],
            [
             0.1,
             "#c51b7d"
            ],
            [
             0.2,
             "#de77ae"
            ],
            [
             0.3,
             "#f1b6da"
            ],
            [
             0.4,
             "#fde0ef"
            ],
            [
             0.5,
             "#f7f7f7"
            ],
            [
             0.6,
             "#e6f5d0"
            ],
            [
             0.7,
             "#b8e186"
            ],
            [
             0.8,
             "#7fbc41"
            ],
            [
             0.9,
             "#4d9221"
            ],
            [
             1,
             "#276419"
            ]
           ],
           "sequential": [
            [
             0,
             "#0d0887"
            ],
            [
             0.1111111111111111,
             "#46039f"
            ],
            [
             0.2222222222222222,
             "#7201a8"
            ],
            [
             0.3333333333333333,
             "#9c179e"
            ],
            [
             0.4444444444444444,
             "#bd3786"
            ],
            [
             0.5555555555555556,
             "#d8576b"
            ],
            [
             0.6666666666666666,
             "#ed7953"
            ],
            [
             0.7777777777777778,
             "#fb9f3a"
            ],
            [
             0.8888888888888888,
             "#fdca26"
            ],
            [
             1,
             "#f0f921"
            ]
           ],
           "sequentialminus": [
            [
             0,
             "#0d0887"
            ],
            [
             0.1111111111111111,
             "#46039f"
            ],
            [
             0.2222222222222222,
             "#7201a8"
            ],
            [
             0.3333333333333333,
             "#9c179e"
            ],
            [
             0.4444444444444444,
             "#bd3786"
            ],
            [
             0.5555555555555556,
             "#d8576b"
            ],
            [
             0.6666666666666666,
             "#ed7953"
            ],
            [
             0.7777777777777778,
             "#fb9f3a"
            ],
            [
             0.8888888888888888,
             "#fdca26"
            ],
            [
             1,
             "#f0f921"
            ]
           ]
          },
          "colorway": [
           "#636efa",
           "#EF553B",
           "#00cc96",
           "#ab63fa",
           "#FFA15A",
           "#19d3f3",
           "#FF6692",
           "#B6E880",
           "#FF97FF",
           "#FECB52"
          ],
          "font": {
           "color": "#2a3f5f"
          },
          "geo": {
           "bgcolor": "white",
           "lakecolor": "white",
           "landcolor": "#E5ECF6",
           "showlakes": true,
           "showland": true,
           "subunitcolor": "white"
          },
          "hoverlabel": {
           "align": "left"
          },
          "hovermode": "closest",
          "mapbox": {
           "style": "light"
          },
          "paper_bgcolor": "white",
          "plot_bgcolor": "#E5ECF6",
          "polar": {
           "angularaxis": {
            "gridcolor": "white",
            "linecolor": "white",
            "ticks": ""
           },
           "bgcolor": "#E5ECF6",
           "radialaxis": {
            "gridcolor": "white",
            "linecolor": "white",
            "ticks": ""
           }
          },
          "scene": {
           "xaxis": {
            "backgroundcolor": "#E5ECF6",
            "gridcolor": "white",
            "gridwidth": 2,
            "linecolor": "white",
            "showbackground": true,
            "ticks": "",
            "zerolinecolor": "white"
           },
           "yaxis": {
            "backgroundcolor": "#E5ECF6",
            "gridcolor": "white",
            "gridwidth": 2,
            "linecolor": "white",
            "showbackground": true,
            "ticks": "",
            "zerolinecolor": "white"
           },
           "zaxis": {
            "backgroundcolor": "#E5ECF6",
            "gridcolor": "white",
            "gridwidth": 2,
            "linecolor": "white",
            "showbackground": true,
            "ticks": "",
            "zerolinecolor": "white"
           }
          },
          "shapedefaults": {
           "line": {
            "color": "#2a3f5f"
           }
          },
          "ternary": {
           "aaxis": {
            "gridcolor": "white",
            "linecolor": "white",
            "ticks": ""
           },
           "baxis": {
            "gridcolor": "white",
            "linecolor": "white",
            "ticks": ""
           },
           "bgcolor": "#E5ECF6",
           "caxis": {
            "gridcolor": "white",
            "linecolor": "white",
            "ticks": ""
           }
          },
          "title": {
           "x": 0.05
          },
          "xaxis": {
           "automargin": true,
           "gridcolor": "white",
           "linecolor": "white",
           "ticks": "",
           "title": {
            "standoff": 15
           },
           "zerolinecolor": "white",
           "zerolinewidth": 2
          },
          "yaxis": {
           "automargin": true,
           "gridcolor": "white",
           "linecolor": "white",
           "ticks": "",
           "title": {
            "standoff": 15
           },
           "zerolinecolor": "white",
           "zerolinewidth": 2
          }
         }
        },
        "xaxis": {
         "anchor": "y",
         "domain": [
          0,
          1
         ],
         "title": {
          "text": "index"
         }
        },
        "yaxis": {
         "anchor": "x",
         "domain": [
          0,
          1
         ],
         "title": {
          "text": "value"
         }
        }
       }
      },
      "text/html": [
       "<div>                            <div id=\"61b8c424-c05e-4252-8aa2-04e85ded8ead\" class=\"plotly-graph-div\" style=\"height:525px; width:100%;\"></div>            <script type=\"text/javascript\">                require([\"plotly\"], function(Plotly) {                    window.PLOTLYENV=window.PLOTLYENV || {};                                    if (document.getElementById(\"61b8c424-c05e-4252-8aa2-04e85ded8ead\")) {                    Plotly.newPlot(                        \"61b8c424-c05e-4252-8aa2-04e85ded8ead\",                        [{\"hovertemplate\":\"variable=Valores reais<br>index=%{x}<br>value=%{y}<extra></extra>\",\"legendgroup\":\"Valores reais\",\"line\":{\"color\":\"#636efa\",\"dash\":\"solid\"},\"marker\":{\"symbol\":\"circle\"},\"mode\":\"lines\",\"name\":\"Valores reais\",\"orientation\":\"v\",\"showlegend\":true,\"x\":[0,1,2,3,4,5,6,7,8,9,10,11,12,13,14,15,16,17,18,19,20,21,22,23,24,25,26,27,28,29,30,31,32,33,34,35,36,37,38,39,40,41,42,43,44,45,46,47,48,49,50,51,52,53,54,55,56,57,58,59,60,61,62,63,64,65,66,67,68,69,70,71,72,73,74,75,76,77,78,79,80,81,82,83,84,85,86,87,88,89,90,91,92,93,94,95,96,97,98,99,100,101,102,103,104,105,106,107,108,109,110,111,112,113,114,115,116,117,118,119,120,121,122,123,124,125,126,127,128,129,130,131,132,133,134,135,136,137,138,139,140,141,142,143,144,145,146,147,148,149,150,151,152,153,154,155,156,157,158,159,160,161,162,163,164,165,166,167,168,169,170,171,172,173,174,175,176,177,178,179,180,181,182,183,184,185,186,187,188,189,190,191,192,193,194,195,196,197,198,199,200,201,202,203,204,205,206,207,208,209,210,211,212,213,214,215,216,217,218,219,220,221,222,223,224,225,226,227,228,229,230,231,232,233,234,235,236,237,238,239,240,241,242,243,244,245,246,247,248,249,250,251,252,253,254,255,256,257,258,259,260,261,262,263,264,265,266,267,268,269,270,271,272,273,274,275,276,277,278,279,280,281,282,283,284,285,286,287,288,289,290,291,292,293,294,295,296,297,298,299,300,301,302,303,304,305,306,307,308,309,310,311,312,313,314,315,316,317,318,319,320,321],\"xaxis\":\"x\",\"y\":[1772192.42,1283849.38,618377.79,2191767.7600000002,2010216.49,239198.36,506343.83,872288.46,769319.04,510425.4,1836595.58,948964.99,1290684.95,248603.3,800714.0,516402.10000000003,1417922.3699999999,1375307.54,797523.04,753060.78,1703047.74,1422711.6,1439607.35,1842555.32,651768.91,1037861.11,954681.56,595421.23,726422.55,432424.85,1866369.93,719737.25,658600.05,307944.37,855882.57,780444.94,730899.37,1392093.04,1522421.07,1396150.15,1445249.09,1333315.03,1327719.34,1021766.75,1310973.06,1811606.21,304300.91,975500.87,454694.21,1625883.71,357897.18,1388118.53,599730.07,483660.15,1613773.9,2094373.0,395195.65,541071.29,1443206.46,575317.38,605960.2,1430378.67,2187765.28,2031406.41,1069851.59,431985.36,722120.04,955766.33,772036.6,856796.1,2313861.81,1057295.87,1426622.65,1047178.91,466962.04,1213860.61,1659221.99,1402372.09,510787.46,942868.38,897032.1900000001,939158.25,940554.34,458343.7,322405.13,1327405.42,1182733.0,436070.45,497374.57,2135143.87,1350059.35,2103455.75,1334627.96,417528.26,1419911.91,2049860.26,1710923.94,1156377.47,1483574.38,1805999.79,2205919.86,465279.68,922341.82,778178.53,563460.77,1344723.97,448998.73,1950826.32,329033.66,822668.23,2066219.3,1848186.58,322868.56,1928773.82,823220.43,1059781.78,1927664.1099999999,970307.83,1350441.68,356138.79,725729.51,1246062.17,1129422.86,1877358.86,1707298.1400000001,1254587.84,254412.34,1370659.54,1979247.1199999999,360009.94,643854.17,1781717.71,372673.61,1159212.1,1408082.96,1069533.17,1757923.88,302881.64,365730.76,1297452.0,473773.27,801098.43,1257778.34,1022571.25,310531.04,586841.77,653043.44,270497.51,620908.1799999999,1890870.75,586108.13,1198670.19,495951.0,895020.48,1622150.33,2066541.8599999999,1853657.5999999999,911106.22,1853161.99,597855.0700000001,428958.53,297753.49,610940.9400000001,726997.84,1087051.26,1425078.59,734464.36,651178.2,773586.49,2103322.68,2309025.16,1892775.94,1098286.61,1595901.87,699464.4299999999,1864637.89,2271614.76,1007385.36,981210.57,430878.27999999997,589554.29,813630.44,1182694.95,290494.85,1079314.52,1649604.63,1376520.0999999999,1425299.37,1331137.96,298080.45,1548033.78,1788227.6,1120619.32,1508068.77,1817914.71,1848953.48,911807.02,539337.87,2004330.3,343763.17,1029248.22,698529.64,1316385.43,1866681.57,1424720.27,894865.3,233543.08000000002,1457270.16,859922.19,325041.68,1415204.88,2214477.06,763479.9,1390122.11,1304584.4,916446.02,600395.73,1374301.34,303289.55,392654.26,1796949.59,1910092.3699999999,279643.43,1751369.75,1895583.12,1921432.16,438760.62,999298.43,471088.88,293155.08,469311.17,553836.98,1615987.96,888869.27,1723736.9100000001,965853.58,1999079.44,290930.01,1186971.02,990152.28,2160057.39,1990371.02,1379783.21,588448.21,922735.37,508573.16000000003,1092616.49,808624.8200000001,946573.29,461511.92,841951.91,2008350.58,1178905.44,2281217.31,1799682.38,1553191.63,998443.5,323915.32,294264.2,782300.68,986612.02,554972.42,616324.24,1914148.89,1087644.5,1592409.97,565390.4,1408968.55,891148.55,829902.42,483177.2,1096232.89,1582083.4,2086433.49,1429143.06,579166.5,946060.98,501251.39999999997,1566668.91,1333740.35,1218688.09,563578.79,718393.61,508432.17,572360.83,1428993.33,1170456.16,1357672.24,1061089.56,1239299.1199999999,582846.22,1322117.96,1333634.45,1062548.73,1114530.29,2055952.6099999999,1193199.3900000001,1290576.44,1456300.89,545251.1,800819.79,793589.18,1671857.57,495692.19,275883.23,546221.4,569937.23,2056846.12,1184198.41,573374.49,1405065.57,1416926.31,2020332.07,812011.8,536144.81,1198709.65,1704753.02,1875686.44,335858.11,1215354.3800000001,1024778.23,953533.9500000001],\"yaxis\":\"y\",\"type\":\"scatter\"},{\"hovertemplate\":\"variable=Valores previstos<br>index=%{x}<br>value=%{y}<extra></extra>\",\"legendgroup\":\"Valores previstos\",\"line\":{\"color\":\"#EF553B\",\"dash\":\"solid\"},\"marker\":{\"symbol\":\"circle\"},\"mode\":\"lines\",\"name\":\"Valores previstos\",\"orientation\":\"v\",\"showlegend\":true,\"x\":[0,1,2,3,4,5,6,7,8,9,10,11,12,13,14,15,16,17,18,19,20,21,22,23,24,25,26,27,28,29,30,31,32,33,34,35,36,37,38,39,40,41,42,43,44,45,46,47,48,49,50,51,52,53,54,55,56,57,58,59,60,61,62,63,64,65,66,67,68,69,70,71,72,73,74,75,76,77,78,79,80,81,82,83,84,85,86,87,88,89,90,91,92,93,94,95,96,97,98,99,100,101,102,103,104,105,106,107,108,109,110,111,112,113,114,115,116,117,118,119,120,121,122,123,124,125,126,127,128,129,130,131,132,133,134,135,136,137,138,139,140,141,142,143,144,145,146,147,148,149,150,151,152,153,154,155,156,157,158,159,160,161,162,163,164,165,166,167,168,169,170,171,172,173,174,175,176,177,178,179,180,181,182,183,184,185,186,187,188,189,190,191,192,193,194,195,196,197,198,199,200,201,202,203,204,205,206,207,208,209,210,211,212,213,214,215,216,217,218,219,220,221,222,223,224,225,226,227,228,229,230,231,232,233,234,235,236,237,238,239,240,241,242,243,244,245,246,247,248,249,250,251,252,253,254,255,256,257,258,259,260,261,262,263,264,265,266,267,268,269,270,271,272,273,274,275,276,277,278,279,280,281,282,283,284,285,286,287,288,289,290,291,292,293,294,295,296,297,298,299,300,301,302,303,304,305,306,307,308,309,310,311,312,313,314,315,316,317,318,319,320,321],\"xaxis\":\"x\",\"y\":[599759.45,1437590.4,833754.07,765918.71,937433.04,815541.83,224806.96,542945.13,743867.99,424956.3,1271062.4,1297033.16,929430.79,1033650.96,1368318.17,464933.98,778976.19,775397.91,623876.28,1589760.96,865137.6,1414564.53,930471.06,1152628.76,1003981.82,648587.14,639597.77,905984.49,274634.52,1532308.78,1431462.67,1827625.85,999320.6,1320359.23,885216.38,470457.35,1310496.6,1112871.23,1794355.49,1763948.51,1316849.36,1251053.56,444160.07,1232376.49,1549315.62,316948.39,2462779.06,482528.36,1204433.06,1191245.58,883580.14,1258598.93,1243812.59,773832.28,738792.11,336241.0,2055931.25,326316.73,648587.14,583364.02,962338.31,1204433.06,1046288.62,1380060.11,469752.56,589605.07,1287850.99,1568867.26,1104234.77,415784.21,978082.84,967836.14,1315610.66,1000582.06,468309.21,695993.99,441689.12,1311965.09,381017.75,2105301.39,745338.82,1001790.16,828077.08,959751.86,516556.94,941940.95,1084894.47,1021441.8,910456.33,1015128.88,1847552.61,2055931.25,827448.88,687210.79,401770.9,968270.66,295257.3,1174583.09,1365541.59,1033954.99,914252.86,1499496.67,1467722.19,1398904.09,972834.42,1627329.79,1162351.37,948694.89,1416720.54,1089530.94,692405.42,293953.08,1098051.19,995784.41,963260.08,474964.6,985591.64,492932.51,981182.07,1081322.12,1312572.27,538325.41,514731.6,607394.7,944654.14,1264390.15,1684519.99,294882.83,638850.17,509276.22,407764.25,366367.55,1751384.9,1126002.72,1557776.1,899920.82,535153.47,1256262.4,1037708.65,689485.91,1316899.31,1381379.43,1338627.55,529672.95,1043374.95,1069173.23,917853.34,706429.87,1365546.69,618086.55,586289.08,539826.56,1532114.86,1235163.86,329658.1,1416005.59,828168.12,1178211.81,1311263.07,1087183.09,1069173.23,280937.84,763432.31,424513.08,1187884.8,1043388.79,1087183.09,1372504.9,1079187.73,1198128.36,963382.09,1198104.22,1081322.12,847500.48,1467722.19,537443.09,320021.1,916820.96,1456800.28,1043372.3,840263.98,1496312.24,665750.06,1330757.22,728525.6,796973.91,958667.23,521404.87,948378.09,1098806.89,691987.74,649111.23,948602.75,693780.42,1147752.17,1340424.83,653845.45,813593.54,1343813.0,743035.57,597876.55,687210.79,623835.64,983825.15,1150663.42,852452.93,487084.82,947753.32,1283563.43,1962924.3,1375101.26,320691.21,922051.37,841285.72,1790925.8,493503.89,1153996.02,921544.32,503744.56,514485.9,834716.37,1486354.18,514489.17,224806.96,281247.97,1472663.1,1372504.9,1156003.7,479195.02,1250323.75,958667.23,1291569.6,1230118.02,758510.36,745338.82,856178.89,337796.13,1198722.0,828077.08,465493.15,303043.02,585895.34,897782.31,1867403.01,772470.58,922036.1,1061035.52,2081534.65,612987.64,1344921.28,977070.62,1116140.29,549967.89,878762.3,1331469.52,624903.84,1142867.53,765918.71,1339570.85,1942327.11,790589.39,1987090.09,1350817.03,1390457.14,1236691.28,606094.34,1110876.29,954148.64,1515175.01,1272395.02,919301.81,714204.94,988201.33,282069.96,947758.27,933960.3,504126.89,1204433.06,682124.34,1479249.9,759249.57,645386.94,1142133.18,1674589.53,1016756.1,607706.77,1167545.82,649128.23,709337.11,1112871.23,1472663.1,1418722.65,1095932.51,1627574.69,622839.2,1021441.8,1226815.56,1550229.22,1443315.06,287346.29,2207742.13,444160.07,879297.08,1182901.56,849074.04,763432.31,1424313.33,781694.57,708434.79,1261729.41,679258.96,2165160.29,721744.33,1081322.12,558981.45,1088025.8,1352482.92,776661.74,1113442.29,941940.95,713531.08,616345.25],\"yaxis\":\"y\",\"type\":\"scatter\"}],                        {\"template\":{\"data\":{\"bar\":[{\"error_x\":{\"color\":\"#2a3f5f\"},\"error_y\":{\"color\":\"#2a3f5f\"},\"marker\":{\"line\":{\"color\":\"#E5ECF6\",\"width\":0.5},\"pattern\":{\"fillmode\":\"overlay\",\"size\":10,\"solidity\":0.2}},\"type\":\"bar\"}],\"barpolar\":[{\"marker\":{\"line\":{\"color\":\"#E5ECF6\",\"width\":0.5},\"pattern\":{\"fillmode\":\"overlay\",\"size\":10,\"solidity\":0.2}},\"type\":\"barpolar\"}],\"carpet\":[{\"aaxis\":{\"endlinecolor\":\"#2a3f5f\",\"gridcolor\":\"white\",\"linecolor\":\"white\",\"minorgridcolor\":\"white\",\"startlinecolor\":\"#2a3f5f\"},\"baxis\":{\"endlinecolor\":\"#2a3f5f\",\"gridcolor\":\"white\",\"linecolor\":\"white\",\"minorgridcolor\":\"white\",\"startlinecolor\":\"#2a3f5f\"},\"type\":\"carpet\"}],\"choropleth\":[{\"colorbar\":{\"outlinewidth\":0,\"ticks\":\"\"},\"type\":\"choropleth\"}],\"contour\":[{\"colorbar\":{\"outlinewidth\":0,\"ticks\":\"\"},\"colorscale\":[[0.0,\"#0d0887\"],[0.1111111111111111,\"#46039f\"],[0.2222222222222222,\"#7201a8\"],[0.3333333333333333,\"#9c179e\"],[0.4444444444444444,\"#bd3786\"],[0.5555555555555556,\"#d8576b\"],[0.6666666666666666,\"#ed7953\"],[0.7777777777777778,\"#fb9f3a\"],[0.8888888888888888,\"#fdca26\"],[1.0,\"#f0f921\"]],\"type\":\"contour\"}],\"contourcarpet\":[{\"colorbar\":{\"outlinewidth\":0,\"ticks\":\"\"},\"type\":\"contourcarpet\"}],\"heatmap\":[{\"colorbar\":{\"outlinewidth\":0,\"ticks\":\"\"},\"colorscale\":[[0.0,\"#0d0887\"],[0.1111111111111111,\"#46039f\"],[0.2222222222222222,\"#7201a8\"],[0.3333333333333333,\"#9c179e\"],[0.4444444444444444,\"#bd3786\"],[0.5555555555555556,\"#d8576b\"],[0.6666666666666666,\"#ed7953\"],[0.7777777777777778,\"#fb9f3a\"],[0.8888888888888888,\"#fdca26\"],[1.0,\"#f0f921\"]],\"type\":\"heatmap\"}],\"heatmapgl\":[{\"colorbar\":{\"outlinewidth\":0,\"ticks\":\"\"},\"colorscale\":[[0.0,\"#0d0887\"],[0.1111111111111111,\"#46039f\"],[0.2222222222222222,\"#7201a8\"],[0.3333333333333333,\"#9c179e\"],[0.4444444444444444,\"#bd3786\"],[0.5555555555555556,\"#d8576b\"],[0.6666666666666666,\"#ed7953\"],[0.7777777777777778,\"#fb9f3a\"],[0.8888888888888888,\"#fdca26\"],[1.0,\"#f0f921\"]],\"type\":\"heatmapgl\"}],\"histogram\":[{\"marker\":{\"pattern\":{\"fillmode\":\"overlay\",\"size\":10,\"solidity\":0.2}},\"type\":\"histogram\"}],\"histogram2d\":[{\"colorbar\":{\"outlinewidth\":0,\"ticks\":\"\"},\"colorscale\":[[0.0,\"#0d0887\"],[0.1111111111111111,\"#46039f\"],[0.2222222222222222,\"#7201a8\"],[0.3333333333333333,\"#9c179e\"],[0.4444444444444444,\"#bd3786\"],[0.5555555555555556,\"#d8576b\"],[0.6666666666666666,\"#ed7953\"],[0.7777777777777778,\"#fb9f3a\"],[0.8888888888888888,\"#fdca26\"],[1.0,\"#f0f921\"]],\"type\":\"histogram2d\"}],\"histogram2dcontour\":[{\"colorbar\":{\"outlinewidth\":0,\"ticks\":\"\"},\"colorscale\":[[0.0,\"#0d0887\"],[0.1111111111111111,\"#46039f\"],[0.2222222222222222,\"#7201a8\"],[0.3333333333333333,\"#9c179e\"],[0.4444444444444444,\"#bd3786\"],[0.5555555555555556,\"#d8576b\"],[0.6666666666666666,\"#ed7953\"],[0.7777777777777778,\"#fb9f3a\"],[0.8888888888888888,\"#fdca26\"],[1.0,\"#f0f921\"]],\"type\":\"histogram2dcontour\"}],\"mesh3d\":[{\"colorbar\":{\"outlinewidth\":0,\"ticks\":\"\"},\"type\":\"mesh3d\"}],\"parcoords\":[{\"line\":{\"colorbar\":{\"outlinewidth\":0,\"ticks\":\"\"}},\"type\":\"parcoords\"}],\"pie\":[{\"automargin\":true,\"type\":\"pie\"}],\"scatter\":[{\"marker\":{\"colorbar\":{\"outlinewidth\":0,\"ticks\":\"\"}},\"type\":\"scatter\"}],\"scatter3d\":[{\"line\":{\"colorbar\":{\"outlinewidth\":0,\"ticks\":\"\"}},\"marker\":{\"colorbar\":{\"outlinewidth\":0,\"ticks\":\"\"}},\"type\":\"scatter3d\"}],\"scattercarpet\":[{\"marker\":{\"colorbar\":{\"outlinewidth\":0,\"ticks\":\"\"}},\"type\":\"scattercarpet\"}],\"scattergeo\":[{\"marker\":{\"colorbar\":{\"outlinewidth\":0,\"ticks\":\"\"}},\"type\":\"scattergeo\"}],\"scattergl\":[{\"marker\":{\"colorbar\":{\"outlinewidth\":0,\"ticks\":\"\"}},\"type\":\"scattergl\"}],\"scattermapbox\":[{\"marker\":{\"colorbar\":{\"outlinewidth\":0,\"ticks\":\"\"}},\"type\":\"scattermapbox\"}],\"scatterpolar\":[{\"marker\":{\"colorbar\":{\"outlinewidth\":0,\"ticks\":\"\"}},\"type\":\"scatterpolar\"}],\"scatterpolargl\":[{\"marker\":{\"colorbar\":{\"outlinewidth\":0,\"ticks\":\"\"}},\"type\":\"scatterpolargl\"}],\"scatterternary\":[{\"marker\":{\"colorbar\":{\"outlinewidth\":0,\"ticks\":\"\"}},\"type\":\"scatterternary\"}],\"surface\":[{\"colorbar\":{\"outlinewidth\":0,\"ticks\":\"\"},\"colorscale\":[[0.0,\"#0d0887\"],[0.1111111111111111,\"#46039f\"],[0.2222222222222222,\"#7201a8\"],[0.3333333333333333,\"#9c179e\"],[0.4444444444444444,\"#bd3786\"],[0.5555555555555556,\"#d8576b\"],[0.6666666666666666,\"#ed7953\"],[0.7777777777777778,\"#fb9f3a\"],[0.8888888888888888,\"#fdca26\"],[1.0,\"#f0f921\"]],\"type\":\"surface\"}],\"table\":[{\"cells\":{\"fill\":{\"color\":\"#EBF0F8\"},\"line\":{\"color\":\"white\"}},\"header\":{\"fill\":{\"color\":\"#C8D4E3\"},\"line\":{\"color\":\"white\"}},\"type\":\"table\"}]},\"layout\":{\"annotationdefaults\":{\"arrowcolor\":\"#2a3f5f\",\"arrowhead\":0,\"arrowwidth\":1},\"autotypenumbers\":\"strict\",\"coloraxis\":{\"colorbar\":{\"outlinewidth\":0,\"ticks\":\"\"}},\"colorscale\":{\"diverging\":[[0,\"#8e0152\"],[0.1,\"#c51b7d\"],[0.2,\"#de77ae\"],[0.3,\"#f1b6da\"],[0.4,\"#fde0ef\"],[0.5,\"#f7f7f7\"],[0.6,\"#e6f5d0\"],[0.7,\"#b8e186\"],[0.8,\"#7fbc41\"],[0.9,\"#4d9221\"],[1,\"#276419\"]],\"sequential\":[[0.0,\"#0d0887\"],[0.1111111111111111,\"#46039f\"],[0.2222222222222222,\"#7201a8\"],[0.3333333333333333,\"#9c179e\"],[0.4444444444444444,\"#bd3786\"],[0.5555555555555556,\"#d8576b\"],[0.6666666666666666,\"#ed7953\"],[0.7777777777777778,\"#fb9f3a\"],[0.8888888888888888,\"#fdca26\"],[1.0,\"#f0f921\"]],\"sequentialminus\":[[0.0,\"#0d0887\"],[0.1111111111111111,\"#46039f\"],[0.2222222222222222,\"#7201a8\"],[0.3333333333333333,\"#9c179e\"],[0.4444444444444444,\"#bd3786\"],[0.5555555555555556,\"#d8576b\"],[0.6666666666666666,\"#ed7953\"],[0.7777777777777778,\"#fb9f3a\"],[0.8888888888888888,\"#fdca26\"],[1.0,\"#f0f921\"]]},\"colorway\":[\"#636efa\",\"#EF553B\",\"#00cc96\",\"#ab63fa\",\"#FFA15A\",\"#19d3f3\",\"#FF6692\",\"#B6E880\",\"#FF97FF\",\"#FECB52\"],\"font\":{\"color\":\"#2a3f5f\"},\"geo\":{\"bgcolor\":\"white\",\"lakecolor\":\"white\",\"landcolor\":\"#E5ECF6\",\"showlakes\":true,\"showland\":true,\"subunitcolor\":\"white\"},\"hoverlabel\":{\"align\":\"left\"},\"hovermode\":\"closest\",\"mapbox\":{\"style\":\"light\"},\"paper_bgcolor\":\"white\",\"plot_bgcolor\":\"#E5ECF6\",\"polar\":{\"angularaxis\":{\"gridcolor\":\"white\",\"linecolor\":\"white\",\"ticks\":\"\"},\"bgcolor\":\"#E5ECF6\",\"radialaxis\":{\"gridcolor\":\"white\",\"linecolor\":\"white\",\"ticks\":\"\"}},\"scene\":{\"xaxis\":{\"backgroundcolor\":\"#E5ECF6\",\"gridcolor\":\"white\",\"gridwidth\":2,\"linecolor\":\"white\",\"showbackground\":true,\"ticks\":\"\",\"zerolinecolor\":\"white\"},\"yaxis\":{\"backgroundcolor\":\"#E5ECF6\",\"gridcolor\":\"white\",\"gridwidth\":2,\"linecolor\":\"white\",\"showbackground\":true,\"ticks\":\"\",\"zerolinecolor\":\"white\"},\"zaxis\":{\"backgroundcolor\":\"#E5ECF6\",\"gridcolor\":\"white\",\"gridwidth\":2,\"linecolor\":\"white\",\"showbackground\":true,\"ticks\":\"\",\"zerolinecolor\":\"white\"}},\"shapedefaults\":{\"line\":{\"color\":\"#2a3f5f\"}},\"ternary\":{\"aaxis\":{\"gridcolor\":\"white\",\"linecolor\":\"white\",\"ticks\":\"\"},\"baxis\":{\"gridcolor\":\"white\",\"linecolor\":\"white\",\"ticks\":\"\"},\"bgcolor\":\"#E5ECF6\",\"caxis\":{\"gridcolor\":\"white\",\"linecolor\":\"white\",\"ticks\":\"\"}},\"title\":{\"x\":0.05},\"xaxis\":{\"automargin\":true,\"gridcolor\":\"white\",\"linecolor\":\"white\",\"ticks\":\"\",\"title\":{\"standoff\":15},\"zerolinecolor\":\"white\",\"zerolinewidth\":2},\"yaxis\":{\"automargin\":true,\"gridcolor\":\"white\",\"linecolor\":\"white\",\"ticks\":\"\",\"title\":{\"standoff\":15},\"zerolinecolor\":\"white\",\"zerolinewidth\":2}}},\"xaxis\":{\"anchor\":\"y\",\"domain\":[0.0,1.0],\"title\":{\"text\":\"index\"}},\"yaxis\":{\"anchor\":\"x\",\"domain\":[0.0,1.0],\"title\":{\"text\":\"value\"}},\"legend\":{\"title\":{\"text\":\"variable\"},\"tracegroupgap\":0},\"margin\":{\"t\":60}},                        {\"responsive\": true}                    ).then(function(){\n",
       "                            \n",
       "var gd = document.getElementById('61b8c424-c05e-4252-8aa2-04e85ded8ead');\n",
       "var x = new MutationObserver(function (mutations, observer) {{\n",
       "        var display = window.getComputedStyle(gd).display;\n",
       "        if (!display || display === 'none') {{\n",
       "            console.log([gd, 'removed!']);\n",
       "            Plotly.purge(gd);\n",
       "            observer.disconnect();\n",
       "        }}\n",
       "}});\n",
       "\n",
       "// Listen for the removal of the full notebook cells\n",
       "var notebookContainer = gd.closest('#notebook-container');\n",
       "if (notebookContainer) {{\n",
       "    x.observe(notebookContainer, {childList: true});\n",
       "}}\n",
       "\n",
       "// Listen for the clearing of the current output cell\n",
       "var outputEl = gd.closest('.output');\n",
       "if (outputEl) {{\n",
       "    x.observe(outputEl, {childList: true});\n",
       "}}\n",
       "\n",
       "                        })                };                });            </script>        </div>"
      ]
     },
     "metadata": {},
     "output_type": "display_data"
    }
   ],
   "source": [
    "# Montagem de um outro gráfico de linha \n",
    "\n",
    "fig = px.line(comp, y = [\"Valores reais\", \"Valores previstos\"])\n",
    "fig.show()"
   ]
  },
  {
   "cell_type": "markdown",
   "metadata": {},
   "source": [
    " Os gráficos nos indicam que o modelo não é adequado para nossa previsão"
   ]
  },
  {
   "cell_type": "code",
   "execution_count": 451,
   "metadata": {},
   "outputs": [
    {
     "name": "stdout",
     "output_type": "stream",
     "text": [
      "Coeficiente R²: -0.7883\n",
      "EMA:597133.71\n",
      "EQM:549332139851.53\n",
      "REQM:741169.44\n"
     ]
    }
   ],
   "source": [
    "# Cálculo de R^2, medida de quão bem a linha de regressão se ajusta aos dados. Varia de 0 a 1, sendo 1 o ajuste perfeito.\n",
    "# Cálculo do Erro Médio Absoluto, o valor médio absoluto da diferença entre os valores previstos e os valores reais\n",
    "# Cálculo do Erro Quadrático Médio, a média dos quadrados dos erros\n",
    "# Cálculo da raiz do Erro Quadrático Médio, que mede o mesmo que o EQM, mas na mesma unidade de medida que os valores trabalhados\n",
    "\n",
    "from sklearn.metrics import r2_score, mean_absolute_error, mean_squared_error\n",
    "\n",
    "# cálculo do coeficiente R²\n",
    "r2 = r2_score(y_test, y_pred)\n",
    "\n",
    "# cálculo do erro médio absoluto (EMA)\n",
    "ema = mean_absolute_error(y_test, y_pred)\n",
    "\n",
    "# cálculo do erro quadrático médio (EQM)\n",
    "eqm = mean_squared_error(y_test, y_pred)\n",
    "\n",
    "# cálculo da raiz do erro quadrático médio (REQM)\n",
    "reqm = np.sqrt(eqm)\n",
    "\n",
    "print('Coeficiente R²: {:.4f}'.format(r2))\n",
    "print('EMA:{:.2f}'.format(ema))\n",
    "print('EQM:{:.2f}'.format(eqm))\n",
    "print('REQM:{:.2f}'.format(reqm))"
   ]
  },
  {
   "cell_type": "markdown",
   "metadata": {},
   "source": [
    "#### Analisando as medidas, avaliamos que o modelo é inadequado para nossa análise. O R^2 é negativo, ou seja, a linha de regressão está totalmente discondizente com o desejado, o que também podemos observar no gráfico obtido acima. O Erro Médio Absoluto e o Erro Quadrático Médio nos dizem que os erros estão altos, o que também nos leva a rejeitar a previsão obtida. Isso significa que pelo nosso modelo não encontramos uma correlação entre temperatura e nível de vendas."
   ]
  },
  {
   "cell_type": "markdown",
   "metadata": {},
   "source": [
    "<a class=\"anchor\" id=\"section_4_1_2\"></a>\n",
    "### Vendas x Lojas\n",
    "    Agora usaremos a mesma técnica porém alterando a variável independente para Store, ou seja, prever as vendas em função da loja, que varia de 1 a 45. Diferenciaremos as variáveis do modelo Vendas x Temperatura adicionando um '1' na frente delas"
   ]
  },
  {
   "cell_type": "code",
   "execution_count": 452,
   "metadata": {},
   "outputs": [],
   "source": [
    "# criaremos uma série para cada variável desejada: a variável dependente será Y e a independente X\n",
    "\n",
    "X1 = df['Store'].values\n",
    "y1 = df['Weekly_Sales'].values"
   ]
  },
  {
   "cell_type": "code",
   "execution_count": 453,
   "metadata": {},
   "outputs": [],
   "source": [
    "# Dividiremos cada série em duas: training e test. Uma será utilizada para treinar o modelo com seus dados, e a outra servirá para\n",
    "# ser comparada com os resultados fornecidos pelo nosso modelo de previsão. Usaremos 5% (322 linhas) do df como teste.\n",
    "# Importaremos a função train_test_split para fazermos isso\n",
    "\n",
    "X1_train, X1_test, y1_train, y1_test = train_test_split(X1, y1, test_size = 0.05)"
   ]
  },
  {
   "cell_type": "code",
   "execution_count": 454,
   "metadata": {},
   "outputs": [
    {
     "data": {
      "text/plain": [
       "DecisionTreeRegressor()"
      ]
     },
     "execution_count": 454,
     "metadata": {},
     "output_type": "execute_result"
    }
   ],
   "source": [
    "# Treinando nosso conjunto de dados no modelo\n",
    "\n",
    "regressor1 = DecisionTreeRegressor()\n",
    "regressor1.fit(X1_train.reshape(-1,1), y1_train.reshape(-1,1))"
   ]
  },
  {
   "cell_type": "code",
   "execution_count": 455,
   "metadata": {},
   "outputs": [],
   "source": [
    "# Fornecimento da previsão da variável dependente (vendas semanais)\n",
    "\n",
    "y1_pred = regressor.predict(X1_test.reshape(-1,1))"
   ]
  },
  {
   "cell_type": "code",
   "execution_count": 456,
   "metadata": {},
   "outputs": [
    {
     "data": {
      "text/html": [
       "<div>\n",
       "<style scoped>\n",
       "    .dataframe tbody tr th:only-of-type {\n",
       "        vertical-align: middle;\n",
       "    }\n",
       "\n",
       "    .dataframe tbody tr th {\n",
       "        vertical-align: top;\n",
       "    }\n",
       "\n",
       "    .dataframe thead th {\n",
       "        text-align: right;\n",
       "    }\n",
       "</style>\n",
       "<table border=\"1\" class=\"dataframe\">\n",
       "  <thead>\n",
       "    <tr style=\"text-align: right;\">\n",
       "      <th></th>\n",
       "      <th>Valores reais</th>\n",
       "      <th>Valores previstos</th>\n",
       "    </tr>\n",
       "  </thead>\n",
       "  <tbody>\n",
       "    <tr>\n",
       "      <th>0</th>\n",
       "      <td>2039818.41</td>\n",
       "      <td>817485.14</td>\n",
       "    </tr>\n",
       "    <tr>\n",
       "      <th>1</th>\n",
       "      <td>1469593.37</td>\n",
       "      <td>675483.88</td>\n",
       "    </tr>\n",
       "    <tr>\n",
       "      <th>2</th>\n",
       "      <td>599488.98</td>\n",
       "      <td>466806.89</td>\n",
       "    </tr>\n",
       "    <tr>\n",
       "      <th>3</th>\n",
       "      <td>753447.05</td>\n",
       "      <td>713531.08</td>\n",
       "    </tr>\n",
       "    <tr>\n",
       "      <th>4</th>\n",
       "      <td>1879451.23</td>\n",
       "      <td>811365.42</td>\n",
       "    </tr>\n",
       "    <tr>\n",
       "      <th>...</th>\n",
       "      <td>...</td>\n",
       "      <td>...</td>\n",
       "    </tr>\n",
       "    <tr>\n",
       "      <th>317</th>\n",
       "      <td>973585.33</td>\n",
       "      <td>960645.83</td>\n",
       "    </tr>\n",
       "    <tr>\n",
       "      <th>318</th>\n",
       "      <td>1336404.65</td>\n",
       "      <td>1083657.61</td>\n",
       "    </tr>\n",
       "    <tr>\n",
       "      <th>319</th>\n",
       "      <td>370230.94</td>\n",
       "      <td>910298.44</td>\n",
       "    </tr>\n",
       "    <tr>\n",
       "      <th>320</th>\n",
       "      <td>1377322.73</td>\n",
       "      <td>715164.31</td>\n",
       "    </tr>\n",
       "    <tr>\n",
       "      <th>321</th>\n",
       "      <td>1523870.89</td>\n",
       "      <td>1663525.77</td>\n",
       "    </tr>\n",
       "  </tbody>\n",
       "</table>\n",
       "<p>322 rows × 2 columns</p>\n",
       "</div>"
      ],
      "text/plain": [
       "     Valores reais  Valores previstos\n",
       "0       2039818.41          817485.14\n",
       "1       1469593.37          675483.88\n",
       "2        599488.98          466806.89\n",
       "3        753447.05          713531.08\n",
       "4       1879451.23          811365.42\n",
       "..             ...                ...\n",
       "317      973585.33          960645.83\n",
       "318     1336404.65         1083657.61\n",
       "319      370230.94          910298.44\n",
       "320     1377322.73          715164.31\n",
       "321     1523870.89         1663525.77\n",
       "\n",
       "[322 rows x 2 columns]"
      ]
     },
     "execution_count": 456,
     "metadata": {},
     "output_type": "execute_result"
    }
   ],
   "source": [
    "# Comparação dos valores previstos com os valores reais\n",
    "\n",
    "comp1 = pd.DataFrame({'Valores reais':y1_test.reshape(-1), 'Valores previstos':y1_pred.reshape(-1)})\n",
    "comp1"
   ]
  },
  {
   "cell_type": "markdown",
   "metadata": {},
   "source": [
    "<a class=\"anchor\" id=\"section_4_1_1_2\"></a>\n",
    "### Medidas de avaliação do modelo Vendas x Lojas"
   ]
  },
  {
   "cell_type": "code",
   "execution_count": 457,
   "metadata": {},
   "outputs": [
    {
     "data": {
      "text/html": [
       "<div>\n",
       "<style scoped>\n",
       "    .dataframe tbody tr th:only-of-type {\n",
       "        vertical-align: middle;\n",
       "    }\n",
       "\n",
       "    .dataframe tbody tr th {\n",
       "        vertical-align: top;\n",
       "    }\n",
       "\n",
       "    .dataframe thead th {\n",
       "        text-align: right;\n",
       "    }\n",
       "</style>\n",
       "<table border=\"1\" class=\"dataframe\">\n",
       "  <thead>\n",
       "    <tr style=\"text-align: right;\">\n",
       "      <th></th>\n",
       "      <th>Valores reais</th>\n",
       "      <th>Valores previstos</th>\n",
       "      <th>dif</th>\n",
       "    </tr>\n",
       "  </thead>\n",
       "  <tbody>\n",
       "    <tr>\n",
       "      <th>0</th>\n",
       "      <td>2039818.41</td>\n",
       "      <td>817485.14</td>\n",
       "      <td>-1222333.27</td>\n",
       "    </tr>\n",
       "    <tr>\n",
       "      <th>1</th>\n",
       "      <td>1469593.37</td>\n",
       "      <td>675483.88</td>\n",
       "      <td>-794109.49</td>\n",
       "    </tr>\n",
       "    <tr>\n",
       "      <th>2</th>\n",
       "      <td>599488.98</td>\n",
       "      <td>466806.89</td>\n",
       "      <td>-132682.09</td>\n",
       "    </tr>\n",
       "    <tr>\n",
       "      <th>3</th>\n",
       "      <td>753447.05</td>\n",
       "      <td>713531.08</td>\n",
       "      <td>-39915.97</td>\n",
       "    </tr>\n",
       "    <tr>\n",
       "      <th>4</th>\n",
       "      <td>1879451.23</td>\n",
       "      <td>811365.42</td>\n",
       "      <td>-1068085.81</td>\n",
       "    </tr>\n",
       "    <tr>\n",
       "      <th>...</th>\n",
       "      <td>...</td>\n",
       "      <td>...</td>\n",
       "      <td>...</td>\n",
       "    </tr>\n",
       "    <tr>\n",
       "      <th>317</th>\n",
       "      <td>973585.33</td>\n",
       "      <td>960645.83</td>\n",
       "      <td>-12939.50</td>\n",
       "    </tr>\n",
       "    <tr>\n",
       "      <th>318</th>\n",
       "      <td>1336404.65</td>\n",
       "      <td>1083657.61</td>\n",
       "      <td>-252747.04</td>\n",
       "    </tr>\n",
       "    <tr>\n",
       "      <th>319</th>\n",
       "      <td>370230.94</td>\n",
       "      <td>910298.44</td>\n",
       "      <td>540067.50</td>\n",
       "    </tr>\n",
       "    <tr>\n",
       "      <th>320</th>\n",
       "      <td>1377322.73</td>\n",
       "      <td>715164.31</td>\n",
       "      <td>-662158.42</td>\n",
       "    </tr>\n",
       "    <tr>\n",
       "      <th>321</th>\n",
       "      <td>1523870.89</td>\n",
       "      <td>1663525.77</td>\n",
       "      <td>139654.88</td>\n",
       "    </tr>\n",
       "  </tbody>\n",
       "</table>\n",
       "<p>322 rows × 3 columns</p>\n",
       "</div>"
      ],
      "text/plain": [
       "     Valores reais  Valores previstos         dif\n",
       "0       2039818.41          817485.14 -1222333.27\n",
       "1       1469593.37          675483.88  -794109.49\n",
       "2        599488.98          466806.89  -132682.09\n",
       "3        753447.05          713531.08   -39915.97\n",
       "4       1879451.23          811365.42 -1068085.81\n",
       "..             ...                ...         ...\n",
       "317      973585.33          960645.83   -12939.50\n",
       "318     1336404.65         1083657.61  -252747.04\n",
       "319      370230.94          910298.44   540067.50\n",
       "320     1377322.73          715164.31  -662158.42\n",
       "321     1523870.89         1663525.77   139654.88\n",
       "\n",
       "[322 rows x 3 columns]"
      ]
     },
     "execution_count": 457,
     "metadata": {},
     "output_type": "execute_result"
    }
   ],
   "source": [
    "# Criaremos uma coluna com a diferença entre o valor previsto e o valor real \n",
    "\n",
    "comp1['dif'] = comp1['Valores previstos'] - comp1['Valores reais']\n",
    "comp1"
   ]
  },
  {
   "cell_type": "code",
   "execution_count": 458,
   "metadata": {},
   "outputs": [
    {
     "data": {
      "text/plain": [
       "-95353.63439182194"
      ]
     },
     "execution_count": 458,
     "metadata": {},
     "output_type": "execute_result"
    }
   ],
   "source": [
    "# média da soma das diferenças\n",
    "\n",
    "comp1['dif'].mean()"
   ]
  },
  {
   "cell_type": "code",
   "execution_count": 459,
   "metadata": {},
   "outputs": [
    {
     "data": {
      "image/png": "[encoded data removed]",
      "text/plain": [
       "<Figure size 432x288 with 1 Axes>"
      ]
     },
     "metadata": {
      "needs_background": "light"
     },
     "output_type": "display_data"
    },
    {
     "data": {
      "image/png": "[encoded data removed]",
      "text/plain": [
       "<Figure size 432x288 with 1 Axes>"
      ]
     },
     "metadata": {
      "needs_background": "light"
     },
     "output_type": "display_data"
    }
   ],
   "source": [
    "# Montagem de dois gráficos que mostram a relação entre as variáveis, um de dispersão e outro de linha\n",
    "\n",
    "# gráfico de dispersão\n",
    "\n",
    "X1_grid = np.arange(min(X), max(X), 0.01)\n",
    "X1_grid = X1_grid.reshape((len(X1_grid), 1))\n",
    "plt.scatter(X1_test, y1_test, color = 'red')\n",
    "plt.scatter(X1_test, y1_pred, color = 'green')\n",
    "plt.title('Decision Tree Regression')\n",
    "plt.xlabel('Store')\n",
    "plt.ylabel('Weekly_Sales')\n",
    "plt.show()\n",
    "\n",
    "# gráfico de linhas\n",
    "\n",
    "plt.plot(X1_grid, regressor.predict(X1_grid), color = 'gray')\n",
    "plt.title('Decision Tree Regression')\n",
    "plt.xlabel('Store')\n",
    "plt.ylabel('Weekly_Sales')\n",
    "plt.show()"
   ]
  },
  {
   "cell_type": "code",
   "execution_count": 460,
   "metadata": {},
   "outputs": [
    {
     "data": {
      "application/vnd.plotly.v1+json": {
       "config": {
        "plotlyServerURL": "https://plot.ly"
       },
       "data": [
        {
         "hovertemplate": "variable=Valores reais<br>index=%{x}<br>value=%{y}<extra></extra>",
         "legendgroup": "Valores reais",
         "line": {
          "color": "#636efa",
          "dash": "solid"
         },
         "marker": {
          "symbol": "circle"
         },
         "mode": "lines",
         "name": "Valores reais",
         "orientation": "v",
         "showlegend": true,
         "type": "scatter",
         "x": [
          0,
          1,
          2,
          3,
          4,
          5,
          6,
          7,
          8,
          9,
          10,
          11,
          12,
          13,
          14,
          15,
          16,
          17,
          18,
          19,
          20,
          21,
          22,
          23,
          24,
          25,
          26,
          27,
          28,
          29,
          30,
          31,
          32,
          33,
          34,
          35,
          36,
          37,
          38,
          39,
          40,
          41,
          42,
          43,
          44,
          45,
          46,
          47,
          48,
          49,
          50,
          51,
          52,
          53,
          54,
          55,
          56,
          57,
          58,
          59,
          60,
          61,
          62,
          63,
          64,
          65,
          66,
          67,
          68,
          69,
          70,
          71,
          72,
          73,
          74,
          75,
          76,
          77,
          78,
          79,
          80,
          81,
          82,
          83,
          84,
          85,
          86,
          87,
          88,
          89,
          90,
          91,
          92,
          93,
          94,
          95,
          96,
          97,
          98,
          99,
          100,
          101,
          102,
          103,
          104,
          105,
          106,
          107,
          108,
          109,
          110,
          111,
          112,
          113,
          114,
          115,
          116,
          117,
          118,
          119,
          120,
          121,
          122,
          123,
          124,
          125,
          126,
          127,
          128,
          129,
          130,
          131,
          132,
          133,
          134,
          135,
          136,
          137,
          138,
          139,
          140,
          141,
          142,
          143,
          144,
          145,
          146,
          147,
          148,
          149,
          150,
          151,
          152,
          153,
          154,
          155,
          156,
          157,
          158,
          159,
          160,
          161,
          162,
          163,
          164,
          165,
          166,
          167,
          168,
          169,
          170,
          171,
          172,
          173,
          174,
          175,
          176,
          177,
          178,
          179,
          180,
          181,
          182,
          183,
          184,
          185,
          186,
          187,
          188,
          189,
          190,
          191,
          192,
          193,
          194,
          195,
          196,
          197,
          198,
          199,
          200,
          201,
          202,
          203,
          204,
          205,
          206,
          207,
          208,
          209,
          210,
          211,
          212,
          213,
          214,
          215,
          216,
          217,
          218,
          219,
          220,
          221,
          222,
          223,
          224,
          225,
          226,
          227,
          228,
          229,
          230,
          231,
          232,
          233,
          234,
          235,
          236,
          237,
          238,
          239,
          240,
          241,
          242,
          243,
          244,
          245,
          246,
          247,
          248,
          249,
          250,
          251,
          252,
          253,
          254,
          255,
          256,
          257,
          258,
          259,
          260,
          261,
          262,
          263,
          264,
          265,
          266,
          267,
          268,
          269,
          270,
          271,
          272,
          273,
          274,
          275,
          276,
          277,
          278,
          279,
          280,
          281,
          282,
          283,
          284,
          285,
          286,
          287,
          288,
          289,
          290,
          291,
          292,
          293,
          294,
          295,
          296,
          297,
          298,
          299,
          300,
          301,
          302,
          303,
          304,
          305,
          306,
          307,
          308,
          309,
          310,
          311,
          312,
          313,
          314,
          315,
          316,
          317,
          318,
          319,
          320,
          321
         ],
         "xaxis": "x",
         "y": [
          2039818.41,
          1469593.3699999999,
          599488.98,
          753447.05,
          1879451.23,
          526641.23,
          1399456.99,
          642678.53,
          1781767.22,
          829207.27,
          1935857.58,
          826546.96,
          830756.76,
          230519.49,
          483660.15,
          1913494.81,
          354078.95,
          391860.04,
          517021.3,
          497373.49,
          680254.35,
          1908278.27,
          788340.23,
          485764.32,
          1042454.61,
          505610.39999999997,
          1412721.18,
          2094373,
          874446.32,
          976453.34,
          718232.26,
          541216.92,
          1332952.47,
          1635078.41,
          384200.69,
          533414.62,
          682447.1,
          402985.7,
          822569.16,
          551553.99,
          1234875.33,
          476420.77,
          1140578.16,
          756527.64,
          1621031.7,
          766512.66,
          488008.83,
          509183.22000000003,
          1975374.56,
          238875.26,
          577011.26,
          943951.67,
          2095591.63,
          911210.81,
          276279.49,
          1609951.02,
          718890.8099999999,
          722496.9299999999,
          559285.35,
          378100.31,
          953314.16,
          525616.9,
          1444732.28,
          1192074.09,
          1457270.16,
          243477.03,
          1761016.51,
          374574.72000000003,
          1052429.03,
          1297535.69,
          2082355.12,
          1045722.37,
          643032.51,
          1640168.99,
          1805885.04,
          537276.41,
          2182437.9,
          723987.85,
          1734834.82,
          1286413.71,
          764155.44,
          1096692.88,
          551969.1,
          1107552.43,
          259527.75,
          619225.65,
          495269,
          506705.36,
          1418697.05,
          1316899.31,
          2427640.17,
          1632894.58,
          891671.4400000001,
          590739.62,
          303643.83999999997,
          1331137.96,
          919595.44,
          341381.08,
          507086.75,
          498749.62,
          684340.86,
          1514999.17,
          888368.8,
          944523.3,
          984336.04,
          322046.76,
          1974960.8599999999,
          517408.48,
          2137202.38,
          502662.07,
          346137.87,
          1571158.56,
          1871555.64,
          1004523.59,
          759407.87,
          291530.43,
          917883.79,
          488683.57,
          820288.35,
          345381.29,
          1903385.14,
          1208654.4,
          1792210.89,
          506743.78,
          1333347.78,
          257031.19,
          619639.74,
          457216.87,
          2204556.7,
          1077018.27,
          1024778.23,
          1990483.78,
          1684468.66,
          2100489.79,
          1536549.95,
          272997.65,
          607819.33,
          488782.63,
          1593012.75,
          881930.87,
          1033719.5,
          526434.37,
          1161615.51,
          787295.09,
          513991.57,
          1387365.19,
          1273279.79,
          1407897.57,
          538344.1,
          1029849.2,
          1927610.06,
          1863195.68,
          874790.6799999999,
          944594.78,
          1135035.09,
          358784.1,
          1382783.83,
          1685652.35,
          871692.74,
          847348.08,
          1970341.38,
          802003.61,
          718125.53,
          302423.93,
          1296658.47,
          1375307.54,
          1245772.7,
          895763.41,
          1569607.94,
          341630.46,
          341214.43,
          1912791.09,
          432268.53,
          1319773.55,
          538745.9299999999,
          600448.6900000001,
          433037.66000000003,
          1023997.71,
          498241.06,
          1375962.46,
          1280465.8,
          1297335.87,
          598301.5,
          321205.12,
          572387.47,
          528940.78,
          747888.25,
          1407191.96,
          1017045.4400000001,
          711671.58,
          979825.9199999999,
          395195.65,
          513073.87,
          965853.58,
          527402.62,
          1527455.19,
          1712995.44,
          1110706.06,
          2031650.55,
          399699.17,
          794397.89,
          945823.65,
          303447.57,
          940299.87,
          1239813.26,
          899036.47,
          508801.61,
          1007906.43,
          1466046.67,
          977950.28,
          1890870.75,
          1155594.2,
          1617025.41,
          424614.59,
          641965.2,
          2043245,
          1037687.07,
          748435.2,
          485095.41,
          1333315.03,
          1456957.38,
          300152.45,
          2760346.71,
          582552.26,
          945643.17,
          610985.56,
          334042.43,
          605325.43,
          430526.21,
          3436007.68,
          728311.15,
          934917.47,
          651178.2,
          437773.31,
          998362.05,
          395107.35000000003,
          698536.0599999999,
          506343.83,
          873347.5499999999,
          1456073.24,
          1821990.93,
          455162.92,
          548542.47,
          474653.06,
          411615.71,
          1476144.34,
          394645.25,
          1682614.26,
          960746.04,
          513372.17,
          1953416.06,
          1355405.95,
          301615.49,
          635118.48,
          2284106.6,
          974697.6,
          1220983.17,
          1916812.74,
          242813.51,
          493078.64,
          982322.24,
          1307551.92,
          1615987.96,
          413617.45,
          424956.3,
          773603.77,
          1406124.14,
          441683.74,
          606671.5,
          2125241.68,
          993311.59,
          1970121.65,
          379716.91000000003,
          2097266.85,
          1741308.56,
          597667.21,
          287523.98,
          1075687.74,
          533905.67,
          515119.64,
          661566.48,
          1415473.91,
          1327719.34,
          431294.45,
          848630.5700000001,
          984689.9,
          544643.33,
          2091903.63,
          902050.9500000001,
          234175.92,
          873415.01,
          1025766.27,
          1016143.64,
          860293.46,
          549528.16,
          479855,
          2302504.86,
          1802450.29,
          1844094.59,
          2135062.04,
          2065191.27,
          1949183.14,
          875038.84,
          844373.3099999999,
          1028635.39,
          1550369.92,
          1408968.55,
          1485540.28,
          2074548.8499999999,
          522673.62,
          2350098.36,
          1430348.1,
          771686.4,
          624099.48,
          1923957.0899999999,
          550735.64,
          1824711.21,
          973585.33,
          1336404.65,
          370230.94,
          1377322.73,
          1523870.8900000001
         ],
         "yaxis": "y"
        },
        {
         "hovertemplate": "variable=Valores previstos<br>index=%{x}<br>value=%{y}<extra></extra>",
         "legendgroup": "Valores previstos",
         "line": {
          "color": "#EF553B",
          "dash": "solid"
         },
         "marker": {
          "symbol": "circle"
         },
         "mode": "lines",
         "name": "Valores previstos",
         "orientation": "v",
         "showlegend": true,
         "type": "scatter",
         "x": [
          0,
          1,
          2,
          3,
          4,
          5,
          6,
          7,
          8,
          9,
          10,
          11,
          12,
          13,
          14,
          15,
          16,
          17,
          18,
          19,
          20,
          21,
          22,
          23,
          24,
          25,
          26,
          27,
          28,
          29,
          30,
          31,
          32,
          33,
          34,
          35,
          36,
          37,
          38,
          39,
          40,
          41,
          42,
          43,
          44,
          45,
          46,
          47,
          48,
          49,
          50,
          51,
          52,
          53,
          54,
          55,
          56,
          57,
          58,
          59,
          60,
          61,
          62,
          63,
          64,
          65,
          66,
          67,
          68,
          69,
          70,
          71,
          72,
          73,
          74,
          75,
          76,
          77,
          78,
          79,
          80,
          81,
          82,
          83,
          84,
          85,
          86,
          87,
          88,
          89,
          90,
          91,
          92,
          93,
          94,
          95,
          96,
          97,
          98,
          99,
          100,
          101,
          102,
          103,
          104,
          105,
          106,
          107,
          108,
          109,
          110,
          111,
          112,
          113,
          114,
          115,
          116,
          117,
          118,
          119,
          120,
          121,
          122,
          123,
          124,
          125,
          126,
          127,
          128,
          129,
          130,
          131,
          132,
          133,
          134,
          135,
          136,
          137,
          138,
          139,
          140,
          141,
          142,
          143,
          144,
          145,
          146,
          147,
          148,
          149,
          150,
          151,
          152,
          153,
          154,
          155,
          156,
          157,
          158,
          159,
          160,
          161,
          162,
          163,
          164,
          165,
          166,
          167,
          168,
          169,
          170,
          171,
          172,
          173,
          174,
          175,
          176,
          177,
          178,
          179,
          180,
          181,
          182,
          183,
          184,
          185,
          186,
          187,
          188,
          189,
          190,
          191,
          192,
          193,
          194,
          195,
          196,
          197,
          198,
          199,
          200,
          201,
          202,
          203,
          204,
          205,
          206,
          207,
          208,
          209,
          210,
          211,
          212,
          213,
          214,
          215,
          216,
          217,
          218,
          219,
          220,
          221,
          222,
          223,
          224,
          225,
          226,
          227,
          228,
          229,
          230,
          231,
          232,
          233,
          234,
          235,
          236,
          237,
          238,
          239,
          240,
          241,
          242,
          243,
          244,
          245,
          246,
          247,
          248,
          249,
          250,
          251,
          252,
          253,
          254,
          255,
          256,
          257,
          258,
          259,
          260,
          261,
          262,
          263,
          264,
          265,
          266,
          267,
          268,
          269,
          270,
          271,
          272,
          273,
          274,
          275,
          276,
          277,
          278,
          279,
          280,
          281,
          282,
          283,
          284,
          285,
          286,
          287,
          288,
          289,
          290,
          291,
          292,
          293,
          294,
          295,
          296,
          297,
          298,
          299,
          300,
          301,
          302,
          303,
          304,
          305,
          306,
          307,
          308,
          309,
          310,
          311,
          312,
          313,
          314,
          315,
          316,
          317,
          318,
          319,
          320,
          321
         ],
         "xaxis": "x",
         "y": [
          817485.14,
          675483.8800000001,
          466806.89,
          713531.08,
          811365.42,
          1104858.2149999999,
          1083657.6099999999,
          558794.63,
          661163.9400000001,
          1206917.2,
          817485.14,
          593875.46,
          593875.46,
          1549843.6866666668,
          558794.63,
          1365546.69,
          549505.55,
          817485.14,
          1440456.68,
          910298.44,
          713531.08,
          809833.21,
          713531.08,
          775910.43,
          960645.8300000001,
          1440456.68,
          1385362.49,
          809833.21,
          659950.36,
          659950.36,
          713531.08,
          910298.44,
          857899.075,
          558027.77,
          817485.14,
          1104858.2149999999,
          466806.89,
          817485.14,
          713531.08,
          466806.89,
          847294.04,
          817485.14,
          475770.14,
          1682368.32,
          558027.77,
          713531.08,
          593875.46,
          593875.46,
          1872365.99,
          1549843.6866666668,
          466806.89,
          913755.12,
          811365.42,
          913755.12,
          609736.12,
          1005448.76,
          1682368.32,
          713531.08,
          1104858.2149999999,
          910298.44,
          960645.8300000001,
          1440456.68,
          558027.77,
          715164.31,
          1005448.76,
          1549843.6866666668,
          1872365.99,
          1197678.8475000001,
          659950.36,
          847294.04,
          811365.42,
          835189.26,
          872716.5750000001,
          661163.9400000001,
          1365546.69,
          1104858.2149999999,
          809833.21,
          713531.08,
          661163.9400000001,
          1663525.77,
          1682368.32,
          715164.31,
          1440456.68,
          648652.01,
          1549843.6866666668,
          872716.5750000001,
          558794.63,
          558794.63,
          847294.04,
          558027.77,
          817485.14,
          675483.8800000001,
          593875.46,
          466806.89,
          817485.14,
          1385362.49,
          659950.36,
          609736.12,
          1440456.68,
          1440456.68,
          1370562.1099999999,
          1083071.14,
          1229257.7,
          835189.26,
          659950.36,
          549505.55,
          811365.42,
          558794.63,
          1872365.99,
          910298.44,
          1197678.8475000001,
          857899.075,
          811365.42,
          913755.12,
          1682368.32,
          1197678.8475000001,
          913755.12,
          775910.43,
          1229257.7,
          817485.14,
          1083071.14,
          847294.04,
          661163.9400000001,
          775910.43,
          475770.14,
          1549843.6866666668,
          466806.89,
          593875.46,
          811365.42,
          1059715.27,
          648652.01,
          817485.14,
          715164.31,
          1872365.99,
          1005448.76,
          609736.12,
          1682368.32,
          558794.63,
          847294.04,
          648652.01,
          1229257.7,
          1440456.68,
          835189.26,
          593875.46,
          775910.43,
          1385362.49,
          475770.14,
          847294.04,
          1440456.68,
          648652.01,
          817485.14,
          960645.8300000001,
          648652.01,
          593875.46,
          1663525.77,
          817485.14,
          1083071.14,
          1083071.14,
          1059715.27,
          835189.26,
          809833.21,
          1370562.1099999999,
          713531.08,
          1549843.6866666668,
          1005448.76,
          847294.04,
          475770.14,
          593875.46,
          1083657.6099999999,
          549505.55,
          817485.14,
          817485.14,
          817485.14,
          857899.075,
          775910.43,
          1682368.32,
          769522.33,
          475770.14,
          910298.44,
          1385362.49,
          1385362.49,
          1083657.6099999999,
          466806.89,
          817485.14,
          593875.46,
          1440456.68,
          713531.08,
          857899.075,
          960645.8300000001,
          713531.08,
          1059715.27,
          593875.46,
          775910.43,
          913755.12,
          466806.89,
          847294.04,
          661163.9400000001,
          857899.075,
          1872365.99,
          549505.55,
          1370562.1099999999,
          1059715.27,
          817485.14,
          913755.12,
          475770.14,
          593875.46,
          775910.43,
          659950.36,
          558027.77,
          659950.36,
          811365.42,
          847294.04,
          857899.075,
          769522.33,
          466806.89,
          1872365.99,
          659950.36,
          713531.08,
          910298.44,
          847294.04,
          675483.8800000001,
          609736.12,
          809833.21,
          1104858.2149999999,
          648652.01,
          775910.43,
          609736.12,
          466806.89,
          817485.14,
          817485.14,
          1370562.1099999999,
          1059715.27,
          1370562.1099999999,
          769522.33,
          1059715.27,
          817485.14,
          872716.5750000001,
          1104858.2149999999,
          775910.43,
          1083071.14,
          817485.14,
          769522.33,
          466806.89,
          558794.63,
          1197678.8475000001,
          857899.075,
          1197678.8475000001,
          558027.77,
          1206917.2,
          593875.46,
          1872365.99,
          1385362.49,
          817485.14,
          466806.89,
          1872365.99,
          1059715.27,
          835189.26,
          817485.14,
          1549843.6866666668,
          558794.63,
          1206917.2,
          1083071.14,
          1005448.76,
          769522.33,
          1197678.8475000001,
          713531.08,
          675483.8800000001,
          549505.55,
          1104858.2149999999,
          817485.14,
          659950.36,
          809833.21,
          817485.14,
          817485.14,
          661163.9400000001,
          1104858.2149999999,
          817485.14,
          659950.36,
          1440456.68,
          558794.63,
          1682368.32,
          1385362.49,
          1385362.49,
          1197678.8475000001,
          593875.46,
          1059715.27,
          775910.43,
          1872365.99,
          913755.12,
          1549843.6866666668,
          1229257.7,
          960645.8300000001,
          648652.01,
          1229257.7,
          1104858.2149999999,
          910298.44,
          817485.14,
          817485.14,
          817485.14,
          1872365.99,
          1872365.99,
          715164.31,
          659950.36,
          659950.36,
          715164.31,
          558027.77,
          1005448.76,
          1005448.76,
          817485.14,
          1104858.2149999999,
          1365546.69,
          1385362.49,
          713531.08,
          466806.89,
          817485.14,
          558794.63,
          1872365.99,
          960645.8300000001,
          1083657.6099999999,
          910298.44,
          715164.31,
          1663525.77
         ],
         "yaxis": "y"
        }
       ],
       "layout": {
        "legend": {
         "title": {
          "text": "variable"
         },
         "tracegroupgap": 0
        },
        "margin": {
         "t": 60
        },
        "template": {
         "data": {
          "bar": [
           {
            "error_x": {
             "color": "#2a3f5f"
            },
            "error_y": {
             "color": "#2a3f5f"
            },
            "marker": {
             "line": {
              "color": "#E5ECF6",
              "width": 0.5
             },
             "pattern": {
              "fillmode": "overlay",
              "size": 10,
              "solidity": 0.2
             }
            },
            "type": "bar"
           }
          ],
          "barpolar": [
           {
            "marker": {
             "line": {
              "color": "#E5ECF6",
              "width": 0.5
             },
             "pattern": {
              "fillmode": "overlay",
              "size": 10,
              "solidity": 0.2
             }
            },
            "type": "barpolar"
           }
          ],
          "carpet": [
           {
            "aaxis": {
             "endlinecolor": "#2a3f5f",
             "gridcolor": "white",
             "linecolor": "white",
             "minorgridcolor": "white",
             "startlinecolor": "#2a3f5f"
            },
            "baxis": {
             "endlinecolor": "#2a3f5f",
             "gridcolor": "white",
             "linecolor": "white",
             "minorgridcolor": "white",
             "startlinecolor": "#2a3f5f"
            },
            "type": "carpet"
           }
          ],
          "choropleth": [
           {
            "colorbar": {
             "outlinewidth": 0,
             "ticks": ""
            },
            "type": "choropleth"
           }
          ],
          "contour": [
           {
            "colorbar": {
             "outlinewidth": 0,
             "ticks": ""
            },
            "colorscale": [
             [
              0,
              "#0d0887"
             ],
             [
              0.1111111111111111,
              "#46039f"
             ],
             [
              0.2222222222222222,
              "#7201a8"
             ],
             [
              0.3333333333333333,
              "#9c179e"
             ],
             [
              0.4444444444444444,
              "#bd3786"
             ],
             [
              0.5555555555555556,
              "#d8576b"
             ],
             [
              0.6666666666666666,
              "#ed7953"
             ],
             [
              0.7777777777777778,
              "#fb9f3a"
             ],
             [
              0.8888888888888888,
              "#fdca26"
             ],
             [
              1,
              "#f0f921"
             ]
            ],
            "type": "contour"
           }
          ],
          "contourcarpet": [
           {
            "colorbar": {
             "outlinewidth": 0,
             "ticks": ""
            },
            "type": "contourcarpet"
           }
          ],
          "heatmap": [
           {
            "colorbar": {
             "outlinewidth": 0,
             "ticks": ""
            },
            "colorscale": [
             [
              0,
              "#0d0887"
             ],
             [
              0.1111111111111111,
              "#46039f"
             ],
             [
              0.2222222222222222,
              "#7201a8"
             ],
             [
              0.3333333333333333,
              "#9c179e"
             ],
             [
              0.4444444444444444,
              "#bd3786"
             ],
             [
              0.5555555555555556,
              "#d8576b"
             ],
             [
              0.6666666666666666,
              "#ed7953"
             ],
             [
              0.7777777777777778,
              "#fb9f3a"
             ],
             [
              0.8888888888888888,
              "#fdca26"
             ],
             [
              1,
              "#f0f921"
             ]
            ],
            "type": "heatmap"
           }
          ],
          "heatmapgl": [
           {
            "colorbar": {
             "outlinewidth": 0,
             "ticks": ""
            },
            "colorscale": [
             [
              0,
              "#0d0887"
             ],
             [
              0.1111111111111111,
              "#46039f"
             ],
             [
              0.2222222222222222,
              "#7201a8"
             ],
             [
              0.3333333333333333,
              "#9c179e"
             ],
             [
              0.4444444444444444,
              "#bd3786"
             ],
             [
              0.5555555555555556,
              "#d8576b"
             ],
             [
              0.6666666666666666,
              "#ed7953"
             ],
             [
              0.7777777777777778,
              "#fb9f3a"
             ],
             [
              0.8888888888888888,
              "#fdca26"
             ],
             [
              1,
              "#f0f921"
             ]
            ],
            "type": "heatmapgl"
           }
          ],
          "histogram": [
           {
            "marker": {
             "pattern": {
              "fillmode": "overlay",
              "size": 10,
              "solidity": 0.2
             }
            },
            "type": "histogram"
           }
          ],
          "histogram2d": [
           {
            "colorbar": {
             "outlinewidth": 0,
             "ticks": ""
            },
            "colorscale": [
             [
              0,
              "#0d0887"
             ],
             [
              0.1111111111111111,
              "#46039f"
             ],
             [
              0.2222222222222222,
              "#7201a8"
             ],
             [
              0.3333333333333333,
              "#9c179e"
             ],
             [
              0.4444444444444444,
              "#bd3786"
             ],
             [
              0.5555555555555556,
              "#d8576b"
             ],
             [
              0.6666666666666666,
              "#ed7953"
             ],
             [
              0.7777777777777778,
              "#fb9f3a"
             ],
             [
              0.8888888888888888,
              "#fdca26"
             ],
             [
              1,
              "#f0f921"
             ]
            ],
            "type": "histogram2d"
           }
          ],
          "histogram2dcontour": [
           {
            "colorbar": {
             "outlinewidth": 0,
             "ticks": ""
            },
            "colorscale": [
             [
              0,
              "#0d0887"
             ],
             [
              0.1111111111111111,
              "#46039f"
             ],
             [
              0.2222222222222222,
              "#7201a8"
             ],
             [
              0.3333333333333333,
              "#9c179e"
             ],
             [
              0.4444444444444444,
              "#bd3786"
             ],
             [
              0.5555555555555556,
              "#d8576b"
             ],
             [
              0.6666666666666666,
              "#ed7953"
             ],
             [
              0.7777777777777778,
              "#fb9f3a"
             ],
             [
              0.8888888888888888,
              "#fdca26"
             ],
             [
              1,
              "#f0f921"
             ]
            ],
            "type": "histogram2dcontour"
           }
          ],
          "mesh3d": [
           {
            "colorbar": {
             "outlinewidth": 0,
             "ticks": ""
            },
            "type": "mesh3d"
           }
          ],
          "parcoords": [
           {
            "line": {
             "colorbar": {
              "outlinewidth": 0,
              "ticks": ""
             }
            },
            "type": "parcoords"
           }
          ],
          "pie": [
           {
            "automargin": true,
            "type": "pie"
           }
          ],
          "scatter": [
           {
            "marker": {
             "colorbar": {
              "outlinewidth": 0,
              "ticks": ""
             }
            },
            "type": "scatter"
           }
          ],
          "scatter3d": [
           {
            "line": {
             "colorbar": {
              "outlinewidth": 0,
              "ticks": ""
             }
            },
            "marker": {
             "colorbar": {
              "outlinewidth": 0,
              "ticks": ""
             }
            },
            "type": "scatter3d"
           }
          ],
          "scattercarpet": [
           {
            "marker": {
             "colorbar": {
              "outlinewidth": 0,
              "ticks": ""
             }
            },
            "type": "scattercarpet"
           }
          ],
          "scattergeo": [
           {
            "marker": {
             "colorbar": {
              "outlinewidth": 0,
              "ticks": ""
             }
            },
            "type": "scattergeo"
           }
          ],
          "scattergl": [
           {
            "marker": {
             "colorbar": {
              "outlinewidth": 0,
              "ticks": ""
             }
            },
            "type": "scattergl"
           }
          ],
          "scattermapbox": [
           {
            "marker": {
             "colorbar": {
              "outlinewidth": 0,
              "ticks": ""
             }
            },
            "type": "scattermapbox"
           }
          ],
          "scatterpolar": [
           {
            "marker": {
             "colorbar": {
              "outlinewidth": 0,
              "ticks": ""
             }
            },
            "type": "scatterpolar"
           }
          ],
          "scatterpolargl": [
           {
            "marker": {
             "colorbar": {
              "outlinewidth": 0,
              "ticks": ""
             }
            },
            "type": "scatterpolargl"
           }
          ],
          "scatterternary": [
           {
            "marker": {
             "colorbar": {
              "outlinewidth": 0,
              "ticks": ""
             }
            },
            "type": "scatterternary"
           }
          ],
          "surface": [
           {
            "colorbar": {
             "outlinewidth": 0,
             "ticks": ""
            },
            "colorscale": [
             [
              0,
              "#0d0887"
             ],
             [
              0.1111111111111111,
              "#46039f"
             ],
             [
              0.2222222222222222,
              "#7201a8"
             ],
             [
              0.3333333333333333,
              "#9c179e"
             ],
             [
              0.4444444444444444,
              "#bd3786"
             ],
             [
              0.5555555555555556,
              "#d8576b"
             ],
             [
              0.6666666666666666,
              "#ed7953"
             ],
             [
              0.7777777777777778,
              "#fb9f3a"
             ],
             [
              0.8888888888888888,
              "#fdca26"
             ],
             [
              1,
              "#f0f921"
             ]
            ],
            "type": "surface"
           }
          ],
          "table": [
           {
            "cells": {
             "fill": {
              "color": "#EBF0F8"
             },
             "line": {
              "color": "white"
             }
            },
            "header": {
             "fill": {
              "color": "#C8D4E3"
             },
             "line": {
              "color": "white"
             }
            },
            "type": "table"
           }
          ]
         },
         "layout": {
          "annotationdefaults": {
           "arrowcolor": "#2a3f5f",
           "arrowhead": 0,
           "arrowwidth": 1
          },
          "autotypenumbers": "strict",
          "coloraxis": {
           "colorbar": {
            "outlinewidth": 0,
            "ticks": ""
           }
          },
          "colorscale": {
           "diverging": [
            [
             0,
             "#8e0152"
            ],
            [
             0.1,
             "#c51b7d"
            ],
            [
             0.2,
             "#de77ae"
            ],
            [
             0.3,
             "#f1b6da"
            ],
            [
             0.4,
             "#fde0ef"
            ],
            [
             0.5,
             "#f7f7f7"
            ],
            [
             0.6,
             "#e6f5d0"
            ],
            [
             0.7,
             "#b8e186"
            ],
            [
             0.8,
             "#7fbc41"
            ],
            [
             0.9,
             "#4d9221"
            ],
            [
             1,
             "#276419"
            ]
           ],
           "sequential": [
            [
             0,
             "#0d0887"
            ],
            [
             0.1111111111111111,
             "#46039f"
            ],
            [
             0.2222222222222222,
             "#7201a8"
            ],
            [
             0.3333333333333333,
             "#9c179e"
            ],
            [
             0.4444444444444444,
             "#bd3786"
            ],
            [
             0.5555555555555556,
             "#d8576b"
            ],
            [
             0.6666666666666666,
             "#ed7953"
            ],
            [
             0.7777777777777778,
             "#fb9f3a"
            ],
            [
             0.8888888888888888,
             "#fdca26"
            ],
            [
             1,
             "#f0f921"
            ]
           ],
           "sequentialminus": [
            [
             0,
             "#0d0887"
            ],
            [
             0.1111111111111111,
             "#46039f"
            ],
            [
             0.2222222222222222,
             "#7201a8"
            ],
            [
             0.3333333333333333,
             "#9c179e"
            ],
            [
             0.4444444444444444,
             "#bd3786"
            ],
            [
             0.5555555555555556,
             "#d8576b"
            ],
            [
             0.6666666666666666,
             "#ed7953"
            ],
            [
             0.7777777777777778,
             "#fb9f3a"
            ],
            [
             0.8888888888888888,
             "#fdca26"
            ],
            [
             1,
             "#f0f921"
            ]
           ]
          },
          "colorway": [
           "#636efa",
           "#EF553B",
           "#00cc96",
           "#ab63fa",
           "#FFA15A",
           "#19d3f3",
           "#FF6692",
           "#B6E880",
           "#FF97FF",
           "#FECB52"
          ],
          "font": {
           "color": "#2a3f5f"
          },
          "geo": {
           "bgcolor": "white",
           "lakecolor": "white",
           "landcolor": "#E5ECF6",
           "showlakes": true,
           "showland": true,
           "subunitcolor": "white"
          },
          "hoverlabel": {
           "align": "left"
          },
          "hovermode": "closest",
          "mapbox": {
           "style": "light"
          },
          "paper_bgcolor": "white",
          "plot_bgcolor": "#E5ECF6",
          "polar": {
           "angularaxis": {
            "gridcolor": "white",
            "linecolor": "white",
            "ticks": ""
           },
           "bgcolor": "#E5ECF6",
           "radialaxis": {
            "gridcolor": "white",
            "linecolor": "white",
            "ticks": ""
           }
          },
          "scene": {
           "xaxis": {
            "backgroundcolor": "#E5ECF6",
            "gridcolor": "white",
            "gridwidth": 2,
            "linecolor": "white",
            "showbackground": true,
            "ticks": "",
            "zerolinecolor": "white"
           },
           "yaxis": {
            "backgroundcolor": "#E5ECF6",
            "gridcolor": "white",
            "gridwidth": 2,
            "linecolor": "white",
            "showbackground": true,
            "ticks": "",
            "zerolinecolor": "white"
           },
           "zaxis": {
            "backgroundcolor": "#E5ECF6",
            "gridcolor": "white",
            "gridwidth": 2,
            "linecolor": "white",
            "showbackground": true,
            "ticks": "",
            "zerolinecolor": "white"
           }
          },
          "shapedefaults": {
           "line": {
            "color": "#2a3f5f"
           }
          },
          "ternary": {
           "aaxis": {
            "gridcolor": "white",
            "linecolor": "white",
            "ticks": ""
           },
           "baxis": {
            "gridcolor": "white",
            "linecolor": "white",
            "ticks": ""
           },
           "bgcolor": "#E5ECF6",
           "caxis": {
            "gridcolor": "white",
            "linecolor": "white",
            "ticks": ""
           }
          },
          "title": {
           "x": 0.05
          },
          "xaxis": {
           "automargin": true,
           "gridcolor": "white",
           "linecolor": "white",
           "ticks": "",
           "title": {
            "standoff": 15
           },
           "zerolinecolor": "white",
           "zerolinewidth": 2
          },
          "yaxis": {
           "automargin": true,
           "gridcolor": "white",
           "linecolor": "white",
           "ticks": "",
           "title": {
            "standoff": 15
           },
           "zerolinecolor": "white",
           "zerolinewidth": 2
          }
         }
        },
        "xaxis": {
         "anchor": "y",
         "domain": [
          0,
          1
         ],
         "title": {
          "text": "index"
         }
        },
        "yaxis": {
         "anchor": "x",
         "domain": [
          0,
          1
         ],
         "title": {
          "text": "value"
         }
        }
       }
      },
      "text/html": [
       "<div>                            <div id=\"1357eda7-0f4d-410e-b181-766de88a3133\" class=\"plotly-graph-div\" style=\"height:525px; width:100%;\"></div>            <script type=\"text/javascript\">                require([\"plotly\"], function(Plotly) {                    window.PLOTLYENV=window.PLOTLYENV || {};                                    if (document.getElementById(\"1357eda7-0f4d-410e-b181-766de88a3133\")) {                    Plotly.newPlot(                        \"1357eda7-0f4d-410e-b181-766de88a3133\",                        [{\"hovertemplate\":\"variable=Valores reais<br>index=%{x}<br>value=%{y}<extra></extra>\",\"legendgroup\":\"Valores reais\",\"line\":{\"color\":\"#636efa\",\"dash\":\"solid\"},\"marker\":{\"symbol\":\"circle\"},\"mode\":\"lines\",\"name\":\"Valores reais\",\"orientation\":\"v\",\"showlegend\":true,\"x\":[0,1,2,3,4,5,6,7,8,9,10,11,12,13,14,15,16,17,18,19,20,21,22,23,24,25,26,27,28,29,30,31,32,33,34,35,36,37,38,39,40,41,42,43,44,45,46,47,48,49,50,51,52,53,54,55,56,57,58,59,60,61,62,63,64,65,66,67,68,69,70,71,72,73,74,75,76,77,78,79,80,81,82,83,84,85,86,87,88,89,90,91,92,93,94,95,96,97,98,99,100,101,102,103,104,105,106,107,108,109,110,111,112,113,114,115,116,117,118,119,120,121,122,123,124,125,126,127,128,129,130,131,132,133,134,135,136,137,138,139,140,141,142,143,144,145,146,147,148,149,150,151,152,153,154,155,156,157,158,159,160,161,162,163,164,165,166,167,168,169,170,171,172,173,174,175,176,177,178,179,180,181,182,183,184,185,186,187,188,189,190,191,192,193,194,195,196,197,198,199,200,201,202,203,204,205,206,207,208,209,210,211,212,213,214,215,216,217,218,219,220,221,222,223,224,225,226,227,228,229,230,231,232,233,234,235,236,237,238,239,240,241,242,243,244,245,246,247,248,249,250,251,252,253,254,255,256,257,258,259,260,261,262,263,264,265,266,267,268,269,270,271,272,273,274,275,276,277,278,279,280,281,282,283,284,285,286,287,288,289,290,291,292,293,294,295,296,297,298,299,300,301,302,303,304,305,306,307,308,309,310,311,312,313,314,315,316,317,318,319,320,321],\"xaxis\":\"x\",\"y\":[2039818.41,1469593.3699999999,599488.98,753447.05,1879451.23,526641.23,1399456.99,642678.53,1781767.22,829207.27,1935857.58,826546.96,830756.76,230519.49,483660.15,1913494.81,354078.95,391860.04,517021.3,497373.49,680254.35,1908278.27,788340.23,485764.32,1042454.61,505610.39999999997,1412721.18,2094373.0,874446.32,976453.34,718232.26,541216.92,1332952.47,1635078.41,384200.69,533414.62,682447.1,402985.7,822569.16,551553.99,1234875.33,476420.77,1140578.16,756527.64,1621031.7,766512.66,488008.83,509183.22000000003,1975374.56,238875.26,577011.26,943951.67,2095591.63,911210.81,276279.49,1609951.02,718890.8099999999,722496.9299999999,559285.35,378100.31,953314.16,525616.9,1444732.28,1192074.09,1457270.16,243477.03,1761016.51,374574.72000000003,1052429.03,1297535.69,2082355.12,1045722.37,643032.51,1640168.99,1805885.04,537276.41,2182437.9,723987.85,1734834.82,1286413.71,764155.44,1096692.88,551969.1,1107552.43,259527.75,619225.65,495269.0,506705.36,1418697.05,1316899.31,2427640.17,1632894.58,891671.4400000001,590739.62,303643.83999999997,1331137.96,919595.44,341381.08,507086.75,498749.62,684340.86,1514999.17,888368.8,944523.3,984336.04,322046.76,1974960.8599999999,517408.48,2137202.38,502662.07,346137.87,1571158.56,1871555.64,1004523.59,759407.87,291530.43,917883.79,488683.57,820288.35,345381.29,1903385.14,1208654.4,1792210.89,506743.78,1333347.78,257031.19,619639.74,457216.87,2204556.7,1077018.27,1024778.23,1990483.78,1684468.66,2100489.79,1536549.95,272997.65,607819.33,488782.63,1593012.75,881930.87,1033719.5,526434.37,1161615.51,787295.09,513991.57,1387365.19,1273279.79,1407897.57,538344.1,1029849.2,1927610.06,1863195.68,874790.6799999999,944594.78,1135035.09,358784.1,1382783.83,1685652.35,871692.74,847348.08,1970341.38,802003.61,718125.53,302423.93,1296658.47,1375307.54,1245772.7,895763.41,1569607.94,341630.46,341214.43,1912791.09,432268.53,1319773.55,538745.9299999999,600448.6900000001,433037.66000000003,1023997.71,498241.06,1375962.46,1280465.8,1297335.87,598301.5,321205.12,572387.47,528940.78,747888.25,1407191.96,1017045.4400000001,711671.58,979825.9199999999,395195.65,513073.87,965853.58,527402.62,1527455.19,1712995.44,1110706.06,2031650.55,399699.17,794397.89,945823.65,303447.57,940299.87,1239813.26,899036.47,508801.61,1007906.43,1466046.67,977950.28,1890870.75,1155594.2,1617025.41,424614.59,641965.2,2043245.0,1037687.07,748435.2,485095.41,1333315.03,1456957.38,300152.45,2760346.71,582552.26,945643.17,610985.56,334042.43,605325.43,430526.21,3436007.68,728311.15,934917.47,651178.2,437773.31,998362.05,395107.35000000003,698536.0599999999,506343.83,873347.5499999999,1456073.24,1821990.93,455162.92,548542.47,474653.06,411615.71,1476144.34,394645.25,1682614.26,960746.04,513372.17,1953416.06,1355405.95,301615.49,635118.48,2284106.6,974697.6,1220983.17,1916812.74,242813.51,493078.64,982322.24,1307551.92,1615987.96,413617.45,424956.3,773603.77,1406124.14,441683.74,606671.5,2125241.68,993311.59,1970121.65,379716.91000000003,2097266.85,1741308.56,597667.21,287523.98,1075687.74,533905.67,515119.64,661566.48,1415473.91,1327719.34,431294.45,848630.5700000001,984689.9,544643.33,2091903.63,902050.9500000001,234175.92,873415.01,1025766.27,1016143.64,860293.46,549528.16,479855.0,2302504.86,1802450.29,1844094.59,2135062.04,2065191.27,1949183.14,875038.84,844373.3099999999,1028635.39,1550369.92,1408968.55,1485540.28,2074548.8499999999,522673.62,2350098.36,1430348.1,771686.4,624099.48,1923957.0899999999,550735.64,1824711.21,973585.33,1336404.65,370230.94,1377322.73,1523870.8900000001],\"yaxis\":\"y\",\"type\":\"scatter\"},{\"hovertemplate\":\"variable=Valores previstos<br>index=%{x}<br>value=%{y}<extra></extra>\",\"legendgroup\":\"Valores previstos\",\"line\":{\"color\":\"#EF553B\",\"dash\":\"solid\"},\"marker\":{\"symbol\":\"circle\"},\"mode\":\"lines\",\"name\":\"Valores previstos\",\"orientation\":\"v\",\"showlegend\":true,\"x\":[0,1,2,3,4,5,6,7,8,9,10,11,12,13,14,15,16,17,18,19,20,21,22,23,24,25,26,27,28,29,30,31,32,33,34,35,36,37,38,39,40,41,42,43,44,45,46,47,48,49,50,51,52,53,54,55,56,57,58,59,60,61,62,63,64,65,66,67,68,69,70,71,72,73,74,75,76,77,78,79,80,81,82,83,84,85,86,87,88,89,90,91,92,93,94,95,96,97,98,99,100,101,102,103,104,105,106,107,108,109,110,111,112,113,114,115,116,117,118,119,120,121,122,123,124,125,126,127,128,129,130,131,132,133,134,135,136,137,138,139,140,141,142,143,144,145,146,147,148,149,150,151,152,153,154,155,156,157,158,159,160,161,162,163,164,165,166,167,168,169,170,171,172,173,174,175,176,177,178,179,180,181,182,183,184,185,186,187,188,189,190,191,192,193,194,195,196,197,198,199,200,201,202,203,204,205,206,207,208,209,210,211,212,213,214,215,216,217,218,219,220,221,222,223,224,225,226,227,228,229,230,231,232,233,234,235,236,237,238,239,240,241,242,243,244,245,246,247,248,249,250,251,252,253,254,255,256,257,258,259,260,261,262,263,264,265,266,267,268,269,270,271,272,273,274,275,276,277,278,279,280,281,282,283,284,285,286,287,288,289,290,291,292,293,294,295,296,297,298,299,300,301,302,303,304,305,306,307,308,309,310,311,312,313,314,315,316,317,318,319,320,321],\"xaxis\":\"x\",\"y\":[817485.14,675483.8800000001,466806.89,713531.08,811365.42,1104858.2149999999,1083657.6099999999,558794.63,661163.9400000001,1206917.2,817485.14,593875.46,593875.46,1549843.6866666668,558794.63,1365546.69,549505.55,817485.14,1440456.68,910298.44,713531.08,809833.21,713531.08,775910.43,960645.8300000001,1440456.68,1385362.49,809833.21,659950.36,659950.36,713531.08,910298.44,857899.075,558027.77,817485.14,1104858.2149999999,466806.89,817485.14,713531.08,466806.89,847294.04,817485.14,475770.14,1682368.32,558027.77,713531.08,593875.46,593875.46,1872365.99,1549843.6866666668,466806.89,913755.12,811365.42,913755.12,609736.12,1005448.76,1682368.32,713531.08,1104858.2149999999,910298.44,960645.8300000001,1440456.68,558027.77,715164.31,1005448.76,1549843.6866666668,1872365.99,1197678.8475000001,659950.36,847294.04,811365.42,835189.26,872716.5750000001,661163.9400000001,1365546.69,1104858.2149999999,809833.21,713531.08,661163.9400000001,1663525.77,1682368.32,715164.31,1440456.68,648652.01,1549843.6866666668,872716.5750000001,558794.63,558794.63,847294.04,558027.77,817485.14,675483.8800000001,593875.46,466806.89,817485.14,1385362.49,659950.36,609736.12,1440456.68,1440456.68,1370562.1099999999,1083071.14,1229257.7,835189.26,659950.36,549505.55,811365.42,558794.63,1872365.99,910298.44,1197678.8475000001,857899.075,811365.42,913755.12,1682368.32,1197678.8475000001,913755.12,775910.43,1229257.7,817485.14,1083071.14,847294.04,661163.9400000001,775910.43,475770.14,1549843.6866666668,466806.89,593875.46,811365.42,1059715.27,648652.01,817485.14,715164.31,1872365.99,1005448.76,609736.12,1682368.32,558794.63,847294.04,648652.01,1229257.7,1440456.68,835189.26,593875.46,775910.43,1385362.49,475770.14,847294.04,1440456.68,648652.01,817485.14,960645.8300000001,648652.01,593875.46,1663525.77,817485.14,1083071.14,1083071.14,1059715.27,835189.26,809833.21,1370562.1099999999,713531.08,1549843.6866666668,1005448.76,847294.04,475770.14,593875.46,1083657.6099999999,549505.55,817485.14,817485.14,817485.14,857899.075,775910.43,1682368.32,769522.33,475770.14,910298.44,1385362.49,1385362.49,1083657.6099999999,466806.89,817485.14,593875.46,1440456.68,713531.08,857899.075,960645.8300000001,713531.08,1059715.27,593875.46,775910.43,913755.12,466806.89,847294.04,661163.9400000001,857899.075,1872365.99,549505.55,1370562.1099999999,1059715.27,817485.14,913755.12,475770.14,593875.46,775910.43,659950.36,558027.77,659950.36,811365.42,847294.04,857899.075,769522.33,466806.89,1872365.99,659950.36,713531.08,910298.44,847294.04,675483.8800000001,609736.12,809833.21,1104858.2149999999,648652.01,775910.43,609736.12,466806.89,817485.14,817485.14,1370562.1099999999,1059715.27,1370562.1099999999,769522.33,1059715.27,817485.14,872716.5750000001,1104858.2149999999,775910.43,1083071.14,817485.14,769522.33,466806.89,558794.63,1197678.8475000001,857899.075,1197678.8475000001,558027.77,1206917.2,593875.46,1872365.99,1385362.49,817485.14,466806.89,1872365.99,1059715.27,835189.26,817485.14,1549843.6866666668,558794.63,1206917.2,1083071.14,1005448.76,769522.33,1197678.8475000001,713531.08,675483.8800000001,549505.55,1104858.2149999999,817485.14,659950.36,809833.21,817485.14,817485.14,661163.9400000001,1104858.2149999999,817485.14,659950.36,1440456.68,558794.63,1682368.32,1385362.49,1385362.49,1197678.8475000001,593875.46,1059715.27,775910.43,1872365.99,913755.12,1549843.6866666668,1229257.7,960645.8300000001,648652.01,1229257.7,1104858.2149999999,910298.44,817485.14,817485.14,817485.14,1872365.99,1872365.99,715164.31,659950.36,659950.36,715164.31,558027.77,1005448.76,1005448.76,817485.14,1104858.2149999999,1365546.69,1385362.49,713531.08,466806.89,817485.14,558794.63,1872365.99,960645.8300000001,1083657.6099999999,910298.44,715164.31,1663525.77],\"yaxis\":\"y\",\"type\":\"scatter\"}],                        {\"template\":{\"data\":{\"bar\":[{\"error_x\":{\"color\":\"#2a3f5f\"},\"error_y\":{\"color\":\"#2a3f5f\"},\"marker\":{\"line\":{\"color\":\"#E5ECF6\",\"width\":0.5},\"pattern\":{\"fillmode\":\"overlay\",\"size\":10,\"solidity\":0.2}},\"type\":\"bar\"}],\"barpolar\":[{\"marker\":{\"line\":{\"color\":\"#E5ECF6\",\"width\":0.5},\"pattern\":{\"fillmode\":\"overlay\",\"size\":10,\"solidity\":0.2}},\"type\":\"barpolar\"}],\"carpet\":[{\"aaxis\":{\"endlinecolor\":\"#2a3f5f\",\"gridcolor\":\"white\",\"linecolor\":\"white\",\"minorgridcolor\":\"white\",\"startlinecolor\":\"#2a3f5f\"},\"baxis\":{\"endlinecolor\":\"#2a3f5f\",\"gridcolor\":\"white\",\"linecolor\":\"white\",\"minorgridcolor\":\"white\",\"startlinecolor\":\"#2a3f5f\"},\"type\":\"carpet\"}],\"choropleth\":[{\"colorbar\":{\"outlinewidth\":0,\"ticks\":\"\"},\"type\":\"choropleth\"}],\"contour\":[{\"colorbar\":{\"outlinewidth\":0,\"ticks\":\"\"},\"colorscale\":[[0.0,\"#0d0887\"],[0.1111111111111111,\"#46039f\"],[0.2222222222222222,\"#7201a8\"],[0.3333333333333333,\"#9c179e\"],[0.4444444444444444,\"#bd3786\"],[0.5555555555555556,\"#d8576b\"],[0.6666666666666666,\"#ed7953\"],[0.7777777777777778,\"#fb9f3a\"],[0.8888888888888888,\"#fdca26\"],[1.0,\"#f0f921\"]],\"type\":\"contour\"}],\"contourcarpet\":[{\"colorbar\":{\"outlinewidth\":0,\"ticks\":\"\"},\"type\":\"contourcarpet\"}],\"heatmap\":[{\"colorbar\":{\"outlinewidth\":0,\"ticks\":\"\"},\"colorscale\":[[0.0,\"#0d0887\"],[0.1111111111111111,\"#46039f\"],[0.2222222222222222,\"#7201a8\"],[0.3333333333333333,\"#9c179e\"],[0.4444444444444444,\"#bd3786\"],[0.5555555555555556,\"#d8576b\"],[0.6666666666666666,\"#ed7953\"],[0.7777777777777778,\"#fb9f3a\"],[0.8888888888888888,\"#fdca26\"],[1.0,\"#f0f921\"]],\"type\":\"heatmap\"}],\"heatmapgl\":[{\"colorbar\":{\"outlinewidth\":0,\"ticks\":\"\"},\"colorscale\":[[0.0,\"#0d0887\"],[0.1111111111111111,\"#46039f\"],[0.2222222222222222,\"#7201a8\"],[0.3333333333333333,\"#9c179e\"],[0.4444444444444444,\"#bd3786\"],[0.5555555555555556,\"#d8576b\"],[0.6666666666666666,\"#ed7953\"],[0.7777777777777778,\"#fb9f3a\"],[0.8888888888888888,\"#fdca26\"],[1.0,\"#f0f921\"]],\"type\":\"heatmapgl\"}],\"histogram\":[{\"marker\":{\"pattern\":{\"fillmode\":\"overlay\",\"size\":10,\"solidity\":0.2}},\"type\":\"histogram\"}],\"histogram2d\":[{\"colorbar\":{\"outlinewidth\":0,\"ticks\":\"\"},\"colorscale\":[[0.0,\"#0d0887\"],[0.1111111111111111,\"#46039f\"],[0.2222222222222222,\"#7201a8\"],[0.3333333333333333,\"#9c179e\"],[0.4444444444444444,\"#bd3786\"],[0.5555555555555556,\"#d8576b\"],[0.6666666666666666,\"#ed7953\"],[0.7777777777777778,\"#fb9f3a\"],[0.8888888888888888,\"#fdca26\"],[1.0,\"#f0f921\"]],\"type\":\"histogram2d\"}],\"histogram2dcontour\":[{\"colorbar\":{\"outlinewidth\":0,\"ticks\":\"\"},\"colorscale\":[[0.0,\"#0d0887\"],[0.1111111111111111,\"#46039f\"],[0.2222222222222222,\"#7201a8\"],[0.3333333333333333,\"#9c179e\"],[0.4444444444444444,\"#bd3786\"],[0.5555555555555556,\"#d8576b\"],[0.6666666666666666,\"#ed7953\"],[0.7777777777777778,\"#fb9f3a\"],[0.8888888888888888,\"#fdca26\"],[1.0,\"#f0f921\"]],\"type\":\"histogram2dcontour\"}],\"mesh3d\":[{\"colorbar\":{\"outlinewidth\":0,\"ticks\":\"\"},\"type\":\"mesh3d\"}],\"parcoords\":[{\"line\":{\"colorbar\":{\"outlinewidth\":0,\"ticks\":\"\"}},\"type\":\"parcoords\"}],\"pie\":[{\"automargin\":true,\"type\":\"pie\"}],\"scatter\":[{\"marker\":{\"colorbar\":{\"outlinewidth\":0,\"ticks\":\"\"}},\"type\":\"scatter\"}],\"scatter3d\":[{\"line\":{\"colorbar\":{\"outlinewidth\":0,\"ticks\":\"\"}},\"marker\":{\"colorbar\":{\"outlinewidth\":0,\"ticks\":\"\"}},\"type\":\"scatter3d\"}],\"scattercarpet\":[{\"marker\":{\"colorbar\":{\"outlinewidth\":0,\"ticks\":\"\"}},\"type\":\"scattercarpet\"}],\"scattergeo\":[{\"marker\":{\"colorbar\":{\"outlinewidth\":0,\"ticks\":\"\"}},\"type\":\"scattergeo\"}],\"scattergl\":[{\"marker\":{\"colorbar\":{\"outlinewidth\":0,\"ticks\":\"\"}},\"type\":\"scattergl\"}],\"scattermapbox\":[{\"marker\":{\"colorbar\":{\"outlinewidth\":0,\"ticks\":\"\"}},\"type\":\"scattermapbox\"}],\"scatterpolar\":[{\"marker\":{\"colorbar\":{\"outlinewidth\":0,\"ticks\":\"\"}},\"type\":\"scatterpolar\"}],\"scatterpolargl\":[{\"marker\":{\"colorbar\":{\"outlinewidth\":0,\"ticks\":\"\"}},\"type\":\"scatterpolargl\"}],\"scatterternary\":[{\"marker\":{\"colorbar\":{\"outlinewidth\":0,\"ticks\":\"\"}},\"type\":\"scatterternary\"}],\"surface\":[{\"colorbar\":{\"outlinewidth\":0,\"ticks\":\"\"},\"colorscale\":[[0.0,\"#0d0887\"],[0.1111111111111111,\"#46039f\"],[0.2222222222222222,\"#7201a8\"],[0.3333333333333333,\"#9c179e\"],[0.4444444444444444,\"#bd3786\"],[0.5555555555555556,\"#d8576b\"],[0.6666666666666666,\"#ed7953\"],[0.7777777777777778,\"#fb9f3a\"],[0.8888888888888888,\"#fdca26\"],[1.0,\"#f0f921\"]],\"type\":\"surface\"}],\"table\":[{\"cells\":{\"fill\":{\"color\":\"#EBF0F8\"},\"line\":{\"color\":\"white\"}},\"header\":{\"fill\":{\"color\":\"#C8D4E3\"},\"line\":{\"color\":\"white\"}},\"type\":\"table\"}]},\"layout\":{\"annotationdefaults\":{\"arrowcolor\":\"#2a3f5f\",\"arrowhead\":0,\"arrowwidth\":1},\"autotypenumbers\":\"strict\",\"coloraxis\":{\"colorbar\":{\"outlinewidth\":0,\"ticks\":\"\"}},\"colorscale\":{\"diverging\":[[0,\"#8e0152\"],[0.1,\"#c51b7d\"],[0.2,\"#de77ae\"],[0.3,\"#f1b6da\"],[0.4,\"#fde0ef\"],[0.5,\"#f7f7f7\"],[0.6,\"#e6f5d0\"],[0.7,\"#b8e186\"],[0.8,\"#7fbc41\"],[0.9,\"#4d9221\"],[1,\"#276419\"]],\"sequential\":[[0.0,\"#0d0887\"],[0.1111111111111111,\"#46039f\"],[0.2222222222222222,\"#7201a8\"],[0.3333333333333333,\"#9c179e\"],[0.4444444444444444,\"#bd3786\"],[0.5555555555555556,\"#d8576b\"],[0.6666666666666666,\"#ed7953\"],[0.7777777777777778,\"#fb9f3a\"],[0.8888888888888888,\"#fdca26\"],[1.0,\"#f0f921\"]],\"sequentialminus\":[[0.0,\"#0d0887\"],[0.1111111111111111,\"#46039f\"],[0.2222222222222222,\"#7201a8\"],[0.3333333333333333,\"#9c179e\"],[0.4444444444444444,\"#bd3786\"],[0.5555555555555556,\"#d8576b\"],[0.6666666666666666,\"#ed7953\"],[0.7777777777777778,\"#fb9f3a\"],[0.8888888888888888,\"#fdca26\"],[1.0,\"#f0f921\"]]},\"colorway\":[\"#636efa\",\"#EF553B\",\"#00cc96\",\"#ab63fa\",\"#FFA15A\",\"#19d3f3\",\"#FF6692\",\"#B6E880\",\"#FF97FF\",\"#FECB52\"],\"font\":{\"color\":\"#2a3f5f\"},\"geo\":{\"bgcolor\":\"white\",\"lakecolor\":\"white\",\"landcolor\":\"#E5ECF6\",\"showlakes\":true,\"showland\":true,\"subunitcolor\":\"white\"},\"hoverlabel\":{\"align\":\"left\"},\"hovermode\":\"closest\",\"mapbox\":{\"style\":\"light\"},\"paper_bgcolor\":\"white\",\"plot_bgcolor\":\"#E5ECF6\",\"polar\":{\"angularaxis\":{\"gridcolor\":\"white\",\"linecolor\":\"white\",\"ticks\":\"\"},\"bgcolor\":\"#E5ECF6\",\"radialaxis\":{\"gridcolor\":\"white\",\"linecolor\":\"white\",\"ticks\":\"\"}},\"scene\":{\"xaxis\":{\"backgroundcolor\":\"#E5ECF6\",\"gridcolor\":\"white\",\"gridwidth\":2,\"linecolor\":\"white\",\"showbackground\":true,\"ticks\":\"\",\"zerolinecolor\":\"white\"},\"yaxis\":{\"backgroundcolor\":\"#E5ECF6\",\"gridcolor\":\"white\",\"gridwidth\":2,\"linecolor\":\"white\",\"showbackground\":true,\"ticks\":\"\",\"zerolinecolor\":\"white\"},\"zaxis\":{\"backgroundcolor\":\"#E5ECF6\",\"gridcolor\":\"white\",\"gridwidth\":2,\"linecolor\":\"white\",\"showbackground\":true,\"ticks\":\"\",\"zerolinecolor\":\"white\"}},\"shapedefaults\":{\"line\":{\"color\":\"#2a3f5f\"}},\"ternary\":{\"aaxis\":{\"gridcolor\":\"white\",\"linecolor\":\"white\",\"ticks\":\"\"},\"baxis\":{\"gridcolor\":\"white\",\"linecolor\":\"white\",\"ticks\":\"\"},\"bgcolor\":\"#E5ECF6\",\"caxis\":{\"gridcolor\":\"white\",\"linecolor\":\"white\",\"ticks\":\"\"}},\"title\":{\"x\":0.05},\"xaxis\":{\"automargin\":true,\"gridcolor\":\"white\",\"linecolor\":\"white\",\"ticks\":\"\",\"title\":{\"standoff\":15},\"zerolinecolor\":\"white\",\"zerolinewidth\":2},\"yaxis\":{\"automargin\":true,\"gridcolor\":\"white\",\"linecolor\":\"white\",\"ticks\":\"\",\"title\":{\"standoff\":15},\"zerolinecolor\":\"white\",\"zerolinewidth\":2}}},\"xaxis\":{\"anchor\":\"y\",\"domain\":[0.0,1.0],\"title\":{\"text\":\"index\"}},\"yaxis\":{\"anchor\":\"x\",\"domain\":[0.0,1.0],\"title\":{\"text\":\"value\"}},\"legend\":{\"title\":{\"text\":\"variable\"},\"tracegroupgap\":0},\"margin\":{\"t\":60}},                        {\"responsive\": true}                    ).then(function(){\n",
       "                            \n",
       "var gd = document.getElementById('1357eda7-0f4d-410e-b181-766de88a3133');\n",
       "var x = new MutationObserver(function (mutations, observer) {{\n",
       "        var display = window.getComputedStyle(gd).display;\n",
       "        if (!display || display === 'none') {{\n",
       "            console.log([gd, 'removed!']);\n",
       "            Plotly.purge(gd);\n",
       "            observer.disconnect();\n",
       "        }}\n",
       "}});\n",
       "\n",
       "// Listen for the removal of the full notebook cells\n",
       "var notebookContainer = gd.closest('#notebook-container');\n",
       "if (notebookContainer) {{\n",
       "    x.observe(notebookContainer, {childList: true});\n",
       "}}\n",
       "\n",
       "// Listen for the clearing of the current output cell\n",
       "var outputEl = gd.closest('.output');\n",
       "if (outputEl) {{\n",
       "    x.observe(outputEl, {childList: true});\n",
       "}}\n",
       "\n",
       "                        })                };                });            </script>        </div>"
      ]
     },
     "metadata": {},
     "output_type": "display_data"
    }
   ],
   "source": [
    "# Montagem de um outro gráfico de linha \n",
    "\n",
    "fig1 = px.line(comp1, y = [\"Valores reais\", \"Valores previstos\"])\n",
    "fig1.show()"
   ]
  },
  {
   "cell_type": "code",
   "execution_count": 461,
   "metadata": {},
   "outputs": [
    {
     "name": "stdout",
     "output_type": "stream",
     "text": [
      "Coeficiente R²: -0.2421\n",
      "EMA:496411.23\n",
      "EQM:417616375490.09\n",
      "REQM:646232.45\n"
     ]
    }
   ],
   "source": [
    "# Cálculo de R^2, medida de quão bem a linha de regressão se ajusta aos dados. Varia de 0 a 1, sendo 1 o ajuste perfeito.\n",
    "# Cálculo do Erro Médio Absoluto, o valor médio absoluto da diferença entre os valores previstos e os valores reais\n",
    "# Cálculo do Erro Quadrático Médio, a média dos quadrados dos erros\n",
    "# Cálculo da raiz do Erro Quadrático Médio, que mede o mesmo que o EQM, mas na mesma unidade de medida que os valores trabalhados\n",
    "\n",
    "# cálculo do coeficiente R²\n",
    "r21 = r2_score(y1_test, y1_pred)\n",
    "\n",
    "# cálculo do erro médio absoluto (EMA)\n",
    "ema1 = mean_absolute_error(y1_test, y1_pred)\n",
    "\n",
    "# cálculo do erro quadrático médio (EQM)\n",
    "eqm1 = mean_squared_error(y1_test, y1_pred)\n",
    "\n",
    "# cálculo da raiz do erro quadrático médio (REQM)\n",
    "reqm1 = np.sqrt(eqm1)\n",
    "\n",
    "print('Coeficiente R²: {:.4f}'.format(r21))\n",
    "print('EMA:{:.2f}'.format(ema1))\n",
    "print('EQM:{:.2f}'.format(eqm1))\n",
    "print('REQM:{:.2f}'.format(reqm1))"
   ]
  },
  {
   "cell_type": "markdown",
   "metadata": {},
   "source": [
    "#### A análise é similar à obtida no modelo Vendas x Temperatura, de que o modelo não é adequado."
   ]
  },
  {
   "cell_type": "markdown",
   "metadata": {},
   "source": [
    "####  Vimos que os dois modelos não foram suficientes para nossas expectativas, portanto partiremos para outra técnica de modelo de regressão. Esse fracasso pode ser devido a um problema do Modelo Decision Tree Regression chamado Overfitting, no qual o modelo se ajusta bem à base de treino mas apresenta um desempenho ruim na base de teste. Isso pode ocorrer pois o modelo se ajustou à especificidades da base de treino. Outros problemas podem ser devido à escolha das variáveis do modelo, isto é, pode ser que Temperatura e Lojas não sejam variáveis que sirvam para prever as vendas."
   ]
  },
  {
   "cell_type": "markdown",
   "metadata": {},
   "source": [
    "<a class=\"anchor\" id=\"section_4_2\"></a>\n",
    "## Modelo Random Forest Regression \n",
    "    O princípio desse método é aplicar múltiplas árvores de regressão (Modelo Decision Tree Regression) sobre o conjunto de dados e tomar uma média."
   ]
  },
  {
   "cell_type": "markdown",
   "metadata": {},
   "source": [
    "<a class=\"anchor\" id=\"section_4_2_1\"></a>\n",
    "### Modelo Vendas x Temperatura"
   ]
  },
  {
   "cell_type": "code",
   "execution_count": 462,
   "metadata": {},
   "outputs": [],
   "source": [
    "# importação de função necessária para o modelo\n",
    "\n",
    "from sklearn.ensemble import RandomForestRegressor\n",
    "\n",
    "# criando uma variável para RandomForestRegressor()\n",
    "rf_regressor = RandomForestRegressor(n_estimators = 500, max_features = 'sqrt', max_depth = 5, random_state = 18)"
   ]
  },
  {
   "cell_type": "code",
   "execution_count": 463,
   "metadata": {},
   "outputs": [
    {
     "name": "stderr",
     "output_type": "stream",
     "text": [
      "C:\\Users\\luisz\\AppData\\Local\\Temp\\ipykernel_32480\\3719795845.py:8: DataConversionWarning:\n",
      "\n",
      "A column-vector y was passed when a 1d array was expected. Please change the shape of y to (n_samples,), for example using ravel().\n",
      "\n"
     ]
    },
    {
     "data": {
      "text/plain": [
       "RandomForestRegressor(max_depth=5, max_features='sqrt', n_estimators=500,\n",
       "                      random_state=18)"
      ]
     },
     "execution_count": 463,
     "metadata": {},
     "output_type": "execute_result"
    }
   ],
   "source": [
    "# treinando nosso conjunto de dados no modelo\n",
    "# note que usaremos as mesmas series utilizadas anteriormente, no modelo Vendas x Temperature da Tree Regression\n",
    "\n",
    "# y_train está como uma matriz unidimensional (coluna) como valor de y em vez de um array unidimensional, que é o esperado pelo\n",
    "# algoritmo, portanto iremos transformá-la\n",
    "y_train = y_train.ravel()\n",
    "\n",
    "rf_regressor.fit(X_train.reshape(-1,1), y_train.reshape(-1,1))"
   ]
  },
  {
   "cell_type": "markdown",
   "metadata": {},
   "source": [
    "Obs: mesmo aplicar a função ravel, o warning continua"
   ]
  },
  {
   "cell_type": "code",
   "execution_count": 464,
   "metadata": {},
   "outputs": [],
   "source": [
    "# fornecimento da previsão da variável dependente (vendas semanais)\n",
    "y_pred_forest = rf_regressor.predict(X_test.reshape(-1,1))"
   ]
  },
  {
   "cell_type": "code",
   "execution_count": 465,
   "metadata": {},
   "outputs": [
    {
     "data": {
      "text/html": [
       "<div>\n",
       "<style scoped>\n",
       "    .dataframe tbody tr th:only-of-type {\n",
       "        vertical-align: middle;\n",
       "    }\n",
       "\n",
       "    .dataframe tbody tr th {\n",
       "        vertical-align: top;\n",
       "    }\n",
       "\n",
       "    .dataframe thead th {\n",
       "        text-align: right;\n",
       "    }\n",
       "</style>\n",
       "<table border=\"1\" class=\"dataframe\">\n",
       "  <thead>\n",
       "    <tr style=\"text-align: right;\">\n",
       "      <th></th>\n",
       "      <th>Valores reais</th>\n",
       "      <th>Valores previstos</th>\n",
       "    </tr>\n",
       "  </thead>\n",
       "  <tbody>\n",
       "    <tr>\n",
       "      <th>0</th>\n",
       "      <td>1772192.42</td>\n",
       "      <td>1.062356e+06</td>\n",
       "    </tr>\n",
       "    <tr>\n",
       "      <th>1</th>\n",
       "      <td>1283849.38</td>\n",
       "      <td>1.048486e+06</td>\n",
       "    </tr>\n",
       "    <tr>\n",
       "      <th>2</th>\n",
       "      <td>618377.79</td>\n",
       "      <td>1.109049e+06</td>\n",
       "    </tr>\n",
       "    <tr>\n",
       "      <th>3</th>\n",
       "      <td>2191767.76</td>\n",
       "      <td>1.045399e+06</td>\n",
       "    </tr>\n",
       "    <tr>\n",
       "      <th>4</th>\n",
       "      <td>2010216.49</td>\n",
       "      <td>1.060280e+06</td>\n",
       "    </tr>\n",
       "    <tr>\n",
       "      <th>...</th>\n",
       "      <td>...</td>\n",
       "      <td>...</td>\n",
       "    </tr>\n",
       "    <tr>\n",
       "      <th>317</th>\n",
       "      <td>1875686.44</td>\n",
       "      <td>1.044999e+06</td>\n",
       "    </tr>\n",
       "    <tr>\n",
       "      <th>318</th>\n",
       "      <td>335858.11</td>\n",
       "      <td>1.040465e+06</td>\n",
       "    </tr>\n",
       "    <tr>\n",
       "      <th>319</th>\n",
       "      <td>1215354.38</td>\n",
       "      <td>1.078654e+06</td>\n",
       "    </tr>\n",
       "    <tr>\n",
       "      <th>320</th>\n",
       "      <td>1024778.23</td>\n",
       "      <td>1.081173e+06</td>\n",
       "    </tr>\n",
       "    <tr>\n",
       "      <th>321</th>\n",
       "      <td>953533.95</td>\n",
       "      <td>1.040646e+06</td>\n",
       "    </tr>\n",
       "  </tbody>\n",
       "</table>\n",
       "<p>322 rows × 2 columns</p>\n",
       "</div>"
      ],
      "text/plain": [
       "     Valores reais  Valores previstos\n",
       "0       1772192.42       1.062356e+06\n",
       "1       1283849.38       1.048486e+06\n",
       "2        618377.79       1.109049e+06\n",
       "3       2191767.76       1.045399e+06\n",
       "4       2010216.49       1.060280e+06\n",
       "..             ...                ...\n",
       "317     1875686.44       1.044999e+06\n",
       "318      335858.11       1.040465e+06\n",
       "319     1215354.38       1.078654e+06\n",
       "320     1024778.23       1.081173e+06\n",
       "321      953533.95       1.040646e+06\n",
       "\n",
       "[322 rows x 2 columns]"
      ]
     },
     "execution_count": 465,
     "metadata": {},
     "output_type": "execute_result"
    }
   ],
   "source": [
    "# Comparação dos valores previstos com os valores reais\n",
    "\n",
    "comp_forest = pd.DataFrame({'Valores reais':y_test.reshape(-1), 'Valores previstos':y_pred_forest.reshape(-1)})\n",
    "comp_forest"
   ]
  },
  {
   "cell_type": "code",
   "execution_count": 466,
   "metadata": {},
   "outputs": [
    {
     "data": {
      "text/html": [
       "<div>\n",
       "<style scoped>\n",
       "    .dataframe tbody tr th:only-of-type {\n",
       "        vertical-align: middle;\n",
       "    }\n",
       "\n",
       "    .dataframe tbody tr th {\n",
       "        vertical-align: top;\n",
       "    }\n",
       "\n",
       "    .dataframe thead th {\n",
       "        text-align: right;\n",
       "    }\n",
       "</style>\n",
       "<table border=\"1\" class=\"dataframe\">\n",
       "  <thead>\n",
       "    <tr style=\"text-align: right;\">\n",
       "      <th></th>\n",
       "      <th>Valores reais</th>\n",
       "      <th>Valores previstos</th>\n",
       "    </tr>\n",
       "  </thead>\n",
       "  <tbody>\n",
       "    <tr>\n",
       "      <th>0</th>\n",
       "      <td>1772192.42</td>\n",
       "      <td>1062355.60</td>\n",
       "    </tr>\n",
       "    <tr>\n",
       "      <th>1</th>\n",
       "      <td>1283849.38</td>\n",
       "      <td>1048485.58</td>\n",
       "    </tr>\n",
       "    <tr>\n",
       "      <th>2</th>\n",
       "      <td>618377.79</td>\n",
       "      <td>1109048.86</td>\n",
       "    </tr>\n",
       "    <tr>\n",
       "      <th>3</th>\n",
       "      <td>2191767.76</td>\n",
       "      <td>1045398.69</td>\n",
       "    </tr>\n",
       "    <tr>\n",
       "      <th>4</th>\n",
       "      <td>2010216.49</td>\n",
       "      <td>1060280.19</td>\n",
       "    </tr>\n",
       "    <tr>\n",
       "      <th>...</th>\n",
       "      <td>...</td>\n",
       "      <td>...</td>\n",
       "    </tr>\n",
       "    <tr>\n",
       "      <th>317</th>\n",
       "      <td>1875686.44</td>\n",
       "      <td>1044999.27</td>\n",
       "    </tr>\n",
       "    <tr>\n",
       "      <th>318</th>\n",
       "      <td>335858.11</td>\n",
       "      <td>1040464.59</td>\n",
       "    </tr>\n",
       "    <tr>\n",
       "      <th>319</th>\n",
       "      <td>1215354.38</td>\n",
       "      <td>1078653.89</td>\n",
       "    </tr>\n",
       "    <tr>\n",
       "      <th>320</th>\n",
       "      <td>1024778.23</td>\n",
       "      <td>1081173.11</td>\n",
       "    </tr>\n",
       "    <tr>\n",
       "      <th>321</th>\n",
       "      <td>953533.95</td>\n",
       "      <td>1040646.29</td>\n",
       "    </tr>\n",
       "  </tbody>\n",
       "</table>\n",
       "<p>322 rows × 2 columns</p>\n",
       "</div>"
      ],
      "text/plain": [
       "     Valores reais  Valores previstos\n",
       "0       1772192.42         1062355.60\n",
       "1       1283849.38         1048485.58\n",
       "2        618377.79         1109048.86\n",
       "3       2191767.76         1045398.69\n",
       "4       2010216.49         1060280.19\n",
       "..             ...                ...\n",
       "317     1875686.44         1044999.27\n",
       "318      335858.11         1040464.59\n",
       "319     1215354.38         1078653.89\n",
       "320     1024778.23         1081173.11\n",
       "321      953533.95         1040646.29\n",
       "\n",
       "[322 rows x 2 columns]"
      ]
     },
     "execution_count": 466,
     "metadata": {},
     "output_type": "execute_result"
    }
   ],
   "source": [
    "# Mudaremos o formato da coluna 'Valores previstos', para visualizarmos o número completo e não em notação científica\n",
    "\n",
    "comp_forest['Valores previstos'] = comp_forest['Valores previstos'].map(lambda x: '{:.2f}'.format(x)).astype(float)\n",
    "comp_forest"
   ]
  },
  {
   "cell_type": "code",
   "execution_count": 467,
   "metadata": {
    "scrolled": false
   },
   "outputs": [
    {
     "data": {
      "application/vnd.plotly.v1+json": {
       "config": {
        "plotlyServerURL": "https://plot.ly"
       },
       "data": [
        {
         "hovertemplate": "variable=Valores reais<br>index=%{x}<br>value=%{y}<extra></extra>",
         "legendgroup": "Valores reais",
         "line": {
          "color": "#636efa",
          "dash": "solid"
         },
         "marker": {
          "symbol": "circle"
         },
         "mode": "lines",
         "name": "Valores reais",
         "orientation": "v",
         "showlegend": true,
         "type": "scatter",
         "x": [
          0,
          1,
          2,
          3,
          4,
          5,
          6,
          7,
          8,
          9,
          10,
          11,
          12,
          13,
          14,
          15,
          16,
          17,
          18,
          19,
          20,
          21,
          22,
          23,
          24,
          25,
          26,
          27,
          28,
          29,
          30,
          31,
          32,
          33,
          34,
          35,
          36,
          37,
          38,
          39,
          40,
          41,
          42,
          43,
          44,
          45,
          46,
          47,
          48,
          49,
          50,
          51,
          52,
          53,
          54,
          55,
          56,
          57,
          58,
          59,
          60,
          61,
          62,
          63,
          64,
          65,
          66,
          67,
          68,
          69,
          70,
          71,
          72,
          73,
          74,
          75,
          76,
          77,
          78,
          79,
          80,
          81,
          82,
          83,
          84,
          85,
          86,
          87,
          88,
          89,
          90,
          91,
          92,
          93,
          94,
          95,
          96,
          97,
          98,
          99,
          100,
          101,
          102,
          103,
          104,
          105,
          106,
          107,
          108,
          109,
          110,
          111,
          112,
          113,
          114,
          115,
          116,
          117,
          118,
          119,
          120,
          121,
          122,
          123,
          124,
          125,
          126,
          127,
          128,
          129,
          130,
          131,
          132,
          133,
          134,
          135,
          136,
          137,
          138,
          139,
          140,
          141,
          142,
          143,
          144,
          145,
          146,
          147,
          148,
          149,
          150,
          151,
          152,
          153,
          154,
          155,
          156,
          157,
          158,
          159,
          160,
          161,
          162,
          163,
          164,
          165,
          166,
          167,
          168,
          169,
          170,
          171,
          172,
          173,
          174,
          175,
          176,
          177,
          178,
          179,
          180,
          181,
          182,
          183,
          184,
          185,
          186,
          187,
          188,
          189,
          190,
          191,
          192,
          193,
          194,
          195,
          196,
          197,
          198,
          199,
          200,
          201,
          202,
          203,
          204,
          205,
          206,
          207,
          208,
          209,
          210,
          211,
          212,
          213,
          214,
          215,
          216,
          217,
          218,
          219,
          220,
          221,
          222,
          223,
          224,
          225,
          226,
          227,
          228,
          229,
          230,
          231,
          232,
          233,
          234,
          235,
          236,
          237,
          238,
          239,
          240,
          241,
          242,
          243,
          244,
          245,
          246,
          247,
          248,
          249,
          250,
          251,
          252,
          253,
          254,
          255,
          256,
          257,
          258,
          259,
          260,
          261,
          262,
          263,
          264,
          265,
          266,
          267,
          268,
          269,
          270,
          271,
          272,
          273,
          274,
          275,
          276,
          277,
          278,
          279,
          280,
          281,
          282,
          283,
          284,
          285,
          286,
          287,
          288,
          289,
          290,
          291,
          292,
          293,
          294,
          295,
          296,
          297,
          298,
          299,
          300,
          301,
          302,
          303,
          304,
          305,
          306,
          307,
          308,
          309,
          310,
          311,
          312,
          313,
          314,
          315,
          316,
          317,
          318,
          319,
          320,
          321
         ],
         "xaxis": "x",
         "y": [
          1772192.42,
          1283849.38,
          618377.79,
          2191767.7600000002,
          2010216.49,
          239198.36,
          506343.83,
          872288.46,
          769319.04,
          510425.4,
          1836595.58,
          948964.99,
          1290684.95,
          248603.3,
          800714,
          516402.10000000003,
          1417922.3699999999,
          1375307.54,
          797523.04,
          753060.78,
          1703047.74,
          1422711.6,
          1439607.35,
          1842555.32,
          651768.91,
          1037861.11,
          954681.56,
          595421.23,
          726422.55,
          432424.85,
          1866369.93,
          719737.25,
          658600.05,
          307944.37,
          855882.57,
          780444.94,
          730899.37,
          1392093.04,
          1522421.07,
          1396150.15,
          1445249.09,
          1333315.03,
          1327719.34,
          1021766.75,
          1310973.06,
          1811606.21,
          304300.91,
          975500.87,
          454694.21,
          1625883.71,
          357897.18,
          1388118.53,
          599730.07,
          483660.15,
          1613773.9,
          2094373,
          395195.65,
          541071.29,
          1443206.46,
          575317.38,
          605960.2,
          1430378.67,
          2187765.28,
          2031406.41,
          1069851.59,
          431985.36,
          722120.04,
          955766.33,
          772036.6,
          856796.1,
          2313861.81,
          1057295.87,
          1426622.65,
          1047178.91,
          466962.04,
          1213860.61,
          1659221.99,
          1402372.09,
          510787.46,
          942868.38,
          897032.1900000001,
          939158.25,
          940554.34,
          458343.7,
          322405.13,
          1327405.42,
          1182733,
          436070.45,
          497374.57,
          2135143.87,
          1350059.35,
          2103455.75,
          1334627.96,
          417528.26,
          1419911.91,
          2049860.26,
          1710923.94,
          1156377.47,
          1483574.38,
          1805999.79,
          2205919.86,
          465279.68,
          922341.82,
          778178.53,
          563460.77,
          1344723.97,
          448998.73,
          1950826.32,
          329033.66,
          822668.23,
          2066219.3,
          1848186.58,
          322868.56,
          1928773.82,
          823220.43,
          1059781.78,
          1927664.1099999999,
          970307.83,
          1350441.68,
          356138.79,
          725729.51,
          1246062.17,
          1129422.86,
          1877358.86,
          1707298.1400000001,
          1254587.84,
          254412.34,
          1370659.54,
          1979247.1199999999,
          360009.94,
          643854.17,
          1781717.71,
          372673.61,
          1159212.1,
          1408082.96,
          1069533.17,
          1757923.88,
          302881.64,
          365730.76,
          1297452,
          473773.27,
          801098.43,
          1257778.34,
          1022571.25,
          310531.04,
          586841.77,
          653043.44,
          270497.51,
          620908.1799999999,
          1890870.75,
          586108.13,
          1198670.19,
          495951,
          895020.48,
          1622150.33,
          2066541.8599999999,
          1853657.5999999999,
          911106.22,
          1853161.99,
          597855.0700000001,
          428958.53,
          297753.49,
          610940.9400000001,
          726997.84,
          1087051.26,
          1425078.59,
          734464.36,
          651178.2,
          773586.49,
          2103322.68,
          2309025.16,
          1892775.94,
          1098286.61,
          1595901.87,
          699464.4299999999,
          1864637.89,
          2271614.76,
          1007385.36,
          981210.57,
          430878.27999999997,
          589554.29,
          813630.44,
          1182694.95,
          290494.85,
          1079314.52,
          1649604.63,
          1376520.0999999999,
          1425299.37,
          1331137.96,
          298080.45,
          1548033.78,
          1788227.6,
          1120619.32,
          1508068.77,
          1817914.71,
          1848953.48,
          911807.02,
          539337.87,
          2004330.3,
          343763.17,
          1029248.22,
          698529.64,
          1316385.43,
          1866681.57,
          1424720.27,
          894865.3,
          233543.08000000002,
          1457270.16,
          859922.19,
          325041.68,
          1415204.88,
          2214477.06,
          763479.9,
          1390122.11,
          1304584.4,
          916446.02,
          600395.73,
          1374301.34,
          303289.55,
          392654.26,
          1796949.59,
          1910092.3699999999,
          279643.43,
          1751369.75,
          1895583.12,
          1921432.16,
          438760.62,
          999298.43,
          471088.88,
          293155.08,
          469311.17,
          553836.98,
          1615987.96,
          888869.27,
          1723736.9100000001,
          965853.58,
          1999079.44,
          290930.01,
          1186971.02,
          990152.28,
          2160057.39,
          1990371.02,
          1379783.21,
          588448.21,
          922735.37,
          508573.16000000003,
          1092616.49,
          808624.8200000001,
          946573.29,
          461511.92,
          841951.91,
          2008350.58,
          1178905.44,
          2281217.31,
          1799682.38,
          1553191.63,
          998443.5,
          323915.32,
          294264.2,
          782300.68,
          986612.02,
          554972.42,
          616324.24,
          1914148.89,
          1087644.5,
          1592409.97,
          565390.4,
          1408968.55,
          891148.55,
          829902.42,
          483177.2,
          1096232.89,
          1582083.4,
          2086433.49,
          1429143.06,
          579166.5,
          946060.98,
          501251.39999999997,
          1566668.91,
          1333740.35,
          1218688.09,
          563578.79,
          718393.61,
          508432.17,
          572360.83,
          1428993.33,
          1170456.16,
          1357672.24,
          1061089.56,
          1239299.1199999999,
          582846.22,
          1322117.96,
          1333634.45,
          1062548.73,
          1114530.29,
          2055952.6099999999,
          1193199.3900000001,
          1290576.44,
          1456300.89,
          545251.1,
          800819.79,
          793589.18,
          1671857.57,
          495692.19,
          275883.23,
          546221.4,
          569937.23,
          2056846.12,
          1184198.41,
          573374.49,
          1405065.57,
          1416926.31,
          2020332.07,
          812011.8,
          536144.81,
          1198709.65,
          1704753.02,
          1875686.44,
          335858.11,
          1215354.3800000001,
          1024778.23,
          953533.9500000001
         ],
         "yaxis": "y"
        },
        {
         "hovertemplate": "variable=Valores previstos<br>index=%{x}<br>value=%{y}<extra></extra>",
         "legendgroup": "Valores previstos",
         "line": {
          "color": "#EF553B",
          "dash": "solid"
         },
         "marker": {
          "symbol": "circle"
         },
         "mode": "lines",
         "name": "Valores previstos",
         "orientation": "v",
         "showlegend": true,
         "type": "scatter",
         "x": [
          0,
          1,
          2,
          3,
          4,
          5,
          6,
          7,
          8,
          9,
          10,
          11,
          12,
          13,
          14,
          15,
          16,
          17,
          18,
          19,
          20,
          21,
          22,
          23,
          24,
          25,
          26,
          27,
          28,
          29,
          30,
          31,
          32,
          33,
          34,
          35,
          36,
          37,
          38,
          39,
          40,
          41,
          42,
          43,
          44,
          45,
          46,
          47,
          48,
          49,
          50,
          51,
          52,
          53,
          54,
          55,
          56,
          57,
          58,
          59,
          60,
          61,
          62,
          63,
          64,
          65,
          66,
          67,
          68,
          69,
          70,
          71,
          72,
          73,
          74,
          75,
          76,
          77,
          78,
          79,
          80,
          81,
          82,
          83,
          84,
          85,
          86,
          87,
          88,
          89,
          90,
          91,
          92,
          93,
          94,
          95,
          96,
          97,
          98,
          99,
          100,
          101,
          102,
          103,
          104,
          105,
          106,
          107,
          108,
          109,
          110,
          111,
          112,
          113,
          114,
          115,
          116,
          117,
          118,
          119,
          120,
          121,
          122,
          123,
          124,
          125,
          126,
          127,
          128,
          129,
          130,
          131,
          132,
          133,
          134,
          135,
          136,
          137,
          138,
          139,
          140,
          141,
          142,
          143,
          144,
          145,
          146,
          147,
          148,
          149,
          150,
          151,
          152,
          153,
          154,
          155,
          156,
          157,
          158,
          159,
          160,
          161,
          162,
          163,
          164,
          165,
          166,
          167,
          168,
          169,
          170,
          171,
          172,
          173,
          174,
          175,
          176,
          177,
          178,
          179,
          180,
          181,
          182,
          183,
          184,
          185,
          186,
          187,
          188,
          189,
          190,
          191,
          192,
          193,
          194,
          195,
          196,
          197,
          198,
          199,
          200,
          201,
          202,
          203,
          204,
          205,
          206,
          207,
          208,
          209,
          210,
          211,
          212,
          213,
          214,
          215,
          216,
          217,
          218,
          219,
          220,
          221,
          222,
          223,
          224,
          225,
          226,
          227,
          228,
          229,
          230,
          231,
          232,
          233,
          234,
          235,
          236,
          237,
          238,
          239,
          240,
          241,
          242,
          243,
          244,
          245,
          246,
          247,
          248,
          249,
          250,
          251,
          252,
          253,
          254,
          255,
          256,
          257,
          258,
          259,
          260,
          261,
          262,
          263,
          264,
          265,
          266,
          267,
          268,
          269,
          270,
          271,
          272,
          273,
          274,
          275,
          276,
          277,
          278,
          279,
          280,
          281,
          282,
          283,
          284,
          285,
          286,
          287,
          288,
          289,
          290,
          291,
          292,
          293,
          294,
          295,
          296,
          297,
          298,
          299,
          300,
          301,
          302,
          303,
          304,
          305,
          306,
          307,
          308,
          309,
          310,
          311,
          312,
          313,
          314,
          315,
          316,
          317,
          318,
          319,
          320,
          321
         ],
         "xaxis": "x",
         "y": [
          1062355.6,
          1048485.58,
          1109048.86,
          1045398.69,
          1060280.19,
          662169.38,
          559708.04,
          1042807.77,
          1048374.32,
          1044948.51,
          1046824.28,
          1120838.33,
          1046343.88,
          1047841.52,
          1200526.68,
          1011930.43,
          1048290.39,
          1044948.51,
          1045941.95,
          1112042.23,
          1031123.89,
          941320.6,
          1045365.11,
          1054001.49,
          1047114.54,
          1114774.89,
          1008434.4,
          1040464.59,
          1047010.62,
          1042445.48,
          1041345.19,
          1134702.49,
          1051026.04,
          1046343.88,
          922682.58,
          1048750.77,
          1054591.68,
          1077850.93,
          1049902.71,
          1045415.06,
          1047130.17,
          1040646.29,
          975328.72,
          1044602.34,
          1073279.9,
          1118733.31,
          1166330.1,
          1137699.77,
          1020475.65,
          1067471.64,
          1033853.98,
          1066418.4,
          1137105.25,
          1114985.31,
          1048934.37,
          1047937.6,
          1155858.13,
          1039014.63,
          1114365.25,
          842406.94,
          1044148,
          1021286.8,
          1137420.26,
          1049894.15,
          1040503.72,
          1065934.43,
          1035408.77,
          1115125.68,
          1050669.98,
          907898.07,
          1050063.91,
          1048374.32,
          1046657.67,
          1118003.78,
          873336.85,
          1047977.62,
          1022038.35,
          1048934.37,
          898718.37,
          1048290.39,
          1049330.05,
          1201417.38,
          1045382.94,
          1060507.37,
          1062785.63,
          1078653.89,
          1114096.51,
          1053374.8,
          1111310.39,
          1086183.58,
          1047010.62,
          1155858.13,
          905264.56,
          1044641.4,
          1112585.14,
          1115737.25,
          928998.27,
          1046602.39,
          1061098.9,
          904396.87,
          1115980.34,
          1118733.31,
          1045513.37,
          1087176.46,
          918445.04,
          1050212.13,
          1105587.47,
          1045089.34,
          1041087.31,
          1134612.04,
          1065799.62,
          1014301.67,
          879073.39,
          1062355.6,
          921314.26,
          1120344.29,
          1048136.03,
          1034676.84,
          1121172.11,
          1124045.79,
          1066243.94,
          894378.21,
          1015336.65,
          1052959.59,
          1084783.22,
          928801.29,
          1070100.78,
          1033082.54,
          1066327.96,
          969378.94,
          1040340.36,
          927827.38,
          1113314.07,
          1064838.41,
          1117027.95,
          1079800.68,
          926246.55,
          936193.67,
          1047130.17,
          1044948.51,
          1087771.53,
          1049894.15,
          1040282.91,
          1109985.27,
          1115980.34,
          1047304.47,
          1041116.98,
          974487.79,
          1106927.87,
          1045916.42,
          1052267.08,
          1100604.55,
          926246.55,
          1086962.11,
          899069.61,
          959343.59,
          1033664.51,
          1015879.22,
          928068.05,
          1039207.39,
          1047304.47,
          424305.43,
          1035191.65,
          1049077.48,
          1048934.37,
          1121152.96,
          1039207.39,
          1053165.07,
          1120045,
          1121046.5,
          1125143.42,
          1110784.31,
          1124045.79,
          1046972.66,
          1045513.37,
          1048374.32,
          1065554.2,
          1044572.67,
          1046755.81,
          970860.89,
          1117296.64,
          1058824.73,
          1100869.04,
          1047616.2,
          1127969.81,
          1045941.95,
          942667.46,
          900615.77,
          1047627.65,
          1070100.78,
          1078104.89,
          1066402.27,
          1048374.32,
          1046162.9,
          1045783.22,
          1048773.18,
          767000.27,
          1048374.32,
          1041087.31,
          1067471.64,
          1034560.78,
          1044641.4,
          1042807.77,
          1194181.94,
          1125143.42,
          1116964.89,
          996116.66,
          1115764.5,
          1036394.06,
          1059596.3,
          1048934.37,
          1115737.25,
          1040816.66,
          1040241.72,
          907245.7,
          1113694.48,
          1121780.62,
          995442.87,
          997692.41,
          1064575.46,
          1040966.45,
          1066035.42,
          958145.62,
          559708.04,
          1085721.99,
          1045216.28,
          1053165.07,
          1140827,
          1051445.75,
          1067215.8,
          942667.46,
          1051850.82,
          1115737.25,
          935610.21,
          1049330.05,
          1039014.63,
          1048760.51,
          1063006.63,
          1045382.94,
          1115764.5,
          912498.41,
          1033664.51,
          1064396.5,
          1040282.91,
          1034872.08,
          1006887.53,
          1078157.42,
          1122549.52,
          1118182.79,
          1048374.32,
          914903.51,
          1035493.61,
          1036248.59,
          1077486.31,
          1084032.36,
          1044977.12,
          1122890.55,
          1045398.69,
          1083314.91,
          1052346.35,
          1038242.55,
          1039879.81,
          1114409.71,
          1112726.12,
          1046755.81,
          903708.68,
          1045216.28,
          1057293.29,
          1086943.11,
          910623.64,
          1116703.2,
          1109711.44,
          1060469.27,
          1042807.77,
          1043726.62,
          1114985.31,
          1101796.27,
          1020475.65,
          1044948.51,
          1067215.8,
          902991.99,
          1045759.62,
          1115125.68,
          1047134.98,
          914903.51,
          560291.77,
          1065284.92,
          1056557.99,
          1047977.62,
          1077850.93,
          1045216.28,
          1037701.49,
          1047627.65,
          1121780.62,
          829321.51,
          1053374.8,
          1132346.7,
          950330.82,
          1061376.52,
          1037882.89,
          1050023.35,
          975328.72,
          1015482.9,
          1048374.32,
          1046481.4,
          1035191.65,
          1048607.06,
          1050060.82,
          633359.69,
          1109985.27,
          1077486.31,
          1045477.61,
          1043575.43,
          1124045.79,
          1086183.58,
          1118733.31,
          1048707.47,
          1044999.27,
          1040464.59,
          1078653.89,
          1081173.11,
          1040646.29
         ],
         "yaxis": "y"
        }
       ],
       "layout": {
        "legend": {
         "title": {
          "text": "variable"
         },
         "tracegroupgap": 0
        },
        "margin": {
         "t": 60
        },
        "template": {
         "data": {
          "bar": [
           {
            "error_x": {
             "color": "#2a3f5f"
            },
            "error_y": {
             "color": "#2a3f5f"
            },
            "marker": {
             "line": {
              "color": "#E5ECF6",
              "width": 0.5
             },
             "pattern": {
              "fillmode": "overlay",
              "size": 10,
              "solidity": 0.2
             }
            },
            "type": "bar"
           }
          ],
          "barpolar": [
           {
            "marker": {
             "line": {
              "color": "#E5ECF6",
              "width": 0.5
             },
             "pattern": {
              "fillmode": "overlay",
              "size": 10,
              "solidity": 0.2
             }
            },
            "type": "barpolar"
           }
          ],
          "carpet": [
           {
            "aaxis": {
             "endlinecolor": "#2a3f5f",
             "gridcolor": "white",
             "linecolor": "white",
             "minorgridcolor": "white",
             "startlinecolor": "#2a3f5f"
            },
            "baxis": {
             "endlinecolor": "#2a3f5f",
             "gridcolor": "white",
             "linecolor": "white",
             "minorgridcolor": "white",
             "startlinecolor": "#2a3f5f"
            },
            "type": "carpet"
           }
          ],
          "choropleth": [
           {
            "colorbar": {
             "outlinewidth": 0,
             "ticks": ""
            },
            "type": "choropleth"
           }
          ],
          "contour": [
           {
            "colorbar": {
             "outlinewidth": 0,
             "ticks": ""
            },
            "colorscale": [
             [
              0,
              "#0d0887"
             ],
             [
              0.1111111111111111,
              "#46039f"
             ],
             [
              0.2222222222222222,
              "#7201a8"
             ],
             [
              0.3333333333333333,
              "#9c179e"
             ],
             [
              0.4444444444444444,
              "#bd3786"
             ],
             [
              0.5555555555555556,
              "#d8576b"
             ],
             [
              0.6666666666666666,
              "#ed7953"
             ],
             [
              0.7777777777777778,
              "#fb9f3a"
             ],
             [
              0.8888888888888888,
              "#fdca26"
             ],
             [
              1,
              "#f0f921"
             ]
            ],
            "type": "contour"
           }
          ],
          "contourcarpet": [
           {
            "colorbar": {
             "outlinewidth": 0,
             "ticks": ""
            },
            "type": "contourcarpet"
           }
          ],
          "heatmap": [
           {
            "colorbar": {
             "outlinewidth": 0,
             "ticks": ""
            },
            "colorscale": [
             [
              0,
              "#0d0887"
             ],
             [
              0.1111111111111111,
              "#46039f"
             ],
             [
              0.2222222222222222,
              "#7201a8"
             ],
             [
              0.3333333333333333,
              "#9c179e"
             ],
             [
              0.4444444444444444,
              "#bd3786"
             ],
             [
              0.5555555555555556,
              "#d8576b"
             ],
             [
              0.6666666666666666,
              "#ed7953"
             ],
             [
              0.7777777777777778,
              "#fb9f3a"
             ],
             [
              0.8888888888888888,
              "#fdca26"
             ],
             [
              1,
              "#f0f921"
             ]
            ],
            "type": "heatmap"
           }
          ],
          "heatmapgl": [
           {
            "colorbar": {
             "outlinewidth": 0,
             "ticks": ""
            },
            "colorscale": [
             [
              0,
              "#0d0887"
             ],
             [
              0.1111111111111111,
              "#46039f"
             ],
             [
              0.2222222222222222,
              "#7201a8"
             ],
             [
              0.3333333333333333,
              "#9c179e"
             ],
             [
              0.4444444444444444,
              "#bd3786"
             ],
             [
              0.5555555555555556,
              "#d8576b"
             ],
             [
              0.6666666666666666,
              "#ed7953"
             ],
             [
              0.7777777777777778,
              "#fb9f3a"
             ],
             [
              0.8888888888888888,
              "#fdca26"
             ],
             [
              1,
              "#f0f921"
             ]
            ],
            "type": "heatmapgl"
           }
          ],
          "histogram": [
           {
            "marker": {
             "pattern": {
              "fillmode": "overlay",
              "size": 10,
              "solidity": 0.2
             }
            },
            "type": "histogram"
           }
          ],
          "histogram2d": [
           {
            "colorbar": {
             "outlinewidth": 0,
             "ticks": ""
            },
            "colorscale": [
             [
              0,
              "#0d0887"
             ],
             [
              0.1111111111111111,
              "#46039f"
             ],
             [
              0.2222222222222222,
              "#7201a8"
             ],
             [
              0.3333333333333333,
              "#9c179e"
             ],
             [
              0.4444444444444444,
              "#bd3786"
             ],
             [
              0.5555555555555556,
              "#d8576b"
             ],
             [
              0.6666666666666666,
              "#ed7953"
             ],
             [
              0.7777777777777778,
              "#fb9f3a"
             ],
             [
              0.8888888888888888,
              "#fdca26"
             ],
             [
              1,
              "#f0f921"
             ]
            ],
            "type": "histogram2d"
           }
          ],
          "histogram2dcontour": [
           {
            "colorbar": {
             "outlinewidth": 0,
             "ticks": ""
            },
            "colorscale": [
             [
              0,
              "#0d0887"
             ],
             [
              0.1111111111111111,
              "#46039f"
             ],
             [
              0.2222222222222222,
              "#7201a8"
             ],
             [
              0.3333333333333333,
              "#9c179e"
             ],
             [
              0.4444444444444444,
              "#bd3786"
             ],
             [
              0.5555555555555556,
              "#d8576b"
             ],
             [
              0.6666666666666666,
              "#ed7953"
             ],
             [
              0.7777777777777778,
              "#fb9f3a"
             ],
             [
              0.8888888888888888,
              "#fdca26"
             ],
             [
              1,
              "#f0f921"
             ]
            ],
            "type": "histogram2dcontour"
           }
          ],
          "mesh3d": [
           {
            "colorbar": {
             "outlinewidth": 0,
             "ticks": ""
            },
            "type": "mesh3d"
           }
          ],
          "parcoords": [
           {
            "line": {
             "colorbar": {
              "outlinewidth": 0,
              "ticks": ""
             }
            },
            "type": "parcoords"
           }
          ],
          "pie": [
           {
            "automargin": true,
            "type": "pie"
           }
          ],
          "scatter": [
           {
            "marker": {
             "colorbar": {
              "outlinewidth": 0,
              "ticks": ""
             }
            },
            "type": "scatter"
           }
          ],
          "scatter3d": [
           {
            "line": {
             "colorbar": {
              "outlinewidth": 0,
              "ticks": ""
             }
            },
            "marker": {
             "colorbar": {
              "outlinewidth": 0,
              "ticks": ""
             }
            },
            "type": "scatter3d"
           }
          ],
          "scattercarpet": [
           {
            "marker": {
             "colorbar": {
              "outlinewidth": 0,
              "ticks": ""
             }
            },
            "type": "scattercarpet"
           }
          ],
          "scattergeo": [
           {
            "marker": {
             "colorbar": {
              "outlinewidth": 0,
              "ticks": ""
             }
            },
            "type": "scattergeo"
           }
          ],
          "scattergl": [
           {
            "marker": {
             "colorbar": {
              "outlinewidth": 0,
              "ticks": ""
             }
            },
            "type": "scattergl"
           }
          ],
          "scattermapbox": [
           {
            "marker": {
             "colorbar": {
              "outlinewidth": 0,
              "ticks": ""
             }
            },
            "type": "scattermapbox"
           }
          ],
          "scatterpolar": [
           {
            "marker": {
             "colorbar": {
              "outlinewidth": 0,
              "ticks": ""
             }
            },
            "type": "scatterpolar"
           }
          ],
          "scatterpolargl": [
           {
            "marker": {
             "colorbar": {
              "outlinewidth": 0,
              "ticks": ""
             }
            },
            "type": "scatterpolargl"
           }
          ],
          "scatterternary": [
           {
            "marker": {
             "colorbar": {
              "outlinewidth": 0,
              "ticks": ""
             }
            },
            "type": "scatterternary"
           }
          ],
          "surface": [
           {
            "colorbar": {
             "outlinewidth": 0,
             "ticks": ""
            },
            "colorscale": [
             [
              0,
              "#0d0887"
             ],
             [
              0.1111111111111111,
              "#46039f"
             ],
             [
              0.2222222222222222,
              "#7201a8"
             ],
             [
              0.3333333333333333,
              "#9c179e"
             ],
             [
              0.4444444444444444,
              "#bd3786"
             ],
             [
              0.5555555555555556,
              "#d8576b"
             ],
             [
              0.6666666666666666,
              "#ed7953"
             ],
             [
              0.7777777777777778,
              "#fb9f3a"
             ],
             [
              0.8888888888888888,
              "#fdca26"
             ],
             [
              1,
              "#f0f921"
             ]
            ],
            "type": "surface"
           }
          ],
          "table": [
           {
            "cells": {
             "fill": {
              "color": "#EBF0F8"
             },
             "line": {
              "color": "white"
             }
            },
            "header": {
             "fill": {
              "color": "#C8D4E3"
             },
             "line": {
              "color": "white"
             }
            },
            "type": "table"
           }
          ]
         },
         "layout": {
          "annotationdefaults": {
           "arrowcolor": "#2a3f5f",
           "arrowhead": 0,
           "arrowwidth": 1
          },
          "autotypenumbers": "strict",
          "coloraxis": {
           "colorbar": {
            "outlinewidth": 0,
            "ticks": ""
           }
          },
          "colorscale": {
           "diverging": [
            [
             0,
             "#8e0152"
            ],
            [
             0.1,
             "#c51b7d"
            ],
            [
             0.2,
             "#de77ae"
            ],
            [
             0.3,
             "#f1b6da"
            ],
            [
             0.4,
             "#fde0ef"
            ],
            [
             0.5,
             "#f7f7f7"
            ],
            [
             0.6,
             "#e6f5d0"
            ],
            [
             0.7,
             "#b8e186"
            ],
            [
             0.8,
             "#7fbc41"
            ],
            [
             0.9,
             "#4d9221"
            ],
            [
             1,
             "#276419"
            ]
           ],
           "sequential": [
            [
             0,
             "#0d0887"
            ],
            [
             0.1111111111111111,
             "#46039f"
            ],
            [
             0.2222222222222222,
             "#7201a8"
            ],
            [
             0.3333333333333333,
             "#9c179e"
            ],
            [
             0.4444444444444444,
             "#bd3786"
            ],
            [
             0.5555555555555556,
             "#d8576b"
            ],
            [
             0.6666666666666666,
             "#ed7953"
            ],
            [
             0.7777777777777778,
             "#fb9f3a"
            ],
            [
             0.8888888888888888,
             "#fdca26"
            ],
            [
             1,
             "#f0f921"
            ]
           ],
           "sequentialminus": [
            [
             0,
             "#0d0887"
            ],
            [
             0.1111111111111111,
             "#46039f"
            ],
            [
             0.2222222222222222,
             "#7201a8"
            ],
            [
             0.3333333333333333,
             "#9c179e"
            ],
            [
             0.4444444444444444,
             "#bd3786"
            ],
            [
             0.5555555555555556,
             "#d8576b"
            ],
            [
             0.6666666666666666,
             "#ed7953"
            ],
            [
             0.7777777777777778,
             "#fb9f3a"
            ],
            [
             0.8888888888888888,
             "#fdca26"
            ],
            [
             1,
             "#f0f921"
            ]
           ]
          },
          "colorway": [
           "#636efa",
           "#EF553B",
           "#00cc96",
           "#ab63fa",
           "#FFA15A",
           "#19d3f3",
           "#FF6692",
           "#B6E880",
           "#FF97FF",
           "#FECB52"
          ],
          "font": {
           "color": "#2a3f5f"
          },
          "geo": {
           "bgcolor": "white",
           "lakecolor": "white",
           "landcolor": "#E5ECF6",
           "showlakes": true,
           "showland": true,
           "subunitcolor": "white"
          },
          "hoverlabel": {
           "align": "left"
          },
          "hovermode": "closest",
          "mapbox": {
           "style": "light"
          },
          "paper_bgcolor": "white",
          "plot_bgcolor": "#E5ECF6",
          "polar": {
           "angularaxis": {
            "gridcolor": "white",
            "linecolor": "white",
            "ticks": ""
           },
           "bgcolor": "#E5ECF6",
           "radialaxis": {
            "gridcolor": "white",
            "linecolor": "white",
            "ticks": ""
           }
          },
          "scene": {
           "xaxis": {
            "backgroundcolor": "#E5ECF6",
            "gridcolor": "white",
            "gridwidth": 2,
            "linecolor": "white",
            "showbackground": true,
            "ticks": "",
            "zerolinecolor": "white"
           },
           "yaxis": {
            "backgroundcolor": "#E5ECF6",
            "gridcolor": "white",
            "gridwidth": 2,
            "linecolor": "white",
            "showbackground": true,
            "ticks": "",
            "zerolinecolor": "white"
           },
           "zaxis": {
            "backgroundcolor": "#E5ECF6",
            "gridcolor": "white",
            "gridwidth": 2,
            "linecolor": "white",
            "showbackground": true,
            "ticks": "",
            "zerolinecolor": "white"
           }
          },
          "shapedefaults": {
           "line": {
            "color": "#2a3f5f"
           }
          },
          "ternary": {
           "aaxis": {
            "gridcolor": "white",
            "linecolor": "white",
            "ticks": ""
           },
           "baxis": {
            "gridcolor": "white",
            "linecolor": "white",
            "ticks": ""
           },
           "bgcolor": "#E5ECF6",
           "caxis": {
            "gridcolor": "white",
            "linecolor": "white",
            "ticks": ""
           }
          },
          "title": {
           "x": 0.05
          },
          "xaxis": {
           "automargin": true,
           "gridcolor": "white",
           "linecolor": "white",
           "ticks": "",
           "title": {
            "standoff": 15
           },
           "zerolinecolor": "white",
           "zerolinewidth": 2
          },
          "yaxis": {
           "automargin": true,
           "gridcolor": "white",
           "linecolor": "white",
           "ticks": "",
           "title": {
            "standoff": 15
           },
           "zerolinecolor": "white",
           "zerolinewidth": 2
          }
         }
        },
        "xaxis": {
         "anchor": "y",
         "domain": [
          0,
          1
         ],
         "title": {
          "text": "index"
         }
        },
        "yaxis": {
         "anchor": "x",
         "domain": [
          0,
          1
         ],
         "title": {
          "text": "value"
         }
        }
       }
      },
      "text/html": [
       "<div>                            <div id=\"90c210e4-5e42-4085-8939-2f29694e97b4\" class=\"plotly-graph-div\" style=\"height:525px; width:100%;\"></div>            <script type=\"text/javascript\">                require([\"plotly\"], function(Plotly) {                    window.PLOTLYENV=window.PLOTLYENV || {};                                    if (document.getElementById(\"90c210e4-5e42-4085-8939-2f29694e97b4\")) {                    Plotly.newPlot(                        \"90c210e4-5e42-4085-8939-2f29694e97b4\",                        [{\"hovertemplate\":\"variable=Valores reais<br>index=%{x}<br>value=%{y}<extra></extra>\",\"legendgroup\":\"Valores reais\",\"line\":{\"color\":\"#636efa\",\"dash\":\"solid\"},\"marker\":{\"symbol\":\"circle\"},\"mode\":\"lines\",\"name\":\"Valores reais\",\"orientation\":\"v\",\"showlegend\":true,\"x\":[0,1,2,3,4,5,6,7,8,9,10,11,12,13,14,15,16,17,18,19,20,21,22,23,24,25,26,27,28,29,30,31,32,33,34,35,36,37,38,39,40,41,42,43,44,45,46,47,48,49,50,51,52,53,54,55,56,57,58,59,60,61,62,63,64,65,66,67,68,69,70,71,72,73,74,75,76,77,78,79,80,81,82,83,84,85,86,87,88,89,90,91,92,93,94,95,96,97,98,99,100,101,102,103,104,105,106,107,108,109,110,111,112,113,114,115,116,117,118,119,120,121,122,123,124,125,126,127,128,129,130,131,132,133,134,135,136,137,138,139,140,141,142,143,144,145,146,147,148,149,150,151,152,153,154,155,156,157,158,159,160,161,162,163,164,165,166,167,168,169,170,171,172,173,174,175,176,177,178,179,180,181,182,183,184,185,186,187,188,189,190,191,192,193,194,195,196,197,198,199,200,201,202,203,204,205,206,207,208,209,210,211,212,213,214,215,216,217,218,219,220,221,222,223,224,225,226,227,228,229,230,231,232,233,234,235,236,237,238,239,240,241,242,243,244,245,246,247,248,249,250,251,252,253,254,255,256,257,258,259,260,261,262,263,264,265,266,267,268,269,270,271,272,273,274,275,276,277,278,279,280,281,282,283,284,285,286,287,288,289,290,291,292,293,294,295,296,297,298,299,300,301,302,303,304,305,306,307,308,309,310,311,312,313,314,315,316,317,318,319,320,321],\"xaxis\":\"x\",\"y\":[1772192.42,1283849.38,618377.79,2191767.7600000002,2010216.49,239198.36,506343.83,872288.46,769319.04,510425.4,1836595.58,948964.99,1290684.95,248603.3,800714.0,516402.10000000003,1417922.3699999999,1375307.54,797523.04,753060.78,1703047.74,1422711.6,1439607.35,1842555.32,651768.91,1037861.11,954681.56,595421.23,726422.55,432424.85,1866369.93,719737.25,658600.05,307944.37,855882.57,780444.94,730899.37,1392093.04,1522421.07,1396150.15,1445249.09,1333315.03,1327719.34,1021766.75,1310973.06,1811606.21,304300.91,975500.87,454694.21,1625883.71,357897.18,1388118.53,599730.07,483660.15,1613773.9,2094373.0,395195.65,541071.29,1443206.46,575317.38,605960.2,1430378.67,2187765.28,2031406.41,1069851.59,431985.36,722120.04,955766.33,772036.6,856796.1,2313861.81,1057295.87,1426622.65,1047178.91,466962.04,1213860.61,1659221.99,1402372.09,510787.46,942868.38,897032.1900000001,939158.25,940554.34,458343.7,322405.13,1327405.42,1182733.0,436070.45,497374.57,2135143.87,1350059.35,2103455.75,1334627.96,417528.26,1419911.91,2049860.26,1710923.94,1156377.47,1483574.38,1805999.79,2205919.86,465279.68,922341.82,778178.53,563460.77,1344723.97,448998.73,1950826.32,329033.66,822668.23,2066219.3,1848186.58,322868.56,1928773.82,823220.43,1059781.78,1927664.1099999999,970307.83,1350441.68,356138.79,725729.51,1246062.17,1129422.86,1877358.86,1707298.1400000001,1254587.84,254412.34,1370659.54,1979247.1199999999,360009.94,643854.17,1781717.71,372673.61,1159212.1,1408082.96,1069533.17,1757923.88,302881.64,365730.76,1297452.0,473773.27,801098.43,1257778.34,1022571.25,310531.04,586841.77,653043.44,270497.51,620908.1799999999,1890870.75,586108.13,1198670.19,495951.0,895020.48,1622150.33,2066541.8599999999,1853657.5999999999,911106.22,1853161.99,597855.0700000001,428958.53,297753.49,610940.9400000001,726997.84,1087051.26,1425078.59,734464.36,651178.2,773586.49,2103322.68,2309025.16,1892775.94,1098286.61,1595901.87,699464.4299999999,1864637.89,2271614.76,1007385.36,981210.57,430878.27999999997,589554.29,813630.44,1182694.95,290494.85,1079314.52,1649604.63,1376520.0999999999,1425299.37,1331137.96,298080.45,1548033.78,1788227.6,1120619.32,1508068.77,1817914.71,1848953.48,911807.02,539337.87,2004330.3,343763.17,1029248.22,698529.64,1316385.43,1866681.57,1424720.27,894865.3,233543.08000000002,1457270.16,859922.19,325041.68,1415204.88,2214477.06,763479.9,1390122.11,1304584.4,916446.02,600395.73,1374301.34,303289.55,392654.26,1796949.59,1910092.3699999999,279643.43,1751369.75,1895583.12,1921432.16,438760.62,999298.43,471088.88,293155.08,469311.17,553836.98,1615987.96,888869.27,1723736.9100000001,965853.58,1999079.44,290930.01,1186971.02,990152.28,2160057.39,1990371.02,1379783.21,588448.21,922735.37,508573.16000000003,1092616.49,808624.8200000001,946573.29,461511.92,841951.91,2008350.58,1178905.44,2281217.31,1799682.38,1553191.63,998443.5,323915.32,294264.2,782300.68,986612.02,554972.42,616324.24,1914148.89,1087644.5,1592409.97,565390.4,1408968.55,891148.55,829902.42,483177.2,1096232.89,1582083.4,2086433.49,1429143.06,579166.5,946060.98,501251.39999999997,1566668.91,1333740.35,1218688.09,563578.79,718393.61,508432.17,572360.83,1428993.33,1170456.16,1357672.24,1061089.56,1239299.1199999999,582846.22,1322117.96,1333634.45,1062548.73,1114530.29,2055952.6099999999,1193199.3900000001,1290576.44,1456300.89,545251.1,800819.79,793589.18,1671857.57,495692.19,275883.23,546221.4,569937.23,2056846.12,1184198.41,573374.49,1405065.57,1416926.31,2020332.07,812011.8,536144.81,1198709.65,1704753.02,1875686.44,335858.11,1215354.3800000001,1024778.23,953533.9500000001],\"yaxis\":\"y\",\"type\":\"scatter\"},{\"hovertemplate\":\"variable=Valores previstos<br>index=%{x}<br>value=%{y}<extra></extra>\",\"legendgroup\":\"Valores previstos\",\"line\":{\"color\":\"#EF553B\",\"dash\":\"solid\"},\"marker\":{\"symbol\":\"circle\"},\"mode\":\"lines\",\"name\":\"Valores previstos\",\"orientation\":\"v\",\"showlegend\":true,\"x\":[0,1,2,3,4,5,6,7,8,9,10,11,12,13,14,15,16,17,18,19,20,21,22,23,24,25,26,27,28,29,30,31,32,33,34,35,36,37,38,39,40,41,42,43,44,45,46,47,48,49,50,51,52,53,54,55,56,57,58,59,60,61,62,63,64,65,66,67,68,69,70,71,72,73,74,75,76,77,78,79,80,81,82,83,84,85,86,87,88,89,90,91,92,93,94,95,96,97,98,99,100,101,102,103,104,105,106,107,108,109,110,111,112,113,114,115,116,117,118,119,120,121,122,123,124,125,126,127,128,129,130,131,132,133,134,135,136,137,138,139,140,141,142,143,144,145,146,147,148,149,150,151,152,153,154,155,156,157,158,159,160,161,162,163,164,165,166,167,168,169,170,171,172,173,174,175,176,177,178,179,180,181,182,183,184,185,186,187,188,189,190,191,192,193,194,195,196,197,198,199,200,201,202,203,204,205,206,207,208,209,210,211,212,213,214,215,216,217,218,219,220,221,222,223,224,225,226,227,228,229,230,231,232,233,234,235,236,237,238,239,240,241,242,243,244,245,246,247,248,249,250,251,252,253,254,255,256,257,258,259,260,261,262,263,264,265,266,267,268,269,270,271,272,273,274,275,276,277,278,279,280,281,282,283,284,285,286,287,288,289,290,291,292,293,294,295,296,297,298,299,300,301,302,303,304,305,306,307,308,309,310,311,312,313,314,315,316,317,318,319,320,321],\"xaxis\":\"x\",\"y\":[1062355.6,1048485.58,1109048.86,1045398.69,1060280.19,662169.38,559708.04,1042807.77,1048374.32,1044948.51,1046824.28,1120838.33,1046343.88,1047841.52,1200526.68,1011930.43,1048290.39,1044948.51,1045941.95,1112042.23,1031123.89,941320.6,1045365.11,1054001.49,1047114.54,1114774.89,1008434.4,1040464.59,1047010.62,1042445.48,1041345.19,1134702.49,1051026.04,1046343.88,922682.58,1048750.77,1054591.68,1077850.93,1049902.71,1045415.06,1047130.17,1040646.29,975328.72,1044602.34,1073279.9,1118733.31,1166330.1,1137699.77,1020475.65,1067471.64,1033853.98,1066418.4,1137105.25,1114985.31,1048934.37,1047937.6,1155858.13,1039014.63,1114365.25,842406.94,1044148.0,1021286.8,1137420.26,1049894.15,1040503.72,1065934.43,1035408.77,1115125.68,1050669.98,907898.07,1050063.91,1048374.32,1046657.67,1118003.78,873336.85,1047977.62,1022038.35,1048934.37,898718.37,1048290.39,1049330.05,1201417.38,1045382.94,1060507.37,1062785.63,1078653.89,1114096.51,1053374.8,1111310.39,1086183.58,1047010.62,1155858.13,905264.56,1044641.4,1112585.14,1115737.25,928998.27,1046602.39,1061098.9,904396.87,1115980.34,1118733.31,1045513.37,1087176.46,918445.04,1050212.13,1105587.47,1045089.34,1041087.31,1134612.04,1065799.62,1014301.67,879073.39,1062355.6,921314.26,1120344.29,1048136.03,1034676.84,1121172.11,1124045.79,1066243.94,894378.21,1015336.65,1052959.59,1084783.22,928801.29,1070100.78,1033082.54,1066327.96,969378.94,1040340.36,927827.38,1113314.07,1064838.41,1117027.95,1079800.68,926246.55,936193.67,1047130.17,1044948.51,1087771.53,1049894.15,1040282.91,1109985.27,1115980.34,1047304.47,1041116.98,974487.79,1106927.87,1045916.42,1052267.08,1100604.55,926246.55,1086962.11,899069.61,959343.59,1033664.51,1015879.22,928068.05,1039207.39,1047304.47,424305.43,1035191.65,1049077.48,1048934.37,1121152.96,1039207.39,1053165.07,1120045.0,1121046.5,1125143.42,1110784.31,1124045.79,1046972.66,1045513.37,1048374.32,1065554.2,1044572.67,1046755.81,970860.89,1117296.64,1058824.73,1100869.04,1047616.2,1127969.81,1045941.95,942667.46,900615.77,1047627.65,1070100.78,1078104.89,1066402.27,1048374.32,1046162.9,1045783.22,1048773.18,767000.27,1048374.32,1041087.31,1067471.64,1034560.78,1044641.4,1042807.77,1194181.94,1125143.42,1116964.89,996116.66,1115764.5,1036394.06,1059596.3,1048934.37,1115737.25,1040816.66,1040241.72,907245.7,1113694.48,1121780.62,995442.87,997692.41,1064575.46,1040966.45,1066035.42,958145.62,559708.04,1085721.99,1045216.28,1053165.07,1140827.0,1051445.75,1067215.8,942667.46,1051850.82,1115737.25,935610.21,1049330.05,1039014.63,1048760.51,1063006.63,1045382.94,1115764.5,912498.41,1033664.51,1064396.5,1040282.91,1034872.08,1006887.53,1078157.42,1122549.52,1118182.79,1048374.32,914903.51,1035493.61,1036248.59,1077486.31,1084032.36,1044977.12,1122890.55,1045398.69,1083314.91,1052346.35,1038242.55,1039879.81,1114409.71,1112726.12,1046755.81,903708.68,1045216.28,1057293.29,1086943.11,910623.64,1116703.2,1109711.44,1060469.27,1042807.77,1043726.62,1114985.31,1101796.27,1020475.65,1044948.51,1067215.8,902991.99,1045759.62,1115125.68,1047134.98,914903.51,560291.77,1065284.92,1056557.99,1047977.62,1077850.93,1045216.28,1037701.49,1047627.65,1121780.62,829321.51,1053374.8,1132346.7,950330.82,1061376.52,1037882.89,1050023.35,975328.72,1015482.9,1048374.32,1046481.4,1035191.65,1048607.06,1050060.82,633359.69,1109985.27,1077486.31,1045477.61,1043575.43,1124045.79,1086183.58,1118733.31,1048707.47,1044999.27,1040464.59,1078653.89,1081173.11,1040646.29],\"yaxis\":\"y\",\"type\":\"scatter\"}],                        {\"template\":{\"data\":{\"bar\":[{\"error_x\":{\"color\":\"#2a3f5f\"},\"error_y\":{\"color\":\"#2a3f5f\"},\"marker\":{\"line\":{\"color\":\"#E5ECF6\",\"width\":0.5},\"pattern\":{\"fillmode\":\"overlay\",\"size\":10,\"solidity\":0.2}},\"type\":\"bar\"}],\"barpolar\":[{\"marker\":{\"line\":{\"color\":\"#E5ECF6\",\"width\":0.5},\"pattern\":{\"fillmode\":\"overlay\",\"size\":10,\"solidity\":0.2}},\"type\":\"barpolar\"}],\"carpet\":[{\"aaxis\":{\"endlinecolor\":\"#2a3f5f\",\"gridcolor\":\"white\",\"linecolor\":\"white\",\"minorgridcolor\":\"white\",\"startlinecolor\":\"#2a3f5f\"},\"baxis\":{\"endlinecolor\":\"#2a3f5f\",\"gridcolor\":\"white\",\"linecolor\":\"white\",\"minorgridcolor\":\"white\",\"startlinecolor\":\"#2a3f5f\"},\"type\":\"carpet\"}],\"choropleth\":[{\"colorbar\":{\"outlinewidth\":0,\"ticks\":\"\"},\"type\":\"choropleth\"}],\"contour\":[{\"colorbar\":{\"outlinewidth\":0,\"ticks\":\"\"},\"colorscale\":[[0.0,\"#0d0887\"],[0.1111111111111111,\"#46039f\"],[0.2222222222222222,\"#7201a8\"],[0.3333333333333333,\"#9c179e\"],[0.4444444444444444,\"#bd3786\"],[0.5555555555555556,\"#d8576b\"],[0.6666666666666666,\"#ed7953\"],[0.7777777777777778,\"#fb9f3a\"],[0.8888888888888888,\"#fdca26\"],[1.0,\"#f0f921\"]],\"type\":\"contour\"}],\"contourcarpet\":[{\"colorbar\":{\"outlinewidth\":0,\"ticks\":\"\"},\"type\":\"contourcarpet\"}],\"heatmap\":[{\"colorbar\":{\"outlinewidth\":0,\"ticks\":\"\"},\"colorscale\":[[0.0,\"#0d0887\"],[0.1111111111111111,\"#46039f\"],[0.2222222222222222,\"#7201a8\"],[0.3333333333333333,\"#9c179e\"],[0.4444444444444444,\"#bd3786\"],[0.5555555555555556,\"#d8576b\"],[0.6666666666666666,\"#ed7953\"],[0.7777777777777778,\"#fb9f3a\"],[0.8888888888888888,\"#fdca26\"],[1.0,\"#f0f921\"]],\"type\":\"heatmap\"}],\"heatmapgl\":[{\"colorbar\":{\"outlinewidth\":0,\"ticks\":\"\"},\"colorscale\":[[0.0,\"#0d0887\"],[0.1111111111111111,\"#46039f\"],[0.2222222222222222,\"#7201a8\"],[0.3333333333333333,\"#9c179e\"],[0.4444444444444444,\"#bd3786\"],[0.5555555555555556,\"#d8576b\"],[0.6666666666666666,\"#ed7953\"],[0.7777777777777778,\"#fb9f3a\"],[0.8888888888888888,\"#fdca26\"],[1.0,\"#f0f921\"]],\"type\":\"heatmapgl\"}],\"histogram\":[{\"marker\":{\"pattern\":{\"fillmode\":\"overlay\",\"size\":10,\"solidity\":0.2}},\"type\":\"histogram\"}],\"histogram2d\":[{\"colorbar\":{\"outlinewidth\":0,\"ticks\":\"\"},\"colorscale\":[[0.0,\"#0d0887\"],[0.1111111111111111,\"#46039f\"],[0.2222222222222222,\"#7201a8\"],[0.3333333333333333,\"#9c179e\"],[0.4444444444444444,\"#bd3786\"],[0.5555555555555556,\"#d8576b\"],[0.6666666666666666,\"#ed7953\"],[0.7777777777777778,\"#fb9f3a\"],[0.8888888888888888,\"#fdca26\"],[1.0,\"#f0f921\"]],\"type\":\"histogram2d\"}],\"histogram2dcontour\":[{\"colorbar\":{\"outlinewidth\":0,\"ticks\":\"\"},\"colorscale\":[[0.0,\"#0d0887\"],[0.1111111111111111,\"#46039f\"],[0.2222222222222222,\"#7201a8\"],[0.3333333333333333,\"#9c179e\"],[0.4444444444444444,\"#bd3786\"],[0.5555555555555556,\"#d8576b\"],[0.6666666666666666,\"#ed7953\"],[0.7777777777777778,\"#fb9f3a\"],[0.8888888888888888,\"#fdca26\"],[1.0,\"#f0f921\"]],\"type\":\"histogram2dcontour\"}],\"mesh3d\":[{\"colorbar\":{\"outlinewidth\":0,\"ticks\":\"\"},\"type\":\"mesh3d\"}],\"parcoords\":[{\"line\":{\"colorbar\":{\"outlinewidth\":0,\"ticks\":\"\"}},\"type\":\"parcoords\"}],\"pie\":[{\"automargin\":true,\"type\":\"pie\"}],\"scatter\":[{\"marker\":{\"colorbar\":{\"outlinewidth\":0,\"ticks\":\"\"}},\"type\":\"scatter\"}],\"scatter3d\":[{\"line\":{\"colorbar\":{\"outlinewidth\":0,\"ticks\":\"\"}},\"marker\":{\"colorbar\":{\"outlinewidth\":0,\"ticks\":\"\"}},\"type\":\"scatter3d\"}],\"scattercarpet\":[{\"marker\":{\"colorbar\":{\"outlinewidth\":0,\"ticks\":\"\"}},\"type\":\"scattercarpet\"}],\"scattergeo\":[{\"marker\":{\"colorbar\":{\"outlinewidth\":0,\"ticks\":\"\"}},\"type\":\"scattergeo\"}],\"scattergl\":[{\"marker\":{\"colorbar\":{\"outlinewidth\":0,\"ticks\":\"\"}},\"type\":\"scattergl\"}],\"scattermapbox\":[{\"marker\":{\"colorbar\":{\"outlinewidth\":0,\"ticks\":\"\"}},\"type\":\"scattermapbox\"}],\"scatterpolar\":[{\"marker\":{\"colorbar\":{\"outlinewidth\":0,\"ticks\":\"\"}},\"type\":\"scatterpolar\"}],\"scatterpolargl\":[{\"marker\":{\"colorbar\":{\"outlinewidth\":0,\"ticks\":\"\"}},\"type\":\"scatterpolargl\"}],\"scatterternary\":[{\"marker\":{\"colorbar\":{\"outlinewidth\":0,\"ticks\":\"\"}},\"type\":\"scatterternary\"}],\"surface\":[{\"colorbar\":{\"outlinewidth\":0,\"ticks\":\"\"},\"colorscale\":[[0.0,\"#0d0887\"],[0.1111111111111111,\"#46039f\"],[0.2222222222222222,\"#7201a8\"],[0.3333333333333333,\"#9c179e\"],[0.4444444444444444,\"#bd3786\"],[0.5555555555555556,\"#d8576b\"],[0.6666666666666666,\"#ed7953\"],[0.7777777777777778,\"#fb9f3a\"],[0.8888888888888888,\"#fdca26\"],[1.0,\"#f0f921\"]],\"type\":\"surface\"}],\"table\":[{\"cells\":{\"fill\":{\"color\":\"#EBF0F8\"},\"line\":{\"color\":\"white\"}},\"header\":{\"fill\":{\"color\":\"#C8D4E3\"},\"line\":{\"color\":\"white\"}},\"type\":\"table\"}]},\"layout\":{\"annotationdefaults\":{\"arrowcolor\":\"#2a3f5f\",\"arrowhead\":0,\"arrowwidth\":1},\"autotypenumbers\":\"strict\",\"coloraxis\":{\"colorbar\":{\"outlinewidth\":0,\"ticks\":\"\"}},\"colorscale\":{\"diverging\":[[0,\"#8e0152\"],[0.1,\"#c51b7d\"],[0.2,\"#de77ae\"],[0.3,\"#f1b6da\"],[0.4,\"#fde0ef\"],[0.5,\"#f7f7f7\"],[0.6,\"#e6f5d0\"],[0.7,\"#b8e186\"],[0.8,\"#7fbc41\"],[0.9,\"#4d9221\"],[1,\"#276419\"]],\"sequential\":[[0.0,\"#0d0887\"],[0.1111111111111111,\"#46039f\"],[0.2222222222222222,\"#7201a8\"],[0.3333333333333333,\"#9c179e\"],[0.4444444444444444,\"#bd3786\"],[0.5555555555555556,\"#d8576b\"],[0.6666666666666666,\"#ed7953\"],[0.7777777777777778,\"#fb9f3a\"],[0.8888888888888888,\"#fdca26\"],[1.0,\"#f0f921\"]],\"sequentialminus\":[[0.0,\"#0d0887\"],[0.1111111111111111,\"#46039f\"],[0.2222222222222222,\"#7201a8\"],[0.3333333333333333,\"#9c179e\"],[0.4444444444444444,\"#bd3786\"],[0.5555555555555556,\"#d8576b\"],[0.6666666666666666,\"#ed7953\"],[0.7777777777777778,\"#fb9f3a\"],[0.8888888888888888,\"#fdca26\"],[1.0,\"#f0f921\"]]},\"colorway\":[\"#636efa\",\"#EF553B\",\"#00cc96\",\"#ab63fa\",\"#FFA15A\",\"#19d3f3\",\"#FF6692\",\"#B6E880\",\"#FF97FF\",\"#FECB52\"],\"font\":{\"color\":\"#2a3f5f\"},\"geo\":{\"bgcolor\":\"white\",\"lakecolor\":\"white\",\"landcolor\":\"#E5ECF6\",\"showlakes\":true,\"showland\":true,\"subunitcolor\":\"white\"},\"hoverlabel\":{\"align\":\"left\"},\"hovermode\":\"closest\",\"mapbox\":{\"style\":\"light\"},\"paper_bgcolor\":\"white\",\"plot_bgcolor\":\"#E5ECF6\",\"polar\":{\"angularaxis\":{\"gridcolor\":\"white\",\"linecolor\":\"white\",\"ticks\":\"\"},\"bgcolor\":\"#E5ECF6\",\"radialaxis\":{\"gridcolor\":\"white\",\"linecolor\":\"white\",\"ticks\":\"\"}},\"scene\":{\"xaxis\":{\"backgroundcolor\":\"#E5ECF6\",\"gridcolor\":\"white\",\"gridwidth\":2,\"linecolor\":\"white\",\"showbackground\":true,\"ticks\":\"\",\"zerolinecolor\":\"white\"},\"yaxis\":{\"backgroundcolor\":\"#E5ECF6\",\"gridcolor\":\"white\",\"gridwidth\":2,\"linecolor\":\"white\",\"showbackground\":true,\"ticks\":\"\",\"zerolinecolor\":\"white\"},\"zaxis\":{\"backgroundcolor\":\"#E5ECF6\",\"gridcolor\":\"white\",\"gridwidth\":2,\"linecolor\":\"white\",\"showbackground\":true,\"ticks\":\"\",\"zerolinecolor\":\"white\"}},\"shapedefaults\":{\"line\":{\"color\":\"#2a3f5f\"}},\"ternary\":{\"aaxis\":{\"gridcolor\":\"white\",\"linecolor\":\"white\",\"ticks\":\"\"},\"baxis\":{\"gridcolor\":\"white\",\"linecolor\":\"white\",\"ticks\":\"\"},\"bgcolor\":\"#E5ECF6\",\"caxis\":{\"gridcolor\":\"white\",\"linecolor\":\"white\",\"ticks\":\"\"}},\"title\":{\"x\":0.05},\"xaxis\":{\"automargin\":true,\"gridcolor\":\"white\",\"linecolor\":\"white\",\"ticks\":\"\",\"title\":{\"standoff\":15},\"zerolinecolor\":\"white\",\"zerolinewidth\":2},\"yaxis\":{\"automargin\":true,\"gridcolor\":\"white\",\"linecolor\":\"white\",\"ticks\":\"\",\"title\":{\"standoff\":15},\"zerolinecolor\":\"white\",\"zerolinewidth\":2}}},\"xaxis\":{\"anchor\":\"y\",\"domain\":[0.0,1.0],\"title\":{\"text\":\"index\"}},\"yaxis\":{\"anchor\":\"x\",\"domain\":[0.0,1.0],\"title\":{\"text\":\"value\"}},\"legend\":{\"title\":{\"text\":\"variable\"},\"tracegroupgap\":0},\"margin\":{\"t\":60}},                        {\"responsive\": true}                    ).then(function(){\n",
       "                            \n",
       "var gd = document.getElementById('90c210e4-5e42-4085-8939-2f29694e97b4');\n",
       "var x = new MutationObserver(function (mutations, observer) {{\n",
       "        var display = window.getComputedStyle(gd).display;\n",
       "        if (!display || display === 'none') {{\n",
       "            console.log([gd, 'removed!']);\n",
       "            Plotly.purge(gd);\n",
       "            observer.disconnect();\n",
       "        }}\n",
       "}});\n",
       "\n",
       "// Listen for the removal of the full notebook cells\n",
       "var notebookContainer = gd.closest('#notebook-container');\n",
       "if (notebookContainer) {{\n",
       "    x.observe(notebookContainer, {childList: true});\n",
       "}}\n",
       "\n",
       "// Listen for the clearing of the current output cell\n",
       "var outputEl = gd.closest('.output');\n",
       "if (outputEl) {{\n",
       "    x.observe(outputEl, {childList: true});\n",
       "}}\n",
       "\n",
       "                        })                };                });            </script>        </div>"
      ]
     },
     "metadata": {},
     "output_type": "display_data"
    }
   ],
   "source": [
    "# Plotando gráfico de comparação: azul são os dados reais e vermelho a previsão\n",
    "fig = px.line(comp_forest, y=['Valores reais','Valores previstos'])\n",
    "fig.show()"
   ]
  },
  {
   "cell_type": "markdown",
   "metadata": {},
   "source": [
    "Observamos que a regressão obtida não é satisfatória, pelo gráfico."
   ]
  },
  {
   "cell_type": "code",
   "execution_count": 468,
   "metadata": {},
   "outputs": [
    {
     "data": {
      "image/png": "[encoded data removed]",
      "text/plain": [
       "<Figure size 432x288 with 1 Axes>"
      ]
     },
     "metadata": {
      "needs_background": "light"
     },
     "output_type": "display_data"
    },
    {
     "data": {
      "image/png": "[encoded data removed]",
      "text/plain": [
       "<Figure size 432x288 with 1 Axes>"
      ]
     },
     "metadata": {
      "needs_background": "light"
     },
     "output_type": "display_data"
    }
   ],
   "source": [
    "# Montagem de dois gráficos que mostram a relação entre as variáveis, um de dispersão e outro de linha\n",
    "\n",
    "# gráfico de dispersão\n",
    "\n",
    "X_grid = np.arange(min(X), max(X), 0.01)\n",
    "X_grid = X_grid.reshape((len(X_grid), 1))\n",
    "plt.scatter(X_test, y_test, color = 'red')\n",
    "plt.scatter(X_test, y_pred_forest, color = 'green')\n",
    "plt.title('Decision Forest Regression')\n",
    "plt.xlabel('Temperature')\n",
    "plt.ylabel('Weekly_Sales')\n",
    "plt.show()\n",
    "\n",
    "# gráfico de linhas\n",
    "\n",
    "plt.plot(X1_grid, regressor.predict(X_grid), color = 'gray')\n",
    "plt.title('Decision Forest Regression')\n",
    "plt.xlabel('Temperature')\n",
    "plt.ylabel('Weekly_Sales')\n",
    "plt.show()"
   ]
  },
  {
   "cell_type": "markdown",
   "metadata": {},
   "source": [
    "Novamente encontramos resultados insatisfatórios."
   ]
  },
  {
   "cell_type": "code",
   "execution_count": 469,
   "metadata": {},
   "outputs": [
    {
     "name": "stdout",
     "output_type": "stream",
     "text": [
      "Coeficiente R²: -0.0191\n",
      "EMA:473811.39\n",
      "EQM:313054940223.37\n",
      "REQM:559513.13\n"
     ]
    }
   ],
   "source": [
    "# Cálculo de R^2, medida de quão bem a linha de regressão se ajusta aos dados. Varia de 0 a 1, sendo 1 o ajuste perfeito.\n",
    "# Cálculo do Erro Médio Absoluto, o valor médio absoluto da diferença entre os valores previstos e os valores reais\n",
    "# Cálculo do Erro Quadrático Médio, a média dos quadrados dos erros\n",
    "# Cálculo da raiz do Erro Quadrático Médio, que mede o mesmo que o EQM, mas na mesma unidade de medida que os valores trabalhados\n",
    "\n",
    "# cálculo do coeficiente R²\n",
    "r2 = r2_score(y_test, y_pred_forest)\n",
    "\n",
    "# cálculo do erro médio absoluto (EMA)\n",
    "ema = mean_absolute_error(y_test, y_pred_forest)\n",
    "\n",
    "# cálculo do erro quadrático médio (EQM)\n",
    "eqm = mean_squared_error(y_test, y_pred_forest)\n",
    "\n",
    "# cálculo da raiz do erro quadrático médio (REQM)\n",
    "reqm = np.sqrt(eqm)\n",
    "\n",
    "print('Coeficiente R²: {:.4f}'.format(r2))\n",
    "print('EMA:{:.2f}'.format(ema))\n",
    "print('EQM:{:.2f}'.format(eqm))\n",
    "print('REQM:{:.2f}'.format(reqm))"
   ]
  },
  {
   "cell_type": "markdown",
   "metadata": {},
   "source": [
    "Apesar de agora o R^2 ser positivo, ainda é muito baixo. Os outros medidores também indicam que o modelo é insatisfatório para nosso problema.\n",
    "\n",
    "Há fortes indícios de que a variável Temperatura não está correlacionada com o índice de vendas, portanto partiremos para a variável Lojas."
   ]
  },
  {
   "cell_type": "markdown",
   "metadata": {},
   "source": [
    "<a class=\"anchor\" id=\"section_4_2_2\"></a>\n",
    "### Modelo Vendas x Lojas "
   ]
  },
  {
   "cell_type": "code",
   "execution_count": 470,
   "metadata": {},
   "outputs": [],
   "source": [
    "# criando uma variável para RandomForestRegressor()\n",
    "rf_regressor = RandomForestRegressor(n_estimators = 300, max_features = 'sqrt', max_depth = 5, random_state = 18)"
   ]
  },
  {
   "cell_type": "code",
   "execution_count": 471,
   "metadata": {},
   "outputs": [
    {
     "name": "stderr",
     "output_type": "stream",
     "text": [
      "C:\\Users\\luisz\\AppData\\Local\\Temp\\ipykernel_32480\\1670384751.py:8: DataConversionWarning:\n",
      "\n",
      "A column-vector y was passed when a 1d array was expected. Please change the shape of y to (n_samples,), for example using ravel().\n",
      "\n"
     ]
    },
    {
     "data": {
      "text/plain": [
       "RandomForestRegressor(max_depth=5, max_features='sqrt', n_estimators=300,\n",
       "                      random_state=18)"
      ]
     },
     "execution_count": 471,
     "metadata": {},
     "output_type": "execute_result"
    }
   ],
   "source": [
    "# treinando nosso conjunto de dados no modelo\n",
    "# note que usaremos as mesmas series utilizadas anteriormente, no modelo Vendas x Lojas da Tree Regression\n",
    "\n",
    "# y1_train está como uma matriz unidimensional (coluna) como valor de y em vez de um array unidimensional, que é o esperado pelo\n",
    "# algoritmo, portanto iremos transformá-la\n",
    "y1_train = y1_train.ravel()\n",
    "\n",
    "rf_regressor.fit(X1_train.reshape(-1,1), y1_train.reshape(-1,1))"
   ]
  },
  {
   "cell_type": "markdown",
   "metadata": {},
   "source": [
    "Obs: mesmo aplicar a função ravel, o warning continua"
   ]
  },
  {
   "cell_type": "code",
   "execution_count": 472,
   "metadata": {},
   "outputs": [],
   "source": [
    "# fornecimento da previsão da variável dependente (vendas semanais)\n",
    "y1_pred_forest = rf_regressor.predict(X1_test.reshape(-1,1))"
   ]
  },
  {
   "cell_type": "code",
   "execution_count": 473,
   "metadata": {},
   "outputs": [
    {
     "data": {
      "text/html": [
       "<div>\n",
       "<style scoped>\n",
       "    .dataframe tbody tr th:only-of-type {\n",
       "        vertical-align: middle;\n",
       "    }\n",
       "\n",
       "    .dataframe tbody tr th {\n",
       "        vertical-align: top;\n",
       "    }\n",
       "\n",
       "    .dataframe thead th {\n",
       "        text-align: right;\n",
       "    }\n",
       "</style>\n",
       "<table border=\"1\" class=\"dataframe\">\n",
       "  <thead>\n",
       "    <tr style=\"text-align: right;\">\n",
       "      <th></th>\n",
       "      <th>Valores reais</th>\n",
       "      <th>Valores previstos</th>\n",
       "    </tr>\n",
       "  </thead>\n",
       "  <tbody>\n",
       "    <tr>\n",
       "      <th>0</th>\n",
       "      <td>2039818.41</td>\n",
       "      <td>2.023475e+06</td>\n",
       "    </tr>\n",
       "    <tr>\n",
       "      <th>1</th>\n",
       "      <td>1469593.37</td>\n",
       "      <td>1.406840e+06</td>\n",
       "    </tr>\n",
       "    <tr>\n",
       "      <th>2</th>\n",
       "      <td>599488.98</td>\n",
       "      <td>8.433396e+05</td>\n",
       "    </tr>\n",
       "    <tr>\n",
       "      <th>3</th>\n",
       "      <td>753447.05</td>\n",
       "      <td>7.525718e+05</td>\n",
       "    </tr>\n",
       "    <tr>\n",
       "      <th>4</th>\n",
       "      <td>1879451.23</td>\n",
       "      <td>1.810356e+06</td>\n",
       "    </tr>\n",
       "    <tr>\n",
       "      <th>...</th>\n",
       "      <td>...</td>\n",
       "      <td>...</td>\n",
       "    </tr>\n",
       "    <tr>\n",
       "      <th>317</th>\n",
       "      <td>973585.33</td>\n",
       "      <td>1.270610e+06</td>\n",
       "    </tr>\n",
       "    <tr>\n",
       "      <th>318</th>\n",
       "      <td>1336404.65</td>\n",
       "      <td>1.386262e+06</td>\n",
       "    </tr>\n",
       "    <tr>\n",
       "      <th>319</th>\n",
       "      <td>370230.94</td>\n",
       "      <td>8.433396e+05</td>\n",
       "    </tr>\n",
       "    <tr>\n",
       "      <th>320</th>\n",
       "      <td>1377322.73</td>\n",
       "      <td>9.835489e+05</td>\n",
       "    </tr>\n",
       "    <tr>\n",
       "      <th>321</th>\n",
       "      <td>1523870.89</td>\n",
       "      <td>1.270610e+06</td>\n",
       "    </tr>\n",
       "  </tbody>\n",
       "</table>\n",
       "<p>322 rows × 2 columns</p>\n",
       "</div>"
      ],
      "text/plain": [
       "     Valores reais  Valores previstos\n",
       "0       2039818.41       2.023475e+06\n",
       "1       1469593.37       1.406840e+06\n",
       "2        599488.98       8.433396e+05\n",
       "3        753447.05       7.525718e+05\n",
       "4       1879451.23       1.810356e+06\n",
       "..             ...                ...\n",
       "317      973585.33       1.270610e+06\n",
       "318     1336404.65       1.386262e+06\n",
       "319      370230.94       8.433396e+05\n",
       "320     1377322.73       9.835489e+05\n",
       "321     1523870.89       1.270610e+06\n",
       "\n",
       "[322 rows x 2 columns]"
      ]
     },
     "execution_count": 473,
     "metadata": {},
     "output_type": "execute_result"
    }
   ],
   "source": [
    "# Comparação dos valores previstos com os valores reais\n",
    "\n",
    "comp1_forest = pd.DataFrame({'Valores reais':y1_test.reshape(-1), 'Valores previstos':y1_pred_forest.reshape(-1)})\n",
    "comp1_forest"
   ]
  },
  {
   "cell_type": "code",
   "execution_count": 474,
   "metadata": {},
   "outputs": [
    {
     "data": {
      "text/html": [
       "<div>\n",
       "<style scoped>\n",
       "    .dataframe tbody tr th:only-of-type {\n",
       "        vertical-align: middle;\n",
       "    }\n",
       "\n",
       "    .dataframe tbody tr th {\n",
       "        vertical-align: top;\n",
       "    }\n",
       "\n",
       "    .dataframe thead th {\n",
       "        text-align: right;\n",
       "    }\n",
       "</style>\n",
       "<table border=\"1\" class=\"dataframe\">\n",
       "  <thead>\n",
       "    <tr style=\"text-align: right;\">\n",
       "      <th></th>\n",
       "      <th>Valores reais</th>\n",
       "      <th>Valores previstos</th>\n",
       "    </tr>\n",
       "  </thead>\n",
       "  <tbody>\n",
       "    <tr>\n",
       "      <th>0</th>\n",
       "      <td>2039818.41</td>\n",
       "      <td>2023475.09</td>\n",
       "    </tr>\n",
       "    <tr>\n",
       "      <th>1</th>\n",
       "      <td>1469593.37</td>\n",
       "      <td>1406840.10</td>\n",
       "    </tr>\n",
       "    <tr>\n",
       "      <th>2</th>\n",
       "      <td>599488.98</td>\n",
       "      <td>843339.56</td>\n",
       "    </tr>\n",
       "    <tr>\n",
       "      <th>3</th>\n",
       "      <td>753447.05</td>\n",
       "      <td>752571.82</td>\n",
       "    </tr>\n",
       "    <tr>\n",
       "      <th>4</th>\n",
       "      <td>1879451.23</td>\n",
       "      <td>1810356.25</td>\n",
       "    </tr>\n",
       "    <tr>\n",
       "      <th>...</th>\n",
       "      <td>...</td>\n",
       "      <td>...</td>\n",
       "    </tr>\n",
       "    <tr>\n",
       "      <th>317</th>\n",
       "      <td>973585.33</td>\n",
       "      <td>1270609.92</td>\n",
       "    </tr>\n",
       "    <tr>\n",
       "      <th>318</th>\n",
       "      <td>1336404.65</td>\n",
       "      <td>1386262.04</td>\n",
       "    </tr>\n",
       "    <tr>\n",
       "      <th>319</th>\n",
       "      <td>370230.94</td>\n",
       "      <td>843339.56</td>\n",
       "    </tr>\n",
       "    <tr>\n",
       "      <th>320</th>\n",
       "      <td>1377322.73</td>\n",
       "      <td>983548.87</td>\n",
       "    </tr>\n",
       "    <tr>\n",
       "      <th>321</th>\n",
       "      <td>1523870.89</td>\n",
       "      <td>1270609.92</td>\n",
       "    </tr>\n",
       "  </tbody>\n",
       "</table>\n",
       "<p>322 rows × 2 columns</p>\n",
       "</div>"
      ],
      "text/plain": [
       "     Valores reais  Valores previstos\n",
       "0       2039818.41         2023475.09\n",
       "1       1469593.37         1406840.10\n",
       "2        599488.98          843339.56\n",
       "3        753447.05          752571.82\n",
       "4       1879451.23         1810356.25\n",
       "..             ...                ...\n",
       "317      973585.33         1270609.92\n",
       "318     1336404.65         1386262.04\n",
       "319      370230.94          843339.56\n",
       "320     1377322.73          983548.87\n",
       "321     1523870.89         1270609.92\n",
       "\n",
       "[322 rows x 2 columns]"
      ]
     },
     "execution_count": 474,
     "metadata": {},
     "output_type": "execute_result"
    }
   ],
   "source": [
    "# Mudaremos o formato da coluna 'Valores previstos', para visualizarmos o número completo e não em notação científica\n",
    "\n",
    "comp1_forest['Valores previstos'] = comp1_forest['Valores previstos'].map(lambda x: '{:.2f}'.format(x)).astype(float)\n",
    "comp1_forest"
   ]
  },
  {
   "cell_type": "code",
   "execution_count": 475,
   "metadata": {
    "scrolled": false
   },
   "outputs": [
    {
     "data": {
      "application/vnd.plotly.v1+json": {
       "config": {
        "plotlyServerURL": "https://plot.ly"
       },
       "data": [
        {
         "hovertemplate": "variable=Valores reais<br>index=%{x}<br>value=%{y}<extra></extra>",
         "legendgroup": "Valores reais",
         "line": {
          "color": "#636efa",
          "dash": "solid"
         },
         "marker": {
          "symbol": "circle"
         },
         "mode": "lines",
         "name": "Valores reais",
         "orientation": "v",
         "showlegend": true,
         "type": "scatter",
         "x": [
          0,
          1,
          2,
          3,
          4,
          5,
          6,
          7,
          8,
          9,
          10,
          11,
          12,
          13,
          14,
          15,
          16,
          17,
          18,
          19,
          20,
          21,
          22,
          23,
          24,
          25,
          26,
          27,
          28,
          29,
          30,
          31,
          32,
          33,
          34,
          35,
          36,
          37,
          38,
          39,
          40,
          41,
          42,
          43,
          44,
          45,
          46,
          47,
          48,
          49,
          50,
          51,
          52,
          53,
          54,
          55,
          56,
          57,
          58,
          59,
          60,
          61,
          62,
          63,
          64,
          65,
          66,
          67,
          68,
          69,
          70,
          71,
          72,
          73,
          74,
          75,
          76,
          77,
          78,
          79,
          80,
          81,
          82,
          83,
          84,
          85,
          86,
          87,
          88,
          89,
          90,
          91,
          92,
          93,
          94,
          95,
          96,
          97,
          98,
          99,
          100,
          101,
          102,
          103,
          104,
          105,
          106,
          107,
          108,
          109,
          110,
          111,
          112,
          113,
          114,
          115,
          116,
          117,
          118,
          119,
          120,
          121,
          122,
          123,
          124,
          125,
          126,
          127,
          128,
          129,
          130,
          131,
          132,
          133,
          134,
          135,
          136,
          137,
          138,
          139,
          140,
          141,
          142,
          143,
          144,
          145,
          146,
          147,
          148,
          149,
          150,
          151,
          152,
          153,
          154,
          155,
          156,
          157,
          158,
          159,
          160,
          161,
          162,
          163,
          164,
          165,
          166,
          167,
          168,
          169,
          170,
          171,
          172,
          173,
          174,
          175,
          176,
          177,
          178,
          179,
          180,
          181,
          182,
          183,
          184,
          185,
          186,
          187,
          188,
          189,
          190,
          191,
          192,
          193,
          194,
          195,
          196,
          197,
          198,
          199,
          200,
          201,
          202,
          203,
          204,
          205,
          206,
          207,
          208,
          209,
          210,
          211,
          212,
          213,
          214,
          215,
          216,
          217,
          218,
          219,
          220,
          221,
          222,
          223,
          224,
          225,
          226,
          227,
          228,
          229,
          230,
          231,
          232,
          233,
          234,
          235,
          236,
          237,
          238,
          239,
          240,
          241,
          242,
          243,
          244,
          245,
          246,
          247,
          248,
          249,
          250,
          251,
          252,
          253,
          254,
          255,
          256,
          257,
          258,
          259,
          260,
          261,
          262,
          263,
          264,
          265,
          266,
          267,
          268,
          269,
          270,
          271,
          272,
          273,
          274,
          275,
          276,
          277,
          278,
          279,
          280,
          281,
          282,
          283,
          284,
          285,
          286,
          287,
          288,
          289,
          290,
          291,
          292,
          293,
          294,
          295,
          296,
          297,
          298,
          299,
          300,
          301,
          302,
          303,
          304,
          305,
          306,
          307,
          308,
          309,
          310,
          311,
          312,
          313,
          314,
          315,
          316,
          317,
          318,
          319,
          320,
          321
         ],
         "xaxis": "x",
         "y": [
          2039818.41,
          1469593.3699999999,
          599488.98,
          753447.05,
          1879451.23,
          526641.23,
          1399456.99,
          642678.53,
          1781767.22,
          829207.27,
          1935857.58,
          826546.96,
          830756.76,
          230519.49,
          483660.15,
          1913494.81,
          354078.95,
          391860.04,
          517021.3,
          497373.49,
          680254.35,
          1908278.27,
          788340.23,
          485764.32,
          1042454.61,
          505610.39999999997,
          1412721.18,
          2094373,
          874446.32,
          976453.34,
          718232.26,
          541216.92,
          1332952.47,
          1635078.41,
          384200.69,
          533414.62,
          682447.1,
          402985.7,
          822569.16,
          551553.99,
          1234875.33,
          476420.77,
          1140578.16,
          756527.64,
          1621031.7,
          766512.66,
          488008.83,
          509183.22000000003,
          1975374.56,
          238875.26,
          577011.26,
          943951.67,
          2095591.63,
          911210.81,
          276279.49,
          1609951.02,
          718890.8099999999,
          722496.9299999999,
          559285.35,
          378100.31,
          953314.16,
          525616.9,
          1444732.28,
          1192074.09,
          1457270.16,
          243477.03,
          1761016.51,
          374574.72000000003,
          1052429.03,
          1297535.69,
          2082355.12,
          1045722.37,
          643032.51,
          1640168.99,
          1805885.04,
          537276.41,
          2182437.9,
          723987.85,
          1734834.82,
          1286413.71,
          764155.44,
          1096692.88,
          551969.1,
          1107552.43,
          259527.75,
          619225.65,
          495269,
          506705.36,
          1418697.05,
          1316899.31,
          2427640.17,
          1632894.58,
          891671.4400000001,
          590739.62,
          303643.83999999997,
          1331137.96,
          919595.44,
          341381.08,
          507086.75,
          498749.62,
          684340.86,
          1514999.17,
          888368.8,
          944523.3,
          984336.04,
          322046.76,
          1974960.8599999999,
          517408.48,
          2137202.38,
          502662.07,
          346137.87,
          1571158.56,
          1871555.64,
          1004523.59,
          759407.87,
          291530.43,
          917883.79,
          488683.57,
          820288.35,
          345381.29,
          1903385.14,
          1208654.4,
          1792210.89,
          506743.78,
          1333347.78,
          257031.19,
          619639.74,
          457216.87,
          2204556.7,
          1077018.27,
          1024778.23,
          1990483.78,
          1684468.66,
          2100489.79,
          1536549.95,
          272997.65,
          607819.33,
          488782.63,
          1593012.75,
          881930.87,
          1033719.5,
          526434.37,
          1161615.51,
          787295.09,
          513991.57,
          1387365.19,
          1273279.79,
          1407897.57,
          538344.1,
          1029849.2,
          1927610.06,
          1863195.68,
          874790.6799999999,
          944594.78,
          1135035.09,
          358784.1,
          1382783.83,
          1685652.35,
          871692.74,
          847348.08,
          1970341.38,
          802003.61,
          718125.53,
          302423.93,
          1296658.47,
          1375307.54,
          1245772.7,
          895763.41,
          1569607.94,
          341630.46,
          341214.43,
          1912791.09,
          432268.53,
          1319773.55,
          538745.9299999999,
          600448.6900000001,
          433037.66000000003,
          1023997.71,
          498241.06,
          1375962.46,
          1280465.8,
          1297335.87,
          598301.5,
          321205.12,
          572387.47,
          528940.78,
          747888.25,
          1407191.96,
          1017045.4400000001,
          711671.58,
          979825.9199999999,
          395195.65,
          513073.87,
          965853.58,
          527402.62,
          1527455.19,
          1712995.44,
          1110706.06,
          2031650.55,
          399699.17,
          794397.89,
          945823.65,
          303447.57,
          940299.87,
          1239813.26,
          899036.47,
          508801.61,
          1007906.43,
          1466046.67,
          977950.28,
          1890870.75,
          1155594.2,
          1617025.41,
          424614.59,
          641965.2,
          2043245,
          1037687.07,
          748435.2,
          485095.41,
          1333315.03,
          1456957.38,
          300152.45,
          2760346.71,
          582552.26,
          945643.17,
          610985.56,
          334042.43,
          605325.43,
          430526.21,
          3436007.68,
          728311.15,
          934917.47,
          651178.2,
          437773.31,
          998362.05,
          395107.35000000003,
          698536.0599999999,
          506343.83,
          873347.5499999999,
          1456073.24,
          1821990.93,
          455162.92,
          548542.47,
          474653.06,
          411615.71,
          1476144.34,
          394645.25,
          1682614.26,
          960746.04,
          513372.17,
          1953416.06,
          1355405.95,
          301615.49,
          635118.48,
          2284106.6,
          974697.6,
          1220983.17,
          1916812.74,
          242813.51,
          493078.64,
          982322.24,
          1307551.92,
          1615987.96,
          413617.45,
          424956.3,
          773603.77,
          1406124.14,
          441683.74,
          606671.5,
          2125241.68,
          993311.59,
          1970121.65,
          379716.91000000003,
          2097266.85,
          1741308.56,
          597667.21,
          287523.98,
          1075687.74,
          533905.67,
          515119.64,
          661566.48,
          1415473.91,
          1327719.34,
          431294.45,
          848630.5700000001,
          984689.9,
          544643.33,
          2091903.63,
          902050.9500000001,
          234175.92,
          873415.01,
          1025766.27,
          1016143.64,
          860293.46,
          549528.16,
          479855,
          2302504.86,
          1802450.29,
          1844094.59,
          2135062.04,
          2065191.27,
          1949183.14,
          875038.84,
          844373.3099999999,
          1028635.39,
          1550369.92,
          1408968.55,
          1485540.28,
          2074548.8499999999,
          522673.62,
          2350098.36,
          1430348.1,
          771686.4,
          624099.48,
          1923957.0899999999,
          550735.64,
          1824711.21,
          973585.33,
          1336404.65,
          370230.94,
          1377322.73,
          1523870.8900000001
         ],
         "yaxis": "y"
        },
        {
         "hovertemplate": "variable=Valores previstos<br>index=%{x}<br>value=%{y}<extra></extra>",
         "legendgroup": "Valores previstos",
         "line": {
          "color": "#EF553B",
          "dash": "solid"
         },
         "marker": {
          "symbol": "circle"
         },
         "mode": "lines",
         "name": "Valores previstos",
         "orientation": "v",
         "showlegend": true,
         "type": "scatter",
         "x": [
          0,
          1,
          2,
          3,
          4,
          5,
          6,
          7,
          8,
          9,
          10,
          11,
          12,
          13,
          14,
          15,
          16,
          17,
          18,
          19,
          20,
          21,
          22,
          23,
          24,
          25,
          26,
          27,
          28,
          29,
          30,
          31,
          32,
          33,
          34,
          35,
          36,
          37,
          38,
          39,
          40,
          41,
          42,
          43,
          44,
          45,
          46,
          47,
          48,
          49,
          50,
          51,
          52,
          53,
          54,
          55,
          56,
          57,
          58,
          59,
          60,
          61,
          62,
          63,
          64,
          65,
          66,
          67,
          68,
          69,
          70,
          71,
          72,
          73,
          74,
          75,
          76,
          77,
          78,
          79,
          80,
          81,
          82,
          83,
          84,
          85,
          86,
          87,
          88,
          89,
          90,
          91,
          92,
          93,
          94,
          95,
          96,
          97,
          98,
          99,
          100,
          101,
          102,
          103,
          104,
          105,
          106,
          107,
          108,
          109,
          110,
          111,
          112,
          113,
          114,
          115,
          116,
          117,
          118,
          119,
          120,
          121,
          122,
          123,
          124,
          125,
          126,
          127,
          128,
          129,
          130,
          131,
          132,
          133,
          134,
          135,
          136,
          137,
          138,
          139,
          140,
          141,
          142,
          143,
          144,
          145,
          146,
          147,
          148,
          149,
          150,
          151,
          152,
          153,
          154,
          155,
          156,
          157,
          158,
          159,
          160,
          161,
          162,
          163,
          164,
          165,
          166,
          167,
          168,
          169,
          170,
          171,
          172,
          173,
          174,
          175,
          176,
          177,
          178,
          179,
          180,
          181,
          182,
          183,
          184,
          185,
          186,
          187,
          188,
          189,
          190,
          191,
          192,
          193,
          194,
          195,
          196,
          197,
          198,
          199,
          200,
          201,
          202,
          203,
          204,
          205,
          206,
          207,
          208,
          209,
          210,
          211,
          212,
          213,
          214,
          215,
          216,
          217,
          218,
          219,
          220,
          221,
          222,
          223,
          224,
          225,
          226,
          227,
          228,
          229,
          230,
          231,
          232,
          233,
          234,
          235,
          236,
          237,
          238,
          239,
          240,
          241,
          242,
          243,
          244,
          245,
          246,
          247,
          248,
          249,
          250,
          251,
          252,
          253,
          254,
          255,
          256,
          257,
          258,
          259,
          260,
          261,
          262,
          263,
          264,
          265,
          266,
          267,
          268,
          269,
          270,
          271,
          272,
          273,
          274,
          275,
          276,
          277,
          278,
          279,
          280,
          281,
          282,
          283,
          284,
          285,
          286,
          287,
          288,
          289,
          290,
          291,
          292,
          293,
          294,
          295,
          296,
          297,
          298,
          299,
          300,
          301,
          302,
          303,
          304,
          305,
          306,
          307,
          308,
          309,
          310,
          311,
          312,
          313,
          314,
          315,
          316,
          317,
          318,
          319,
          320,
          321
         ],
         "xaxis": "x",
         "y": [
          2023475.09,
          1406840.1,
          843339.56,
          752571.82,
          1810356.25,
          560664.33,
          1386262.04,
          498105.38,
          1386262.04,
          843339.56,
          2023475.09,
          819515.98,
          819515.98,
          887814.48,
          498105.38,
          1270609.92,
          453768.16,
          403032.26,
          457095.63,
          843339.56,
          752571.82,
          1810356.25,
          752571.82,
          802823.33,
          1270609.92,
          457095.63,
          1025188.55,
          1810356.25,
          1006018.73,
          1006018.73,
          752571.82,
          843339.56,
          1270609.92,
          1556889.67,
          403032.26,
          560664.33,
          843339.56,
          669106.01,
          752571.82,
          843339.56,
          1270609.92,
          403032.26,
          1260274.52,
          1270609.92,
          1556889.67,
          752571.82,
          818943.64,
          818943.64,
          1270609.92,
          887814.48,
          843339.56,
          902480.7,
          1810356.25,
          902480.7,
          350122.54,
          1270609.92,
          1270609.92,
          752571.82,
          560664.33,
          843339.56,
          1270609.92,
          457095.63,
          1556889.67,
          983548.87,
          1270609.92,
          887814.48,
          1270609.92,
          392523.72,
          1006018.73,
          1270609.92,
          1810356.25,
          1270609.92,
          622926.43,
          1386262.04,
          1270609.92,
          560664.33,
          1810356.25,
          752571.82,
          1386262.04,
          1270609.92,
          1270609.92,
          983548.87,
          457095.63,
          1270609.92,
          887814.48,
          622926.43,
          498105.38,
          498105.38,
          1270609.92,
          1556889.67,
          2023475.09,
          1406840.1,
          819515.98,
          843339.56,
          669106.01,
          1025188.55,
          1006018.73,
          350122.54,
          457095.63,
          457095.63,
          1270609.92,
          873256.52,
          902480.7,
          1270609.92,
          1006018.73,
          453768.16,
          1810356.25,
          498105.38,
          1270609.92,
          843339.56,
          392523.72,
          1270609.92,
          1810356.25,
          902480.7,
          1270609.92,
          392523.72,
          902480.7,
          802823.33,
          902480.7,
          403032.26,
          873256.52,
          1270609.92,
          1386262.04,
          802823.33,
          1260274.52,
          887814.48,
          843339.56,
          818943.64,
          1810356.25,
          1386262.04,
          1270609.92,
          1917026.71,
          983548.87,
          1270609.92,
          1270609.92,
          350122.54,
          1270609.92,
          498105.38,
          1270609.92,
          1270609.92,
          902480.7,
          457095.63,
          1270609.92,
          819515.98,
          802823.33,
          1025188.55,
          1260274.52,
          1270609.92,
          457095.63,
          1270609.92,
          2023475.09,
          1270609.92,
          1270609.92,
          819515.98,
          1270609.92,
          403032.26,
          873256.52,
          873256.52,
          1386262.04,
          1270609.92,
          1810356.25,
          1270609.92,
          752571.82,
          887814.48,
          1270609.92,
          1270609.92,
          1260274.52,
          819515.98,
          1386262.04,
          453768.16,
          669106.01,
          1917026.71,
          403032.26,
          1270609.92,
          802823.33,
          1270609.92,
          479855.49,
          1260274.52,
          843339.56,
          1025188.55,
          1025188.55,
          1386262.04,
          843339.56,
          669106.01,
          818943.64,
          457095.63,
          752571.82,
          1270609.92,
          1270609.92,
          752571.82,
          1386262.04,
          818943.64,
          802823.33,
          902480.7,
          843339.56,
          1270609.92,
          1386262.04,
          1270609.92,
          1270609.92,
          453768.16,
          1270609.92,
          1386262.04,
          669106.01,
          902480.7,
          1260274.52,
          819515.98,
          802823.33,
          1006018.73,
          1556889.67,
          1006018.73,
          1810356.25,
          1270609.92,
          1270609.92,
          479855.49,
          843339.56,
          1270609.92,
          1006018.73,
          752571.82,
          843339.56,
          1270609.92,
          1406840.1,
          350122.54,
          1810356.25,
          560664.33,
          1270609.92,
          802823.33,
          350122.54,
          843339.56,
          403032.26,
          1917026.71,
          1270609.92,
          1386262.04,
          1270609.92,
          479855.49,
          1386262.04,
          403032.26,
          622926.43,
          560664.33,
          802823.33,
          873256.52,
          1917026.71,
          479855.49,
          843339.56,
          498105.38,
          392523.72,
          1270609.92,
          392523.72,
          1556889.67,
          843339.56,
          818943.64,
          1270609.92,
          1025188.55,
          669106.01,
          843339.56,
          1270609.92,
          1386262.04,
          1270609.92,
          1917026.71,
          887814.48,
          498105.38,
          843339.56,
          873256.52,
          1270609.92,
          479855.49,
          392523.72,
          752571.82,
          1406840.1,
          453768.16,
          560664.33,
          2023475.09,
          1006018.73,
          1810356.25,
          403032.26,
          2023475.09,
          1386262.04,
          560664.33,
          669106.01,
          1006018.73,
          457095.63,
          498105.38,
          1270609.92,
          1025188.55,
          1025188.55,
          392523.72,
          819515.98,
          1386262.04,
          802823.33,
          1270609.92,
          902480.7,
          887814.48,
          902480.7,
          1270609.92,
          1270609.92,
          902480.7,
          560664.33,
          843339.56,
          2023475.09,
          1917026.71,
          1917026.71,
          1270609.92,
          1270609.92,
          983548.87,
          1006018.73,
          1006018.73,
          983548.87,
          1556889.67,
          1270609.92,
          1270609.92,
          2023475.09,
          560664.33,
          1270609.92,
          1025188.55,
          752571.82,
          843339.56,
          1917026.71,
          498105.38,
          1270609.92,
          1270609.92,
          1386262.04,
          843339.56,
          983548.87,
          1270609.92
         ],
         "yaxis": "y"
        }
       ],
       "layout": {
        "legend": {
         "title": {
          "text": "variable"
         },
         "tracegroupgap": 0
        },
        "margin": {
         "t": 60
        },
        "template": {
         "data": {
          "bar": [
           {
            "error_x": {
             "color": "#2a3f5f"
            },
            "error_y": {
             "color": "#2a3f5f"
            },
            "marker": {
             "line": {
              "color": "#E5ECF6",
              "width": 0.5
             },
             "pattern": {
              "fillmode": "overlay",
              "size": 10,
              "solidity": 0.2
             }
            },
            "type": "bar"
           }
          ],
          "barpolar": [
           {
            "marker": {
             "line": {
              "color": "#E5ECF6",
              "width": 0.5
             },
             "pattern": {
              "fillmode": "overlay",
              "size": 10,
              "solidity": 0.2
             }
            },
            "type": "barpolar"
           }
          ],
          "carpet": [
           {
            "aaxis": {
             "endlinecolor": "#2a3f5f",
             "gridcolor": "white",
             "linecolor": "white",
             "minorgridcolor": "white",
             "startlinecolor": "#2a3f5f"
            },
            "baxis": {
             "endlinecolor": "#2a3f5f",
             "gridcolor": "white",
             "linecolor": "white",
             "minorgridcolor": "white",
             "startlinecolor": "#2a3f5f"
            },
            "type": "carpet"
           }
          ],
          "choropleth": [
           {
            "colorbar": {
             "outlinewidth": 0,
             "ticks": ""
            },
            "type": "choropleth"
           }
          ],
          "contour": [
           {
            "colorbar": {
             "outlinewidth": 0,
             "ticks": ""
            },
            "colorscale": [
             [
              0,
              "#0d0887"
             ],
             [
              0.1111111111111111,
              "#46039f"
             ],
             [
              0.2222222222222222,
              "#7201a8"
             ],
             [
              0.3333333333333333,
              "#9c179e"
             ],
             [
              0.4444444444444444,
              "#bd3786"
             ],
             [
              0.5555555555555556,
              "#d8576b"
             ],
             [
              0.6666666666666666,
              "#ed7953"
             ],
             [
              0.7777777777777778,
              "#fb9f3a"
             ],
             [
              0.8888888888888888,
              "#fdca26"
             ],
             [
              1,
              "#f0f921"
             ]
            ],
            "type": "contour"
           }
          ],
          "contourcarpet": [
           {
            "colorbar": {
             "outlinewidth": 0,
             "ticks": ""
            },
            "type": "contourcarpet"
           }
          ],
          "heatmap": [
           {
            "colorbar": {
             "outlinewidth": 0,
             "ticks": ""
            },
            "colorscale": [
             [
              0,
              "#0d0887"
             ],
             [
              0.1111111111111111,
              "#46039f"
             ],
             [
              0.2222222222222222,
              "#7201a8"
             ],
             [
              0.3333333333333333,
              "#9c179e"
             ],
             [
              0.4444444444444444,
              "#bd3786"
             ],
             [
              0.5555555555555556,
              "#d8576b"
             ],
             [
              0.6666666666666666,
              "#ed7953"
             ],
             [
              0.7777777777777778,
              "#fb9f3a"
             ],
             [
              0.8888888888888888,
              "#fdca26"
             ],
             [
              1,
              "#f0f921"
             ]
            ],
            "type": "heatmap"
           }
          ],
          "heatmapgl": [
           {
            "colorbar": {
             "outlinewidth": 0,
             "ticks": ""
            },
            "colorscale": [
             [
              0,
              "#0d0887"
             ],
             [
              0.1111111111111111,
              "#46039f"
             ],
             [
              0.2222222222222222,
              "#7201a8"
             ],
             [
              0.3333333333333333,
              "#9c179e"
             ],
             [
              0.4444444444444444,
              "#bd3786"
             ],
             [
              0.5555555555555556,
              "#d8576b"
             ],
             [
              0.6666666666666666,
              "#ed7953"
             ],
             [
              0.7777777777777778,
              "#fb9f3a"
             ],
             [
              0.8888888888888888,
              "#fdca26"
             ],
             [
              1,
              "#f0f921"
             ]
            ],
            "type": "heatmapgl"
           }
          ],
          "histogram": [
           {
            "marker": {
             "pattern": {
              "fillmode": "overlay",
              "size": 10,
              "solidity": 0.2
             }
            },
            "type": "histogram"
           }
          ],
          "histogram2d": [
           {
            "colorbar": {
             "outlinewidth": 0,
             "ticks": ""
            },
            "colorscale": [
             [
              0,
              "#0d0887"
             ],
             [
              0.1111111111111111,
              "#46039f"
             ],
             [
              0.2222222222222222,
              "#7201a8"
             ],
             [
              0.3333333333333333,
              "#9c179e"
             ],
             [
              0.4444444444444444,
              "#bd3786"
             ],
             [
              0.5555555555555556,
              "#d8576b"
             ],
             [
              0.6666666666666666,
              "#ed7953"
             ],
             [
              0.7777777777777778,
              "#fb9f3a"
             ],
             [
              0.8888888888888888,
              "#fdca26"
             ],
             [
              1,
              "#f0f921"
             ]
            ],
            "type": "histogram2d"
           }
          ],
          "histogram2dcontour": [
           {
            "colorbar": {
             "outlinewidth": 0,
             "ticks": ""
            },
            "colorscale": [
             [
              0,
              "#0d0887"
             ],
             [
              0.1111111111111111,
              "#46039f"
             ],
             [
              0.2222222222222222,
              "#7201a8"
             ],
             [
              0.3333333333333333,
              "#9c179e"
             ],
             [
              0.4444444444444444,
              "#bd3786"
             ],
             [
              0.5555555555555556,
              "#d8576b"
             ],
             [
              0.6666666666666666,
              "#ed7953"
             ],
             [
              0.7777777777777778,
              "#fb9f3a"
             ],
             [
              0.8888888888888888,
              "#fdca26"
             ],
             [
              1,
              "#f0f921"
             ]
            ],
            "type": "histogram2dcontour"
           }
          ],
          "mesh3d": [
           {
            "colorbar": {
             "outlinewidth": 0,
             "ticks": ""
            },
            "type": "mesh3d"
           }
          ],
          "parcoords": [
           {
            "line": {
             "colorbar": {
              "outlinewidth": 0,
              "ticks": ""
             }
            },
            "type": "parcoords"
           }
          ],
          "pie": [
           {
            "automargin": true,
            "type": "pie"
           }
          ],
          "scatter": [
           {
            "marker": {
             "colorbar": {
              "outlinewidth": 0,
              "ticks": ""
             }
            },
            "type": "scatter"
           }
          ],
          "scatter3d": [
           {
            "line": {
             "colorbar": {
              "outlinewidth": 0,
              "ticks": ""
             }
            },
            "marker": {
             "colorbar": {
              "outlinewidth": 0,
              "ticks": ""
             }
            },
            "type": "scatter3d"
           }
          ],
          "scattercarpet": [
           {
            "marker": {
             "colorbar": {
              "outlinewidth": 0,
              "ticks": ""
             }
            },
            "type": "scattercarpet"
           }
          ],
          "scattergeo": [
           {
            "marker": {
             "colorbar": {
              "outlinewidth": 0,
              "ticks": ""
             }
            },
            "type": "scattergeo"
           }
          ],
          "scattergl": [
           {
            "marker": {
             "colorbar": {
              "outlinewidth": 0,
              "ticks": ""
             }
            },
            "type": "scattergl"
           }
          ],
          "scattermapbox": [
           {
            "marker": {
             "colorbar": {
              "outlinewidth": 0,
              "ticks": ""
             }
            },
            "type": "scattermapbox"
           }
          ],
          "scatterpolar": [
           {
            "marker": {
             "colorbar": {
              "outlinewidth": 0,
              "ticks": ""
             }
            },
            "type": "scatterpolar"
           }
          ],
          "scatterpolargl": [
           {
            "marker": {
             "colorbar": {
              "outlinewidth": 0,
              "ticks": ""
             }
            },
            "type": "scatterpolargl"
           }
          ],
          "scatterternary": [
           {
            "marker": {
             "colorbar": {
              "outlinewidth": 0,
              "ticks": ""
             }
            },
            "type": "scatterternary"
           }
          ],
          "surface": [
           {
            "colorbar": {
             "outlinewidth": 0,
             "ticks": ""
            },
            "colorscale": [
             [
              0,
              "#0d0887"
             ],
             [
              0.1111111111111111,
              "#46039f"
             ],
             [
              0.2222222222222222,
              "#7201a8"
             ],
             [
              0.3333333333333333,
              "#9c179e"
             ],
             [
              0.4444444444444444,
              "#bd3786"
             ],
             [
              0.5555555555555556,
              "#d8576b"
             ],
             [
              0.6666666666666666,
              "#ed7953"
             ],
             [
              0.7777777777777778,
              "#fb9f3a"
             ],
             [
              0.8888888888888888,
              "#fdca26"
             ],
             [
              1,
              "#f0f921"
             ]
            ],
            "type": "surface"
           }
          ],
          "table": [
           {
            "cells": {
             "fill": {
              "color": "#EBF0F8"
             },
             "line": {
              "color": "white"
             }
            },
            "header": {
             "fill": {
              "color": "#C8D4E3"
             },
             "line": {
              "color": "white"
             }
            },
            "type": "table"
           }
          ]
         },
         "layout": {
          "annotationdefaults": {
           "arrowcolor": "#2a3f5f",
           "arrowhead": 0,
           "arrowwidth": 1
          },
          "autotypenumbers": "strict",
          "coloraxis": {
           "colorbar": {
            "outlinewidth": 0,
            "ticks": ""
           }
          },
          "colorscale": {
           "diverging": [
            [
             0,
             "#8e0152"
            ],
            [
             0.1,
             "#c51b7d"
            ],
            [
             0.2,
             "#de77ae"
            ],
            [
             0.3,
             "#f1b6da"
            ],
            [
             0.4,
             "#fde0ef"
            ],
            [
             0.5,
             "#f7f7f7"
            ],
            [
             0.6,
             "#e6f5d0"
            ],
            [
             0.7,
             "#b8e186"
            ],
            [
             0.8,
             "#7fbc41"
            ],
            [
             0.9,
             "#4d9221"
            ],
            [
             1,
             "#276419"
            ]
           ],
           "sequential": [
            [
             0,
             "#0d0887"
            ],
            [
             0.1111111111111111,
             "#46039f"
            ],
            [
             0.2222222222222222,
             "#7201a8"
            ],
            [
             0.3333333333333333,
             "#9c179e"
            ],
            [
             0.4444444444444444,
             "#bd3786"
            ],
            [
             0.5555555555555556,
             "#d8576b"
            ],
            [
             0.6666666666666666,
             "#ed7953"
            ],
            [
             0.7777777777777778,
             "#fb9f3a"
            ],
            [
             0.8888888888888888,
             "#fdca26"
            ],
            [
             1,
             "#f0f921"
            ]
           ],
           "sequentialminus": [
            [
             0,
             "#0d0887"
            ],
            [
             0.1111111111111111,
             "#46039f"
            ],
            [
             0.2222222222222222,
             "#7201a8"
            ],
            [
             0.3333333333333333,
             "#9c179e"
            ],
            [
             0.4444444444444444,
             "#bd3786"
            ],
            [
             0.5555555555555556,
             "#d8576b"
            ],
            [
             0.6666666666666666,
             "#ed7953"
            ],
            [
             0.7777777777777778,
             "#fb9f3a"
            ],
            [
             0.8888888888888888,
             "#fdca26"
            ],
            [
             1,
             "#f0f921"
            ]
           ]
          },
          "colorway": [
           "#636efa",
           "#EF553B",
           "#00cc96",
           "#ab63fa",
           "#FFA15A",
           "#19d3f3",
           "#FF6692",
           "#B6E880",
           "#FF97FF",
           "#FECB52"
          ],
          "font": {
           "color": "#2a3f5f"
          },
          "geo": {
           "bgcolor": "white",
           "lakecolor": "white",
           "landcolor": "#E5ECF6",
           "showlakes": true,
           "showland": true,
           "subunitcolor": "white"
          },
          "hoverlabel": {
           "align": "left"
          },
          "hovermode": "closest",
          "mapbox": {
           "style": "light"
          },
          "paper_bgcolor": "white",
          "plot_bgcolor": "#E5ECF6",
          "polar": {
           "angularaxis": {
            "gridcolor": "white",
            "linecolor": "white",
            "ticks": ""
           },
           "bgcolor": "#E5ECF6",
           "radialaxis": {
            "gridcolor": "white",
            "linecolor": "white",
            "ticks": ""
           }
          },
          "scene": {
           "xaxis": {
            "backgroundcolor": "#E5ECF6",
            "gridcolor": "white",
            "gridwidth": 2,
            "linecolor": "white",
            "showbackground": true,
            "ticks": "",
            "zerolinecolor": "white"
           },
           "yaxis": {
            "backgroundcolor": "#E5ECF6",
            "gridcolor": "white",
            "gridwidth": 2,
            "linecolor": "white",
            "showbackground": true,
            "ticks": "",
            "zerolinecolor": "white"
           },
           "zaxis": {
            "backgroundcolor": "#E5ECF6",
            "gridcolor": "white",
            "gridwidth": 2,
            "linecolor": "white",
            "showbackground": true,
            "ticks": "",
            "zerolinecolor": "white"
           }
          },
          "shapedefaults": {
           "line": {
            "color": "#2a3f5f"
           }
          },
          "ternary": {
           "aaxis": {
            "gridcolor": "white",
            "linecolor": "white",
            "ticks": ""
           },
           "baxis": {
            "gridcolor": "white",
            "linecolor": "white",
            "ticks": ""
           },
           "bgcolor": "#E5ECF6",
           "caxis": {
            "gridcolor": "white",
            "linecolor": "white",
            "ticks": ""
           }
          },
          "title": {
           "x": 0.05
          },
          "xaxis": {
           "automargin": true,
           "gridcolor": "white",
           "linecolor": "white",
           "ticks": "",
           "title": {
            "standoff": 15
           },
           "zerolinecolor": "white",
           "zerolinewidth": 2
          },
          "yaxis": {
           "automargin": true,
           "gridcolor": "white",
           "linecolor": "white",
           "ticks": "",
           "title": {
            "standoff": 15
           },
           "zerolinecolor": "white",
           "zerolinewidth": 2
          }
         }
        },
        "xaxis": {
         "anchor": "y",
         "domain": [
          0,
          1
         ],
         "title": {
          "text": "index"
         }
        },
        "yaxis": {
         "anchor": "x",
         "domain": [
          0,
          1
         ],
         "title": {
          "text": "value"
         }
        }
       }
      },
      "text/html": [
       "<div>                            <div id=\"06a1801f-3d19-4581-891d-08e7b9609dc1\" class=\"plotly-graph-div\" style=\"height:525px; width:100%;\"></div>            <script type=\"text/javascript\">                require([\"plotly\"], function(Plotly) {                    window.PLOTLYENV=window.PLOTLYENV || {};                                    if (document.getElementById(\"06a1801f-3d19-4581-891d-08e7b9609dc1\")) {                    Plotly.newPlot(                        \"06a1801f-3d19-4581-891d-08e7b9609dc1\",                        [{\"hovertemplate\":\"variable=Valores reais<br>index=%{x}<br>value=%{y}<extra></extra>\",\"legendgroup\":\"Valores reais\",\"line\":{\"color\":\"#636efa\",\"dash\":\"solid\"},\"marker\":{\"symbol\":\"circle\"},\"mode\":\"lines\",\"name\":\"Valores reais\",\"orientation\":\"v\",\"showlegend\":true,\"x\":[0,1,2,3,4,5,6,7,8,9,10,11,12,13,14,15,16,17,18,19,20,21,22,23,24,25,26,27,28,29,30,31,32,33,34,35,36,37,38,39,40,41,42,43,44,45,46,47,48,49,50,51,52,53,54,55,56,57,58,59,60,61,62,63,64,65,66,67,68,69,70,71,72,73,74,75,76,77,78,79,80,81,82,83,84,85,86,87,88,89,90,91,92,93,94,95,96,97,98,99,100,101,102,103,104,105,106,107,108,109,110,111,112,113,114,115,116,117,118,119,120,121,122,123,124,125,126,127,128,129,130,131,132,133,134,135,136,137,138,139,140,141,142,143,144,145,146,147,148,149,150,151,152,153,154,155,156,157,158,159,160,161,162,163,164,165,166,167,168,169,170,171,172,173,174,175,176,177,178,179,180,181,182,183,184,185,186,187,188,189,190,191,192,193,194,195,196,197,198,199,200,201,202,203,204,205,206,207,208,209,210,211,212,213,214,215,216,217,218,219,220,221,222,223,224,225,226,227,228,229,230,231,232,233,234,235,236,237,238,239,240,241,242,243,244,245,246,247,248,249,250,251,252,253,254,255,256,257,258,259,260,261,262,263,264,265,266,267,268,269,270,271,272,273,274,275,276,277,278,279,280,281,282,283,284,285,286,287,288,289,290,291,292,293,294,295,296,297,298,299,300,301,302,303,304,305,306,307,308,309,310,311,312,313,314,315,316,317,318,319,320,321],\"xaxis\":\"x\",\"y\":[2039818.41,1469593.3699999999,599488.98,753447.05,1879451.23,526641.23,1399456.99,642678.53,1781767.22,829207.27,1935857.58,826546.96,830756.76,230519.49,483660.15,1913494.81,354078.95,391860.04,517021.3,497373.49,680254.35,1908278.27,788340.23,485764.32,1042454.61,505610.39999999997,1412721.18,2094373.0,874446.32,976453.34,718232.26,541216.92,1332952.47,1635078.41,384200.69,533414.62,682447.1,402985.7,822569.16,551553.99,1234875.33,476420.77,1140578.16,756527.64,1621031.7,766512.66,488008.83,509183.22000000003,1975374.56,238875.26,577011.26,943951.67,2095591.63,911210.81,276279.49,1609951.02,718890.8099999999,722496.9299999999,559285.35,378100.31,953314.16,525616.9,1444732.28,1192074.09,1457270.16,243477.03,1761016.51,374574.72000000003,1052429.03,1297535.69,2082355.12,1045722.37,643032.51,1640168.99,1805885.04,537276.41,2182437.9,723987.85,1734834.82,1286413.71,764155.44,1096692.88,551969.1,1107552.43,259527.75,619225.65,495269.0,506705.36,1418697.05,1316899.31,2427640.17,1632894.58,891671.4400000001,590739.62,303643.83999999997,1331137.96,919595.44,341381.08,507086.75,498749.62,684340.86,1514999.17,888368.8,944523.3,984336.04,322046.76,1974960.8599999999,517408.48,2137202.38,502662.07,346137.87,1571158.56,1871555.64,1004523.59,759407.87,291530.43,917883.79,488683.57,820288.35,345381.29,1903385.14,1208654.4,1792210.89,506743.78,1333347.78,257031.19,619639.74,457216.87,2204556.7,1077018.27,1024778.23,1990483.78,1684468.66,2100489.79,1536549.95,272997.65,607819.33,488782.63,1593012.75,881930.87,1033719.5,526434.37,1161615.51,787295.09,513991.57,1387365.19,1273279.79,1407897.57,538344.1,1029849.2,1927610.06,1863195.68,874790.6799999999,944594.78,1135035.09,358784.1,1382783.83,1685652.35,871692.74,847348.08,1970341.38,802003.61,718125.53,302423.93,1296658.47,1375307.54,1245772.7,895763.41,1569607.94,341630.46,341214.43,1912791.09,432268.53,1319773.55,538745.9299999999,600448.6900000001,433037.66000000003,1023997.71,498241.06,1375962.46,1280465.8,1297335.87,598301.5,321205.12,572387.47,528940.78,747888.25,1407191.96,1017045.4400000001,711671.58,979825.9199999999,395195.65,513073.87,965853.58,527402.62,1527455.19,1712995.44,1110706.06,2031650.55,399699.17,794397.89,945823.65,303447.57,940299.87,1239813.26,899036.47,508801.61,1007906.43,1466046.67,977950.28,1890870.75,1155594.2,1617025.41,424614.59,641965.2,2043245.0,1037687.07,748435.2,485095.41,1333315.03,1456957.38,300152.45,2760346.71,582552.26,945643.17,610985.56,334042.43,605325.43,430526.21,3436007.68,728311.15,934917.47,651178.2,437773.31,998362.05,395107.35000000003,698536.0599999999,506343.83,873347.5499999999,1456073.24,1821990.93,455162.92,548542.47,474653.06,411615.71,1476144.34,394645.25,1682614.26,960746.04,513372.17,1953416.06,1355405.95,301615.49,635118.48,2284106.6,974697.6,1220983.17,1916812.74,242813.51,493078.64,982322.24,1307551.92,1615987.96,413617.45,424956.3,773603.77,1406124.14,441683.74,606671.5,2125241.68,993311.59,1970121.65,379716.91000000003,2097266.85,1741308.56,597667.21,287523.98,1075687.74,533905.67,515119.64,661566.48,1415473.91,1327719.34,431294.45,848630.5700000001,984689.9,544643.33,2091903.63,902050.9500000001,234175.92,873415.01,1025766.27,1016143.64,860293.46,549528.16,479855.0,2302504.86,1802450.29,1844094.59,2135062.04,2065191.27,1949183.14,875038.84,844373.3099999999,1028635.39,1550369.92,1408968.55,1485540.28,2074548.8499999999,522673.62,2350098.36,1430348.1,771686.4,624099.48,1923957.0899999999,550735.64,1824711.21,973585.33,1336404.65,370230.94,1377322.73,1523870.8900000001],\"yaxis\":\"y\",\"type\":\"scatter\"},{\"hovertemplate\":\"variable=Valores previstos<br>index=%{x}<br>value=%{y}<extra></extra>\",\"legendgroup\":\"Valores previstos\",\"line\":{\"color\":\"#EF553B\",\"dash\":\"solid\"},\"marker\":{\"symbol\":\"circle\"},\"mode\":\"lines\",\"name\":\"Valores previstos\",\"orientation\":\"v\",\"showlegend\":true,\"x\":[0,1,2,3,4,5,6,7,8,9,10,11,12,13,14,15,16,17,18,19,20,21,22,23,24,25,26,27,28,29,30,31,32,33,34,35,36,37,38,39,40,41,42,43,44,45,46,47,48,49,50,51,52,53,54,55,56,57,58,59,60,61,62,63,64,65,66,67,68,69,70,71,72,73,74,75,76,77,78,79,80,81,82,83,84,85,86,87,88,89,90,91,92,93,94,95,96,97,98,99,100,101,102,103,104,105,106,107,108,109,110,111,112,113,114,115,116,117,118,119,120,121,122,123,124,125,126,127,128,129,130,131,132,133,134,135,136,137,138,139,140,141,142,143,144,145,146,147,148,149,150,151,152,153,154,155,156,157,158,159,160,161,162,163,164,165,166,167,168,169,170,171,172,173,174,175,176,177,178,179,180,181,182,183,184,185,186,187,188,189,190,191,192,193,194,195,196,197,198,199,200,201,202,203,204,205,206,207,208,209,210,211,212,213,214,215,216,217,218,219,220,221,222,223,224,225,226,227,228,229,230,231,232,233,234,235,236,237,238,239,240,241,242,243,244,245,246,247,248,249,250,251,252,253,254,255,256,257,258,259,260,261,262,263,264,265,266,267,268,269,270,271,272,273,274,275,276,277,278,279,280,281,282,283,284,285,286,287,288,289,290,291,292,293,294,295,296,297,298,299,300,301,302,303,304,305,306,307,308,309,310,311,312,313,314,315,316,317,318,319,320,321],\"xaxis\":\"x\",\"y\":[2023475.09,1406840.1,843339.56,752571.82,1810356.25,560664.33,1386262.04,498105.38,1386262.04,843339.56,2023475.09,819515.98,819515.98,887814.48,498105.38,1270609.92,453768.16,403032.26,457095.63,843339.56,752571.82,1810356.25,752571.82,802823.33,1270609.92,457095.63,1025188.55,1810356.25,1006018.73,1006018.73,752571.82,843339.56,1270609.92,1556889.67,403032.26,560664.33,843339.56,669106.01,752571.82,843339.56,1270609.92,403032.26,1260274.52,1270609.92,1556889.67,752571.82,818943.64,818943.64,1270609.92,887814.48,843339.56,902480.7,1810356.25,902480.7,350122.54,1270609.92,1270609.92,752571.82,560664.33,843339.56,1270609.92,457095.63,1556889.67,983548.87,1270609.92,887814.48,1270609.92,392523.72,1006018.73,1270609.92,1810356.25,1270609.92,622926.43,1386262.04,1270609.92,560664.33,1810356.25,752571.82,1386262.04,1270609.92,1270609.92,983548.87,457095.63,1270609.92,887814.48,622926.43,498105.38,498105.38,1270609.92,1556889.67,2023475.09,1406840.1,819515.98,843339.56,669106.01,1025188.55,1006018.73,350122.54,457095.63,457095.63,1270609.92,873256.52,902480.7,1270609.92,1006018.73,453768.16,1810356.25,498105.38,1270609.92,843339.56,392523.72,1270609.92,1810356.25,902480.7,1270609.92,392523.72,902480.7,802823.33,902480.7,403032.26,873256.52,1270609.92,1386262.04,802823.33,1260274.52,887814.48,843339.56,818943.64,1810356.25,1386262.04,1270609.92,1917026.71,983548.87,1270609.92,1270609.92,350122.54,1270609.92,498105.38,1270609.92,1270609.92,902480.7,457095.63,1270609.92,819515.98,802823.33,1025188.55,1260274.52,1270609.92,457095.63,1270609.92,2023475.09,1270609.92,1270609.92,819515.98,1270609.92,403032.26,873256.52,873256.52,1386262.04,1270609.92,1810356.25,1270609.92,752571.82,887814.48,1270609.92,1270609.92,1260274.52,819515.98,1386262.04,453768.16,669106.01,1917026.71,403032.26,1270609.92,802823.33,1270609.92,479855.49,1260274.52,843339.56,1025188.55,1025188.55,1386262.04,843339.56,669106.01,818943.64,457095.63,752571.82,1270609.92,1270609.92,752571.82,1386262.04,818943.64,802823.33,902480.7,843339.56,1270609.92,1386262.04,1270609.92,1270609.92,453768.16,1270609.92,1386262.04,669106.01,902480.7,1260274.52,819515.98,802823.33,1006018.73,1556889.67,1006018.73,1810356.25,1270609.92,1270609.92,479855.49,843339.56,1270609.92,1006018.73,752571.82,843339.56,1270609.92,1406840.1,350122.54,1810356.25,560664.33,1270609.92,802823.33,350122.54,843339.56,403032.26,1917026.71,1270609.92,1386262.04,1270609.92,479855.49,1386262.04,403032.26,622926.43,560664.33,802823.33,873256.52,1917026.71,479855.49,843339.56,498105.38,392523.72,1270609.92,392523.72,1556889.67,843339.56,818943.64,1270609.92,1025188.55,669106.01,843339.56,1270609.92,1386262.04,1270609.92,1917026.71,887814.48,498105.38,843339.56,873256.52,1270609.92,479855.49,392523.72,752571.82,1406840.1,453768.16,560664.33,2023475.09,1006018.73,1810356.25,403032.26,2023475.09,1386262.04,560664.33,669106.01,1006018.73,457095.63,498105.38,1270609.92,1025188.55,1025188.55,392523.72,819515.98,1386262.04,802823.33,1270609.92,902480.7,887814.48,902480.7,1270609.92,1270609.92,902480.7,560664.33,843339.56,2023475.09,1917026.71,1917026.71,1270609.92,1270609.92,983548.87,1006018.73,1006018.73,983548.87,1556889.67,1270609.92,1270609.92,2023475.09,560664.33,1270609.92,1025188.55,752571.82,843339.56,1917026.71,498105.38,1270609.92,1270609.92,1386262.04,843339.56,983548.87,1270609.92],\"yaxis\":\"y\",\"type\":\"scatter\"}],                        {\"template\":{\"data\":{\"bar\":[{\"error_x\":{\"color\":\"#2a3f5f\"},\"error_y\":{\"color\":\"#2a3f5f\"},\"marker\":{\"line\":{\"color\":\"#E5ECF6\",\"width\":0.5},\"pattern\":{\"fillmode\":\"overlay\",\"size\":10,\"solidity\":0.2}},\"type\":\"bar\"}],\"barpolar\":[{\"marker\":{\"line\":{\"color\":\"#E5ECF6\",\"width\":0.5},\"pattern\":{\"fillmode\":\"overlay\",\"size\":10,\"solidity\":0.2}},\"type\":\"barpolar\"}],\"carpet\":[{\"aaxis\":{\"endlinecolor\":\"#2a3f5f\",\"gridcolor\":\"white\",\"linecolor\":\"white\",\"minorgridcolor\":\"white\",\"startlinecolor\":\"#2a3f5f\"},\"baxis\":{\"endlinecolor\":\"#2a3f5f\",\"gridcolor\":\"white\",\"linecolor\":\"white\",\"minorgridcolor\":\"white\",\"startlinecolor\":\"#2a3f5f\"},\"type\":\"carpet\"}],\"choropleth\":[{\"colorbar\":{\"outlinewidth\":0,\"ticks\":\"\"},\"type\":\"choropleth\"}],\"contour\":[{\"colorbar\":{\"outlinewidth\":0,\"ticks\":\"\"},\"colorscale\":[[0.0,\"#0d0887\"],[0.1111111111111111,\"#46039f\"],[0.2222222222222222,\"#7201a8\"],[0.3333333333333333,\"#9c179e\"],[0.4444444444444444,\"#bd3786\"],[0.5555555555555556,\"#d8576b\"],[0.6666666666666666,\"#ed7953\"],[0.7777777777777778,\"#fb9f3a\"],[0.8888888888888888,\"#fdca26\"],[1.0,\"#f0f921\"]],\"type\":\"contour\"}],\"contourcarpet\":[{\"colorbar\":{\"outlinewidth\":0,\"ticks\":\"\"},\"type\":\"contourcarpet\"}],\"heatmap\":[{\"colorbar\":{\"outlinewidth\":0,\"ticks\":\"\"},\"colorscale\":[[0.0,\"#0d0887\"],[0.1111111111111111,\"#46039f\"],[0.2222222222222222,\"#7201a8\"],[0.3333333333333333,\"#9c179e\"],[0.4444444444444444,\"#bd3786\"],[0.5555555555555556,\"#d8576b\"],[0.6666666666666666,\"#ed7953\"],[0.7777777777777778,\"#fb9f3a\"],[0.8888888888888888,\"#fdca26\"],[1.0,\"#f0f921\"]],\"type\":\"heatmap\"}],\"heatmapgl\":[{\"colorbar\":{\"outlinewidth\":0,\"ticks\":\"\"},\"colorscale\":[[0.0,\"#0d0887\"],[0.1111111111111111,\"#46039f\"],[0.2222222222222222,\"#7201a8\"],[0.3333333333333333,\"#9c179e\"],[0.4444444444444444,\"#bd3786\"],[0.5555555555555556,\"#d8576b\"],[0.6666666666666666,\"#ed7953\"],[0.7777777777777778,\"#fb9f3a\"],[0.8888888888888888,\"#fdca26\"],[1.0,\"#f0f921\"]],\"type\":\"heatmapgl\"}],\"histogram\":[{\"marker\":{\"pattern\":{\"fillmode\":\"overlay\",\"size\":10,\"solidity\":0.2}},\"type\":\"histogram\"}],\"histogram2d\":[{\"colorbar\":{\"outlinewidth\":0,\"ticks\":\"\"},\"colorscale\":[[0.0,\"#0d0887\"],[0.1111111111111111,\"#46039f\"],[0.2222222222222222,\"#7201a8\"],[0.3333333333333333,\"#9c179e\"],[0.4444444444444444,\"#bd3786\"],[0.5555555555555556,\"#d8576b\"],[0.6666666666666666,\"#ed7953\"],[0.7777777777777778,\"#fb9f3a\"],[0.8888888888888888,\"#fdca26\"],[1.0,\"#f0f921\"]],\"type\":\"histogram2d\"}],\"histogram2dcontour\":[{\"colorbar\":{\"outlinewidth\":0,\"ticks\":\"\"},\"colorscale\":[[0.0,\"#0d0887\"],[0.1111111111111111,\"#46039f\"],[0.2222222222222222,\"#7201a8\"],[0.3333333333333333,\"#9c179e\"],[0.4444444444444444,\"#bd3786\"],[0.5555555555555556,\"#d8576b\"],[0.6666666666666666,\"#ed7953\"],[0.7777777777777778,\"#fb9f3a\"],[0.8888888888888888,\"#fdca26\"],[1.0,\"#f0f921\"]],\"type\":\"histogram2dcontour\"}],\"mesh3d\":[{\"colorbar\":{\"outlinewidth\":0,\"ticks\":\"\"},\"type\":\"mesh3d\"}],\"parcoords\":[{\"line\":{\"colorbar\":{\"outlinewidth\":0,\"ticks\":\"\"}},\"type\":\"parcoords\"}],\"pie\":[{\"automargin\":true,\"type\":\"pie\"}],\"scatter\":[{\"marker\":{\"colorbar\":{\"outlinewidth\":0,\"ticks\":\"\"}},\"type\":\"scatter\"}],\"scatter3d\":[{\"line\":{\"colorbar\":{\"outlinewidth\":0,\"ticks\":\"\"}},\"marker\":{\"colorbar\":{\"outlinewidth\":0,\"ticks\":\"\"}},\"type\":\"scatter3d\"}],\"scattercarpet\":[{\"marker\":{\"colorbar\":{\"outlinewidth\":0,\"ticks\":\"\"}},\"type\":\"scattercarpet\"}],\"scattergeo\":[{\"marker\":{\"colorbar\":{\"outlinewidth\":0,\"ticks\":\"\"}},\"type\":\"scattergeo\"}],\"scattergl\":[{\"marker\":{\"colorbar\":{\"outlinewidth\":0,\"ticks\":\"\"}},\"type\":\"scattergl\"}],\"scattermapbox\":[{\"marker\":{\"colorbar\":{\"outlinewidth\":0,\"ticks\":\"\"}},\"type\":\"scattermapbox\"}],\"scatterpolar\":[{\"marker\":{\"colorbar\":{\"outlinewidth\":0,\"ticks\":\"\"}},\"type\":\"scatterpolar\"}],\"scatterpolargl\":[{\"marker\":{\"colorbar\":{\"outlinewidth\":0,\"ticks\":\"\"}},\"type\":\"scatterpolargl\"}],\"scatterternary\":[{\"marker\":{\"colorbar\":{\"outlinewidth\":0,\"ticks\":\"\"}},\"type\":\"scatterternary\"}],\"surface\":[{\"colorbar\":{\"outlinewidth\":0,\"ticks\":\"\"},\"colorscale\":[[0.0,\"#0d0887\"],[0.1111111111111111,\"#46039f\"],[0.2222222222222222,\"#7201a8\"],[0.3333333333333333,\"#9c179e\"],[0.4444444444444444,\"#bd3786\"],[0.5555555555555556,\"#d8576b\"],[0.6666666666666666,\"#ed7953\"],[0.7777777777777778,\"#fb9f3a\"],[0.8888888888888888,\"#fdca26\"],[1.0,\"#f0f921\"]],\"type\":\"surface\"}],\"table\":[{\"cells\":{\"fill\":{\"color\":\"#EBF0F8\"},\"line\":{\"color\":\"white\"}},\"header\":{\"fill\":{\"color\":\"#C8D4E3\"},\"line\":{\"color\":\"white\"}},\"type\":\"table\"}]},\"layout\":{\"annotationdefaults\":{\"arrowcolor\":\"#2a3f5f\",\"arrowhead\":0,\"arrowwidth\":1},\"autotypenumbers\":\"strict\",\"coloraxis\":{\"colorbar\":{\"outlinewidth\":0,\"ticks\":\"\"}},\"colorscale\":{\"diverging\":[[0,\"#8e0152\"],[0.1,\"#c51b7d\"],[0.2,\"#de77ae\"],[0.3,\"#f1b6da\"],[0.4,\"#fde0ef\"],[0.5,\"#f7f7f7\"],[0.6,\"#e6f5d0\"],[0.7,\"#b8e186\"],[0.8,\"#7fbc41\"],[0.9,\"#4d9221\"],[1,\"#276419\"]],\"sequential\":[[0.0,\"#0d0887\"],[0.1111111111111111,\"#46039f\"],[0.2222222222222222,\"#7201a8\"],[0.3333333333333333,\"#9c179e\"],[0.4444444444444444,\"#bd3786\"],[0.5555555555555556,\"#d8576b\"],[0.6666666666666666,\"#ed7953\"],[0.7777777777777778,\"#fb9f3a\"],[0.8888888888888888,\"#fdca26\"],[1.0,\"#f0f921\"]],\"sequentialminus\":[[0.0,\"#0d0887\"],[0.1111111111111111,\"#46039f\"],[0.2222222222222222,\"#7201a8\"],[0.3333333333333333,\"#9c179e\"],[0.4444444444444444,\"#bd3786\"],[0.5555555555555556,\"#d8576b\"],[0.6666666666666666,\"#ed7953\"],[0.7777777777777778,\"#fb9f3a\"],[0.8888888888888888,\"#fdca26\"],[1.0,\"#f0f921\"]]},\"colorway\":[\"#636efa\",\"#EF553B\",\"#00cc96\",\"#ab63fa\",\"#FFA15A\",\"#19d3f3\",\"#FF6692\",\"#B6E880\",\"#FF97FF\",\"#FECB52\"],\"font\":{\"color\":\"#2a3f5f\"},\"geo\":{\"bgcolor\":\"white\",\"lakecolor\":\"white\",\"landcolor\":\"#E5ECF6\",\"showlakes\":true,\"showland\":true,\"subunitcolor\":\"white\"},\"hoverlabel\":{\"align\":\"left\"},\"hovermode\":\"closest\",\"mapbox\":{\"style\":\"light\"},\"paper_bgcolor\":\"white\",\"plot_bgcolor\":\"#E5ECF6\",\"polar\":{\"angularaxis\":{\"gridcolor\":\"white\",\"linecolor\":\"white\",\"ticks\":\"\"},\"bgcolor\":\"#E5ECF6\",\"radialaxis\":{\"gridcolor\":\"white\",\"linecolor\":\"white\",\"ticks\":\"\"}},\"scene\":{\"xaxis\":{\"backgroundcolor\":\"#E5ECF6\",\"gridcolor\":\"white\",\"gridwidth\":2,\"linecolor\":\"white\",\"showbackground\":true,\"ticks\":\"\",\"zerolinecolor\":\"white\"},\"yaxis\":{\"backgroundcolor\":\"#E5ECF6\",\"gridcolor\":\"white\",\"gridwidth\":2,\"linecolor\":\"white\",\"showbackground\":true,\"ticks\":\"\",\"zerolinecolor\":\"white\"},\"zaxis\":{\"backgroundcolor\":\"#E5ECF6\",\"gridcolor\":\"white\",\"gridwidth\":2,\"linecolor\":\"white\",\"showbackground\":true,\"ticks\":\"\",\"zerolinecolor\":\"white\"}},\"shapedefaults\":{\"line\":{\"color\":\"#2a3f5f\"}},\"ternary\":{\"aaxis\":{\"gridcolor\":\"white\",\"linecolor\":\"white\",\"ticks\":\"\"},\"baxis\":{\"gridcolor\":\"white\",\"linecolor\":\"white\",\"ticks\":\"\"},\"bgcolor\":\"#E5ECF6\",\"caxis\":{\"gridcolor\":\"white\",\"linecolor\":\"white\",\"ticks\":\"\"}},\"title\":{\"x\":0.05},\"xaxis\":{\"automargin\":true,\"gridcolor\":\"white\",\"linecolor\":\"white\",\"ticks\":\"\",\"title\":{\"standoff\":15},\"zerolinecolor\":\"white\",\"zerolinewidth\":2},\"yaxis\":{\"automargin\":true,\"gridcolor\":\"white\",\"linecolor\":\"white\",\"ticks\":\"\",\"title\":{\"standoff\":15},\"zerolinecolor\":\"white\",\"zerolinewidth\":2}}},\"xaxis\":{\"anchor\":\"y\",\"domain\":[0.0,1.0],\"title\":{\"text\":\"index\"}},\"yaxis\":{\"anchor\":\"x\",\"domain\":[0.0,1.0],\"title\":{\"text\":\"value\"}},\"legend\":{\"title\":{\"text\":\"variable\"},\"tracegroupgap\":0},\"margin\":{\"t\":60}},                        {\"responsive\": true}                    ).then(function(){\n",
       "                            \n",
       "var gd = document.getElementById('06a1801f-3d19-4581-891d-08e7b9609dc1');\n",
       "var x = new MutationObserver(function (mutations, observer) {{\n",
       "        var display = window.getComputedStyle(gd).display;\n",
       "        if (!display || display === 'none') {{\n",
       "            console.log([gd, 'removed!']);\n",
       "            Plotly.purge(gd);\n",
       "            observer.disconnect();\n",
       "        }}\n",
       "}});\n",
       "\n",
       "// Listen for the removal of the full notebook cells\n",
       "var notebookContainer = gd.closest('#notebook-container');\n",
       "if (notebookContainer) {{\n",
       "    x.observe(notebookContainer, {childList: true});\n",
       "}}\n",
       "\n",
       "// Listen for the clearing of the current output cell\n",
       "var outputEl = gd.closest('.output');\n",
       "if (outputEl) {{\n",
       "    x.observe(outputEl, {childList: true});\n",
       "}}\n",
       "\n",
       "                        })                };                });            </script>        </div>"
      ]
     },
     "metadata": {},
     "output_type": "display_data"
    }
   ],
   "source": [
    "# Plotando gráfico de comparação: azul são os dados reais e vermelho a previsão\n",
    "fig = px.line(comp1_forest, y=['Valores reais','Valores previstos'])\n",
    "fig.show()"
   ]
  },
  {
   "cell_type": "markdown",
   "metadata": {},
   "source": [
    "O gráfico nos indica que a previsão está boa, ou seja, que o modelo está correto."
   ]
  },
  {
   "cell_type": "code",
   "execution_count": 476,
   "metadata": {},
   "outputs": [
    {
     "data": {
      "image/png": "[encoded data removed]",
      "text/plain": [
       "<Figure size 432x288 with 1 Axes>"
      ]
     },
     "metadata": {
      "needs_background": "light"
     },
     "output_type": "display_data"
    },
    {
     "data": {
      "image/png": "[encoded data removed]",
      "text/plain": [
       "<Figure size 432x288 with 1 Axes>"
      ]
     },
     "metadata": {
      "needs_background": "light"
     },
     "output_type": "display_data"
    }
   ],
   "source": [
    "# Montagem de dois gráficos que mostram a relação entre as variáveis, um de dispersão e outro de linha\n",
    "\n",
    "# gráfico de dispersão\n",
    "\n",
    "X1_grid = np.arange(min(X), max(X), 0.01)\n",
    "X1_grid = X1_grid.reshape((len(X1_grid), 1))\n",
    "plt.scatter(X1_test, y1_test, color = 'red')\n",
    "plt.scatter(X1_test, y1_pred_forest, color = 'green')\n",
    "plt.title('Decision Forest Regression')\n",
    "plt.xlabel('Store')\n",
    "plt.ylabel('Weekly_Sales')\n",
    "plt.show()\n",
    "\n",
    "# gráfico de linhas\n",
    "\n",
    "plt.plot(X1_grid, regressor.predict(X1_grid), color = 'gray')\n",
    "plt.title('Decision Forest Regression')\n",
    "plt.xlabel('Store')\n",
    "plt.ylabel('Weekly_Sales')\n",
    "plt.show()"
   ]
  },
  {
   "cell_type": "markdown",
   "metadata": {},
   "source": [
    "O gráfico de dispersão é um gráfico difícil de se analisar para esse caso, provavelmente pois os valores reais possuem muito mais observações."
   ]
  },
  {
   "cell_type": "code",
   "execution_count": 477,
   "metadata": {},
   "outputs": [
    {
     "name": "stdout",
     "output_type": "stream",
     "text": [
      "Coeficiente R²: 0.6708\n",
      "EMA:230625.53\n",
      "EQM:110702556418.10\n",
      "REQM:332719.94\n"
     ]
    }
   ],
   "source": [
    "# Cálculo de R^2, medida de quão bem a linha de regressão se ajusta aos dados. Varia de 0 a 1, sendo 1 o ajuste perfeito.\n",
    "# Cálculo do Erro Médio Absoluto, o valor médio absoluto da diferença entre os valores previstos e os valores reais\n",
    "# Cálculo do Erro Quadrático Médio, a média dos quadrados dos erros\n",
    "# Cálculo da raiz do Erro Quadrático Médio, que mede o mesmo que o EQM, mas na mesma unidade de medida que os valores trabalhados\n",
    "\n",
    "# cálculo do coeficiente R²\n",
    "r2 = r2_score(y1_test, y1_pred_forest)\n",
    "\n",
    "# cálculo do erro médio absoluto (EMA)\n",
    "ema = mean_absolute_error(y1_test, y1_pred_forest)\n",
    "\n",
    "# cálculo do erro quadrático médio (EQM)\n",
    "eqm = mean_squared_error(y1_test, y1_pred_forest)\n",
    "\n",
    "# cálculo da raiz do erro quadrático médio (REQM)\n",
    "reqm = np.sqrt(eqm)\n",
    "\n",
    "print('Coeficiente R²: {:.4f}'.format(r2))\n",
    "print('EMA:{:.2f}'.format(ema))\n",
    "print('EQM:{:.2f}'.format(eqm))\n",
    "print('REQM:{:.2f}'.format(reqm))"
   ]
  },
  {
   "cell_type": "markdown",
   "metadata": {},
   "source": [
    "A estatística R^2 foi alta, o que nos indica um sucesso relativo do modelo. É um indício também que a variável Lojas é explicativa para a variável Vendas, o que é bom, pois nosso problema é obter uma previsão de vendas por loja.\n",
    "Começamos a nos encaminhar para nossa previsão final."
   ]
  },
  {
   "cell_type": "markdown",
   "metadata": {},
   "source": [
    "<a class=\"anchor\" id=\"section_4_2_3\"></a>\n",
    "## Adição de Variáveis\n",
    "    Nosso modelo de maior sucesso foi o Vendas x Lojas utilizando o modelo Random Forest Regression, no qual obtemos a maior estatistica R^2. Porém, estamos usando apenas a variável Lojas como explicativa. A adição de mais variáveis no modelo enriquecerá nossa previsão."
   ]
  },
  {
   "cell_type": "markdown",
   "metadata": {},
   "source": [
    "<a class=\"anchor\" id=\"section_4_2_3_1\"></a>\n",
    "### Pré-tratamento para a adição"
   ]
  },
  {
   "cell_type": "code",
   "execution_count": 478,
   "metadata": {},
   "outputs": [
    {
     "data": {
      "text/html": [
       "<div>\n",
       "<style scoped>\n",
       "    .dataframe tbody tr th:only-of-type {\n",
       "        vertical-align: middle;\n",
       "    }\n",
       "\n",
       "    .dataframe tbody tr th {\n",
       "        vertical-align: top;\n",
       "    }\n",
       "\n",
       "    .dataframe thead th {\n",
       "        text-align: right;\n",
       "    }\n",
       "</style>\n",
       "<table border=\"1\" class=\"dataframe\">\n",
       "  <thead>\n",
       "    <tr style=\"text-align: right;\">\n",
       "      <th></th>\n",
       "      <th>Store</th>\n",
       "      <th>Date</th>\n",
       "      <th>IsHoliday</th>\n",
       "      <th>Weekly_Sales</th>\n",
       "      <th>Temperature</th>\n",
       "      <th>Fuel_Price</th>\n",
       "      <th>CPI</th>\n",
       "      <th>Unemployment</th>\n",
       "      <th>MarkDown</th>\n",
       "    </tr>\n",
       "  </thead>\n",
       "  <tbody>\n",
       "    <tr>\n",
       "      <th>0</th>\n",
       "      <td>1</td>\n",
       "      <td>05/02/2010</td>\n",
       "      <td>0</td>\n",
       "      <td>1643690.90</td>\n",
       "      <td>42.31</td>\n",
       "      <td>2.572</td>\n",
       "      <td>211.096358</td>\n",
       "      <td>8.106</td>\n",
       "      <td>0.00</td>\n",
       "    </tr>\n",
       "    <tr>\n",
       "      <th>1</th>\n",
       "      <td>1</td>\n",
       "      <td>12/02/2010</td>\n",
       "      <td>1</td>\n",
       "      <td>1641957.44</td>\n",
       "      <td>38.51</td>\n",
       "      <td>2.548</td>\n",
       "      <td>211.242170</td>\n",
       "      <td>8.106</td>\n",
       "      <td>0.00</td>\n",
       "    </tr>\n",
       "    <tr>\n",
       "      <th>2</th>\n",
       "      <td>1</td>\n",
       "      <td>19/02/2010</td>\n",
       "      <td>0</td>\n",
       "      <td>1611968.17</td>\n",
       "      <td>39.93</td>\n",
       "      <td>2.514</td>\n",
       "      <td>211.289143</td>\n",
       "      <td>8.106</td>\n",
       "      <td>0.00</td>\n",
       "    </tr>\n",
       "    <tr>\n",
       "      <th>3</th>\n",
       "      <td>1</td>\n",
       "      <td>26/02/2010</td>\n",
       "      <td>0</td>\n",
       "      <td>1409727.59</td>\n",
       "      <td>46.63</td>\n",
       "      <td>2.561</td>\n",
       "      <td>211.319643</td>\n",
       "      <td>8.106</td>\n",
       "      <td>0.00</td>\n",
       "    </tr>\n",
       "    <tr>\n",
       "      <th>4</th>\n",
       "      <td>1</td>\n",
       "      <td>05/03/2010</td>\n",
       "      <td>0</td>\n",
       "      <td>1554806.68</td>\n",
       "      <td>46.50</td>\n",
       "      <td>2.625</td>\n",
       "      <td>211.350143</td>\n",
       "      <td>8.106</td>\n",
       "      <td>0.00</td>\n",
       "    </tr>\n",
       "    <tr>\n",
       "      <th>...</th>\n",
       "      <td>...</td>\n",
       "      <td>...</td>\n",
       "      <td>...</td>\n",
       "      <td>...</td>\n",
       "      <td>...</td>\n",
       "      <td>...</td>\n",
       "      <td>...</td>\n",
       "      <td>...</td>\n",
       "      <td>...</td>\n",
       "    </tr>\n",
       "    <tr>\n",
       "      <th>6430</th>\n",
       "      <td>45</td>\n",
       "      <td>28/09/2012</td>\n",
       "      <td>0</td>\n",
       "      <td>713173.95</td>\n",
       "      <td>64.88</td>\n",
       "      <td>3.997</td>\n",
       "      <td>192.013558</td>\n",
       "      <td>8.684</td>\n",
       "      <td>9468.01</td>\n",
       "    </tr>\n",
       "    <tr>\n",
       "      <th>6431</th>\n",
       "      <td>45</td>\n",
       "      <td>05/10/2012</td>\n",
       "      <td>0</td>\n",
       "      <td>733455.07</td>\n",
       "      <td>64.89</td>\n",
       "      <td>3.985</td>\n",
       "      <td>192.170412</td>\n",
       "      <td>8.667</td>\n",
       "      <td>9659.00</td>\n",
       "    </tr>\n",
       "    <tr>\n",
       "      <th>6432</th>\n",
       "      <td>45</td>\n",
       "      <td>12/10/2012</td>\n",
       "      <td>0</td>\n",
       "      <td>734464.36</td>\n",
       "      <td>54.47</td>\n",
       "      <td>4.000</td>\n",
       "      <td>192.327265</td>\n",
       "      <td>8.667</td>\n",
       "      <td>6554.03</td>\n",
       "    </tr>\n",
       "    <tr>\n",
       "      <th>6433</th>\n",
       "      <td>45</td>\n",
       "      <td>19/10/2012</td>\n",
       "      <td>0</td>\n",
       "      <td>718125.53</td>\n",
       "      <td>56.47</td>\n",
       "      <td>3.969</td>\n",
       "      <td>192.330854</td>\n",
       "      <td>8.667</td>\n",
       "      <td>3982.42</td>\n",
       "    </tr>\n",
       "    <tr>\n",
       "      <th>6434</th>\n",
       "      <td>45</td>\n",
       "      <td>26/10/2012</td>\n",
       "      <td>0</td>\n",
       "      <td>760281.43</td>\n",
       "      <td>58.85</td>\n",
       "      <td>3.882</td>\n",
       "      <td>192.308899</td>\n",
       "      <td>8.667</td>\n",
       "      <td>5247.26</td>\n",
       "    </tr>\n",
       "  </tbody>\n",
       "</table>\n",
       "<p>6435 rows × 9 columns</p>\n",
       "</div>"
      ],
      "text/plain": [
       "      Store        Date  IsHoliday  Weekly_Sales  Temperature  Fuel_Price  \\\n",
       "0         1  05/02/2010          0    1643690.90        42.31       2.572   \n",
       "1         1  12/02/2010          1    1641957.44        38.51       2.548   \n",
       "2         1  19/02/2010          0    1611968.17        39.93       2.514   \n",
       "3         1  26/02/2010          0    1409727.59        46.63       2.561   \n",
       "4         1  05/03/2010          0    1554806.68        46.50       2.625   \n",
       "...     ...         ...        ...           ...          ...         ...   \n",
       "6430     45  28/09/2012          0     713173.95        64.88       3.997   \n",
       "6431     45  05/10/2012          0     733455.07        64.89       3.985   \n",
       "6432     45  12/10/2012          0     734464.36        54.47       4.000   \n",
       "6433     45  19/10/2012          0     718125.53        56.47       3.969   \n",
       "6434     45  26/10/2012          0     760281.43        58.85       3.882   \n",
       "\n",
       "             CPI  Unemployment  MarkDown  \n",
       "0     211.096358         8.106      0.00  \n",
       "1     211.242170         8.106      0.00  \n",
       "2     211.289143         8.106      0.00  \n",
       "3     211.319643         8.106      0.00  \n",
       "4     211.350143         8.106      0.00  \n",
       "...          ...           ...       ...  \n",
       "6430  192.013558         8.684   9468.01  \n",
       "6431  192.170412         8.667   9659.00  \n",
       "6432  192.327265         8.667   6554.03  \n",
       "6433  192.330854         8.667   3982.42  \n",
       "6434  192.308899         8.667   5247.26  \n",
       "\n",
       "[6435 rows x 9 columns]"
      ]
     },
     "execution_count": 478,
     "metadata": {},
     "output_type": "execute_result"
    }
   ],
   "source": [
    "# visualização do data frame de interesse\n",
    "\n",
    "df"
   ]
  },
  {
   "cell_type": "code",
   "execution_count": 479,
   "metadata": {},
   "outputs": [
    {
     "data": {
      "text/html": [
       "<div>\n",
       "<style scoped>\n",
       "    .dataframe tbody tr th:only-of-type {\n",
       "        vertical-align: middle;\n",
       "    }\n",
       "\n",
       "    .dataframe tbody tr th {\n",
       "        vertical-align: top;\n",
       "    }\n",
       "\n",
       "    .dataframe thead th {\n",
       "        text-align: right;\n",
       "    }\n",
       "</style>\n",
       "<table border=\"1\" class=\"dataframe\">\n",
       "  <thead>\n",
       "    <tr style=\"text-align: right;\">\n",
       "      <th></th>\n",
       "      <th>Store</th>\n",
       "      <th>Date</th>\n",
       "      <th>IsHoliday</th>\n",
       "      <th>Weekly_Sales</th>\n",
       "      <th>Temperature</th>\n",
       "      <th>Fuel_Price</th>\n",
       "      <th>CPI</th>\n",
       "      <th>Unemployment</th>\n",
       "      <th>MarkDown</th>\n",
       "      <th>Type</th>\n",
       "      <th>Size</th>\n",
       "    </tr>\n",
       "  </thead>\n",
       "  <tbody>\n",
       "    <tr>\n",
       "      <th>0</th>\n",
       "      <td>1</td>\n",
       "      <td>05/02/2010</td>\n",
       "      <td>0</td>\n",
       "      <td>1643690.90</td>\n",
       "      <td>42.31</td>\n",
       "      <td>2.572</td>\n",
       "      <td>211.096358</td>\n",
       "      <td>8.106</td>\n",
       "      <td>0.00</td>\n",
       "      <td>A</td>\n",
       "      <td>151315</td>\n",
       "    </tr>\n",
       "    <tr>\n",
       "      <th>1</th>\n",
       "      <td>1</td>\n",
       "      <td>12/02/2010</td>\n",
       "      <td>1</td>\n",
       "      <td>1641957.44</td>\n",
       "      <td>38.51</td>\n",
       "      <td>2.548</td>\n",
       "      <td>211.242170</td>\n",
       "      <td>8.106</td>\n",
       "      <td>0.00</td>\n",
       "      <td>A</td>\n",
       "      <td>151315</td>\n",
       "    </tr>\n",
       "    <tr>\n",
       "      <th>2</th>\n",
       "      <td>1</td>\n",
       "      <td>19/02/2010</td>\n",
       "      <td>0</td>\n",
       "      <td>1611968.17</td>\n",
       "      <td>39.93</td>\n",
       "      <td>2.514</td>\n",
       "      <td>211.289143</td>\n",
       "      <td>8.106</td>\n",
       "      <td>0.00</td>\n",
       "      <td>A</td>\n",
       "      <td>151315</td>\n",
       "    </tr>\n",
       "    <tr>\n",
       "      <th>3</th>\n",
       "      <td>1</td>\n",
       "      <td>26/02/2010</td>\n",
       "      <td>0</td>\n",
       "      <td>1409727.59</td>\n",
       "      <td>46.63</td>\n",
       "      <td>2.561</td>\n",
       "      <td>211.319643</td>\n",
       "      <td>8.106</td>\n",
       "      <td>0.00</td>\n",
       "      <td>A</td>\n",
       "      <td>151315</td>\n",
       "    </tr>\n",
       "    <tr>\n",
       "      <th>4</th>\n",
       "      <td>1</td>\n",
       "      <td>05/03/2010</td>\n",
       "      <td>0</td>\n",
       "      <td>1554806.68</td>\n",
       "      <td>46.50</td>\n",
       "      <td>2.625</td>\n",
       "      <td>211.350143</td>\n",
       "      <td>8.106</td>\n",
       "      <td>0.00</td>\n",
       "      <td>A</td>\n",
       "      <td>151315</td>\n",
       "    </tr>\n",
       "    <tr>\n",
       "      <th>...</th>\n",
       "      <td>...</td>\n",
       "      <td>...</td>\n",
       "      <td>...</td>\n",
       "      <td>...</td>\n",
       "      <td>...</td>\n",
       "      <td>...</td>\n",
       "      <td>...</td>\n",
       "      <td>...</td>\n",
       "      <td>...</td>\n",
       "      <td>...</td>\n",
       "      <td>...</td>\n",
       "    </tr>\n",
       "    <tr>\n",
       "      <th>6430</th>\n",
       "      <td>45</td>\n",
       "      <td>28/09/2012</td>\n",
       "      <td>0</td>\n",
       "      <td>713173.95</td>\n",
       "      <td>64.88</td>\n",
       "      <td>3.997</td>\n",
       "      <td>192.013558</td>\n",
       "      <td>8.684</td>\n",
       "      <td>9468.01</td>\n",
       "      <td>B</td>\n",
       "      <td>118221</td>\n",
       "    </tr>\n",
       "    <tr>\n",
       "      <th>6431</th>\n",
       "      <td>45</td>\n",
       "      <td>05/10/2012</td>\n",
       "      <td>0</td>\n",
       "      <td>733455.07</td>\n",
       "      <td>64.89</td>\n",
       "      <td>3.985</td>\n",
       "      <td>192.170412</td>\n",
       "      <td>8.667</td>\n",
       "      <td>9659.00</td>\n",
       "      <td>B</td>\n",
       "      <td>118221</td>\n",
       "    </tr>\n",
       "    <tr>\n",
       "      <th>6432</th>\n",
       "      <td>45</td>\n",
       "      <td>12/10/2012</td>\n",
       "      <td>0</td>\n",
       "      <td>734464.36</td>\n",
       "      <td>54.47</td>\n",
       "      <td>4.000</td>\n",
       "      <td>192.327265</td>\n",
       "      <td>8.667</td>\n",
       "      <td>6554.03</td>\n",
       "      <td>B</td>\n",
       "      <td>118221</td>\n",
       "    </tr>\n",
       "    <tr>\n",
       "      <th>6433</th>\n",
       "      <td>45</td>\n",
       "      <td>19/10/2012</td>\n",
       "      <td>0</td>\n",
       "      <td>718125.53</td>\n",
       "      <td>56.47</td>\n",
       "      <td>3.969</td>\n",
       "      <td>192.330854</td>\n",
       "      <td>8.667</td>\n",
       "      <td>3982.42</td>\n",
       "      <td>B</td>\n",
       "      <td>118221</td>\n",
       "    </tr>\n",
       "    <tr>\n",
       "      <th>6434</th>\n",
       "      <td>45</td>\n",
       "      <td>26/10/2012</td>\n",
       "      <td>0</td>\n",
       "      <td>760281.43</td>\n",
       "      <td>58.85</td>\n",
       "      <td>3.882</td>\n",
       "      <td>192.308899</td>\n",
       "      <td>8.667</td>\n",
       "      <td>5247.26</td>\n",
       "      <td>B</td>\n",
       "      <td>118221</td>\n",
       "    </tr>\n",
       "  </tbody>\n",
       "</table>\n",
       "<p>6435 rows × 11 columns</p>\n",
       "</div>"
      ],
      "text/plain": [
       "      Store        Date  IsHoliday  Weekly_Sales  Temperature  Fuel_Price  \\\n",
       "0         1  05/02/2010          0    1643690.90        42.31       2.572   \n",
       "1         1  12/02/2010          1    1641957.44        38.51       2.548   \n",
       "2         1  19/02/2010          0    1611968.17        39.93       2.514   \n",
       "3         1  26/02/2010          0    1409727.59        46.63       2.561   \n",
       "4         1  05/03/2010          0    1554806.68        46.50       2.625   \n",
       "...     ...         ...        ...           ...          ...         ...   \n",
       "6430     45  28/09/2012          0     713173.95        64.88       3.997   \n",
       "6431     45  05/10/2012          0     733455.07        64.89       3.985   \n",
       "6432     45  12/10/2012          0     734464.36        54.47       4.000   \n",
       "6433     45  19/10/2012          0     718125.53        56.47       3.969   \n",
       "6434     45  26/10/2012          0     760281.43        58.85       3.882   \n",
       "\n",
       "             CPI  Unemployment  MarkDown Type    Size  \n",
       "0     211.096358         8.106      0.00    A  151315  \n",
       "1     211.242170         8.106      0.00    A  151315  \n",
       "2     211.289143         8.106      0.00    A  151315  \n",
       "3     211.319643         8.106      0.00    A  151315  \n",
       "4     211.350143         8.106      0.00    A  151315  \n",
       "...          ...           ...       ...  ...     ...  \n",
       "6430  192.013558         8.684   9468.01    B  118221  \n",
       "6431  192.170412         8.667   9659.00    B  118221  \n",
       "6432  192.327265         8.667   6554.03    B  118221  \n",
       "6433  192.330854         8.667   3982.42    B  118221  \n",
       "6434  192.308899         8.667   5247.26    B  118221  \n",
       "\n",
       "[6435 rows x 11 columns]"
      ]
     },
     "execution_count": 479,
     "metadata": {},
     "output_type": "execute_result"
    }
   ],
   "source": [
    "# Até agora trabalhamos com um data frame que contemplava apenas os df's originais sales e features. \n",
    "# Como queremos um número grande de variáveis para enriquecer nosso modelo, iremos uni-lo ao df original stores\n",
    "# df2 será nosso data frame de interesse\n",
    "\n",
    "df2 = pd.merge(df, stores, how='inner', on=['Store'])\n",
    "df2"
   ]
  },
  {
   "cell_type": "code",
   "execution_count": 480,
   "metadata": {},
   "outputs": [
    {
     "name": "stdout",
     "output_type": "stream",
     "text": [
      "<class 'pandas.core.frame.DataFrame'>\n",
      "Int64Index: 6435 entries, 0 to 6434\n",
      "Data columns (total 11 columns):\n",
      " #   Column        Non-Null Count  Dtype  \n",
      "---  ------        --------------  -----  \n",
      " 0   Store         6435 non-null   int64  \n",
      " 1   Date          6435 non-null   object \n",
      " 2   IsHoliday     6435 non-null   int64  \n",
      " 3   Weekly_Sales  6435 non-null   float64\n",
      " 4   Temperature   6435 non-null   float64\n",
      " 5   Fuel_Price    6435 non-null   float64\n",
      " 6   CPI           6435 non-null   float64\n",
      " 7   Unemployment  6435 non-null   float64\n",
      " 8   MarkDown      6435 non-null   float64\n",
      " 9   Type          6435 non-null   object \n",
      " 10  Size          6435 non-null   int64  \n",
      "dtypes: float64(6), int64(3), object(2)\n",
      "memory usage: 603.3+ KB\n"
     ]
    }
   ],
   "source": [
    "# informações de df2\n",
    "\n",
    "df2.info()"
   ]
  },
  {
   "cell_type": "code",
   "execution_count": 481,
   "metadata": {},
   "outputs": [
    {
     "data": {
      "text/html": [
       "<div>\n",
       "<style scoped>\n",
       "    .dataframe tbody tr th:only-of-type {\n",
       "        vertical-align: middle;\n",
       "    }\n",
       "\n",
       "    .dataframe tbody tr th {\n",
       "        vertical-align: top;\n",
       "    }\n",
       "\n",
       "    .dataframe thead th {\n",
       "        text-align: right;\n",
       "    }\n",
       "</style>\n",
       "<table border=\"1\" class=\"dataframe\">\n",
       "  <thead>\n",
       "    <tr style=\"text-align: right;\">\n",
       "      <th></th>\n",
       "      <th>Store</th>\n",
       "      <th>IsHoliday</th>\n",
       "      <th>Weekly_Sales</th>\n",
       "      <th>Temperature</th>\n",
       "      <th>Fuel_Price</th>\n",
       "      <th>CPI</th>\n",
       "      <th>Unemployment</th>\n",
       "      <th>MarkDown</th>\n",
       "      <th>Size</th>\n",
       "    </tr>\n",
       "    <tr>\n",
       "      <th>Type</th>\n",
       "      <th></th>\n",
       "      <th></th>\n",
       "      <th></th>\n",
       "      <th></th>\n",
       "      <th></th>\n",
       "      <th></th>\n",
       "      <th></th>\n",
       "      <th></th>\n",
       "      <th></th>\n",
       "    </tr>\n",
       "  </thead>\n",
       "  <tbody>\n",
       "    <tr>\n",
       "      <th>A</th>\n",
       "      <td>69927</td>\n",
       "      <td>220</td>\n",
       "      <td>4.331015e+09</td>\n",
       "      <td>191996.06</td>\n",
       "      <td>10522.116</td>\n",
       "      <td>548914.617797</td>\n",
       "      <td>24555.284</td>\n",
       "      <td>24866258.14</td>\n",
       "      <td>557621350</td>\n",
       "    </tr>\n",
       "    <tr>\n",
       "      <th>B</th>\n",
       "      <td>44616</td>\n",
       "      <td>170</td>\n",
       "      <td>2.000701e+09</td>\n",
       "      <td>140447.97</td>\n",
       "      <td>8212.274</td>\n",
       "      <td>408738.960879</td>\n",
       "      <td>19248.337</td>\n",
       "      <td>14873602.84</td>\n",
       "      <td>245994606</td>\n",
       "    </tr>\n",
       "    <tr>\n",
       "      <th>C</th>\n",
       "      <td>33462</td>\n",
       "      <td>60</td>\n",
       "      <td>4.055035e+08</td>\n",
       "      <td>57927.41</td>\n",
       "      <td>2878.245</td>\n",
       "      <td>146453.385741</td>\n",
       "      <td>7670.916</td>\n",
       "      <td>593132.26</td>\n",
       "      <td>34784750</td>\n",
       "    </tr>\n",
       "  </tbody>\n",
       "</table>\n",
       "</div>"
      ],
      "text/plain": [
       "      Store  IsHoliday  Weekly_Sales  Temperature  Fuel_Price            CPI  \\\n",
       "Type                                                                           \n",
       "A     69927        220  4.331015e+09    191996.06   10522.116  548914.617797   \n",
       "B     44616        170  2.000701e+09    140447.97    8212.274  408738.960879   \n",
       "C     33462         60  4.055035e+08     57927.41    2878.245  146453.385741   \n",
       "\n",
       "      Unemployment     MarkDown       Size  \n",
       "Type                                        \n",
       "A        24555.284  24866258.14  557621350  \n",
       "B        19248.337  14873602.84  245994606  \n",
       "C         7670.916    593132.26   34784750  "
      ]
     },
     "execution_count": 481,
     "metadata": {},
     "output_type": "execute_result"
    }
   ],
   "source": [
    "# observamos que temos variáveis do tipo object em nosso data frame de interesse\n",
    "# substituíremos o tipo da loja (Type) para variáveis numéricas\n",
    "# verificaremos quantos tipos de loja temos\n",
    "\n",
    "df2.groupby(by=[\"Type\"]).sum()"
   ]
  },
  {
   "cell_type": "code",
   "execution_count": 482,
   "metadata": {},
   "outputs": [
    {
     "data": {
      "text/html": [
       "<div>\n",
       "<style scoped>\n",
       "    .dataframe tbody tr th:only-of-type {\n",
       "        vertical-align: middle;\n",
       "    }\n",
       "\n",
       "    .dataframe tbody tr th {\n",
       "        vertical-align: top;\n",
       "    }\n",
       "\n",
       "    .dataframe thead th {\n",
       "        text-align: right;\n",
       "    }\n",
       "</style>\n",
       "<table border=\"1\" class=\"dataframe\">\n",
       "  <thead>\n",
       "    <tr style=\"text-align: right;\">\n",
       "      <th></th>\n",
       "      <th>Store</th>\n",
       "      <th>Date</th>\n",
       "      <th>IsHoliday</th>\n",
       "      <th>Weekly_Sales</th>\n",
       "      <th>Temperature</th>\n",
       "      <th>Fuel_Price</th>\n",
       "      <th>CPI</th>\n",
       "      <th>Unemployment</th>\n",
       "      <th>MarkDown</th>\n",
       "      <th>Type</th>\n",
       "      <th>Size</th>\n",
       "    </tr>\n",
       "  </thead>\n",
       "  <tbody>\n",
       "    <tr>\n",
       "      <th>0</th>\n",
       "      <td>1</td>\n",
       "      <td>05/02/2010</td>\n",
       "      <td>0</td>\n",
       "      <td>1643690.90</td>\n",
       "      <td>42.31</td>\n",
       "      <td>2.572</td>\n",
       "      <td>211.096358</td>\n",
       "      <td>8.106</td>\n",
       "      <td>0.00</td>\n",
       "      <td>1</td>\n",
       "      <td>151315</td>\n",
       "    </tr>\n",
       "    <tr>\n",
       "      <th>1</th>\n",
       "      <td>1</td>\n",
       "      <td>12/02/2010</td>\n",
       "      <td>1</td>\n",
       "      <td>1641957.44</td>\n",
       "      <td>38.51</td>\n",
       "      <td>2.548</td>\n",
       "      <td>211.242170</td>\n",
       "      <td>8.106</td>\n",
       "      <td>0.00</td>\n",
       "      <td>1</td>\n",
       "      <td>151315</td>\n",
       "    </tr>\n",
       "    <tr>\n",
       "      <th>2</th>\n",
       "      <td>1</td>\n",
       "      <td>19/02/2010</td>\n",
       "      <td>0</td>\n",
       "      <td>1611968.17</td>\n",
       "      <td>39.93</td>\n",
       "      <td>2.514</td>\n",
       "      <td>211.289143</td>\n",
       "      <td>8.106</td>\n",
       "      <td>0.00</td>\n",
       "      <td>1</td>\n",
       "      <td>151315</td>\n",
       "    </tr>\n",
       "    <tr>\n",
       "      <th>3</th>\n",
       "      <td>1</td>\n",
       "      <td>26/02/2010</td>\n",
       "      <td>0</td>\n",
       "      <td>1409727.59</td>\n",
       "      <td>46.63</td>\n",
       "      <td>2.561</td>\n",
       "      <td>211.319643</td>\n",
       "      <td>8.106</td>\n",
       "      <td>0.00</td>\n",
       "      <td>1</td>\n",
       "      <td>151315</td>\n",
       "    </tr>\n",
       "    <tr>\n",
       "      <th>4</th>\n",
       "      <td>1</td>\n",
       "      <td>05/03/2010</td>\n",
       "      <td>0</td>\n",
       "      <td>1554806.68</td>\n",
       "      <td>46.50</td>\n",
       "      <td>2.625</td>\n",
       "      <td>211.350143</td>\n",
       "      <td>8.106</td>\n",
       "      <td>0.00</td>\n",
       "      <td>1</td>\n",
       "      <td>151315</td>\n",
       "    </tr>\n",
       "    <tr>\n",
       "      <th>...</th>\n",
       "      <td>...</td>\n",
       "      <td>...</td>\n",
       "      <td>...</td>\n",
       "      <td>...</td>\n",
       "      <td>...</td>\n",
       "      <td>...</td>\n",
       "      <td>...</td>\n",
       "      <td>...</td>\n",
       "      <td>...</td>\n",
       "      <td>...</td>\n",
       "      <td>...</td>\n",
       "    </tr>\n",
       "    <tr>\n",
       "      <th>6430</th>\n",
       "      <td>45</td>\n",
       "      <td>28/09/2012</td>\n",
       "      <td>0</td>\n",
       "      <td>713173.95</td>\n",
       "      <td>64.88</td>\n",
       "      <td>3.997</td>\n",
       "      <td>192.013558</td>\n",
       "      <td>8.684</td>\n",
       "      <td>9468.01</td>\n",
       "      <td>2</td>\n",
       "      <td>118221</td>\n",
       "    </tr>\n",
       "    <tr>\n",
       "      <th>6431</th>\n",
       "      <td>45</td>\n",
       "      <td>05/10/2012</td>\n",
       "      <td>0</td>\n",
       "      <td>733455.07</td>\n",
       "      <td>64.89</td>\n",
       "      <td>3.985</td>\n",
       "      <td>192.170412</td>\n",
       "      <td>8.667</td>\n",
       "      <td>9659.00</td>\n",
       "      <td>2</td>\n",
       "      <td>118221</td>\n",
       "    </tr>\n",
       "    <tr>\n",
       "      <th>6432</th>\n",
       "      <td>45</td>\n",
       "      <td>12/10/2012</td>\n",
       "      <td>0</td>\n",
       "      <td>734464.36</td>\n",
       "      <td>54.47</td>\n",
       "      <td>4.000</td>\n",
       "      <td>192.327265</td>\n",
       "      <td>8.667</td>\n",
       "      <td>6554.03</td>\n",
       "      <td>2</td>\n",
       "      <td>118221</td>\n",
       "    </tr>\n",
       "    <tr>\n",
       "      <th>6433</th>\n",
       "      <td>45</td>\n",
       "      <td>19/10/2012</td>\n",
       "      <td>0</td>\n",
       "      <td>718125.53</td>\n",
       "      <td>56.47</td>\n",
       "      <td>3.969</td>\n",
       "      <td>192.330854</td>\n",
       "      <td>8.667</td>\n",
       "      <td>3982.42</td>\n",
       "      <td>2</td>\n",
       "      <td>118221</td>\n",
       "    </tr>\n",
       "    <tr>\n",
       "      <th>6434</th>\n",
       "      <td>45</td>\n",
       "      <td>26/10/2012</td>\n",
       "      <td>0</td>\n",
       "      <td>760281.43</td>\n",
       "      <td>58.85</td>\n",
       "      <td>3.882</td>\n",
       "      <td>192.308899</td>\n",
       "      <td>8.667</td>\n",
       "      <td>5247.26</td>\n",
       "      <td>2</td>\n",
       "      <td>118221</td>\n",
       "    </tr>\n",
       "  </tbody>\n",
       "</table>\n",
       "<p>6435 rows × 11 columns</p>\n",
       "</div>"
      ],
      "text/plain": [
       "      Store        Date  IsHoliday  Weekly_Sales  Temperature  Fuel_Price  \\\n",
       "0         1  05/02/2010          0    1643690.90        42.31       2.572   \n",
       "1         1  12/02/2010          1    1641957.44        38.51       2.548   \n",
       "2         1  19/02/2010          0    1611968.17        39.93       2.514   \n",
       "3         1  26/02/2010          0    1409727.59        46.63       2.561   \n",
       "4         1  05/03/2010          0    1554806.68        46.50       2.625   \n",
       "...     ...         ...        ...           ...          ...         ...   \n",
       "6430     45  28/09/2012          0     713173.95        64.88       3.997   \n",
       "6431     45  05/10/2012          0     733455.07        64.89       3.985   \n",
       "6432     45  12/10/2012          0     734464.36        54.47       4.000   \n",
       "6433     45  19/10/2012          0     718125.53        56.47       3.969   \n",
       "6434     45  26/10/2012          0     760281.43        58.85       3.882   \n",
       "\n",
       "             CPI  Unemployment  MarkDown  Type    Size  \n",
       "0     211.096358         8.106      0.00     1  151315  \n",
       "1     211.242170         8.106      0.00     1  151315  \n",
       "2     211.289143         8.106      0.00     1  151315  \n",
       "3     211.319643         8.106      0.00     1  151315  \n",
       "4     211.350143         8.106      0.00     1  151315  \n",
       "...          ...           ...       ...   ...     ...  \n",
       "6430  192.013558         8.684   9468.01     2  118221  \n",
       "6431  192.170412         8.667   9659.00     2  118221  \n",
       "6432  192.327265         8.667   6554.03     2  118221  \n",
       "6433  192.330854         8.667   3982.42     2  118221  \n",
       "6434  192.308899         8.667   5247.26     2  118221  \n",
       "\n",
       "[6435 rows x 11 columns]"
      ]
     },
     "execution_count": 482,
     "metadata": {},
     "output_type": "execute_result"
    }
   ],
   "source": [
    "# substituíremos da seguinte forma: A será 1, B será 2 e C será 3\n",
    "\n",
    "df2[\"Type\"].replace({\"A\": 1, \"B\": 2, \"C\": 3}, inplace=True)\n",
    "df2"
   ]
  },
  {
   "cell_type": "markdown",
   "metadata": {},
   "source": [
    "<a class=\"anchor\" id=\"section_4_2_3_2\"></a>\n",
    "### Modelo Random Forest Regression usando todas as variáveis do conjunto de dados "
   ]
  },
  {
   "cell_type": "code",
   "execution_count": 483,
   "metadata": {},
   "outputs": [],
   "source": [
    "# agora aplicaremos o modelo para todas as variáveis, não apenas stores\n",
    "# não trabalharemos com 'Date', pois não consegui achar um formato que funcionasse\n",
    "\n",
    "variaveis = ['Store','IsHoliday', 'Temperature', 'Fuel_Price','CPI', 'Unemployment', 'MarkDown', 'Type', 'Size']\n",
    "\n",
    "# novamente criaremos uma série para cada variável desejada: a variável dependente será Y e a independente X\n",
    "\n",
    "X_new = df2[variaveis].values\n",
    "y_new = df2['Weekly_Sales'].values"
   ]
  },
  {
   "cell_type": "code",
   "execution_count": 484,
   "metadata": {},
   "outputs": [
    {
     "data": {
      "text/plain": [
       "(6435, 9)"
      ]
     },
     "execution_count": 484,
     "metadata": {},
     "output_type": "execute_result"
    }
   ],
   "source": [
    "X_new.shape"
   ]
  },
  {
   "cell_type": "code",
   "execution_count": 485,
   "metadata": {},
   "outputs": [
    {
     "data": {
      "text/plain": [
       "(6435,)"
      ]
     },
     "execution_count": 485,
     "metadata": {},
     "output_type": "execute_result"
    }
   ],
   "source": [
    "y_new.shape"
   ]
  },
  {
   "cell_type": "code",
   "execution_count": 486,
   "metadata": {},
   "outputs": [],
   "source": [
    "# novamente dividiremos cada série em duas: training e test. Uma será utilizada para treinar o modelo com seus dados, e a outra\n",
    "#servirá para ser comparada com os resultados fornecidos pelo nosso modelo de previsão. Usaremos 5% (322 linhas) do df como teste.\n",
    "# Importaremos a função train_test_split para fazermos isso\n",
    "\n",
    "from sklearn.model_selection import train_test_split\n",
    "X_train_new, X_test_new, y_train_new, y_test_new = train_test_split(X_new, y_new, test_size = 0.05)"
   ]
  },
  {
   "cell_type": "code",
   "execution_count": 487,
   "metadata": {},
   "outputs": [],
   "source": [
    "# novamente criaremos uma variável para RandomForestRegressor() (não precisávamos, mas faremos para demonstrar o método)\n",
    "rf_regressor = RandomForestRegressor(n_estimators = 300, max_features = 'sqrt', max_depth = 5, random_state = 18)"
   ]
  },
  {
   "cell_type": "code",
   "execution_count": 488,
   "metadata": {},
   "outputs": [
    {
     "data": {
      "text/plain": [
       "RandomForestRegressor(max_depth=5, max_features='sqrt', n_estimators=300,\n",
       "                      random_state=18)"
      ]
     },
     "execution_count": 488,
     "metadata": {},
     "output_type": "execute_result"
    }
   ],
   "source": [
    "# treinando nosso conjunto de dados no modelo\n",
    "\n",
    "# y_train_new está como uma matriz unidimensional (coluna) como valor de y em vez de um array unidimensional, que é o esperado pelo\n",
    "# algoritmo, portanto iremos transformá-la\n",
    "#y_train_new = y_train_new.ravel()\n",
    "\n",
    "rf_regressor.fit(X_train_new, y_train_new)"
   ]
  },
  {
   "cell_type": "code",
   "execution_count": 489,
   "metadata": {},
   "outputs": [],
   "source": [
    "# fornecimento da previsão da variável dependente (vendas semanais)\n",
    "y_pred_forest_new = rf_regressor.predict(X_test_new)"
   ]
  },
  {
   "cell_type": "code",
   "execution_count": 490,
   "metadata": {},
   "outputs": [
    {
     "data": {
      "text/html": [
       "<div>\n",
       "<style scoped>\n",
       "    .dataframe tbody tr th:only-of-type {\n",
       "        vertical-align: middle;\n",
       "    }\n",
       "\n",
       "    .dataframe tbody tr th {\n",
       "        vertical-align: top;\n",
       "    }\n",
       "\n",
       "    .dataframe thead th {\n",
       "        text-align: right;\n",
       "    }\n",
       "</style>\n",
       "<table border=\"1\" class=\"dataframe\">\n",
       "  <thead>\n",
       "    <tr style=\"text-align: right;\">\n",
       "      <th></th>\n",
       "      <th>Valores reais</th>\n",
       "      <th>Valores previstos</th>\n",
       "    </tr>\n",
       "  </thead>\n",
       "  <tbody>\n",
       "    <tr>\n",
       "      <th>0</th>\n",
       "      <td>1559592.79</td>\n",
       "      <td>1.357733e+06</td>\n",
       "    </tr>\n",
       "    <tr>\n",
       "      <th>1</th>\n",
       "      <td>1684468.66</td>\n",
       "      <td>1.342259e+06</td>\n",
       "    </tr>\n",
       "    <tr>\n",
       "      <th>2</th>\n",
       "      <td>963516.28</td>\n",
       "      <td>9.525194e+05</td>\n",
       "    </tr>\n",
       "    <tr>\n",
       "      <th>3</th>\n",
       "      <td>2065984.95</td>\n",
       "      <td>1.783226e+06</td>\n",
       "    </tr>\n",
       "    <tr>\n",
       "      <th>4</th>\n",
       "      <td>734297.87</td>\n",
       "      <td>8.108818e+05</td>\n",
       "    </tr>\n",
       "    <tr>\n",
       "      <th>...</th>\n",
       "      <td>...</td>\n",
       "      <td>...</td>\n",
       "    </tr>\n",
       "    <tr>\n",
       "      <th>317</th>\n",
       "      <td>771315.62</td>\n",
       "      <td>9.855904e+05</td>\n",
       "    </tr>\n",
       "    <tr>\n",
       "      <th>318</th>\n",
       "      <td>1492060.89</td>\n",
       "      <td>1.629318e+06</td>\n",
       "    </tr>\n",
       "    <tr>\n",
       "      <th>319</th>\n",
       "      <td>342214.90</td>\n",
       "      <td>4.340624e+05</td>\n",
       "    </tr>\n",
       "    <tr>\n",
       "      <th>320</th>\n",
       "      <td>527041.46</td>\n",
       "      <td>4.888910e+05</td>\n",
       "    </tr>\n",
       "    <tr>\n",
       "      <th>321</th>\n",
       "      <td>2334788.42</td>\n",
       "      <td>1.844457e+06</td>\n",
       "    </tr>\n",
       "  </tbody>\n",
       "</table>\n",
       "<p>322 rows × 2 columns</p>\n",
       "</div>"
      ],
      "text/plain": [
       "     Valores reais  Valores previstos\n",
       "0       1559592.79       1.357733e+06\n",
       "1       1684468.66       1.342259e+06\n",
       "2        963516.28       9.525194e+05\n",
       "3       2065984.95       1.783226e+06\n",
       "4        734297.87       8.108818e+05\n",
       "..             ...                ...\n",
       "317      771315.62       9.855904e+05\n",
       "318     1492060.89       1.629318e+06\n",
       "319      342214.90       4.340624e+05\n",
       "320      527041.46       4.888910e+05\n",
       "321     2334788.42       1.844457e+06\n",
       "\n",
       "[322 rows x 2 columns]"
      ]
     },
     "execution_count": 490,
     "metadata": {},
     "output_type": "execute_result"
    }
   ],
   "source": [
    "# Comparação dos valores previstos com os valores reais\n",
    "\n",
    "comp_forest_new = pd.DataFrame({'Valores reais':y_test_new, 'Valores previstos':y_pred_forest_new})\n",
    "comp_forest_new"
   ]
  },
  {
   "cell_type": "code",
   "execution_count": 491,
   "metadata": {},
   "outputs": [
    {
     "data": {
      "text/html": [
       "<div>\n",
       "<style scoped>\n",
       "    .dataframe tbody tr th:only-of-type {\n",
       "        vertical-align: middle;\n",
       "    }\n",
       "\n",
       "    .dataframe tbody tr th {\n",
       "        vertical-align: top;\n",
       "    }\n",
       "\n",
       "    .dataframe thead th {\n",
       "        text-align: right;\n",
       "    }\n",
       "</style>\n",
       "<table border=\"1\" class=\"dataframe\">\n",
       "  <thead>\n",
       "    <tr style=\"text-align: right;\">\n",
       "      <th></th>\n",
       "      <th>Valores reais</th>\n",
       "      <th>Valores previstos</th>\n",
       "    </tr>\n",
       "  </thead>\n",
       "  <tbody>\n",
       "    <tr>\n",
       "      <th>0</th>\n",
       "      <td>1559592.79</td>\n",
       "      <td>1357732.78</td>\n",
       "    </tr>\n",
       "    <tr>\n",
       "      <th>1</th>\n",
       "      <td>1684468.66</td>\n",
       "      <td>1342258.80</td>\n",
       "    </tr>\n",
       "    <tr>\n",
       "      <th>2</th>\n",
       "      <td>963516.28</td>\n",
       "      <td>952519.41</td>\n",
       "    </tr>\n",
       "    <tr>\n",
       "      <th>3</th>\n",
       "      <td>2065984.95</td>\n",
       "      <td>1783226.50</td>\n",
       "    </tr>\n",
       "    <tr>\n",
       "      <th>4</th>\n",
       "      <td>734297.87</td>\n",
       "      <td>810881.82</td>\n",
       "    </tr>\n",
       "    <tr>\n",
       "      <th>...</th>\n",
       "      <td>...</td>\n",
       "      <td>...</td>\n",
       "    </tr>\n",
       "    <tr>\n",
       "      <th>317</th>\n",
       "      <td>771315.62</td>\n",
       "      <td>985590.39</td>\n",
       "    </tr>\n",
       "    <tr>\n",
       "      <th>318</th>\n",
       "      <td>1492060.89</td>\n",
       "      <td>1629318.18</td>\n",
       "    </tr>\n",
       "    <tr>\n",
       "      <th>319</th>\n",
       "      <td>342214.90</td>\n",
       "      <td>434062.40</td>\n",
       "    </tr>\n",
       "    <tr>\n",
       "      <th>320</th>\n",
       "      <td>527041.46</td>\n",
       "      <td>488890.96</td>\n",
       "    </tr>\n",
       "    <tr>\n",
       "      <th>321</th>\n",
       "      <td>2334788.42</td>\n",
       "      <td>1844456.74</td>\n",
       "    </tr>\n",
       "  </tbody>\n",
       "</table>\n",
       "<p>322 rows × 2 columns</p>\n",
       "</div>"
      ],
      "text/plain": [
       "     Valores reais  Valores previstos\n",
       "0       1559592.79         1357732.78\n",
       "1       1684468.66         1342258.80\n",
       "2        963516.28          952519.41\n",
       "3       2065984.95         1783226.50\n",
       "4        734297.87          810881.82\n",
       "..             ...                ...\n",
       "317      771315.62          985590.39\n",
       "318     1492060.89         1629318.18\n",
       "319      342214.90          434062.40\n",
       "320      527041.46          488890.96\n",
       "321     2334788.42         1844456.74\n",
       "\n",
       "[322 rows x 2 columns]"
      ]
     },
     "execution_count": 491,
     "metadata": {},
     "output_type": "execute_result"
    }
   ],
   "source": [
    "# Mudaremos o formato da coluna 'Valores previstos', para visualizarmos o número completo e não em notação científica\n",
    "\n",
    "comp_forest_new['Valores previstos'] = comp_forest_new['Valores previstos'].map(lambda x: '{:.2f}'.format(x)).astype(float)\n",
    "comp_forest_new"
   ]
  },
  {
   "cell_type": "code",
   "execution_count": 492,
   "metadata": {
    "scrolled": false
   },
   "outputs": [
    {
     "data": {
      "application/vnd.plotly.v1+json": {
       "config": {
        "plotlyServerURL": "https://plot.ly"
       },
       "data": [
        {
         "hovertemplate": "variable=Valores reais<br>index=%{x}<br>value=%{y}<extra></extra>",
         "legendgroup": "Valores reais",
         "line": {
          "color": "#636efa",
          "dash": "solid"
         },
         "marker": {
          "symbol": "circle"
         },
         "mode": "lines",
         "name": "Valores reais",
         "orientation": "v",
         "showlegend": true,
         "type": "scatter",
         "x": [
          0,
          1,
          2,
          3,
          4,
          5,
          6,
          7,
          8,
          9,
          10,
          11,
          12,
          13,
          14,
          15,
          16,
          17,
          18,
          19,
          20,
          21,
          22,
          23,
          24,
          25,
          26,
          27,
          28,
          29,
          30,
          31,
          32,
          33,
          34,
          35,
          36,
          37,
          38,
          39,
          40,
          41,
          42,
          43,
          44,
          45,
          46,
          47,
          48,
          49,
          50,
          51,
          52,
          53,
          54,
          55,
          56,
          57,
          58,
          59,
          60,
          61,
          62,
          63,
          64,
          65,
          66,
          67,
          68,
          69,
          70,
          71,
          72,
          73,
          74,
          75,
          76,
          77,
          78,
          79,
          80,
          81,
          82,
          83,
          84,
          85,
          86,
          87,
          88,
          89,
          90,
          91,
          92,
          93,
          94,
          95,
          96,
          97,
          98,
          99,
          100,
          101,
          102,
          103,
          104,
          105,
          106,
          107,
          108,
          109,
          110,
          111,
          112,
          113,
          114,
          115,
          116,
          117,
          118,
          119,
          120,
          121,
          122,
          123,
          124,
          125,
          126,
          127,
          128,
          129,
          130,
          131,
          132,
          133,
          134,
          135,
          136,
          137,
          138,
          139,
          140,
          141,
          142,
          143,
          144,
          145,
          146,
          147,
          148,
          149,
          150,
          151,
          152,
          153,
          154,
          155,
          156,
          157,
          158,
          159,
          160,
          161,
          162,
          163,
          164,
          165,
          166,
          167,
          168,
          169,
          170,
          171,
          172,
          173,
          174,
          175,
          176,
          177,
          178,
          179,
          180,
          181,
          182,
          183,
          184,
          185,
          186,
          187,
          188,
          189,
          190,
          191,
          192,
          193,
          194,
          195,
          196,
          197,
          198,
          199,
          200,
          201,
          202,
          203,
          204,
          205,
          206,
          207,
          208,
          209,
          210,
          211,
          212,
          213,
          214,
          215,
          216,
          217,
          218,
          219,
          220,
          221,
          222,
          223,
          224,
          225,
          226,
          227,
          228,
          229,
          230,
          231,
          232,
          233,
          234,
          235,
          236,
          237,
          238,
          239,
          240,
          241,
          242,
          243,
          244,
          245,
          246,
          247,
          248,
          249,
          250,
          251,
          252,
          253,
          254,
          255,
          256,
          257,
          258,
          259,
          260,
          261,
          262,
          263,
          264,
          265,
          266,
          267,
          268,
          269,
          270,
          271,
          272,
          273,
          274,
          275,
          276,
          277,
          278,
          279,
          280,
          281,
          282,
          283,
          284,
          285,
          286,
          287,
          288,
          289,
          290,
          291,
          292,
          293,
          294,
          295,
          296,
          297,
          298,
          299,
          300,
          301,
          302,
          303,
          304,
          305,
          306,
          307,
          308,
          309,
          310,
          311,
          312,
          313,
          314,
          315,
          316,
          317,
          318,
          319,
          320,
          321
         ],
         "xaxis": "x",
         "y": [
          1559592.79,
          1684468.66,
          963516.28,
          2065984.95,
          734297.87,
          1792210.89,
          953314.16,
          910899.05,
          596554.05,
          1172003.1,
          1052066.58,
          958875.37,
          1436311.76,
          1308977.05,
          1837553.43,
          677231.63,
          674283.86,
          660632.0499999999,
          551743.05,
          558027.77,
          415202.04000000004,
          1245624.27,
          1510131.45,
          520632.8,
          1944433.17,
          496083.24,
          562558.27,
          340238.38,
          355307.94,
          509942.56,
          245435.80000000002,
          2003940.64,
          876583.98,
          1282320.05,
          504566.27999999997,
          2165160.29,
          331318.73,
          384659.85,
          1332716.53,
          704680.97,
          864852.85,
          1344354.41,
          834373.73,
          553714.87,
          1781717.71,
          1144552.09,
          377347.49,
          663452.46,
          755098.41,
          1866243,
          1138800.32,
          827717.85,
          1537139.56,
          610985.56,
          1178039,
          543754.17,
          303559.23,
          1245480.95,
          1991909.98,
          2091663.2,
          1116140.29,
          441407.06,
          1794355.49,
          280681.2,
          1356689.88,
          1257778.34,
          581758.22,
          1142499.25,
          972373.81,
          1335647.1,
          1465187.71,
          297149.69,
          1517428.87,
          656637.63,
          2678206.42,
          490981.78,
          312298.37,
          568497.35,
          661644.19,
          589091.04,
          680532.69,
          1711813.1300000001,
          570231.21,
          328415.44,
          491419.55000000005,
          347295.6,
          2727575.18,
          586583.69,
          1495844.57,
          1380952.05,
          469773.85,
          603547.16,
          540625.79,
          1239466.97,
          536840.6900000001,
          366367.55,
          1225336.41,
          1900638.6,
          1945070.33,
          1016637.39,
          635758.03,
          1904608.09,
          1288823.72,
          1380892.08,
          526128.61,
          870676.4400000001,
          525200.59,
          432359.04000000004,
          870349.86,
          1832211.96,
          938149.21,
          1601377.41,
          368962.72000000003,
          674669.16,
          293481.36,
          491449.94,
          1582168.27,
          1768249.89,
          570611.23,
          1052609.16,
          1364445.98,
          850440.26,
          334441.15,
          392152.3,
          991104.4,
          1050027.89,
          736335.6900000001,
          1962445.04,
          1044639.69,
          997474.93,
          593162.53,
          1379579.63,
          391811.6,
          513636.01,
          1214302.76,
          445475.3,
          1499727.02,
          1166142.85,
          1407842.91,
          534740.3,
          1975374.56,
          2056846.12,
          1219979.29,
          954681.56,
          289667.55,
          606671.5,
          1250178.89,
          966817.24,
          1261964.96,
          1158247.31,
          342667.35,
          976522.93,
          1867345.09,
          1121756.43,
          297753.49,
          591703.8200000001,
          1307928.01,
          1893955.27,
          1872365.99,
          1908110.9,
          2609166.75,
          772859.25,
          923221.52,
          983232.96,
          501013.47000000003,
          587685.38,
          1218688.09,
          1636339.65,
          558691.4299999999,
          238915.05000000002,
          1318854.22,
          1163878.49,
          1394065.76,
          717373.43,
          1005083.3099999999,
          293984.54,
          1364721.58,
          1382359.21,
          1007867.6799999999,
          1362144,
          2129771.13,
          911696,
          338386.08,
          372239.89,
          1177340.99,
          922735.37,
          1414343.53,
          922850.57,
          354270.77,
          948447.34,
          273079.07,
          744969.42,
          663396.3200000001,
          1633241.59,
          1865502.46,
          923600.02,
          1240126.07,
          309111.47000000003,
          378574.44,
          586289.08,
          613042.97,
          996723.58,
          1456300.89,
          543384.01,
          514489.17,
          1764133.09,
          1052034.74,
          1814806.6300000001,
          1842555.32,
          916820.96,
          1144901.52,
          1377716.17,
          838751.5,
          916918.7,
          1274463.02,
          877724.31,
          447727.51999999996,
          1103740.4,
          1691439.52,
          508213.14,
          555075.27,
          604925.08,
          1147556.83,
          463752.89,
          361311.41000000003,
          234175.92,
          891148.55,
          700272.01,
          587370.8099999999,
          1594938.8900000001,
          672062.08,
          847348.08,
          484263.25,
          1886503.93,
          1068157.45,
          2052984.81,
          1360520.56,
          1170456.16,
          1110827.48,
          1864238.64,
          1217199.39,
          1895583.12,
          921161.2,
          1325835.7,
          298180.18,
          1230613.5,
          462474.16,
          505918.21,
          1428436.33,
          1539483.7,
          762620.9400000001,
          927657.63,
          1264014.16,
          964726.37,
          988467.61,
          1231752.54,
          273282.97,
          1699095.9,
          2035189.6600000001,
          585175.24,
          1862476.27,
          2020550.99,
          1321741.35,
          641905.37,
          2015781.27,
          1315118.4,
          479195.02,
          611585.54,
          452792.52999999997,
          1863840.49,
          756527.64,
          1784029.95,
          747577.0499999999,
          1272395.02,
          1107552.43,
          1345167.61,
          1467473.6300000001,
          1962924.3,
          1899013.3399999999,
          680254.35,
          765687.4199999999,
          457884.06,
          270110.3,
          431294.45,
          1243814.77,
          1388973.65,
          579874.22,
          443557.65,
          1347454.59,
          1779276.51,
          958063.87,
          613135.23,
          330518.33999999997,
          285031.81,
          443242.17,
          369722.32,
          1207303.29,
          1660081.29,
          445162.05,
          1084722.78,
          598437.98,
          907262.47,
          912542.82,
          711671.58,
          575709.96,
          507297.88,
          2042581.71,
          461622.22,
          1911967.44,
          355965.23,
          511871.63,
          658965.05,
          870415.49,
          756588.42,
          782300.68,
          843361.1,
          1048617.17,
          771315.62,
          1492060.89,
          342214.9,
          527041.46,
          2334788.42
         ],
         "yaxis": "y"
        },
        {
         "hovertemplate": "variable=Valores previstos<br>index=%{x}<br>value=%{y}<extra></extra>",
         "legendgroup": "Valores previstos",
         "line": {
          "color": "#EF553B",
          "dash": "solid"
         },
         "marker": {
          "symbol": "circle"
         },
         "mode": "lines",
         "name": "Valores previstos",
         "orientation": "v",
         "showlegend": true,
         "type": "scatter",
         "x": [
          0,
          1,
          2,
          3,
          4,
          5,
          6,
          7,
          8,
          9,
          10,
          11,
          12,
          13,
          14,
          15,
          16,
          17,
          18,
          19,
          20,
          21,
          22,
          23,
          24,
          25,
          26,
          27,
          28,
          29,
          30,
          31,
          32,
          33,
          34,
          35,
          36,
          37,
          38,
          39,
          40,
          41,
          42,
          43,
          44,
          45,
          46,
          47,
          48,
          49,
          50,
          51,
          52,
          53,
          54,
          55,
          56,
          57,
          58,
          59,
          60,
          61,
          62,
          63,
          64,
          65,
          66,
          67,
          68,
          69,
          70,
          71,
          72,
          73,
          74,
          75,
          76,
          77,
          78,
          79,
          80,
          81,
          82,
          83,
          84,
          85,
          86,
          87,
          88,
          89,
          90,
          91,
          92,
          93,
          94,
          95,
          96,
          97,
          98,
          99,
          100,
          101,
          102,
          103,
          104,
          105,
          106,
          107,
          108,
          109,
          110,
          111,
          112,
          113,
          114,
          115,
          116,
          117,
          118,
          119,
          120,
          121,
          122,
          123,
          124,
          125,
          126,
          127,
          128,
          129,
          130,
          131,
          132,
          133,
          134,
          135,
          136,
          137,
          138,
          139,
          140,
          141,
          142,
          143,
          144,
          145,
          146,
          147,
          148,
          149,
          150,
          151,
          152,
          153,
          154,
          155,
          156,
          157,
          158,
          159,
          160,
          161,
          162,
          163,
          164,
          165,
          166,
          167,
          168,
          169,
          170,
          171,
          172,
          173,
          174,
          175,
          176,
          177,
          178,
          179,
          180,
          181,
          182,
          183,
          184,
          185,
          186,
          187,
          188,
          189,
          190,
          191,
          192,
          193,
          194,
          195,
          196,
          197,
          198,
          199,
          200,
          201,
          202,
          203,
          204,
          205,
          206,
          207,
          208,
          209,
          210,
          211,
          212,
          213,
          214,
          215,
          216,
          217,
          218,
          219,
          220,
          221,
          222,
          223,
          224,
          225,
          226,
          227,
          228,
          229,
          230,
          231,
          232,
          233,
          234,
          235,
          236,
          237,
          238,
          239,
          240,
          241,
          242,
          243,
          244,
          245,
          246,
          247,
          248,
          249,
          250,
          251,
          252,
          253,
          254,
          255,
          256,
          257,
          258,
          259,
          260,
          261,
          262,
          263,
          264,
          265,
          266,
          267,
          268,
          269,
          270,
          271,
          272,
          273,
          274,
          275,
          276,
          277,
          278,
          279,
          280,
          281,
          282,
          283,
          284,
          285,
          286,
          287,
          288,
          289,
          290,
          291,
          292,
          293,
          294,
          295,
          296,
          297,
          298,
          299,
          300,
          301,
          302,
          303,
          304,
          305,
          306,
          307,
          308,
          309,
          310,
          311,
          312,
          313,
          314,
          315,
          316,
          317,
          318,
          319,
          320,
          321
         ],
         "xaxis": "x",
         "y": [
          1357732.78,
          1342258.8,
          952519.41,
          1783226.5,
          810881.82,
          1515659.83,
          936908.37,
          965103.15,
          574599.54,
          1599885.4,
          970468.88,
          895893.39,
          1117365.97,
          1623596.9,
          1741457.53,
          783344.73,
          776453.42,
          571589.51,
          686804.35,
          577837.71,
          452750.92,
          1592482.01,
          1097302.25,
          668051.08,
          1788106.53,
          566809.6,
          579635.26,
          391045.06,
          392478.12,
          566613.87,
          433179.98,
          1790450.85,
          989018.21,
          1079187.07,
          680705.71,
          1785027.16,
          419758.34,
          505296.31,
          1659253.6,
          844119.9,
          955106.94,
          1382493.31,
          898350.1,
          570146.48,
          1785362.53,
          1200276.54,
          449121.74,
          781483.32,
          789532.71,
          1736546.92,
          993795.44,
          882414.34,
          1460710.84,
          669641.4,
          966195.06,
          881536.63,
          381445.73,
          1360055.26,
          1784493.51,
          1841115.42,
          1253496.4,
          493760.8,
          1788378.09,
          413509.54,
          1288621.1,
          1099414.91,
          556404.73,
          1253496.4,
          986735.71,
          1485314.46,
          1638718.36,
          406572.89,
          1461532.98,
          582348.06,
          1635296,
          669648.97,
          486343.49,
          652753.53,
          779401.73,
          484208.76,
          785847.4,
          1531090.3,
          572087.42,
          407618.57,
          567306.52,
          418502.07,
          1677343.99,
          556794.81,
          1636490.28,
          1101809.74,
          704258.82,
          572383.34,
          487324.55,
          1579496.8,
          496562.96,
          449041.42,
          1349933.47,
          1590363.22,
          1597286.71,
          653597.12,
          579717.11,
          1787362.33,
          1056628.96,
          990208.2,
          667800.52,
          985191.05,
          666287.97,
          489369.39,
          990865.91,
          1545785.52,
          1060057.58,
          1009745.33,
          449041.42,
          878993.27,
          384915.68,
          657196.31,
          1449510.49,
          1021069.09,
          876571.12,
          1273316.12,
          1464303.28,
          994550.62,
          437942.66,
          439274.61,
          977806.95,
          963120.66,
          893269.25,
          964624.28,
          1077895.48,
          1069285.35,
          487556.64,
          1512863.11,
          421995.33,
          496196.71,
          996089.42,
          494300.54,
          1433207.82,
          989133.06,
          1424311.12,
          581639.32,
          1793883.32,
          1826605.2,
          1331396.89,
          929346.61,
          373441.03,
          486892.92,
          1578490.41,
          1008772.69,
          1117062.92,
          967326.03,
          444817.58,
          933183.92,
          1878990.89,
          905230.48,
          367261.52,
          490167.41,
          1345396.53,
          1807492.89,
          1089154.91,
          1617680.13,
          1834797.2,
          885759.82,
          1061886.1,
          937868.49,
          652080.02,
          572720.23,
          1360870.51,
          1511681.99,
          577849.04,
          375435.44,
          1424374.01,
          1261382.85,
          1423935.5,
          774338.34,
          953820.37,
          377035.65,
          991371.26,
          1381020.44,
          981986.35,
          1090538.16,
          1844846.88,
          882204.96,
          390071.78,
          436250.97,
          959442.05,
          1035310.77,
          1572629.12,
          1012192.16,
          486630.84,
          1011807.36,
          375845.73,
          790576.18,
          580081.86,
          1649520.17,
          1923792.92,
          1061832.06,
          1373905.04,
          411201.68,
          433948.87,
          664985.98,
          572653.12,
          1068392.74,
          1346622.01,
          480769.1,
          482876.69,
          1721848.36,
          1245187.46,
          1744982.89,
          1591484.5,
          995583.1,
          1325363.18,
          1624944.86,
          1048926.64,
          1032452.24,
          1285201.32,
          923889.27,
          498446.93,
          959875.18,
          1744607.76,
          500460.96,
          489085.3,
          579514.15,
          790761.7,
          652234.67,
          487223.79,
          403629.51,
          978924.13,
          801156.95,
          877012.47,
          1501273.73,
          584921.52,
          965694.18,
          568137.03,
          1747346.64,
          989738.78,
          1842950.15,
          1101809.74,
          1355128.24,
          930814.61,
          1864788.79,
          1249987.23,
          1859999.41,
          1033091.29,
          1481158.18,
          418347.56,
          927671.49,
          502414.39,
          555534.54,
          1100964.33,
          1484165.54,
          888068.24,
          898280.38,
          1352843.91,
          1061421.11,
          957279.91,
          1117503.19,
          416390.54,
          1847425.77,
          1866719.19,
          487833.16,
          1920683.54,
          1807166.25,
          1617939.69,
          576024.51,
          1822134.52,
          1377512.33,
          500048.82,
          579682.12,
          450073.03,
          1782565.29,
          803823.99,
          1783065.09,
          890724.39,
          1511355.15,
          1069805.18,
          1324773.24,
          1605828.78,
          1767405.66,
          1588330.06,
          851246.01,
          865542.98,
          500869.31,
          383449.75,
          497127.66,
          1344759.11,
          1538886.64,
          671915.46,
          425659.8,
          1097415.98,
          1512649.27,
          938319.62,
          579111.23,
          465115.89,
          377838.44,
          559235.52,
          488373.79,
          1571563.93,
          1608616.77,
          461895.13,
          996233.03,
          486706.59,
          979009.54,
          1001067.42,
          808934.09,
          481711.83,
          653467.61,
          1806759.14,
          453479.08,
          1635296,
          436222.48,
          496338.55,
          725963.49,
          876724.84,
          774968.29,
          812755.53,
          816872.67,
          1014478.82,
          985590.39,
          1629318.18,
          434062.4,
          488890.96,
          1844456.74
         ],
         "yaxis": "y"
        }
       ],
       "layout": {
        "legend": {
         "title": {
          "text": "variable"
         },
         "tracegroupgap": 0
        },
        "margin": {
         "t": 60
        },
        "template": {
         "data": {
          "bar": [
           {
            "error_x": {
             "color": "#2a3f5f"
            },
            "error_y": {
             "color": "#2a3f5f"
            },
            "marker": {
             "line": {
              "color": "#E5ECF6",
              "width": 0.5
             },
             "pattern": {
              "fillmode": "overlay",
              "size": 10,
              "solidity": 0.2
             }
            },
            "type": "bar"
           }
          ],
          "barpolar": [
           {
            "marker": {
             "line": {
              "color": "#E5ECF6",
              "width": 0.5
             },
             "pattern": {
              "fillmode": "overlay",
              "size": 10,
              "solidity": 0.2
             }
            },
            "type": "barpolar"
           }
          ],
          "carpet": [
           {
            "aaxis": {
             "endlinecolor": "#2a3f5f",
             "gridcolor": "white",
             "linecolor": "white",
             "minorgridcolor": "white",
             "startlinecolor": "#2a3f5f"
            },
            "baxis": {
             "endlinecolor": "#2a3f5f",
             "gridcolor": "white",
             "linecolor": "white",
             "minorgridcolor": "white",
             "startlinecolor": "#2a3f5f"
            },
            "type": "carpet"
           }
          ],
          "choropleth": [
           {
            "colorbar": {
             "outlinewidth": 0,
             "ticks": ""
            },
            "type": "choropleth"
           }
          ],
          "contour": [
           {
            "colorbar": {
             "outlinewidth": 0,
             "ticks": ""
            },
            "colorscale": [
             [
              0,
              "#0d0887"
             ],
             [
              0.1111111111111111,
              "#46039f"
             ],
             [
              0.2222222222222222,
              "#7201a8"
             ],
             [
              0.3333333333333333,
              "#9c179e"
             ],
             [
              0.4444444444444444,
              "#bd3786"
             ],
             [
              0.5555555555555556,
              "#d8576b"
             ],
             [
              0.6666666666666666,
              "#ed7953"
             ],
             [
              0.7777777777777778,
              "#fb9f3a"
             ],
             [
              0.8888888888888888,
              "#fdca26"
             ],
             [
              1,
              "#f0f921"
             ]
            ],
            "type": "contour"
           }
          ],
          "contourcarpet": [
           {
            "colorbar": {
             "outlinewidth": 0,
             "ticks": ""
            },
            "type": "contourcarpet"
           }
          ],
          "heatmap": [
           {
            "colorbar": {
             "outlinewidth": 0,
             "ticks": ""
            },
            "colorscale": [
             [
              0,
              "#0d0887"
             ],
             [
              0.1111111111111111,
              "#46039f"
             ],
             [
              0.2222222222222222,
              "#7201a8"
             ],
             [
              0.3333333333333333,
              "#9c179e"
             ],
             [
              0.4444444444444444,
              "#bd3786"
             ],
             [
              0.5555555555555556,
              "#d8576b"
             ],
             [
              0.6666666666666666,
              "#ed7953"
             ],
             [
              0.7777777777777778,
              "#fb9f3a"
             ],
             [
              0.8888888888888888,
              "#fdca26"
             ],
             [
              1,
              "#f0f921"
             ]
            ],
            "type": "heatmap"
           }
          ],
          "heatmapgl": [
           {
            "colorbar": {
             "outlinewidth": 0,
             "ticks": ""
            },
            "colorscale": [
             [
              0,
              "#0d0887"
             ],
             [
              0.1111111111111111,
              "#46039f"
             ],
             [
              0.2222222222222222,
              "#7201a8"
             ],
             [
              0.3333333333333333,
              "#9c179e"
             ],
             [
              0.4444444444444444,
              "#bd3786"
             ],
             [
              0.5555555555555556,
              "#d8576b"
             ],
             [
              0.6666666666666666,
              "#ed7953"
             ],
             [
              0.7777777777777778,
              "#fb9f3a"
             ],
             [
              0.8888888888888888,
              "#fdca26"
             ],
             [
              1,
              "#f0f921"
             ]
            ],
            "type": "heatmapgl"
           }
          ],
          "histogram": [
           {
            "marker": {
             "pattern": {
              "fillmode": "overlay",
              "size": 10,
              "solidity": 0.2
             }
            },
            "type": "histogram"
           }
          ],
          "histogram2d": [
           {
            "colorbar": {
             "outlinewidth": 0,
             "ticks": ""
            },
            "colorscale": [
             [
              0,
              "#0d0887"
             ],
             [
              0.1111111111111111,
              "#46039f"
             ],
             [
              0.2222222222222222,
              "#7201a8"
             ],
             [
              0.3333333333333333,
              "#9c179e"
             ],
             [
              0.4444444444444444,
              "#bd3786"
             ],
             [
              0.5555555555555556,
              "#d8576b"
             ],
             [
              0.6666666666666666,
              "#ed7953"
             ],
             [
              0.7777777777777778,
              "#fb9f3a"
             ],
             [
              0.8888888888888888,
              "#fdca26"
             ],
             [
              1,
              "#f0f921"
             ]
            ],
            "type": "histogram2d"
           }
          ],
          "histogram2dcontour": [
           {
            "colorbar": {
             "outlinewidth": 0,
             "ticks": ""
            },
            "colorscale": [
             [
              0,
              "#0d0887"
             ],
             [
              0.1111111111111111,
              "#46039f"
             ],
             [
              0.2222222222222222,
              "#7201a8"
             ],
             [
              0.3333333333333333,
              "#9c179e"
             ],
             [
              0.4444444444444444,
              "#bd3786"
             ],
             [
              0.5555555555555556,
              "#d8576b"
             ],
             [
              0.6666666666666666,
              "#ed7953"
             ],
             [
              0.7777777777777778,
              "#fb9f3a"
             ],
             [
              0.8888888888888888,
              "#fdca26"
             ],
             [
              1,
              "#f0f921"
             ]
            ],
            "type": "histogram2dcontour"
           }
          ],
          "mesh3d": [
           {
            "colorbar": {
             "outlinewidth": 0,
             "ticks": ""
            },
            "type": "mesh3d"
           }
          ],
          "parcoords": [
           {
            "line": {
             "colorbar": {
              "outlinewidth": 0,
              "ticks": ""
             }
            },
            "type": "parcoords"
           }
          ],
          "pie": [
           {
            "automargin": true,
            "type": "pie"
           }
          ],
          "scatter": [
           {
            "marker": {
             "colorbar": {
              "outlinewidth": 0,
              "ticks": ""
             }
            },
            "type": "scatter"
           }
          ],
          "scatter3d": [
           {
            "line": {
             "colorbar": {
              "outlinewidth": 0,
              "ticks": ""
             }
            },
            "marker": {
             "colorbar": {
              "outlinewidth": 0,
              "ticks": ""
             }
            },
            "type": "scatter3d"
           }
          ],
          "scattercarpet": [
           {
            "marker": {
             "colorbar": {
              "outlinewidth": 0,
              "ticks": ""
             }
            },
            "type": "scattercarpet"
           }
          ],
          "scattergeo": [
           {
            "marker": {
             "colorbar": {
              "outlinewidth": 0,
              "ticks": ""
             }
            },
            "type": "scattergeo"
           }
          ],
          "scattergl": [
           {
            "marker": {
             "colorbar": {
              "outlinewidth": 0,
              "ticks": ""
             }
            },
            "type": "scattergl"
           }
          ],
          "scattermapbox": [
           {
            "marker": {
             "colorbar": {
              "outlinewidth": 0,
              "ticks": ""
             }
            },
            "type": "scattermapbox"
           }
          ],
          "scatterpolar": [
           {
            "marker": {
             "colorbar": {
              "outlinewidth": 0,
              "ticks": ""
             }
            },
            "type": "scatterpolar"
           }
          ],
          "scatterpolargl": [
           {
            "marker": {
             "colorbar": {
              "outlinewidth": 0,
              "ticks": ""
             }
            },
            "type": "scatterpolargl"
           }
          ],
          "scatterternary": [
           {
            "marker": {
             "colorbar": {
              "outlinewidth": 0,
              "ticks": ""
             }
            },
            "type": "scatterternary"
           }
          ],
          "surface": [
           {
            "colorbar": {
             "outlinewidth": 0,
             "ticks": ""
            },
            "colorscale": [
             [
              0,
              "#0d0887"
             ],
             [
              0.1111111111111111,
              "#46039f"
             ],
             [
              0.2222222222222222,
              "#7201a8"
             ],
             [
              0.3333333333333333,
              "#9c179e"
             ],
             [
              0.4444444444444444,
              "#bd3786"
             ],
             [
              0.5555555555555556,
              "#d8576b"
             ],
             [
              0.6666666666666666,
              "#ed7953"
             ],
             [
              0.7777777777777778,
              "#fb9f3a"
             ],
             [
              0.8888888888888888,
              "#fdca26"
             ],
             [
              1,
              "#f0f921"
             ]
            ],
            "type": "surface"
           }
          ],
          "table": [
           {
            "cells": {
             "fill": {
              "color": "#EBF0F8"
             },
             "line": {
              "color": "white"
             }
            },
            "header": {
             "fill": {
              "color": "#C8D4E3"
             },
             "line": {
              "color": "white"
             }
            },
            "type": "table"
           }
          ]
         },
         "layout": {
          "annotationdefaults": {
           "arrowcolor": "#2a3f5f",
           "arrowhead": 0,
           "arrowwidth": 1
          },
          "autotypenumbers": "strict",
          "coloraxis": {
           "colorbar": {
            "outlinewidth": 0,
            "ticks": ""
           }
          },
          "colorscale": {
           "diverging": [
            [
             0,
             "#8e0152"
            ],
            [
             0.1,
             "#c51b7d"
            ],
            [
             0.2,
             "#de77ae"
            ],
            [
             0.3,
             "#f1b6da"
            ],
            [
             0.4,
             "#fde0ef"
            ],
            [
             0.5,
             "#f7f7f7"
            ],
            [
             0.6,
             "#e6f5d0"
            ],
            [
             0.7,
             "#b8e186"
            ],
            [
             0.8,
             "#7fbc41"
            ],
            [
             0.9,
             "#4d9221"
            ],
            [
             1,
             "#276419"
            ]
           ],
           "sequential": [
            [
             0,
             "#0d0887"
            ],
            [
             0.1111111111111111,
             "#46039f"
            ],
            [
             0.2222222222222222,
             "#7201a8"
            ],
            [
             0.3333333333333333,
             "#9c179e"
            ],
            [
             0.4444444444444444,
             "#bd3786"
            ],
            [
             0.5555555555555556,
             "#d8576b"
            ],
            [
             0.6666666666666666,
             "#ed7953"
            ],
            [
             0.7777777777777778,
             "#fb9f3a"
            ],
            [
             0.8888888888888888,
             "#fdca26"
            ],
            [
             1,
             "#f0f921"
            ]
           ],
           "sequentialminus": [
            [
             0,
             "#0d0887"
            ],
            [
             0.1111111111111111,
             "#46039f"
            ],
            [
             0.2222222222222222,
             "#7201a8"
            ],
            [
             0.3333333333333333,
             "#9c179e"
            ],
            [
             0.4444444444444444,
             "#bd3786"
            ],
            [
             0.5555555555555556,
             "#d8576b"
            ],
            [
             0.6666666666666666,
             "#ed7953"
            ],
            [
             0.7777777777777778,
             "#fb9f3a"
            ],
            [
             0.8888888888888888,
             "#fdca26"
            ],
            [
             1,
             "#f0f921"
            ]
           ]
          },
          "colorway": [
           "#636efa",
           "#EF553B",
           "#00cc96",
           "#ab63fa",
           "#FFA15A",
           "#19d3f3",
           "#FF6692",
           "#B6E880",
           "#FF97FF",
           "#FECB52"
          ],
          "font": {
           "color": "#2a3f5f"
          },
          "geo": {
           "bgcolor": "white",
           "lakecolor": "white",
           "landcolor": "#E5ECF6",
           "showlakes": true,
           "showland": true,
           "subunitcolor": "white"
          },
          "hoverlabel": {
           "align": "left"
          },
          "hovermode": "closest",
          "mapbox": {
           "style": "light"
          },
          "paper_bgcolor": "white",
          "plot_bgcolor": "#E5ECF6",
          "polar": {
           "angularaxis": {
            "gridcolor": "white",
            "linecolor": "white",
            "ticks": ""
           },
           "bgcolor": "#E5ECF6",
           "radialaxis": {
            "gridcolor": "white",
            "linecolor": "white",
            "ticks": ""
           }
          },
          "scene": {
           "xaxis": {
            "backgroundcolor": "#E5ECF6",
            "gridcolor": "white",
            "gridwidth": 2,
            "linecolor": "white",
            "showbackground": true,
            "ticks": "",
            "zerolinecolor": "white"
           },
           "yaxis": {
            "backgroundcolor": "#E5ECF6",
            "gridcolor": "white",
            "gridwidth": 2,
            "linecolor": "white",
            "showbackground": true,
            "ticks": "",
            "zerolinecolor": "white"
           },
           "zaxis": {
            "backgroundcolor": "#E5ECF6",
            "gridcolor": "white",
            "gridwidth": 2,
            "linecolor": "white",
            "showbackground": true,
            "ticks": "",
            "zerolinecolor": "white"
           }
          },
          "shapedefaults": {
           "line": {
            "color": "#2a3f5f"
           }
          },
          "ternary": {
           "aaxis": {
            "gridcolor": "white",
            "linecolor": "white",
            "ticks": ""
           },
           "baxis": {
            "gridcolor": "white",
            "linecolor": "white",
            "ticks": ""
           },
           "bgcolor": "#E5ECF6",
           "caxis": {
            "gridcolor": "white",
            "linecolor": "white",
            "ticks": ""
           }
          },
          "title": {
           "x": 0.05
          },
          "xaxis": {
           "automargin": true,
           "gridcolor": "white",
           "linecolor": "white",
           "ticks": "",
           "title": {
            "standoff": 15
           },
           "zerolinecolor": "white",
           "zerolinewidth": 2
          },
          "yaxis": {
           "automargin": true,
           "gridcolor": "white",
           "linecolor": "white",
           "ticks": "",
           "title": {
            "standoff": 15
           },
           "zerolinecolor": "white",
           "zerolinewidth": 2
          }
         }
        },
        "xaxis": {
         "anchor": "y",
         "domain": [
          0,
          1
         ],
         "title": {
          "text": "index"
         }
        },
        "yaxis": {
         "anchor": "x",
         "domain": [
          0,
          1
         ],
         "title": {
          "text": "value"
         }
        }
       }
      },
      "text/html": [
       "<div>                            <div id=\"7d3efc23-3e77-4c35-b5da-eb14532491a7\" class=\"plotly-graph-div\" style=\"height:525px; width:100%;\"></div>            <script type=\"text/javascript\">                require([\"plotly\"], function(Plotly) {                    window.PLOTLYENV=window.PLOTLYENV || {};                                    if (document.getElementById(\"7d3efc23-3e77-4c35-b5da-eb14532491a7\")) {                    Plotly.newPlot(                        \"7d3efc23-3e77-4c35-b5da-eb14532491a7\",                        [{\"hovertemplate\":\"variable=Valores reais<br>index=%{x}<br>value=%{y}<extra></extra>\",\"legendgroup\":\"Valores reais\",\"line\":{\"color\":\"#636efa\",\"dash\":\"solid\"},\"marker\":{\"symbol\":\"circle\"},\"mode\":\"lines\",\"name\":\"Valores reais\",\"orientation\":\"v\",\"showlegend\":true,\"x\":[0,1,2,3,4,5,6,7,8,9,10,11,12,13,14,15,16,17,18,19,20,21,22,23,24,25,26,27,28,29,30,31,32,33,34,35,36,37,38,39,40,41,42,43,44,45,46,47,48,49,50,51,52,53,54,55,56,57,58,59,60,61,62,63,64,65,66,67,68,69,70,71,72,73,74,75,76,77,78,79,80,81,82,83,84,85,86,87,88,89,90,91,92,93,94,95,96,97,98,99,100,101,102,103,104,105,106,107,108,109,110,111,112,113,114,115,116,117,118,119,120,121,122,123,124,125,126,127,128,129,130,131,132,133,134,135,136,137,138,139,140,141,142,143,144,145,146,147,148,149,150,151,152,153,154,155,156,157,158,159,160,161,162,163,164,165,166,167,168,169,170,171,172,173,174,175,176,177,178,179,180,181,182,183,184,185,186,187,188,189,190,191,192,193,194,195,196,197,198,199,200,201,202,203,204,205,206,207,208,209,210,211,212,213,214,215,216,217,218,219,220,221,222,223,224,225,226,227,228,229,230,231,232,233,234,235,236,237,238,239,240,241,242,243,244,245,246,247,248,249,250,251,252,253,254,255,256,257,258,259,260,261,262,263,264,265,266,267,268,269,270,271,272,273,274,275,276,277,278,279,280,281,282,283,284,285,286,287,288,289,290,291,292,293,294,295,296,297,298,299,300,301,302,303,304,305,306,307,308,309,310,311,312,313,314,315,316,317,318,319,320,321],\"xaxis\":\"x\",\"y\":[1559592.79,1684468.66,963516.28,2065984.95,734297.87,1792210.89,953314.16,910899.05,596554.05,1172003.1,1052066.58,958875.37,1436311.76,1308977.05,1837553.43,677231.63,674283.86,660632.0499999999,551743.05,558027.77,415202.04000000004,1245624.27,1510131.45,520632.8,1944433.17,496083.24,562558.27,340238.38,355307.94,509942.56,245435.80000000002,2003940.64,876583.98,1282320.05,504566.27999999997,2165160.29,331318.73,384659.85,1332716.53,704680.97,864852.85,1344354.41,834373.73,553714.87,1781717.71,1144552.09,377347.49,663452.46,755098.41,1866243.0,1138800.32,827717.85,1537139.56,610985.56,1178039.0,543754.17,303559.23,1245480.95,1991909.98,2091663.2,1116140.29,441407.06,1794355.49,280681.2,1356689.88,1257778.34,581758.22,1142499.25,972373.81,1335647.1,1465187.71,297149.69,1517428.87,656637.63,2678206.42,490981.78,312298.37,568497.35,661644.19,589091.04,680532.69,1711813.1300000001,570231.21,328415.44,491419.55000000005,347295.6,2727575.18,586583.69,1495844.57,1380952.05,469773.85,603547.16,540625.79,1239466.97,536840.6900000001,366367.55,1225336.41,1900638.6,1945070.33,1016637.39,635758.03,1904608.09,1288823.72,1380892.08,526128.61,870676.4400000001,525200.59,432359.04000000004,870349.86,1832211.96,938149.21,1601377.41,368962.72000000003,674669.16,293481.36,491449.94,1582168.27,1768249.89,570611.23,1052609.16,1364445.98,850440.26,334441.15,392152.3,991104.4,1050027.89,736335.6900000001,1962445.04,1044639.69,997474.93,593162.53,1379579.63,391811.6,513636.01,1214302.76,445475.3,1499727.02,1166142.85,1407842.91,534740.3,1975374.56,2056846.12,1219979.29,954681.56,289667.55,606671.5,1250178.89,966817.24,1261964.96,1158247.31,342667.35,976522.93,1867345.09,1121756.43,297753.49,591703.8200000001,1307928.01,1893955.27,1872365.99,1908110.9,2609166.75,772859.25,923221.52,983232.96,501013.47000000003,587685.38,1218688.09,1636339.65,558691.4299999999,238915.05000000002,1318854.22,1163878.49,1394065.76,717373.43,1005083.3099999999,293984.54,1364721.58,1382359.21,1007867.6799999999,1362144.0,2129771.13,911696.0,338386.08,372239.89,1177340.99,922735.37,1414343.53,922850.57,354270.77,948447.34,273079.07,744969.42,663396.3200000001,1633241.59,1865502.46,923600.02,1240126.07,309111.47000000003,378574.44,586289.08,613042.97,996723.58,1456300.89,543384.01,514489.17,1764133.09,1052034.74,1814806.6300000001,1842555.32,916820.96,1144901.52,1377716.17,838751.5,916918.7,1274463.02,877724.31,447727.51999999996,1103740.4,1691439.52,508213.14,555075.27,604925.08,1147556.83,463752.89,361311.41000000003,234175.92,891148.55,700272.01,587370.8099999999,1594938.8900000001,672062.08,847348.08,484263.25,1886503.93,1068157.45,2052984.81,1360520.56,1170456.16,1110827.48,1864238.64,1217199.39,1895583.12,921161.2,1325835.7,298180.18,1230613.5,462474.16,505918.21,1428436.33,1539483.7,762620.9400000001,927657.63,1264014.16,964726.37,988467.61,1231752.54,273282.97,1699095.9,2035189.6600000001,585175.24,1862476.27,2020550.99,1321741.35,641905.37,2015781.27,1315118.4,479195.02,611585.54,452792.52999999997,1863840.49,756527.64,1784029.95,747577.0499999999,1272395.02,1107552.43,1345167.61,1467473.6300000001,1962924.3,1899013.3399999999,680254.35,765687.4199999999,457884.06,270110.3,431294.45,1243814.77,1388973.65,579874.22,443557.65,1347454.59,1779276.51,958063.87,613135.23,330518.33999999997,285031.81,443242.17,369722.32,1207303.29,1660081.29,445162.05,1084722.78,598437.98,907262.47,912542.82,711671.58,575709.96,507297.88,2042581.71,461622.22,1911967.44,355965.23,511871.63,658965.05,870415.49,756588.42,782300.68,843361.1,1048617.17,771315.62,1492060.89,342214.9,527041.46,2334788.42],\"yaxis\":\"y\",\"type\":\"scatter\"},{\"hovertemplate\":\"variable=Valores previstos<br>index=%{x}<br>value=%{y}<extra></extra>\",\"legendgroup\":\"Valores previstos\",\"line\":{\"color\":\"#EF553B\",\"dash\":\"solid\"},\"marker\":{\"symbol\":\"circle\"},\"mode\":\"lines\",\"name\":\"Valores previstos\",\"orientation\":\"v\",\"showlegend\":true,\"x\":[0,1,2,3,4,5,6,7,8,9,10,11,12,13,14,15,16,17,18,19,20,21,22,23,24,25,26,27,28,29,30,31,32,33,34,35,36,37,38,39,40,41,42,43,44,45,46,47,48,49,50,51,52,53,54,55,56,57,58,59,60,61,62,63,64,65,66,67,68,69,70,71,72,73,74,75,76,77,78,79,80,81,82,83,84,85,86,87,88,89,90,91,92,93,94,95,96,97,98,99,100,101,102,103,104,105,106,107,108,109,110,111,112,113,114,115,116,117,118,119,120,121,122,123,124,125,126,127,128,129,130,131,132,133,134,135,136,137,138,139,140,141,142,143,144,145,146,147,148,149,150,151,152,153,154,155,156,157,158,159,160,161,162,163,164,165,166,167,168,169,170,171,172,173,174,175,176,177,178,179,180,181,182,183,184,185,186,187,188,189,190,191,192,193,194,195,196,197,198,199,200,201,202,203,204,205,206,207,208,209,210,211,212,213,214,215,216,217,218,219,220,221,222,223,224,225,226,227,228,229,230,231,232,233,234,235,236,237,238,239,240,241,242,243,244,245,246,247,248,249,250,251,252,253,254,255,256,257,258,259,260,261,262,263,264,265,266,267,268,269,270,271,272,273,274,275,276,277,278,279,280,281,282,283,284,285,286,287,288,289,290,291,292,293,294,295,296,297,298,299,300,301,302,303,304,305,306,307,308,309,310,311,312,313,314,315,316,317,318,319,320,321],\"xaxis\":\"x\",\"y\":[1357732.78,1342258.8,952519.41,1783226.5,810881.82,1515659.83,936908.37,965103.15,574599.54,1599885.4,970468.88,895893.39,1117365.97,1623596.9,1741457.53,783344.73,776453.42,571589.51,686804.35,577837.71,452750.92,1592482.01,1097302.25,668051.08,1788106.53,566809.6,579635.26,391045.06,392478.12,566613.87,433179.98,1790450.85,989018.21,1079187.07,680705.71,1785027.16,419758.34,505296.31,1659253.6,844119.9,955106.94,1382493.31,898350.1,570146.48,1785362.53,1200276.54,449121.74,781483.32,789532.71,1736546.92,993795.44,882414.34,1460710.84,669641.4,966195.06,881536.63,381445.73,1360055.26,1784493.51,1841115.42,1253496.4,493760.8,1788378.09,413509.54,1288621.1,1099414.91,556404.73,1253496.4,986735.71,1485314.46,1638718.36,406572.89,1461532.98,582348.06,1635296.0,669648.97,486343.49,652753.53,779401.73,484208.76,785847.4,1531090.3,572087.42,407618.57,567306.52,418502.07,1677343.99,556794.81,1636490.28,1101809.74,704258.82,572383.34,487324.55,1579496.8,496562.96,449041.42,1349933.47,1590363.22,1597286.71,653597.12,579717.11,1787362.33,1056628.96,990208.2,667800.52,985191.05,666287.97,489369.39,990865.91,1545785.52,1060057.58,1009745.33,449041.42,878993.27,384915.68,657196.31,1449510.49,1021069.09,876571.12,1273316.12,1464303.28,994550.62,437942.66,439274.61,977806.95,963120.66,893269.25,964624.28,1077895.48,1069285.35,487556.64,1512863.11,421995.33,496196.71,996089.42,494300.54,1433207.82,989133.06,1424311.12,581639.32,1793883.32,1826605.2,1331396.89,929346.61,373441.03,486892.92,1578490.41,1008772.69,1117062.92,967326.03,444817.58,933183.92,1878990.89,905230.48,367261.52,490167.41,1345396.53,1807492.89,1089154.91,1617680.13,1834797.2,885759.82,1061886.1,937868.49,652080.02,572720.23,1360870.51,1511681.99,577849.04,375435.44,1424374.01,1261382.85,1423935.5,774338.34,953820.37,377035.65,991371.26,1381020.44,981986.35,1090538.16,1844846.88,882204.96,390071.78,436250.97,959442.05,1035310.77,1572629.12,1012192.16,486630.84,1011807.36,375845.73,790576.18,580081.86,1649520.17,1923792.92,1061832.06,1373905.04,411201.68,433948.87,664985.98,572653.12,1068392.74,1346622.01,480769.1,482876.69,1721848.36,1245187.46,1744982.89,1591484.5,995583.1,1325363.18,1624944.86,1048926.64,1032452.24,1285201.32,923889.27,498446.93,959875.18,1744607.76,500460.96,489085.3,579514.15,790761.7,652234.67,487223.79,403629.51,978924.13,801156.95,877012.47,1501273.73,584921.52,965694.18,568137.03,1747346.64,989738.78,1842950.15,1101809.74,1355128.24,930814.61,1864788.79,1249987.23,1859999.41,1033091.29,1481158.18,418347.56,927671.49,502414.39,555534.54,1100964.33,1484165.54,888068.24,898280.38,1352843.91,1061421.11,957279.91,1117503.19,416390.54,1847425.77,1866719.19,487833.16,1920683.54,1807166.25,1617939.69,576024.51,1822134.52,1377512.33,500048.82,579682.12,450073.03,1782565.29,803823.99,1783065.09,890724.39,1511355.15,1069805.18,1324773.24,1605828.78,1767405.66,1588330.06,851246.01,865542.98,500869.31,383449.75,497127.66,1344759.11,1538886.64,671915.46,425659.8,1097415.98,1512649.27,938319.62,579111.23,465115.89,377838.44,559235.52,488373.79,1571563.93,1608616.77,461895.13,996233.03,486706.59,979009.54,1001067.42,808934.09,481711.83,653467.61,1806759.14,453479.08,1635296.0,436222.48,496338.55,725963.49,876724.84,774968.29,812755.53,816872.67,1014478.82,985590.39,1629318.18,434062.4,488890.96,1844456.74],\"yaxis\":\"y\",\"type\":\"scatter\"}],                        {\"template\":{\"data\":{\"bar\":[{\"error_x\":{\"color\":\"#2a3f5f\"},\"error_y\":{\"color\":\"#2a3f5f\"},\"marker\":{\"line\":{\"color\":\"#E5ECF6\",\"width\":0.5},\"pattern\":{\"fillmode\":\"overlay\",\"size\":10,\"solidity\":0.2}},\"type\":\"bar\"}],\"barpolar\":[{\"marker\":{\"line\":{\"color\":\"#E5ECF6\",\"width\":0.5},\"pattern\":{\"fillmode\":\"overlay\",\"size\":10,\"solidity\":0.2}},\"type\":\"barpolar\"}],\"carpet\":[{\"aaxis\":{\"endlinecolor\":\"#2a3f5f\",\"gridcolor\":\"white\",\"linecolor\":\"white\",\"minorgridcolor\":\"white\",\"startlinecolor\":\"#2a3f5f\"},\"baxis\":{\"endlinecolor\":\"#2a3f5f\",\"gridcolor\":\"white\",\"linecolor\":\"white\",\"minorgridcolor\":\"white\",\"startlinecolor\":\"#2a3f5f\"},\"type\":\"carpet\"}],\"choropleth\":[{\"colorbar\":{\"outlinewidth\":0,\"ticks\":\"\"},\"type\":\"choropleth\"}],\"contour\":[{\"colorbar\":{\"outlinewidth\":0,\"ticks\":\"\"},\"colorscale\":[[0.0,\"#0d0887\"],[0.1111111111111111,\"#46039f\"],[0.2222222222222222,\"#7201a8\"],[0.3333333333333333,\"#9c179e\"],[0.4444444444444444,\"#bd3786\"],[0.5555555555555556,\"#d8576b\"],[0.6666666666666666,\"#ed7953\"],[0.7777777777777778,\"#fb9f3a\"],[0.8888888888888888,\"#fdca26\"],[1.0,\"#f0f921\"]],\"type\":\"contour\"}],\"contourcarpet\":[{\"colorbar\":{\"outlinewidth\":0,\"ticks\":\"\"},\"type\":\"contourcarpet\"}],\"heatmap\":[{\"colorbar\":{\"outlinewidth\":0,\"ticks\":\"\"},\"colorscale\":[[0.0,\"#0d0887\"],[0.1111111111111111,\"#46039f\"],[0.2222222222222222,\"#7201a8\"],[0.3333333333333333,\"#9c179e\"],[0.4444444444444444,\"#bd3786\"],[0.5555555555555556,\"#d8576b\"],[0.6666666666666666,\"#ed7953\"],[0.7777777777777778,\"#fb9f3a\"],[0.8888888888888888,\"#fdca26\"],[1.0,\"#f0f921\"]],\"type\":\"heatmap\"}],\"heatmapgl\":[{\"colorbar\":{\"outlinewidth\":0,\"ticks\":\"\"},\"colorscale\":[[0.0,\"#0d0887\"],[0.1111111111111111,\"#46039f\"],[0.2222222222222222,\"#7201a8\"],[0.3333333333333333,\"#9c179e\"],[0.4444444444444444,\"#bd3786\"],[0.5555555555555556,\"#d8576b\"],[0.6666666666666666,\"#ed7953\"],[0.7777777777777778,\"#fb9f3a\"],[0.8888888888888888,\"#fdca26\"],[1.0,\"#f0f921\"]],\"type\":\"heatmapgl\"}],\"histogram\":[{\"marker\":{\"pattern\":{\"fillmode\":\"overlay\",\"size\":10,\"solidity\":0.2}},\"type\":\"histogram\"}],\"histogram2d\":[{\"colorbar\":{\"outlinewidth\":0,\"ticks\":\"\"},\"colorscale\":[[0.0,\"#0d0887\"],[0.1111111111111111,\"#46039f\"],[0.2222222222222222,\"#7201a8\"],[0.3333333333333333,\"#9c179e\"],[0.4444444444444444,\"#bd3786\"],[0.5555555555555556,\"#d8576b\"],[0.6666666666666666,\"#ed7953\"],[0.7777777777777778,\"#fb9f3a\"],[0.8888888888888888,\"#fdca26\"],[1.0,\"#f0f921\"]],\"type\":\"histogram2d\"}],\"histogram2dcontour\":[{\"colorbar\":{\"outlinewidth\":0,\"ticks\":\"\"},\"colorscale\":[[0.0,\"#0d0887\"],[0.1111111111111111,\"#46039f\"],[0.2222222222222222,\"#7201a8\"],[0.3333333333333333,\"#9c179e\"],[0.4444444444444444,\"#bd3786\"],[0.5555555555555556,\"#d8576b\"],[0.6666666666666666,\"#ed7953\"],[0.7777777777777778,\"#fb9f3a\"],[0.8888888888888888,\"#fdca26\"],[1.0,\"#f0f921\"]],\"type\":\"histogram2dcontour\"}],\"mesh3d\":[{\"colorbar\":{\"outlinewidth\":0,\"ticks\":\"\"},\"type\":\"mesh3d\"}],\"parcoords\":[{\"line\":{\"colorbar\":{\"outlinewidth\":0,\"ticks\":\"\"}},\"type\":\"parcoords\"}],\"pie\":[{\"automargin\":true,\"type\":\"pie\"}],\"scatter\":[{\"marker\":{\"colorbar\":{\"outlinewidth\":0,\"ticks\":\"\"}},\"type\":\"scatter\"}],\"scatter3d\":[{\"line\":{\"colorbar\":{\"outlinewidth\":0,\"ticks\":\"\"}},\"marker\":{\"colorbar\":{\"outlinewidth\":0,\"ticks\":\"\"}},\"type\":\"scatter3d\"}],\"scattercarpet\":[{\"marker\":{\"colorbar\":{\"outlinewidth\":0,\"ticks\":\"\"}},\"type\":\"scattercarpet\"}],\"scattergeo\":[{\"marker\":{\"colorbar\":{\"outlinewidth\":0,\"ticks\":\"\"}},\"type\":\"scattergeo\"}],\"scattergl\":[{\"marker\":{\"colorbar\":{\"outlinewidth\":0,\"ticks\":\"\"}},\"type\":\"scattergl\"}],\"scattermapbox\":[{\"marker\":{\"colorbar\":{\"outlinewidth\":0,\"ticks\":\"\"}},\"type\":\"scattermapbox\"}],\"scatterpolar\":[{\"marker\":{\"colorbar\":{\"outlinewidth\":0,\"ticks\":\"\"}},\"type\":\"scatterpolar\"}],\"scatterpolargl\":[{\"marker\":{\"colorbar\":{\"outlinewidth\":0,\"ticks\":\"\"}},\"type\":\"scatterpolargl\"}],\"scatterternary\":[{\"marker\":{\"colorbar\":{\"outlinewidth\":0,\"ticks\":\"\"}},\"type\":\"scatterternary\"}],\"surface\":[{\"colorbar\":{\"outlinewidth\":0,\"ticks\":\"\"},\"colorscale\":[[0.0,\"#0d0887\"],[0.1111111111111111,\"#46039f\"],[0.2222222222222222,\"#7201a8\"],[0.3333333333333333,\"#9c179e\"],[0.4444444444444444,\"#bd3786\"],[0.5555555555555556,\"#d8576b\"],[0.6666666666666666,\"#ed7953\"],[0.7777777777777778,\"#fb9f3a\"],[0.8888888888888888,\"#fdca26\"],[1.0,\"#f0f921\"]],\"type\":\"surface\"}],\"table\":[{\"cells\":{\"fill\":{\"color\":\"#EBF0F8\"},\"line\":{\"color\":\"white\"}},\"header\":{\"fill\":{\"color\":\"#C8D4E3\"},\"line\":{\"color\":\"white\"}},\"type\":\"table\"}]},\"layout\":{\"annotationdefaults\":{\"arrowcolor\":\"#2a3f5f\",\"arrowhead\":0,\"arrowwidth\":1},\"autotypenumbers\":\"strict\",\"coloraxis\":{\"colorbar\":{\"outlinewidth\":0,\"ticks\":\"\"}},\"colorscale\":{\"diverging\":[[0,\"#8e0152\"],[0.1,\"#c51b7d\"],[0.2,\"#de77ae\"],[0.3,\"#f1b6da\"],[0.4,\"#fde0ef\"],[0.5,\"#f7f7f7\"],[0.6,\"#e6f5d0\"],[0.7,\"#b8e186\"],[0.8,\"#7fbc41\"],[0.9,\"#4d9221\"],[1,\"#276419\"]],\"sequential\":[[0.0,\"#0d0887\"],[0.1111111111111111,\"#46039f\"],[0.2222222222222222,\"#7201a8\"],[0.3333333333333333,\"#9c179e\"],[0.4444444444444444,\"#bd3786\"],[0.5555555555555556,\"#d8576b\"],[0.6666666666666666,\"#ed7953\"],[0.7777777777777778,\"#fb9f3a\"],[0.8888888888888888,\"#fdca26\"],[1.0,\"#f0f921\"]],\"sequentialminus\":[[0.0,\"#0d0887\"],[0.1111111111111111,\"#46039f\"],[0.2222222222222222,\"#7201a8\"],[0.3333333333333333,\"#9c179e\"],[0.4444444444444444,\"#bd3786\"],[0.5555555555555556,\"#d8576b\"],[0.6666666666666666,\"#ed7953\"],[0.7777777777777778,\"#fb9f3a\"],[0.8888888888888888,\"#fdca26\"],[1.0,\"#f0f921\"]]},\"colorway\":[\"#636efa\",\"#EF553B\",\"#00cc96\",\"#ab63fa\",\"#FFA15A\",\"#19d3f3\",\"#FF6692\",\"#B6E880\",\"#FF97FF\",\"#FECB52\"],\"font\":{\"color\":\"#2a3f5f\"},\"geo\":{\"bgcolor\":\"white\",\"lakecolor\":\"white\",\"landcolor\":\"#E5ECF6\",\"showlakes\":true,\"showland\":true,\"subunitcolor\":\"white\"},\"hoverlabel\":{\"align\":\"left\"},\"hovermode\":\"closest\",\"mapbox\":{\"style\":\"light\"},\"paper_bgcolor\":\"white\",\"plot_bgcolor\":\"#E5ECF6\",\"polar\":{\"angularaxis\":{\"gridcolor\":\"white\",\"linecolor\":\"white\",\"ticks\":\"\"},\"bgcolor\":\"#E5ECF6\",\"radialaxis\":{\"gridcolor\":\"white\",\"linecolor\":\"white\",\"ticks\":\"\"}},\"scene\":{\"xaxis\":{\"backgroundcolor\":\"#E5ECF6\",\"gridcolor\":\"white\",\"gridwidth\":2,\"linecolor\":\"white\",\"showbackground\":true,\"ticks\":\"\",\"zerolinecolor\":\"white\"},\"yaxis\":{\"backgroundcolor\":\"#E5ECF6\",\"gridcolor\":\"white\",\"gridwidth\":2,\"linecolor\":\"white\",\"showbackground\":true,\"ticks\":\"\",\"zerolinecolor\":\"white\"},\"zaxis\":{\"backgroundcolor\":\"#E5ECF6\",\"gridcolor\":\"white\",\"gridwidth\":2,\"linecolor\":\"white\",\"showbackground\":true,\"ticks\":\"\",\"zerolinecolor\":\"white\"}},\"shapedefaults\":{\"line\":{\"color\":\"#2a3f5f\"}},\"ternary\":{\"aaxis\":{\"gridcolor\":\"white\",\"linecolor\":\"white\",\"ticks\":\"\"},\"baxis\":{\"gridcolor\":\"white\",\"linecolor\":\"white\",\"ticks\":\"\"},\"bgcolor\":\"#E5ECF6\",\"caxis\":{\"gridcolor\":\"white\",\"linecolor\":\"white\",\"ticks\":\"\"}},\"title\":{\"x\":0.05},\"xaxis\":{\"automargin\":true,\"gridcolor\":\"white\",\"linecolor\":\"white\",\"ticks\":\"\",\"title\":{\"standoff\":15},\"zerolinecolor\":\"white\",\"zerolinewidth\":2},\"yaxis\":{\"automargin\":true,\"gridcolor\":\"white\",\"linecolor\":\"white\",\"ticks\":\"\",\"title\":{\"standoff\":15},\"zerolinecolor\":\"white\",\"zerolinewidth\":2}}},\"xaxis\":{\"anchor\":\"y\",\"domain\":[0.0,1.0],\"title\":{\"text\":\"index\"}},\"yaxis\":{\"anchor\":\"x\",\"domain\":[0.0,1.0],\"title\":{\"text\":\"value\"}},\"legend\":{\"title\":{\"text\":\"variable\"},\"tracegroupgap\":0},\"margin\":{\"t\":60}},                        {\"responsive\": true}                    ).then(function(){\n",
       "                            \n",
       "var gd = document.getElementById('7d3efc23-3e77-4c35-b5da-eb14532491a7');\n",
       "var x = new MutationObserver(function (mutations, observer) {{\n",
       "        var display = window.getComputedStyle(gd).display;\n",
       "        if (!display || display === 'none') {{\n",
       "            console.log([gd, 'removed!']);\n",
       "            Plotly.purge(gd);\n",
       "            observer.disconnect();\n",
       "        }}\n",
       "}});\n",
       "\n",
       "// Listen for the removal of the full notebook cells\n",
       "var notebookContainer = gd.closest('#notebook-container');\n",
       "if (notebookContainer) {{\n",
       "    x.observe(notebookContainer, {childList: true});\n",
       "}}\n",
       "\n",
       "// Listen for the clearing of the current output cell\n",
       "var outputEl = gd.closest('.output');\n",
       "if (outputEl) {{\n",
       "    x.observe(outputEl, {childList: true});\n",
       "}}\n",
       "\n",
       "                        })                };                });            </script>        </div>"
      ]
     },
     "metadata": {},
     "output_type": "display_data"
    }
   ],
   "source": [
    "# Plotando gráfico de comparação: azul são os dados reais e vermelho a previsão\n",
    "fig = px.line(comp_forest_new, y=['Valores reais','Valores previstos'])\n",
    "fig.show()"
   ]
  },
  {
   "cell_type": "markdown",
   "metadata": {},
   "source": [
    "O gráfico nos indica que o modelo está bom, que a previsão de vendas está muito próxima da realidade."
   ]
  },
  {
   "cell_type": "code",
   "execution_count": 493,
   "metadata": {},
   "outputs": [
    {
     "name": "stdout",
     "output_type": "stream",
     "text": [
      "Coeficiente R²: 0.8657\n",
      "EMA:137829.74\n",
      "EQM:39749710266.88\n",
      "REQM:199373.29\n"
     ]
    }
   ],
   "source": [
    "# Cálculo de R^2, medida de quão bem a linha de regressão se ajusta aos dados. Varia de 0 a 1, sendo 1 o ajuste perfeito.\n",
    "# Cálculo do Erro Médio Absoluto, o valor médio absoluto da diferença entre os valores previstos e os valores reais\n",
    "# Cálculo do Erro Quadrático Médio, a média dos quadrados dos erros\n",
    "# Cálculo da raiz do Erro Quadrático Médio, que mede o mesmo que o EQM, mas na mesma unidade de medida que os valores trabalhados\n",
    "\n",
    "# cálculo do coeficiente R²\n",
    "r2 = r2_score(y_test_new, y_pred_forest_new)\n",
    "\n",
    "# cálculo do erro médio absoluto (EMA)\n",
    "ema = mean_absolute_error(y_test_new, y_pred_forest_new)\n",
    "\n",
    "# cálculo do erro quadrático médio (EQM)\n",
    "eqm = mean_squared_error(y_test_new, y_pred_forest_new)\n",
    "\n",
    "# cálculo da raiz do erro quadrático médio (REQM)\n",
    "reqm = np.sqrt(eqm)\n",
    "\n",
    "print('Coeficiente R²: {:.4f}'.format(r2))\n",
    "print('EMA:{:.2f}'.format(ema))\n",
    "print('EQM:{:.2f}'.format(eqm))\n",
    "print('REQM:{:.2f}'.format(reqm))"
   ]
  },
  {
   "cell_type": "markdown",
   "metadata": {},
   "source": [
    "A estatística R^2 obtida é alta, o que fortalece a verificação de sucesso do modelo."
   ]
  },
  {
   "cell_type": "code",
   "execution_count": 494,
   "metadata": {},
   "outputs": [
    {
     "name": "stdout",
     "output_type": "stream",
     "text": [
      "Proporção do Erro Médio Absoluto em relação à média das Vendas Semanais: 13.16%\n",
      "Proporção do Erro Quadrático Médio em relação à média das Vendas Semanais: 19.040000000000003%\n"
     ]
    }
   ],
   "source": [
    "# EMA, EQM e REQM são estatísticas de valor de erro, portanto para interpretá-las iremos visualizá-las como proporção da média\n",
    "# de Weekly_Sales. Não iremos usar EQM, pois já usaremos sua raiz quadrada.\n",
    "\n",
    "ema_prop = ema/df2[\"Weekly_Sales\"].mean()\n",
    "reqm_prop = reqm/df2[\"Weekly_Sales\"].mean()\n",
    "\n",
    "print(f\"Proporção do Erro Médio Absoluto em relação à média das Vendas Semanais: {round(ema_prop, ndigits=4)*100}%\")\n",
    "print(f\"Proporção do Erro Quadrático Médio em relação à média das Vendas Semanais: {round(reqm_prop, ndigits=4)*100}%\")"
   ]
  },
  {
   "cell_type": "markdown",
   "metadata": {},
   "source": [
    "<a class=\"anchor\" id=\"chapter5\"></a>\n",
    "# 5. Avaliação"
   ]
  },
  {
   "cell_type": "markdown",
   "metadata": {},
   "source": [
    "   Como mostrado acima, o modelo de maior precisão é o de Random Forest Regression utilizando todas as variáveis como variáveis explicativas (exceto 'Date'). No gráfico, vemos que a linha dos valores previstos acompanha de forma satisfatória a linha dos valores reais, ou seja, que nossa previsão de vendas é condizente com a realidade. O coeficiente R^2 fortalece nossa comprovação de sucesso, com um valor de 0,85. Concluímos que esse modelo é satisfatório para a previsão de vendas por loja. Se o usuário do modelo inputar apenas o número da loja no modelo, o resultado já será satisfatório, com um R^2 de 0,63, porém se ele souber todas as outras variáveis, o modelo fornecerá um resultado muito próximo da realidade."
   ]
  },
  {
   "cell_type": "markdown",
   "metadata": {},
   "source": [
    "O modelo poderia ser melhor se a variável 'Date' fosse inputada, e se outros métodos de aprendizagem de máquina fossem aplicados, como a Verificação Cruzada, que \"é uma técnica para avaliar a capacidade de generalização de um modelo, a partir de um conjunto de dados\" (KOHAVI, R). É uma técnica útil para evitar overfitting, problema explicado no modelo Decision Tree Regression. Outras técnicas que poderíamos aplicar seriam: Redes Neurais, Gradient Boosting, Redes Bayesianas e Máquinas de Vetor de Suporte (SVM).\n",
    "\n",
    "Uma outra prática que enriqueceria nosso modelo seria uma análise mais profunda sobre a verificação da existência de outliers, assim como a inclusão da divisão das lojas por departamentos no modelo.\n",
    "\n",
    "Uma interpretação do Erro Médio Absoluto e do Erro Quadrático Médio seria útil também para a verificação do sucesso do modelo. Foram calculadas as suas proporções em relação à média das Vendas Semanais, porém não possuímos técnicas de interpretação de resultados estatísticos suficientes para interpretar esses resultados."
   ]
  },
  {
   "cell_type": "markdown",
   "metadata": {},
   "source": [
    "<a class=\"anchor\" id=\"chapter6\"></a>\n",
    "# 6. Referências\n",
    "\n",
    "\"Machine Learning Basics: Decision Tree Regression\" por Sachin Malhotra e Rohan Kapoor, Towards Data Science. Disponível em: https://towardsdatascience.com/machine-learning-basics-decision-tree-regression-1d73ea003fda. Acesso em 13 de abril de 2023.\n",
    "\n",
    "\"Random Forest Regression\" por Punit Jajodia, Towards Data Science. Disponível em: https://towardsdatascience.com/random-forest-regression-5f605132d19d. Acesso em 13 de abril de 2023.\n",
    "\n",
    "\"Aula #5 - Resolva o Titanic Como um Campeão do Kaggle\", YouTube. Disponível em: https://youtu.be/4I7YMPxps1k. Acesso em 13 de abril de 2023.\n",
    "\n",
    "\"Aplicando os algoritmos Árvore de Regressão e Random Forest com Python\", YouTube. Disponível em: https://youtu.be/ho1eI54ykoU. Acesso em 13 de abril de 2023.\n",
    "\n",
    "KOHAVI, R. A study of cross-validation and bootstrap for accuracy estimation and model selection. In: International joint Conference on artificial intelligence. [S.l.: s.n.], 1995. v. 14, p. 1137–1145.\n"
   ]
  }
 ],
 "metadata": {
  "kernelspec": {
   "display_name": "Python 3 (ipykernel)",
   "language": "python",
   "name": "python3"
  },
  "language_info": {
   "codemirror_mode": {
    "name": "ipython",
    "version": 3
   },
   "file_extension": ".py",
   "mimetype": "text/x-python",
   "name": "python",
   "nbconvert_exporter": "python",
   "pygments_lexer": "ipython3",
   "version": "3.9.12"
  }
 },
 "nbformat": 4,
 "nbformat_minor": 2
}
